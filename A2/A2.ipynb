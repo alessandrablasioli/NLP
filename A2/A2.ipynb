{
 "cells": [
  {
   "cell_type": "markdown",
   "id": "b3795de4cb92e801",
   "metadata": {
    "id": "b3795de4cb92e801"
   },
   "source": [
    "# Assignment 2 - Human Value Detection"
   ]
  },
  {
   "cell_type": "markdown",
   "id": "e130bff8dd395be6",
   "metadata": {
    "id": "e130bff8dd395be6"
   },
   "source": [
    "## Dependencies"
   ]
  },
  {
   "cell_type": "code",
   "execution_count": 34,
   "id": "f812147f55c0220",
   "metadata": {
    "colab": {
     "base_uri": "https://localhost:8080/"
    },
    "id": "f812147f55c0220",
    "outputId": "f316fa79-dd55-4d88-f7b1-cc1aa4bdfaaf",
    "ExecuteTime": {
     "end_time": "2024-01-06T14:34:44.212254200Z",
     "start_time": "2024-01-06T14:34:44.125035600Z"
    }
   },
   "outputs": [],
   "source": [
    "#!pip install lightning\n",
    "#!pip install torchmetrics\n",
    "#!pip install pandas\n",
    "#!pip install numpy\n",
    "#!pip install matplotlib\n",
    "#!pip install python-dotenv"
   ]
  },
  {
   "cell_type": "code",
   "execution_count": 35,
   "id": "7b3cd2c7bd257608",
   "metadata": {
    "id": "7b3cd2c7bd257608",
    "ExecuteTime": {
     "end_time": "2024-01-06T14:34:44.240425200Z",
     "start_time": "2024-01-06T14:34:44.215248Z"
    }
   },
   "outputs": [],
   "source": [
    "# file management\n",
    "import urllib.request\n",
    "import os\n",
    "from pathlib import Path\n",
    "\n",
    "import dotenv\n",
    "\n",
    "# data manipulation\n",
    "import numpy as np\n",
    "import pandas as pd\n",
    "\n",
    "# visualization\n",
    "import matplotlib.pyplot as plt\n",
    "\n",
    "# pytorch\n",
    "import torch\n",
    "from torch import nn\n",
    "from torch.utils.data import Dataset\n",
    "from torch.utils.data import DataLoader\n",
    "\n",
    "# torchmetrics\n",
    "from torchmetrics import PrecisionRecallCurve\n",
    "from torchmetrics.classification import MultilabelConfusionMatrix\n",
    "\n",
    "# pytorch lightning\n",
    "from lightning import LightningModule\n",
    "from lightning.pytorch import Trainer, seed_everything\n",
    "from lightning.pytorch.loggers import TensorBoardLogger\n",
    "from lightning.pytorch.callbacks import ModelCheckpoint\n",
    "from lightning.pytorch.callbacks.early_stopping import EarlyStopping\n",
    "from torchmetrics.classification import MultilabelF1Score\n",
    "from torchmetrics import Metric\n",
    "from torchmetrics import ConfusionMatrix\n",
    "\n",
    "# transformers\n",
    "from transformers import BertModel, BertTokenizer, RobertaModel, RobertaTokenizer"
   ]
  },
  {
   "cell_type": "code",
   "execution_count": 36,
   "id": "8HfmWbhNY5I-",
   "metadata": {
    "colab": {
     "base_uri": "https://localhost:8080/"
    },
    "id": "8HfmWbhNY5I-",
    "outputId": "a92a0697-a25d-4cb4-f52b-6b7b4d760eaf",
    "ExecuteTime": {
     "end_time": "2024-01-06T14:34:44.258954500Z",
     "start_time": "2024-01-06T14:34:44.232914Z"
    }
   },
   "outputs": [],
   "source": [
    "#from google.colab import drive\n",
    "#drive.mount('/content/drive')"
   ]
  },
  {
   "cell_type": "code",
   "execution_count": 37,
   "id": "fa152a56",
   "metadata": {
    "colab": {
     "base_uri": "https://localhost:8080/"
    },
    "id": "fa152a56",
    "outputId": "c4265008-f8b0-4ce0-c44a-571200295dd0",
    "ExecuteTime": {
     "end_time": "2024-01-06T14:34:44.273466700Z",
     "start_time": "2024-01-06T14:34:44.247936600Z"
    }
   },
   "outputs": [
    {
     "data": {
      "text/plain": "True"
     },
     "execution_count": 37,
     "metadata": {},
     "output_type": "execute_result"
    }
   ],
   "source": [
    "#If torch deterministic gives problems, use this\n",
    "#dotenv.load_dotenv(\"/content/drive/MyDrive/NLP/Assignments/A2/.env\", override=True)\n",
    "dotenv.load_dotenv(\"./.env\", override=True)"
   ]
  },
  {
   "cell_type": "markdown",
   "id": "5d8ba5f1",
   "metadata": {
    "id": "5d8ba5f1"
   },
   "source": [
    "## TASK 1: Corpus\n",
    "\n",
    "* **Download** the specificed training, validation, and test files.\n",
    "* **Encode** split files into a pandas.DataFrame object.\n",
    "* For each split, **merge** the arguments and labels dataframes into a single dataframe.\n",
    "* **Merge** level 2 annotations to level 3 categories."
   ]
  },
  {
   "cell_type": "markdown",
   "id": "ee80de80",
   "metadata": {
    "id": "ee80de80"
   },
   "source": [
    "### Download the corpus"
   ]
  },
  {
   "cell_type": "code",
   "execution_count": 38,
   "id": "4516ac9d641c89e6",
   "metadata": {
    "colab": {
     "base_uri": "https://localhost:8080/"
    },
    "id": "4516ac9d641c89e6",
    "outputId": "1a1fa3cc-db88-4a6e-8554-3b33cbcd07f4",
    "ExecuteTime": {
     "end_time": "2024-01-06T14:34:44.337839200Z",
     "start_time": "2024-01-06T14:34:44.266459Z"
    }
   },
   "outputs": [
    {
     "name": "stdout",
     "output_type": "stream",
     "text": [
      "File arguments-training.tsv already exists. Skipping download...\n",
      "File arguments-test.tsv already exists. Skipping download...\n",
      "File arguments-validation.tsv already exists. Skipping download...\n",
      "File labels-training.tsv already exists. Skipping download...\n",
      "File labels-test.tsv already exists. Skipping download...\n",
      "File labels-validation.tsv already exists. Skipping download...\n"
     ]
    }
   ],
   "source": [
    "# download data from url and save it to the data folder\n",
    "\n",
    "file_names = [\n",
    "    \"arguments-training.tsv\",\n",
    "    \"arguments-test.tsv\",\n",
    "    \"arguments-validation.tsv\",\n",
    "    \"labels-training.tsv\",\n",
    "    \"labels-test.tsv\",\n",
    "    \"labels-validation.tsv\"\n",
    "]\n",
    "\n",
    "# Create the data folder\n",
    "if not os.path.exists(\"./data\"):\n",
    "    os.makedirs(\"./data\")\n",
    "\n",
    "url = \"https://zenodo.org/records/8248658/files/{file_name}?download=1\"\n",
    "for file_name in file_names:\n",
    "    if os.path.exists(f\"./data/{file_name}\"):\n",
    "        print(f\"File {file_name} already exists. Skipping download...\")\n",
    "        continue\n",
    "\n",
    "    file_url = url.format(file_name=file_name)\n",
    "    print(f\"Downloading {file_name} from {file_url}...\")\n",
    "    urllib.request.urlretrieve(url.format(file_name=file_name), f\"./data/{file_name}\")\n",
    "\n",
    "device = torch.device(\"cuda\" if torch.cuda.is_available() else \"cpu\")"
   ]
  },
  {
   "cell_type": "code",
   "execution_count": 39,
   "id": "initial_id",
   "metadata": {
    "colab": {
     "base_uri": "https://localhost:8080/",
     "height": 290
    },
    "collapsed": true,
    "id": "initial_id",
    "outputId": "1fc373d9-e319-4a30-b2b1-da3aae883ec6",
    "ExecuteTime": {
     "end_time": "2024-01-06T14:34:44.343843300Z",
     "start_time": "2024-01-06T14:34:44.280975400Z"
    }
   },
   "outputs": [
    {
     "data": {
      "text/plain": "  Argument ID  Self-direction: thought  Self-direction: action  Stimulation  \\\n0      A26004                        0                       0            0   \n1      A26010                        0                       0            0   \n2      A26016                        0                       0            0   \n3      A26024                        0                       0            0   \n4      A26026                        0                       0            0   \n\n   Hedonism  Achievement  Power: dominance  Power: resources  Face  \\\n0         0            1                 0                 0     0   \n1         0            1                 0                 0     0   \n2         0            1                 0                 0     0   \n3         0            1                 0                 0     0   \n4         0            1                 0                 0     0   \n\n   Security: personal  ...  Tradition  Conformity: rules  \\\n0                   1  ...          0                  0   \n1                   0  ...          0                  0   \n2                   1  ...          0                  0   \n3                   0  ...          0                  0   \n4                   1  ...          0                  0   \n\n   Conformity: interpersonal  Humility  Benevolence: caring  \\\n0                          0         0                    0   \n1                          0         0                    0   \n2                          0         0                    0   \n3                          0         0                    0   \n4                          0         0                    1   \n\n   Benevolence: dependability  Universalism: concern  Universalism: nature  \\\n0                           0                      1                     0   \n1                           0                      1                     0   \n2                           1                      1                     0   \n3                           0                      0                     0   \n4                           1                      0                     0   \n\n   Universalism: tolerance  Universalism: objectivity  \n0                        1                          0  \n1                        1                          1  \n2                        0                          0  \n3                        0                          0  \n4                        0                          0  \n\n[5 rows x 21 columns]",
      "text/html": "<div>\n<style scoped>\n    .dataframe tbody tr th:only-of-type {\n        vertical-align: middle;\n    }\n\n    .dataframe tbody tr th {\n        vertical-align: top;\n    }\n\n    .dataframe thead th {\n        text-align: right;\n    }\n</style>\n<table border=\"1\" class=\"dataframe\">\n  <thead>\n    <tr style=\"text-align: right;\">\n      <th></th>\n      <th>Argument ID</th>\n      <th>Self-direction: thought</th>\n      <th>Self-direction: action</th>\n      <th>Stimulation</th>\n      <th>Hedonism</th>\n      <th>Achievement</th>\n      <th>Power: dominance</th>\n      <th>Power: resources</th>\n      <th>Face</th>\n      <th>Security: personal</th>\n      <th>...</th>\n      <th>Tradition</th>\n      <th>Conformity: rules</th>\n      <th>Conformity: interpersonal</th>\n      <th>Humility</th>\n      <th>Benevolence: caring</th>\n      <th>Benevolence: dependability</th>\n      <th>Universalism: concern</th>\n      <th>Universalism: nature</th>\n      <th>Universalism: tolerance</th>\n      <th>Universalism: objectivity</th>\n    </tr>\n  </thead>\n  <tbody>\n    <tr>\n      <th>0</th>\n      <td>A26004</td>\n      <td>0</td>\n      <td>0</td>\n      <td>0</td>\n      <td>0</td>\n      <td>1</td>\n      <td>0</td>\n      <td>0</td>\n      <td>0</td>\n      <td>1</td>\n      <td>...</td>\n      <td>0</td>\n      <td>0</td>\n      <td>0</td>\n      <td>0</td>\n      <td>0</td>\n      <td>0</td>\n      <td>1</td>\n      <td>0</td>\n      <td>1</td>\n      <td>0</td>\n    </tr>\n    <tr>\n      <th>1</th>\n      <td>A26010</td>\n      <td>0</td>\n      <td>0</td>\n      <td>0</td>\n      <td>0</td>\n      <td>1</td>\n      <td>0</td>\n      <td>0</td>\n      <td>0</td>\n      <td>0</td>\n      <td>...</td>\n      <td>0</td>\n      <td>0</td>\n      <td>0</td>\n      <td>0</td>\n      <td>0</td>\n      <td>0</td>\n      <td>1</td>\n      <td>0</td>\n      <td>1</td>\n      <td>1</td>\n    </tr>\n    <tr>\n      <th>2</th>\n      <td>A26016</td>\n      <td>0</td>\n      <td>0</td>\n      <td>0</td>\n      <td>0</td>\n      <td>1</td>\n      <td>0</td>\n      <td>0</td>\n      <td>0</td>\n      <td>1</td>\n      <td>...</td>\n      <td>0</td>\n      <td>0</td>\n      <td>0</td>\n      <td>0</td>\n      <td>0</td>\n      <td>1</td>\n      <td>1</td>\n      <td>0</td>\n      <td>0</td>\n      <td>0</td>\n    </tr>\n    <tr>\n      <th>3</th>\n      <td>A26024</td>\n      <td>0</td>\n      <td>0</td>\n      <td>0</td>\n      <td>0</td>\n      <td>1</td>\n      <td>0</td>\n      <td>0</td>\n      <td>0</td>\n      <td>0</td>\n      <td>...</td>\n      <td>0</td>\n      <td>0</td>\n      <td>0</td>\n      <td>0</td>\n      <td>0</td>\n      <td>0</td>\n      <td>0</td>\n      <td>0</td>\n      <td>0</td>\n      <td>0</td>\n    </tr>\n    <tr>\n      <th>4</th>\n      <td>A26026</td>\n      <td>0</td>\n      <td>0</td>\n      <td>0</td>\n      <td>0</td>\n      <td>1</td>\n      <td>0</td>\n      <td>0</td>\n      <td>0</td>\n      <td>1</td>\n      <td>...</td>\n      <td>0</td>\n      <td>0</td>\n      <td>0</td>\n      <td>0</td>\n      <td>1</td>\n      <td>1</td>\n      <td>0</td>\n      <td>0</td>\n      <td>0</td>\n      <td>0</td>\n    </tr>\n  </tbody>\n</table>\n<p>5 rows × 21 columns</p>\n</div>"
     },
     "execution_count": 39,
     "metadata": {},
     "output_type": "execute_result"
    }
   ],
   "source": [
    "# Create the dataframes\n",
    "df_arg_train = pd.read_csv('./data/arguments-training.tsv', sep='\\t')\n",
    "df_arg_test = pd.read_csv('./data/arguments-test.tsv', sep='\\t')\n",
    "df_arg_val = pd.read_csv('./data/arguments-validation.tsv', sep='\\t')\n",
    "\n",
    "df_labels_train = pd.read_csv('./data/labels-training.tsv', sep='\\t')\n",
    "df_labels_test = pd.read_csv('./data/labels-test.tsv', sep='\\t')\n",
    "df_labels_val = pd.read_csv('./data/labels-validation.tsv', sep='\\t')\n",
    "\n",
    "df_labels_test.head()"
   ]
  },
  {
   "cell_type": "markdown",
   "id": "b5e4de79",
   "metadata": {
    "id": "b5e4de79"
   },
   "source": [
    "### Annotations\n",
    "Since the task requires only to take in account *level 3 categories* a mapping between *level 2* and *level 3* is created."
   ]
  },
  {
   "cell_type": "code",
   "execution_count": 40,
   "id": "e2b4fe2c6cb107d4",
   "metadata": {
    "colab": {
     "base_uri": "https://localhost:8080/",
     "height": 206
    },
    "id": "e2b4fe2c6cb107d4",
    "outputId": "9c5d5b51-38c3-4b74-f61e-ec863f40533a",
    "ExecuteTime": {
     "end_time": "2024-01-06T14:34:44.390418800Z",
     "start_time": "2024-01-06T14:34:44.331334500Z"
    }
   },
   "outputs": [
    {
     "data": {
      "text/plain": "  Argument ID  Openness to change  Self-enhancement  Conservation  \\\n0      A26004                   0                 1             1   \n1      A26010                   0                 1             0   \n2      A26016                   0                 1             1   \n3      A26024                   0                 1             0   \n4      A26026                   0                 1             1   \n\n   Self-transcendence  \n0                   1  \n1                   1  \n2                   1  \n3                   0  \n4                   1  ",
      "text/html": "<div>\n<style scoped>\n    .dataframe tbody tr th:only-of-type {\n        vertical-align: middle;\n    }\n\n    .dataframe tbody tr th {\n        vertical-align: top;\n    }\n\n    .dataframe thead th {\n        text-align: right;\n    }\n</style>\n<table border=\"1\" class=\"dataframe\">\n  <thead>\n    <tr style=\"text-align: right;\">\n      <th></th>\n      <th>Argument ID</th>\n      <th>Openness to change</th>\n      <th>Self-enhancement</th>\n      <th>Conservation</th>\n      <th>Self-transcendence</th>\n    </tr>\n  </thead>\n  <tbody>\n    <tr>\n      <th>0</th>\n      <td>A26004</td>\n      <td>0</td>\n      <td>1</td>\n      <td>1</td>\n      <td>1</td>\n    </tr>\n    <tr>\n      <th>1</th>\n      <td>A26010</td>\n      <td>0</td>\n      <td>1</td>\n      <td>0</td>\n      <td>1</td>\n    </tr>\n    <tr>\n      <th>2</th>\n      <td>A26016</td>\n      <td>0</td>\n      <td>1</td>\n      <td>1</td>\n      <td>1</td>\n    </tr>\n    <tr>\n      <th>3</th>\n      <td>A26024</td>\n      <td>0</td>\n      <td>1</td>\n      <td>0</td>\n      <td>0</td>\n    </tr>\n    <tr>\n      <th>4</th>\n      <td>A26026</td>\n      <td>0</td>\n      <td>1</td>\n      <td>1</td>\n      <td>1</td>\n    </tr>\n  </tbody>\n</table>\n</div>"
     },
     "execution_count": 40,
     "metadata": {},
     "output_type": "execute_result"
    }
   ],
   "source": [
    "level_3_categories = [\"Openness to change\", \"Self-enhancement\", \"Conservation\", \"Self-transcendence\"]\n",
    "\n",
    "level_3_to_2_mapping = {\n",
    "    \"Openness to change\": [\n",
    "        \"Self-direction: thought\",\n",
    "        \"Self-direction: action\",\n",
    "        \"Stimulation\",\n",
    "        \"Hedonism\",\n",
    "    ],\n",
    "    \"Self-enhancement\": [\n",
    "        \"Hedonism\",\n",
    "        \"Achievement\",\n",
    "        \"Power: dominance\",\n",
    "        \"Power: resources\",\n",
    "        \"Face\",\n",
    "    ],\n",
    "    \"Conservation\": [\n",
    "        \"Security: personal\",\n",
    "        \"Security: societal\",\n",
    "        \"Conformity: rules\",\n",
    "        \"Conformity: interpersonal\",\n",
    "        \"Tradition\",\n",
    "        \"Face\",\n",
    "        \"Humility\",\n",
    "    ],\n",
    "    \"Self-transcendence\": [\n",
    "        \"Benevolence: caring\",\n",
    "        \"Benevolence: dependability\",\n",
    "        \"Universalism: concern\",\n",
    "        \"Universalism: nature\",\n",
    "        \"Universalism: tolerance\",\n",
    "        \"Universalism: objectivity\",\n",
    "        \"Humility\",\n",
    "    ]\n",
    "}\n",
    "\n",
    "column_to_drop = [level_2 for level_3 in level_3_to_2_mapping.values() for level_2 in level_3]\n",
    "\n",
    "for category in level_3_categories:\n",
    "    # make a logical OR of all the level 2 categories\n",
    "    df_labels_test[category] = df_labels_test[level_3_to_2_mapping[category]].any(axis=1).map({True: 1, False: 0})\n",
    "    df_labels_val[category] = df_labels_val[level_3_to_2_mapping[category]].any(axis=1).map({True: 1, False: 0})\n",
    "    df_labels_train[category] = df_labels_train[level_3_to_2_mapping[category]].any(axis=1).map({True: 1, False: 0})\n",
    "\n",
    "df_labels_test = df_labels_test.drop(columns=column_to_drop)\n",
    "df_labels_val = df_labels_val.drop(columns=column_to_drop)\n",
    "df_labels_train = df_labels_train.drop(columns=column_to_drop)\n",
    "\n",
    "df_labels_test.head()"
   ]
  },
  {
   "cell_type": "code",
   "execution_count": 41,
   "id": "8316839c9de44b89",
   "metadata": {
    "colab": {
     "base_uri": "https://localhost:8080/",
     "height": 206
    },
    "id": "8316839c9de44b89",
    "outputId": "3d1db042-0702-4a2c-9805-02dbee09bbc0",
    "ExecuteTime": {
     "end_time": "2024-01-06T14:34:44.394419200Z",
     "start_time": "2024-01-06T14:34:44.360370700Z"
    }
   },
   "outputs": [
    {
     "data": {
      "text/plain": "  Argument ID                                   Conclusion       Stance  \\\n0      A01002                  We should ban human cloning  in favor of   \n1      A01005                      We should ban fast food  in favor of   \n2      A01006  We should end the use of economic sanctions      against   \n3      A01007         We should abolish capital punishment      against   \n4      A01008                We should ban factory farming      against   \n\n                                             Premise  Openness to change  \\\n0  we should ban human cloning as it will only ca...                   0   \n1  fast food should be banned because it is reall...                   0   \n2  sometimes economic sanctions are the only thin...                   0   \n3  capital punishment is sometimes the only optio...                   0   \n4  factory farming allows for the production of c...                   0   \n\n   Self-enhancement  Conservation  Self-transcendence  \n0                 0             1                   0  \n1                 0             1                   0  \n2                 1             1                   0  \n3                 0             1                   1  \n4                 0             1                   1  ",
      "text/html": "<div>\n<style scoped>\n    .dataframe tbody tr th:only-of-type {\n        vertical-align: middle;\n    }\n\n    .dataframe tbody tr th {\n        vertical-align: top;\n    }\n\n    .dataframe thead th {\n        text-align: right;\n    }\n</style>\n<table border=\"1\" class=\"dataframe\">\n  <thead>\n    <tr style=\"text-align: right;\">\n      <th></th>\n      <th>Argument ID</th>\n      <th>Conclusion</th>\n      <th>Stance</th>\n      <th>Premise</th>\n      <th>Openness to change</th>\n      <th>Self-enhancement</th>\n      <th>Conservation</th>\n      <th>Self-transcendence</th>\n    </tr>\n  </thead>\n  <tbody>\n    <tr>\n      <th>0</th>\n      <td>A01002</td>\n      <td>We should ban human cloning</td>\n      <td>in favor of</td>\n      <td>we should ban human cloning as it will only ca...</td>\n      <td>0</td>\n      <td>0</td>\n      <td>1</td>\n      <td>0</td>\n    </tr>\n    <tr>\n      <th>1</th>\n      <td>A01005</td>\n      <td>We should ban fast food</td>\n      <td>in favor of</td>\n      <td>fast food should be banned because it is reall...</td>\n      <td>0</td>\n      <td>0</td>\n      <td>1</td>\n      <td>0</td>\n    </tr>\n    <tr>\n      <th>2</th>\n      <td>A01006</td>\n      <td>We should end the use of economic sanctions</td>\n      <td>against</td>\n      <td>sometimes economic sanctions are the only thin...</td>\n      <td>0</td>\n      <td>1</td>\n      <td>1</td>\n      <td>0</td>\n    </tr>\n    <tr>\n      <th>3</th>\n      <td>A01007</td>\n      <td>We should abolish capital punishment</td>\n      <td>against</td>\n      <td>capital punishment is sometimes the only optio...</td>\n      <td>0</td>\n      <td>0</td>\n      <td>1</td>\n      <td>1</td>\n    </tr>\n    <tr>\n      <th>4</th>\n      <td>A01008</td>\n      <td>We should ban factory farming</td>\n      <td>against</td>\n      <td>factory farming allows for the production of c...</td>\n      <td>0</td>\n      <td>0</td>\n      <td>1</td>\n      <td>1</td>\n    </tr>\n  </tbody>\n</table>\n</div>"
     },
     "execution_count": 41,
     "metadata": {},
     "output_type": "execute_result"
    }
   ],
   "source": [
    "df_train = pd.merge(df_arg_train, df_labels_train, on='Argument ID')\n",
    "df_test = pd.merge(df_arg_test, df_labels_test, on='Argument ID')\n",
    "df_val = pd.merge(df_arg_val, df_labels_val, on='Argument ID')\n",
    "\n",
    "df_train.head()"
   ]
  },
  {
   "cell_type": "markdown",
   "id": "72cdfe3378972543",
   "metadata": {
    "collapsed": false,
    "id": "72cdfe3378972543"
   },
   "source": [
    "### Task 1.5 - stance encoding"
   ]
  },
  {
   "cell_type": "code",
   "execution_count": 42,
   "id": "232f6776a1ee9a80",
   "metadata": {
    "colab": {
     "base_uri": "https://localhost:8080/",
     "height": 206
    },
    "id": "232f6776a1ee9a80",
    "outputId": "5dfbecc0-c04d-4149-cf77-2ea6935549b5",
    "ExecuteTime": {
     "end_time": "2024-01-06T14:34:44.441067600Z",
     "start_time": "2024-01-06T14:34:44.374879500Z"
    }
   },
   "outputs": [
    {
     "data": {
      "text/plain": "  Argument ID                                   Conclusion  Stance  \\\n0      A01002                  We should ban human cloning       1   \n1      A01005                      We should ban fast food       1   \n2      A01006  We should end the use of economic sanctions       0   \n3      A01007         We should abolish capital punishment       0   \n4      A01008                We should ban factory farming       0   \n\n                                             Premise  Openness to change  \\\n0  we should ban human cloning as it will only ca...                   0   \n1  fast food should be banned because it is reall...                   0   \n2  sometimes economic sanctions are the only thin...                   0   \n3  capital punishment is sometimes the only optio...                   0   \n4  factory farming allows for the production of c...                   0   \n\n   Self-enhancement  Conservation  Self-transcendence  \n0                 0             1                   0  \n1                 0             1                   0  \n2                 1             1                   0  \n3                 0             1                   1  \n4                 0             1                   1  ",
      "text/html": "<div>\n<style scoped>\n    .dataframe tbody tr th:only-of-type {\n        vertical-align: middle;\n    }\n\n    .dataframe tbody tr th {\n        vertical-align: top;\n    }\n\n    .dataframe thead th {\n        text-align: right;\n    }\n</style>\n<table border=\"1\" class=\"dataframe\">\n  <thead>\n    <tr style=\"text-align: right;\">\n      <th></th>\n      <th>Argument ID</th>\n      <th>Conclusion</th>\n      <th>Stance</th>\n      <th>Premise</th>\n      <th>Openness to change</th>\n      <th>Self-enhancement</th>\n      <th>Conservation</th>\n      <th>Self-transcendence</th>\n    </tr>\n  </thead>\n  <tbody>\n    <tr>\n      <th>0</th>\n      <td>A01002</td>\n      <td>We should ban human cloning</td>\n      <td>1</td>\n      <td>we should ban human cloning as it will only ca...</td>\n      <td>0</td>\n      <td>0</td>\n      <td>1</td>\n      <td>0</td>\n    </tr>\n    <tr>\n      <th>1</th>\n      <td>A01005</td>\n      <td>We should ban fast food</td>\n      <td>1</td>\n      <td>fast food should be banned because it is reall...</td>\n      <td>0</td>\n      <td>0</td>\n      <td>1</td>\n      <td>0</td>\n    </tr>\n    <tr>\n      <th>2</th>\n      <td>A01006</td>\n      <td>We should end the use of economic sanctions</td>\n      <td>0</td>\n      <td>sometimes economic sanctions are the only thin...</td>\n      <td>0</td>\n      <td>1</td>\n      <td>1</td>\n      <td>0</td>\n    </tr>\n    <tr>\n      <th>3</th>\n      <td>A01007</td>\n      <td>We should abolish capital punishment</td>\n      <td>0</td>\n      <td>capital punishment is sometimes the only optio...</td>\n      <td>0</td>\n      <td>0</td>\n      <td>1</td>\n      <td>1</td>\n    </tr>\n    <tr>\n      <th>4</th>\n      <td>A01008</td>\n      <td>We should ban factory farming</td>\n      <td>0</td>\n      <td>factory farming allows for the production of c...</td>\n      <td>0</td>\n      <td>0</td>\n      <td>1</td>\n      <td>1</td>\n    </tr>\n  </tbody>\n</table>\n</div>"
     },
     "execution_count": 42,
     "metadata": {},
     "output_type": "execute_result"
    }
   ],
   "source": [
    "# Encode stance into 0, 1\n",
    "df_train[\"Stance\"] = df_train[\"Stance\"].map({\"in favor of\": 1, \"against\": 0})\n",
    "df_test[\"Stance\"] = df_test[\"Stance\"].map({\"in favor of\": 1, \"against\": 0})\n",
    "df_val[\"Stance\"] = df_val[\"Stance\"].map({\"in favor of\": 1, \"against\": 0})\n",
    "\n",
    "df_train.head()"
   ]
  },
  {
   "cell_type": "markdown",
   "id": "77076cfdcc028fa7",
   "metadata": {
    "collapsed": false,
    "id": "77076cfdcc028fa7"
   },
   "source": [
    "### Dataset definition"
   ]
  },
  {
   "cell_type": "code",
   "execution_count": 43,
   "id": "ecad75b6100c0040",
   "metadata": {
    "id": "ecad75b6100c0040",
    "ExecuteTime": {
     "end_time": "2024-01-06T14:34:44.522827400Z",
     "start_time": "2024-01-06T14:34:44.390418800Z"
    }
   },
   "outputs": [],
   "source": [
    "class ArgumentDataset(Dataset):\n",
    "    def __init__(self, df):\n",
    "        self.df = df\n",
    "\n",
    "    def __len__(self):\n",
    "        return len(self.df)\n",
    "\n",
    "    def __getitem__(self, idx):\n",
    "        row = self.df.iloc[idx]\n",
    "        return {\n",
    "            \"Premise\": row[\"Premise\"],\n",
    "            \"Conclusion\": row[\"Conclusion\"],\n",
    "            \"labels\": torch.tensor(row[level_3_categories].values.tolist(), dtype=torch.float32),\n",
    "            \"Stance\": torch.tensor(row[\"Stance\"], dtype=torch.float32)\n",
    "        }"
   ]
  },
  {
   "cell_type": "code",
   "execution_count": 44,
   "id": "94fe31d775254160",
   "metadata": {
    "colab": {
     "base_uri": "https://localhost:8080/"
    },
    "id": "94fe31d775254160",
    "outputId": "51869475-c3a8-4271-eecc-960a561ff0ec",
    "ExecuteTime": {
     "end_time": "2024-01-06T14:34:44.598088Z",
     "start_time": "2024-01-06T14:34:44.407435600Z"
    }
   },
   "outputs": [
    {
     "name": "stdout",
     "output_type": "stream",
     "text": [
      "{'Premise': 'we should ban human cloning as it will only cause huge issues when you have a bunch of the same humans running around all acting the same.', 'Conclusion': 'We should ban human cloning', 'labels': tensor([0., 0., 1., 0.]), 'Stance': tensor(1.)}\n",
      "{'Premise': 'fast food should be banned because it is really bad for your health and is costly.', 'Conclusion': 'We should ban fast food', 'labels': tensor([0., 0., 1., 0.]), 'Stance': tensor(1.)}\n"
     ]
    }
   ],
   "source": [
    "train_dataset = ArgumentDataset(df_train)\n",
    "test_dataset = ArgumentDataset(df_test)\n",
    "val_dataset = ArgumentDataset(df_val)\n",
    "\n",
    "# Create the dataloaders\n",
    "train_dataloader = DataLoader(train_dataset, batch_size=32, shuffle=True)\n",
    "test_dataloader = DataLoader(test_dataset, batch_size=32, shuffle=False)\n",
    "val_dataloader = DataLoader(val_dataset, batch_size=32, shuffle=False)\n",
    "\n",
    "print(train_dataset[0])\n",
    "print(train_dataset[1])"
   ]
  },
  {
   "cell_type": "markdown",
   "id": "e71f0112",
   "metadata": {
    "id": "e71f0112"
   },
   "source": [
    "## TASK 3: Metrics\n",
    "\n",
    "### Instructions\n",
    "\n",
    "* Evaluate your models using per-category binary F1-score.\n",
    "* Compute the average binary F1-score over all categories (macro F1-score)."
   ]
  },
  {
   "cell_type": "code",
   "execution_count": 45,
   "id": "bab81187",
   "metadata": {
    "id": "bab81187",
    "ExecuteTime": {
     "end_time": "2024-01-06T14:34:44.624119500Z",
     "start_time": "2024-01-06T14:34:44.420944200Z"
    }
   },
   "outputs": [],
   "source": [
    "class F1ScoreCumulative(Metric):\n",
    "    def __init__(self, num_classes: int):\n",
    "        super().__init__()\n",
    "\n",
    "        self.num_classes = num_classes\n",
    "\n",
    "        self.add_state(\"true_positive\", default=torch.zeros([num_classes]), dist_reduce_fx=\"sum\")\n",
    "        self.add_state(\"false_negative\", default=torch.zeros([num_classes]), dist_reduce_fx=\"sum\")\n",
    "        self.add_state(\"false_positive\", default=torch.zeros([num_classes]), dist_reduce_fx=\"sum\")\n",
    "\n",
    "    def update(self, y_hat: torch.Tensor, y: torch.Tensor):\n",
    "\n",
    "        for i in range(self.num_classes):\n",
    "            true_positive = torch.sum((y_hat[:, i] == 1) & (y[:, i] == 1))\n",
    "            false_negative = torch.sum((y_hat[:, i] == 0) & (y[:, i] == 1))\n",
    "            false_positive = torch.sum((y_hat[:, i] == 1) & (y[:, i] == 0))\n",
    "\n",
    "            self.true_positive[i] += true_positive\n",
    "            self.false_negative[i] += false_negative\n",
    "            self.false_positive[i] += false_positive\n",
    "\n",
    "    def compute(self):\n",
    "        precision = self.true_positive / (self.true_positive + self.false_positive)\n",
    "        recall = self.true_positive / (self.true_positive + self.false_negative)\n",
    "\n",
    "        f1 = 2 * (precision * recall) / (precision + recall)\n",
    "\n",
    "        # TODO: check if this is correct, look at forum\n",
    "        # If there are not enough data to compute the f1 score, set it to 0\n",
    "        if f1.isnan().any():\n",
    "            f1[f1.isnan()] = 0\n",
    "\n",
    "        return f1\n",
    "\n"
   ]
  },
  {
   "cell_type": "markdown",
   "id": "b8ffa5c2876fecbf",
   "metadata": {
    "collapsed": false,
    "id": "b8ffa5c2876fecbf"
   },
   "source": [
    "## TASK 2: Model definition\n",
    "\n",
    "* **Baseline**: implement a random uniform classifier (an individual classifier per category).\n",
    "* **Baseline**: implement a majority classifier (an individual classifier per category).\n",
    "\n",
    "<br/>\n",
    "\n",
    "* **BERT w/ C**: define a BERT-based classifier that receives an argument **conclusion** as input.\n",
    "* **BERT w/ CP**: add argument **premise** as an additional input.\n",
    "* **BERT w/ CPS**: add argument premise-to-conclusion **stance** as an additional input."
   ]
  },
  {
   "cell_type": "markdown",
   "id": "ffbd8b41505ded6",
   "metadata": {
    "collapsed": false,
    "id": "ffbd8b41505ded6"
   },
   "source": [
    "### Baselines: random uniform classifier and majority classifier"
   ]
  },
  {
   "cell_type": "code",
   "execution_count": 46,
   "id": "331380fdc13c462f",
   "metadata": {
    "id": "331380fdc13c462f",
    "ExecuteTime": {
     "end_time": "2024-01-06T14:34:44.640820800Z",
     "start_time": "2024-01-06T14:34:44.440066800Z"
    }
   },
   "outputs": [],
   "source": [
    "class RandomUniformClassifier(LightningModule):\n",
    "    def __init__(self):\n",
    "        super().__init__()\n",
    "        self._random_state = np.random.RandomState()\n",
    "\n",
    "    def predict(self, X):\n",
    "        batch_size = len(X[\"Conclusion\"])\n",
    "        logits = self._random_state.uniform(size=(batch_size, 4))\n",
    "        logits = logits > 0.5\n",
    "        return torch.tensor(logits, dtype=torch.float32).to(device)\n",
    "\n",
    "\n",
    "class MajorityClassifier(LightningModule):\n",
    "    def __init__(self):\n",
    "        super().__init__()\n",
    "\n",
    "    def fit(self, train_dataloader):\n",
    "        labels = torch.cat([batch[\"labels\"] for batch in train_dataloader])\n",
    "        positives_rate = labels.sum(dim=0) / len(labels)\n",
    "        self.majority_classes = positives_rate > 0.5\n",
    "        print(self.majority_classes)\n",
    "\n",
    "    def predict(self, X):\n",
    "        batch_size = len(X[\"Conclusion\"])\n",
    "        return self.majority_classes.repeat(batch_size, 1).to(device)"
   ]
  },
  {
   "cell_type": "code",
   "execution_count": 47,
   "id": "85576b2b",
   "metadata": {
    "id": "85576b2b",
    "ExecuteTime": {
     "end_time": "2024-01-06T14:34:44.642820800Z",
     "start_time": "2024-01-06T14:34:44.454255500Z"
    }
   },
   "outputs": [],
   "source": [
    "# Function for loading the backbon given the name\n",
    "def load_backbone(backbone_name):\n",
    "    if backbone_name == \"bert-base-uncased\":\n",
    "        backbone = BertModel.from_pretrained(backbone_name)\n",
    "        tokenizer = BertTokenizer.from_pretrained(backbone_name)\n",
    "    elif backbone_name == \"roberta-base\":\n",
    "        backbone = RobertaModel.from_pretrained(backbone_name)\n",
    "        tokenizer = RobertaTokenizer.from_pretrained(backbone_name)\n",
    "    else:\n",
    "        raise ValueError(f\"Backbone {backbone_name} not supported\")\n",
    "\n",
    "    return backbone, tokenizer"
   ]
  },
  {
   "cell_type": "markdown",
   "id": "1ab6e80eded57efb",
   "metadata": {
    "collapsed": false,
    "id": "1ab6e80eded57efb"
   },
   "source": [
    "### Bert models"
   ]
  },
  {
   "cell_type": "code",
   "execution_count": 48,
   "id": "fc849dc3",
   "metadata": {
    "id": "fc849dc3",
    "ExecuteTime": {
     "end_time": "2024-01-06T14:34:44.774624600Z",
     "start_time": "2024-01-06T14:34:44.644820900Z"
    }
   },
   "outputs": [],
   "source": [
    "class ClassificationHead(LightningModule):\n",
    "    def __init__(self, in_size, hidden_size, n_classes):\n",
    "        super().__init__()\n",
    "        self.n_classes = n_classes\n",
    "        self.activation = nn.Sigmoid()\n",
    "        self.l1 = nn.Linear(in_size, hidden_size)\n",
    "        self.l2 = nn.Linear(hidden_size, n_classes)\n",
    "        self.dropout = nn.Dropout(0.1)\n",
    "\n",
    "    def forward(self, x):\n",
    "        x = self.l1(x)\n",
    "        x = self.dropout(x)\n",
    "        x = self.activation(x)\n",
    "        x = self.l2(x)\n",
    "        return x"
   ]
  },
  {
   "cell_type": "code",
   "execution_count": 49,
   "id": "eef0d525e8b3e87e",
   "metadata": {
    "id": "eef0d525e8b3e87e",
    "ExecuteTime": {
     "end_time": "2024-01-06T14:34:44.862246100Z",
     "start_time": "2024-01-06T14:34:44.751561200Z"
    }
   },
   "outputs": [],
   "source": [
    "class BertConclusion(LightningModule):\n",
    "    def __init__(self, bert_model_name, hidden_size, num_classes, lr, model_type=\"Conclusion\"):\n",
    "        super().__init__()\n",
    "        self.save_hyperparameters(ignore=['backbone', 'tokenizer'])\n",
    "        self.backbone, self.tokenizer = load_backbone(bert_model_name)\n",
    "\n",
    "        self.lr = lr\n",
    "\n",
    "        # Define the input size of the classification head\n",
    "        if model_type == \"Conclusion\":\n",
    "            self.clf_input_size = self.backbone.config.hidden_size\n",
    "        elif model_type == \"Premise\":\n",
    "            self.clf_input_size = self.backbone.config.hidden_size*2\n",
    "        elif model_type == \"Stance\":\n",
    "            self.clf_input_size = self.backbone.config.hidden_size*2 + 1\n",
    "        else:\n",
    "            raise ValueError(f\"Model type {model_type} not supported. Supported model types: ['Conclusion', 'Premise', 'Stance']\")\n",
    "\n",
    "        # freeze bert layers\n",
    "        for param in self.backbone.parameters():\n",
    "            param.requires_grad = False\n",
    "\n",
    "        self.classifier = ClassificationHead(self.clf_input_size, hidden_size, num_classes)\n",
    "\n",
    "        self._f1_train = F1ScoreCumulative(num_classes=num_classes)\n",
    "        self._f1_val = F1ScoreCumulative(num_classes=num_classes)\n",
    "        self._f1_test = F1ScoreCumulative(num_classes=num_classes)\n",
    "\n",
    "        self.f1_metrics = {\n",
    "            \"train\": self._f1_train,\n",
    "            \"val\": self._f1_val,\n",
    "            \"test\": self._f1_test\n",
    "        }\n",
    "\n",
    "    def configure_optimizers(self):\n",
    "        optimizer = torch.optim.Adam(self.parameters(), lr=self.lr)\n",
    "        return optimizer\n",
    "\n",
    "    def on_save_checkpoint(self, checkpoint):\n",
    "        # Remove all the parameters of the backbone from the checkpoint\n",
    "        for name, param in self.backbone.named_parameters():\n",
    "            del checkpoint['state_dict']['backbone.' + name]\n",
    "\n",
    "\n",
    "    def encode(self, X):\n",
    "        encoded = self.tokenizer(X, padding=True, return_tensors=\"pt\").to(device)\n",
    "        model_output = self.backbone(**encoded)['last_hidden_state']\n",
    "\n",
    "        return model_output[:, 0, :].to(device)\n",
    "\n",
    "    def forward(self, X_data):\n",
    "        X = X_data[\"Conclusion\"]\n",
    "\n",
    "        encoded = self.encode(X)\n",
    "\n",
    "        # last_hidden_state contains the hidden representations for each token in each sequence of the batch:\n",
    "        # shape is (batch_size, seq_len, hidden_size)\n",
    "        # we only need the representation of the first token (the [CLS] token)\n",
    "        logits = self.classifier(encoded)\n",
    "        return logits\n",
    "\n",
    "    def predict(self, X):\n",
    "        logits = self(X)\n",
    "        y_hat = torch.zeros_like(logits)\n",
    "        y_hat[torch.nn.functional.sigmoid(logits) > 0.5] = 1\n",
    "        return y_hat\n",
    "\n",
    "    def training_step(self, batch, batch_idx):\n",
    "        data = batch\n",
    "        X_data = {key:value for key, value in data.items() if key != \"labels\"}\n",
    "        y = data[\"labels\"]\n",
    "\n",
    "        logits = self(X_data)\n",
    "\n",
    "        loss = nn.BCEWithLogitsLoss()(logits, y)\n",
    "\n",
    "        self.log(\"train_loss\", loss, on_epoch=True, prog_bar=True, logger=True)\n",
    "\n",
    "        # Get predictions\n",
    "        y_hat = torch.zeros_like(y)\n",
    "        y_hat[torch.nn.functional.sigmoid(logits) > 0.5] = 1\n",
    "        self.f1_metrics[\"train\"].update(y_hat, y)\n",
    "\n",
    "        return loss\n",
    "\n",
    "    def validation_step(self, batch, batch_idx):\n",
    "        data = batch\n",
    "        X = {key:value for key, value in data.items() if key != \"labels\"}\n",
    "        y = data[\"labels\"]\n",
    "\n",
    "        logits = self(X)\n",
    "\n",
    "        loss = nn.BCEWithLogitsLoss()(logits, y)\n",
    "        self.log(\"val_loss\", loss, on_epoch=True, prog_bar=True, logger=True)\n",
    "\n",
    "        y_hat = torch.zeros_like(y)\n",
    "        y_hat[torch.nn.functional.sigmoid(logits) > 0.5] = 1\n",
    "        self.f1_metrics[\"val\"].update(y_hat, y)\n",
    "\n",
    "        return loss\n",
    "\n",
    "    def test_step(self, batch, batch_idx):\n",
    "        data = batch\n",
    "        X = {key:value for key, value in data.items() if key != \"labels\"}\n",
    "        y = data[\"labels\"]\n",
    "\n",
    "        logits = self(X)\n",
    "\n",
    "        loss = nn.BCEWithLogitsLoss()(logits, y)\n",
    "\n",
    "        self.log(\"test_loss\", loss, on_epoch=True, prog_bar=True, logger=True)\n",
    "\n",
    "        y_hat = torch.zeros_like(y)\n",
    "        y_hat[torch.nn.functional.sigmoid(logits) > 0.5] = 1\n",
    "        self.f1_metrics[\"test\"].update(y_hat, y)\n",
    "\n",
    "        return loss\n",
    "\n",
    "    def on_epoch_type_end(self, epoch_type) -> None:\n",
    "        f1_score_per_class = self.f1_metrics[epoch_type].compute()\n",
    "        f1_score_macro = f1_score_per_class.mean()\n",
    "\n",
    "        self.log(f\"{epoch_type}_f1_score\", f1_score_macro, on_epoch=True, prog_bar=True, logger=True)\n",
    "\n",
    "        for i, category in enumerate(level_3_categories):\n",
    "            self.log(f\"{epoch_type}_f1_score_{category}\", f1_score_per_class[i], on_epoch=True, prog_bar=True, logger=True)\n",
    "\n",
    "        self.f1_metrics[epoch_type].reset()\n",
    "\n",
    "    def on_train_epoch_end(self) -> None:\n",
    "        self.on_epoch_type_end(\"train\")\n",
    "\n",
    "    def on_validation_epoch_end(self) -> None:\n",
    "        self.on_epoch_type_end(\"val\")\n",
    "\n",
    "    def on_test_epoch_end(self) -> None:\n",
    "        self.on_epoch_type_end(\"test\")"
   ]
  },
  {
   "cell_type": "code",
   "execution_count": 50,
   "id": "31dbbe5fe8eb3195",
   "metadata": {
    "id": "31dbbe5fe8eb3195",
    "ExecuteTime": {
     "end_time": "2024-01-06T14:34:44.884950600Z",
     "start_time": "2024-01-06T14:34:44.849231Z"
    }
   },
   "outputs": [],
   "source": [
    "class BertPremiseConclusion(BertConclusion):\n",
    "    def __init__(self, bert_model_name, hidden_size, num_classes, lr, model_type=\"Premise\"):\n",
    "        super().__init__(bert_model_name, hidden_size, num_classes, lr, model_type)\n",
    "\n",
    "    def forward(self, X_data):\n",
    "        X_1 = X_data[\"Premise\"]\n",
    "        X_2 = X_data[\"Conclusion\"]\n",
    "\n",
    "        encoded_1 = self.encode(X_1)\n",
    "        encoded_2 = self.encode(X_2)\n",
    "\n",
    "        output = torch.cat((encoded_1, encoded_2), dim=1)\n",
    "\n",
    "        logits = self.classifier(output)\n",
    "        return logits"
   ]
  },
  {
   "cell_type": "code",
   "execution_count": 51,
   "id": "b11eb0f4965923dd",
   "metadata": {
    "id": "b11eb0f4965923dd",
    "ExecuteTime": {
     "end_time": "2024-01-06T14:34:44.940174700Z",
     "start_time": "2024-01-06T14:34:44.885950500Z"
    }
   },
   "outputs": [],
   "source": [
    "class BertPremiseConclusionStance(BertConclusion):\n",
    "    def __init__(self, bert_model_name, hidden_size, num_classes, lr, model_type=\"Stance\"):\n",
    "        super().__init__(bert_model_name, hidden_size, num_classes, lr, model_type)\n",
    "\n",
    "\n",
    "    def forward(self, X_data):\n",
    "        X_1, X_2, stance = X_data[\"Premise\"], X_data[\"Conclusion\"], X_data[\"Stance\"]\n",
    "\n",
    "        encoded_1 = self.encode(X_1)\n",
    "        encoded_2 = self.encode(X_2)\n",
    "\n",
    "        stance = stance.unsqueeze(1).to(device)\n",
    "        output = torch.cat((encoded_1, encoded_2, stance), dim=1)\n",
    "        logits = self.classifier(output)\n",
    "        return logits"
   ]
  },
  {
   "cell_type": "code",
   "execution_count": 52,
   "id": "e4d886bff0ede4b5",
   "metadata": {
    "id": "e4d886bff0ede4b5",
    "ExecuteTime": {
     "end_time": "2024-01-06T14:34:44.952697300Z",
     "start_time": "2024-01-06T14:34:44.919066Z"
    }
   },
   "outputs": [],
   "source": [
    "# Fix all possible sources of randomness\n",
    "torch.use_deterministic_algorithms(True)\n",
    "\n",
    "torch.backends.cudnn.benchmark = False\n",
    "torch.backends.cudnn.deterministic = True"
   ]
  },
  {
   "cell_type": "markdown",
   "id": "e755d7ef",
   "metadata": {
    "id": "e755d7ef"
   },
   "source": [
    "## Task 4 Training and Evaluation\n",
    "\n",
    "You are now tasked to train and evaluate **all** defined models.\n",
    "* Train **all** models on the train set.\n",
    "* Evaluate **all** models on the validation set.\n",
    "* Pick **at least** three seeds for robust estimation.\n",
    "* Compute metrics on the validation set.\n",
    "* Report **per-category** and **macro** F1-score for comparison."
   ]
  },
  {
   "cell_type": "code",
   "execution_count": 53,
   "id": "499c93fc7632db8e",
   "metadata": {
    "colab": {
     "base_uri": "https://localhost:8080/"
    },
    "id": "499c93fc7632db8e",
    "outputId": "c63ce8cf-a5f3-479c-c18b-2a4baaf5541c",
    "ExecuteTime": {
     "end_time": "2024-01-06T14:34:44.989740200Z",
     "start_time": "2024-01-06T14:34:44.950188600Z"
    }
   },
   "outputs": [
    {
     "name": "stdout",
     "output_type": "stream",
     "text": [
      "Skipping training...\n"
     ]
    }
   ],
   "source": [
    "logs_path = Path.cwd() / \"logs\" / \"lightning_logs\"\n",
    "#logs_path = Path('/content/drive/MyDrive/NLP/Assignments/A2/logs/lightning_logs')\n",
    "train = False\n",
    "\n",
    "seeds = [6, 90, 157]\n",
    "\n",
    "epochs = 15\n",
    "output_dim = len(level_3_categories)\n",
    "\n",
    "\n",
    "\n",
    "bert_model_name = \"roberta-base\"\n",
    "hidden_size = 128\n",
    "lr = 0.01\n",
    "\n",
    "model_classes = [BertPremiseConclusionStance, BertPremiseConclusion, BertConclusion]\n",
    "model_names = [\"bert_w_cps\", \"bert_w_cp\", \"bert_w_c\"]\n",
    "hyperparameters = [\n",
    "    {'bert_model_name': bert_model_name, 'num_classes': output_dim, \"hidden_size\": hidden_size, \"lr\":lr},\n",
    "    {'bert_model_name': bert_model_name, 'num_classes': output_dim, \"hidden_size\": hidden_size, \"lr\":lr},\n",
    "    {'bert_model_name': bert_model_name, 'num_classes': output_dim, \"hidden_size\": hidden_size, \"lr\":lr}\n",
    "]\n",
    "\n",
    "if train:\n",
    "    for model_class, model_name, hyperparameter in zip(model_classes, model_names, hyperparameters):\n",
    "        for seed in seeds:\n",
    "            print(f\"Training model {model_name} with seed {seed}...\")\n",
    "            seed_everything(seed, workers=True)\n",
    "\n",
    "            model = model_class(**hyperparameter)\n",
    "\n",
    "            logger = TensorBoardLogger(logs_path, name=f\"{model_name}_seed{seed}\")\n",
    "            checkpoint_callback = ModelCheckpoint(\n",
    "                monitor='val_loss',\n",
    "                dirpath=None,\n",
    "                filename=f'{model_name}-seed={seed}-backbone={bert_model_name}' + '-{epoch:02d}-{val_loss:.2f}-{val_f1_score:.2f}',\n",
    "                save_top_k=1,\n",
    "            )\n",
    "            early_stop_callback = EarlyStopping(\n",
    "                monitor='val_loss',\n",
    "                patience=3,\n",
    "                verbose=True,\n",
    "                mode='min'\n",
    "            )\n",
    "\n",
    "            trainer = Trainer(\n",
    "                max_epochs=epochs,\n",
    "                logger=logger,\n",
    "                log_every_n_steps=1,\n",
    "                callbacks=[checkpoint_callback, early_stop_callback],\n",
    "                deterministic=True\n",
    "            )\n",
    "\n",
    "            trainer.fit(model, train_dataloader, val_dataloader)\n",
    "else:\n",
    "    print(\"Skipping training...\")"
   ]
  },
  {
   "cell_type": "code",
   "execution_count": 54,
   "id": "7c0839fab615304c",
   "metadata": {
    "id": "7c0839fab615304c",
    "ExecuteTime": {
     "end_time": "2024-01-06T14:34:44.994740100Z",
     "start_time": "2024-01-06T14:34:44.967711600Z"
    }
   },
   "outputs": [],
   "source": [
    "# Definition of some utility functions\n",
    "\n",
    "def model_predict(model, dataloader):\n",
    "    model.eval()\n",
    "\n",
    "    predictions = []\n",
    "    with torch.no_grad():\n",
    "        for batch in dataloader:\n",
    "            X = {key:value for key, value in batch.items() if key != \"labels\"}\n",
    "\n",
    "\n",
    "            batch_predictions = model.predict(X)\n",
    "\n",
    "            predictions.append(batch_predictions)\n",
    "\n",
    "    all_predictions = torch.cat(predictions)\n",
    "\n",
    "    return all_predictions\n",
    "\n",
    "def evaluate_model(model, loader):\n",
    "    prediction = model_predict(model, loader)\n",
    "\n",
    "    f1_metric = MultilabelF1Score(num_labels=4, average=None, multidim_average='global').to(device)    # TODO: EDO shouldn't we be using binary F1 Score here?\n",
    "\n",
    "    #Take the target from the loader\n",
    "    target = torch.cat([data[\"labels\"] for data in loader], dim=0).to(device)\n",
    "    results = f1_metric(prediction, target)\n",
    "    average = sum(results) / 4\n",
    "\n",
    "    return results, average\n",
    "\n",
    "def load_model(model_name, model_path):\n",
    "    if model_name == \"bert_w_c\":\n",
    "        cls = BertConclusion\n",
    "    elif model_name == \"bert_w_cp\":\n",
    "        cls = BertPremiseConclusion\n",
    "    elif model_name == \"bert_w_cps\":\n",
    "        cls = BertPremiseConclusionStance\n",
    "    else:\n",
    "        raise ValueError(f\"Model name {model_name} not recognized.\")\n",
    "    hparams_path = Path(model_path).parent.parent / \"hparams.yaml\"\n",
    "\n",
    "    model = cls.load_from_checkpoint(model_path, hparams_file=hparams_path, strict=False).to(device)\n",
    "    model.freeze()\n",
    "    return model"
   ]
  },
  {
   "cell_type": "code",
   "execution_count": 55,
   "id": "17a05ea9d9aa6539",
   "metadata": {
    "colab": {
     "base_uri": "https://localhost:8080/",
     "height": 885
    },
    "id": "17a05ea9d9aa6539",
    "outputId": "062a30dc-234a-41d7-c88a-84840ad2480d",
    "ExecuteTime": {
     "end_time": "2024-01-06T14:40:04.988776700Z",
     "start_time": "2024-01-06T14:34:44.982229200Z"
    }
   },
   "outputs": [
    {
     "name": "stdout",
     "output_type": "stream",
     "text": [
      "Evaluating model bert_w_cps...\n",
      "Seed 6:\n"
     ]
    },
    {
     "name": "stderr",
     "output_type": "stream",
     "text": [
      "Some weights of RobertaModel were not initialized from the model checkpoint at roberta-base and are newly initialized: ['roberta.pooler.dense.weight', 'roberta.pooler.dense.bias']\n",
      "You should probably TRAIN this model on a down-stream task to be able to use it for predictions and inference.\n"
     ]
    },
    {
     "name": "stdout",
     "output_type": "stream",
     "text": [
      "Seed 90:\n"
     ]
    },
    {
     "name": "stderr",
     "output_type": "stream",
     "text": [
      "Some weights of RobertaModel were not initialized from the model checkpoint at roberta-base and are newly initialized: ['roberta.pooler.dense.weight', 'roberta.pooler.dense.bias']\n",
      "You should probably TRAIN this model on a down-stream task to be able to use it for predictions and inference.\n"
     ]
    },
    {
     "name": "stdout",
     "output_type": "stream",
     "text": [
      "Seed 157:\n"
     ]
    },
    {
     "name": "stderr",
     "output_type": "stream",
     "text": [
      "Some weights of RobertaModel were not initialized from the model checkpoint at roberta-base and are newly initialized: ['roberta.pooler.dense.weight', 'roberta.pooler.dense.bias']\n",
      "You should probably TRAIN this model on a down-stream task to be able to use it for predictions and inference.\n"
     ]
    },
    {
     "name": "stdout",
     "output_type": "stream",
     "text": [
      "Evaluating model bert_w_cp...\n",
      "Seed 6:\n"
     ]
    },
    {
     "name": "stderr",
     "output_type": "stream",
     "text": [
      "Some weights of RobertaModel were not initialized from the model checkpoint at roberta-base and are newly initialized: ['roberta.pooler.dense.weight', 'roberta.pooler.dense.bias']\n",
      "You should probably TRAIN this model on a down-stream task to be able to use it for predictions and inference.\n"
     ]
    },
    {
     "name": "stdout",
     "output_type": "stream",
     "text": [
      "Seed 90:\n"
     ]
    },
    {
     "name": "stderr",
     "output_type": "stream",
     "text": [
      "Some weights of RobertaModel were not initialized from the model checkpoint at roberta-base and are newly initialized: ['roberta.pooler.dense.weight', 'roberta.pooler.dense.bias']\n",
      "You should probably TRAIN this model on a down-stream task to be able to use it for predictions and inference.\n"
     ]
    },
    {
     "name": "stdout",
     "output_type": "stream",
     "text": [
      "Seed 157:\n"
     ]
    },
    {
     "name": "stderr",
     "output_type": "stream",
     "text": [
      "Some weights of RobertaModel were not initialized from the model checkpoint at roberta-base and are newly initialized: ['roberta.pooler.dense.weight', 'roberta.pooler.dense.bias']\n",
      "You should probably TRAIN this model on a down-stream task to be able to use it for predictions and inference.\n"
     ]
    },
    {
     "name": "stdout",
     "output_type": "stream",
     "text": [
      "Evaluating model bert_w_c...\n",
      "Seed 6:\n"
     ]
    },
    {
     "name": "stderr",
     "output_type": "stream",
     "text": [
      "Some weights of RobertaModel were not initialized from the model checkpoint at roberta-base and are newly initialized: ['roberta.pooler.dense.weight', 'roberta.pooler.dense.bias']\n",
      "You should probably TRAIN this model on a down-stream task to be able to use it for predictions and inference.\n"
     ]
    },
    {
     "name": "stdout",
     "output_type": "stream",
     "text": [
      "Seed 90:\n"
     ]
    },
    {
     "name": "stderr",
     "output_type": "stream",
     "text": [
      "Some weights of RobertaModel were not initialized from the model checkpoint at roberta-base and are newly initialized: ['roberta.pooler.dense.weight', 'roberta.pooler.dense.bias']\n",
      "You should probably TRAIN this model on a down-stream task to be able to use it for predictions and inference.\n"
     ]
    },
    {
     "name": "stdout",
     "output_type": "stream",
     "text": [
      "Seed 157:\n"
     ]
    },
    {
     "name": "stderr",
     "output_type": "stream",
     "text": [
      "Some weights of RobertaModel were not initialized from the model checkpoint at roberta-base and are newly initialized: ['roberta.pooler.dense.weight', 'roberta.pooler.dense.bias']\n",
      "You should probably TRAIN this model on a down-stream task to be able to use it for predictions and inference.\n"
     ]
    },
    {
     "data": {
      "text/plain": "        Model Seed  F1 Score  Openness to change  Self-enhancement  \\\n0  bert_w_cps    6  0.699128            0.487350          0.586234   \n1  bert_w_cps   90  0.674665            0.535632          0.440212   \n2  bert_w_cps  157  0.652962            0.355628          0.532982   \n3   bert_w_cp    6  0.687481            0.545455          0.483776   \n4   bert_w_cp   90  0.674904            0.506540          0.469285   \n5   bert_w_cp  157  0.679646            0.452347          0.543081   \n6    bert_w_c    6  0.510488            0.044444          0.275379   \n7    bert_w_c   90  0.551040            0.008386          0.473645   \n8    bert_w_c  157  0.527291            0.000000          0.387037   \n\n   Conservation  Self-transcendence  \\\n0      0.831227            0.891702   \n1      0.831343            0.891473   \n2      0.831536            0.891702   \n3      0.828992            0.891702   \n4      0.832090            0.891702   \n5      0.831452            0.891702   \n6      0.830427            0.891702   \n7      0.830427            0.891702   \n8      0.830427            0.891702   \n\n                                     Checkpoint path  \n0  C:\\Users\\Matteo\\Documents\\University\\NLP\\A2\\lo...  \n1  C:\\Users\\Matteo\\Documents\\University\\NLP\\A2\\lo...  \n2  C:\\Users\\Matteo\\Documents\\University\\NLP\\A2\\lo...  \n3  C:\\Users\\Matteo\\Documents\\University\\NLP\\A2\\lo...  \n4  C:\\Users\\Matteo\\Documents\\University\\NLP\\A2\\lo...  \n5  C:\\Users\\Matteo\\Documents\\University\\NLP\\A2\\lo...  \n6  C:\\Users\\Matteo\\Documents\\University\\NLP\\A2\\lo...  \n7  C:\\Users\\Matteo\\Documents\\University\\NLP\\A2\\lo...  \n8  C:\\Users\\Matteo\\Documents\\University\\NLP\\A2\\lo...  ",
      "text/html": "<div>\n<style scoped>\n    .dataframe tbody tr th:only-of-type {\n        vertical-align: middle;\n    }\n\n    .dataframe tbody tr th {\n        vertical-align: top;\n    }\n\n    .dataframe thead th {\n        text-align: right;\n    }\n</style>\n<table border=\"1\" class=\"dataframe\">\n  <thead>\n    <tr style=\"text-align: right;\">\n      <th></th>\n      <th>Model</th>\n      <th>Seed</th>\n      <th>F1 Score</th>\n      <th>Openness to change</th>\n      <th>Self-enhancement</th>\n      <th>Conservation</th>\n      <th>Self-transcendence</th>\n      <th>Checkpoint path</th>\n    </tr>\n  </thead>\n  <tbody>\n    <tr>\n      <th>0</th>\n      <td>bert_w_cps</td>\n      <td>6</td>\n      <td>0.699128</td>\n      <td>0.487350</td>\n      <td>0.586234</td>\n      <td>0.831227</td>\n      <td>0.891702</td>\n      <td>C:\\Users\\Matteo\\Documents\\University\\NLP\\A2\\lo...</td>\n    </tr>\n    <tr>\n      <th>1</th>\n      <td>bert_w_cps</td>\n      <td>90</td>\n      <td>0.674665</td>\n      <td>0.535632</td>\n      <td>0.440212</td>\n      <td>0.831343</td>\n      <td>0.891473</td>\n      <td>C:\\Users\\Matteo\\Documents\\University\\NLP\\A2\\lo...</td>\n    </tr>\n    <tr>\n      <th>2</th>\n      <td>bert_w_cps</td>\n      <td>157</td>\n      <td>0.652962</td>\n      <td>0.355628</td>\n      <td>0.532982</td>\n      <td>0.831536</td>\n      <td>0.891702</td>\n      <td>C:\\Users\\Matteo\\Documents\\University\\NLP\\A2\\lo...</td>\n    </tr>\n    <tr>\n      <th>3</th>\n      <td>bert_w_cp</td>\n      <td>6</td>\n      <td>0.687481</td>\n      <td>0.545455</td>\n      <td>0.483776</td>\n      <td>0.828992</td>\n      <td>0.891702</td>\n      <td>C:\\Users\\Matteo\\Documents\\University\\NLP\\A2\\lo...</td>\n    </tr>\n    <tr>\n      <th>4</th>\n      <td>bert_w_cp</td>\n      <td>90</td>\n      <td>0.674904</td>\n      <td>0.506540</td>\n      <td>0.469285</td>\n      <td>0.832090</td>\n      <td>0.891702</td>\n      <td>C:\\Users\\Matteo\\Documents\\University\\NLP\\A2\\lo...</td>\n    </tr>\n    <tr>\n      <th>5</th>\n      <td>bert_w_cp</td>\n      <td>157</td>\n      <td>0.679646</td>\n      <td>0.452347</td>\n      <td>0.543081</td>\n      <td>0.831452</td>\n      <td>0.891702</td>\n      <td>C:\\Users\\Matteo\\Documents\\University\\NLP\\A2\\lo...</td>\n    </tr>\n    <tr>\n      <th>6</th>\n      <td>bert_w_c</td>\n      <td>6</td>\n      <td>0.510488</td>\n      <td>0.044444</td>\n      <td>0.275379</td>\n      <td>0.830427</td>\n      <td>0.891702</td>\n      <td>C:\\Users\\Matteo\\Documents\\University\\NLP\\A2\\lo...</td>\n    </tr>\n    <tr>\n      <th>7</th>\n      <td>bert_w_c</td>\n      <td>90</td>\n      <td>0.551040</td>\n      <td>0.008386</td>\n      <td>0.473645</td>\n      <td>0.830427</td>\n      <td>0.891702</td>\n      <td>C:\\Users\\Matteo\\Documents\\University\\NLP\\A2\\lo...</td>\n    </tr>\n    <tr>\n      <th>8</th>\n      <td>bert_w_c</td>\n      <td>157</td>\n      <td>0.527291</td>\n      <td>0.000000</td>\n      <td>0.387037</td>\n      <td>0.830427</td>\n      <td>0.891702</td>\n      <td>C:\\Users\\Matteo\\Documents\\University\\NLP\\A2\\lo...</td>\n    </tr>\n  </tbody>\n</table>\n</div>"
     },
     "execution_count": 55,
     "metadata": {},
     "output_type": "execute_result"
    }
   ],
   "source": [
    "import warnings\n",
    "\n",
    "results_df = pd.DataFrame(columns=[\"Model\", \"Seed\", \"F1 Score\"] + level_3_categories)\n",
    "\n",
    "#remove warnings\n",
    "warnings.filterwarnings(\"ignore\")\n",
    "\n",
    "for model_name in model_names:\n",
    "    print(f\"Evaluating model {model_name}...\")\n",
    "    for seed in seeds:\n",
    "        model_folder = logs_path / f\"{model_name}_seed{seed}\"\n",
    "\n",
    "        print(f\"Seed {seed}:\")\n",
    "        version_folders = os.listdir(model_folder)\n",
    "        versions = [int(x.split(\"_\")[1]) for x in version_folders]\n",
    "        latest_version = max(versions)\n",
    "        version_folder = model_folder / f\"version_{latest_version}\"\n",
    "\n",
    "        checkpoint_folder = version_folder / \"checkpoints\"\n",
    "        checkpoint_path = list(checkpoint_folder.glob(\"*.ckpt\"))[0]\n",
    "\n",
    "        model = load_model(model_name, checkpoint_path)\n",
    "        results, average = evaluate_model(model, test_dataloader)\n",
    "\n",
    "        temp = pd.DataFrame({\n",
    "            \"Model\": model_name,\n",
    "            \"Seed\": seed,\n",
    "            \"F1 Score\": average.item(),\n",
    "            **{category: f1.item() for category, f1 in zip(level_3_categories, results)},\n",
    "            \"Checkpoint path\": checkpoint_path\n",
    "        }, index=[0])\n",
    "\n",
    "        results_df = pd.concat([results_df, temp], ignore_index=True)\n",
    "\n",
    "\n",
    "results_df"
   ]
  },
  {
   "cell_type": "markdown",
   "id": "6e9937ee",
   "metadata": {
    "id": "6e9937ee"
   },
   "source": [
    "## Task 5: Error analysis\n",
    "You are tasked to discuss your results."
   ]
  },
  {
   "cell_type": "markdown",
   "id": "6aeb6704",
   "metadata": {
    "id": "6aeb6704"
   },
   "source": [
    "### Instructions\n",
    "\n",
    "* **Compare** classification performance of BERT-based models with respect to baselines.\n",
    "* Discuss **difference in prediction** between the best performing BERT-based model and its variants."
   ]
  },
  {
   "cell_type": "markdown",
   "id": "a43da156",
   "metadata": {
    "id": "a43da156"
   },
   "source": [
    "### Best model analysis"
   ]
  },
  {
   "cell_type": "code",
   "execution_count": 169,
   "id": "fb4f764a455f16dc",
   "metadata": {
    "colab": {
     "base_uri": "https://localhost:8080/"
    },
    "id": "fb4f764a455f16dc",
    "outputId": "e8501c14-e6f8-4fbf-c4a8-1c8b01d99b14",
    "ExecuteTime": {
     "end_time": "2024-01-06T16:25:59.283547900Z",
     "start_time": "2024-01-06T16:25:53.819489600Z"
    }
   },
   "outputs": [
    {
     "name": "stderr",
     "output_type": "stream",
     "text": [
      "Some weights of RobertaModel were not initialized from the model checkpoint at roberta-base and are newly initialized: ['roberta.pooler.dense.weight', 'roberta.pooler.dense.bias']\n",
      "You should probably TRAIN this model on a down-stream task to be able to use it for predictions and inference.\n",
      "Some weights of RobertaModel were not initialized from the model checkpoint at roberta-base and are newly initialized: ['roberta.pooler.dense.weight', 'roberta.pooler.dense.bias']\n",
      "You should probably TRAIN this model on a down-stream task to be able to use it for predictions and inference.\n",
      "Some weights of RobertaModel were not initialized from the model checkpoint at roberta-base and are newly initialized: ['roberta.pooler.dense.weight', 'roberta.pooler.dense.bias']\n",
      "You should probably TRAIN this model on a down-stream task to be able to use it for predictions and inference.\n",
      "Some weights of RobertaModel were not initialized from the model checkpoint at roberta-base and are newly initialized: ['roberta.pooler.dense.weight', 'roberta.pooler.dense.bias']\n",
      "You should probably TRAIN this model on a down-stream task to be able to use it for predictions and inference.\n"
     ]
    },
    {
     "name": "stdout",
     "output_type": "stream",
     "text": [
      "Best model: bert_w_cps\n",
      "Average F1 score: 0.6991280317306519\n",
      "F1 score per category: Openness to change     0.48735\n",
      "Self-enhancement      0.586234\n",
      "Conservation          0.831227\n",
      "Self-transcendence    0.891702\n",
      "Name: 0, dtype: object\n"
     ]
    }
   ],
   "source": [
    "best_model_row = None\n",
    "c_model_row = None\n",
    "cp_model_row = None\n",
    "cps_model_row = None\n",
    "\n",
    "\n",
    "for _, row in results_df.iterrows():\n",
    "    if best_model_row is None or row[\"F1 Score\"] > best_model_row[\"F1 Score\"]:\n",
    "        best_model_row = row\n",
    "        \n",
    "def get_best_of(model_name):\n",
    "    best_f1_score = results_df.groupby(\"Model\")[\"F1 Score\"].max()[model_name]\n",
    "    \n",
    "    return results_df.loc[(results_df[\"Model\"] == model_name) & (results_df[\"F1 Score\"] == best_f1_score)].iloc[0]\n",
    "\n",
    "best_model_name = best_model_row[\"Model\"] \n",
    "    \n",
    "# Select the best model for each variant\n",
    "c_model_row = get_best_of(\"bert_w_c\")\n",
    "cp_model_row = get_best_of(\"bert_w_cp\")\n",
    "cps_model_row = get_best_of(\"bert_w_cps\")\n",
    "\n",
    "\n",
    "best_model = load_model(best_model_row[\"Model\"], best_model_row[\"Checkpoint path\"])\n",
    "c_model = load_model(c_model_row[\"Model\"], c_model_row[\"Checkpoint path\"])\n",
    "cp_model = load_model(cp_model_row[\"Model\"], cp_model_row[\"Checkpoint path\"])\n",
    "cps_model = load_model(cps_model_row[\"Model\"], cps_model_row[\"Checkpoint path\"])\n",
    "\n",
    "f1_score_best_average = best_model_row[\"F1 Score\"]\n",
    "f1_score_best = best_model_row[level_3_categories]\n",
    "\n",
    "print(f\"Best model: {best_model_row['Model']}\")\n",
    "print(f\"Average F1 score: {f1_score_best_average}\")\n",
    "print(f\"F1 score per category: {f1_score_best}\")\n",
    "\n",
    "models = {\n",
    "    \"Best model\": best_model,\n",
    "    \"bert_w_c\": c_model,\n",
    "    \"bert_w_cp\": cp_model,\n",
    "    \"bert_w_cps\": cps_model\n",
    "}"
   ]
  },
  {
   "cell_type": "markdown",
   "id": "a9646e0c",
   "metadata": {
    "id": "a9646e0c"
   },
   "source": [
    "#### Precision/Recall curve"
   ]
  },
  {
   "cell_type": "code",
   "execution_count": 170,
   "id": "c596864e44c68068",
   "metadata": {
    "colab": {
     "base_uri": "https://localhost:8080/",
     "height": 641
    },
    "id": "c596864e44c68068",
    "outputId": "f196a0e4-3ca3-48a1-a4fd-f62374e69fc3",
    "ExecuteTime": {
     "end_time": "2024-01-06T16:26:44.392185Z",
     "start_time": "2024-01-06T16:25:59.285547500Z"
    }
   },
   "outputs": [
    {
     "data": {
      "text/plain": "<Figure size 800x700 with 1 Axes>",
      "image/png": "[encoded data removed]"
     },
     "metadata": {},
     "output_type": "display_data"
    }
   ],
   "source": [
    "small_test_dataset = ArgumentDataset(df_test)\n",
    "\n",
    "precision_curve = PrecisionRecallCurve(task=\"multilabel\", num_labels=4).to(device)\n",
    "\n",
    "\n",
    "y_pred_best = model_predict(best_model, test_dataloader)\n",
    "\n",
    "y_true = torch.cat([data[\"labels\"] for data in test_dataloader], dim=0)\n",
    "y_true = y_true.type(torch.LongTensor).to(device)\n",
    "\n",
    "curve = precision_curve(y_pred_best, y_true)\n",
    "precision, recall, _ = curve\n",
    "\n",
    "\n",
    "plt.figure(figsize=(8,7))\n",
    "plt.title(\"Precision-Recall Curve\")\n",
    "plt.xlabel(\"Recall\")\n",
    "plt.ylabel(\"Precision\")\n",
    "plt.xlim(0, 1)\n",
    "plt.ylim(0, 1)\n",
    "plt.grid()\n",
    "\n",
    "label_to_auc = {}\n",
    "for i in range(len(level_3_categories)):\n",
    "    label = level_3_categories[i]\n",
    "    precision_cpu = precision[i].cpu()\n",
    "    recall_cpu = recall[i].cpu()\n",
    "\n",
    "    auc = -1 * torch.trapz(precision_cpu, recall_cpu)\n",
    "\n",
    "    label_to_auc[label] = auc.item()\n",
    "\n",
    "    plt.plot(recall_cpu, precision_cpu, label=f\"{label}: {auc:.2f}\")\n",
    "\n",
    "plt.legend(loc=\"center left\", bbox_to_anchor=(1, 0.5))\n",
    "plt.show()\n"
   ]
  },
  {
   "cell_type": "markdown",
   "id": "e157f7a7",
   "metadata": {
    "id": "e157f7a7"
   },
   "source": [
    "#### Confusion matrices"
   ]
  },
  {
   "cell_type": "code",
   "execution_count": 171,
   "id": "9054e8b02b426438",
   "metadata": {
    "colab": {
     "base_uri": "https://localhost:8080/",
     "height": 807
    },
    "id": "9054e8b02b426438",
    "outputId": "badc3692-10f0-496e-f209-11e855cc7ffa",
    "ExecuteTime": {
     "end_time": "2024-01-06T16:26:44.563376600Z",
     "start_time": "2024-01-06T16:26:44.390992600Z"
    }
   },
   "outputs": [
    {
     "data": {
      "text/plain": "<Figure size 1000x800 with 4 Axes>",
      "image/png": "[encoded data removed]"
     },
     "metadata": {},
     "output_type": "display_data"
    }
   ],
   "source": [
    "confusion_matrix_metric = MultilabelConfusionMatrix(num_labels=len(level_3_categories)).to(device)\n",
    "\n",
    "confusion_matrix = confusion_matrix_metric(y_pred_best, y_true)\n",
    "\n",
    "# Craete a subplot for each category\n",
    "fig, axs = plt.subplots(2, 2, figsize=(10, 8))\n",
    "axs = axs.flatten()\n",
    "\n",
    "\n",
    "for i, category in enumerate(level_3_categories):\n",
    "    axs[i].imshow(confusion_matrix[i].cpu().numpy(), cmap=\"Blues\")\n",
    "    axs[i].set_title(category)\n",
    "    axs[i].set_xlabel(\"True label\")\n",
    "    axs[i].set_ylabel(\"Predicted label\")\n",
    "    axs[i].set_xticks([0, 1])\n",
    "    axs[i].set_yticks([0, 1])\n",
    "    axs[i].set_xticklabels([\"Positive\", \"Negative\"])\n",
    "    axs[i].set_yticklabels([\"Positive\", \"Negative\"])\n",
    "    axs[i].grid(False)\n",
    "\n",
    "    # add the values to the plot\n",
    "    for k in range(2):\n",
    "        for j in range(2):\n",
    "            axs[i].text(k, j, confusion_matrix[i][k, j].item(), ha=\"center\", va=\"center\", color=\"Red\", fontsize=20)\n",
    "\n",
    "#\n",
    "plt.tight_layout()\n",
    "plt.show()"
   ]
  },
  {
   "cell_type": "markdown",
   "id": "f967b0b9",
   "metadata": {
    "id": "f967b0b9"
   },
   "source": [
    "#### Model performance on most/least frequent classes"
   ]
  },
  {
   "cell_type": "markdown",
   "id": "9ab4c83b",
   "metadata": {
    "id": "9ab4c83b"
   },
   "source": [
    "#### Specific misclassified examples"
   ]
  },
  {
   "cell_type": "markdown",
   "id": "c8dd7bd9",
   "metadata": {
    "id": "c8dd7bd9"
   },
   "source": [
    "### Best model vs baselines"
   ]
  },
  {
   "cell_type": "code",
   "execution_count": 172,
   "id": "934f9c01",
   "metadata": {
    "colab": {
     "base_uri": "https://localhost:8080/"
    },
    "id": "934f9c01",
    "outputId": "07b56274-8b62-4d82-e49c-5c10ba62603a",
    "ExecuteTime": {
     "end_time": "2024-01-06T16:29:19.988508500Z",
     "start_time": "2024-01-06T16:26:44.564372600Z"
    }
   },
   "outputs": [
    {
     "name": "stdout",
     "output_type": "stream",
     "text": [
      "tensor([False, False,  True,  True])\n",
      "Evaluating model Best model...\n",
      "Evaluating model bert_w_c...\n",
      "Evaluating model bert_w_cp...\n",
      "Evaluating model bert_w_cps...\n",
      "Evaluating model Random...\n",
      "Evaluating model Majority...\n"
     ]
    },
    {
     "data": {
      "text/plain": "{'Best model': {'F1 Score': [0.487350195646286,\n   0.5862335562705994,\n   0.8312267661094666,\n   0.8917018175125122],\n  'Average F1 Score': 0.6991280317306519},\n 'bert_w_c': {'F1 Score': [0.008385743945837021,\n   0.4736451506614685,\n   0.8304266929626465,\n   0.8917018175125122],\n  'Average F1 Score': 0.5510398149490356},\n 'bert_w_cp': {'F1 Score': [0.5454545617103577,\n   0.4837758243083954,\n   0.8289920687675476,\n   0.8917018175125122],\n  'Average F1 Score': 0.6874810457229614},\n 'bert_w_cps': {'F1 Score': [0.487350195646286,\n   0.5862335562705994,\n   0.8312267661094666,\n   0.8917018175125122],\n  'Average F1 Score': 0.6991280317306519},\n 'Random': {'F1 Score': [0.4034401774406433,\n   0.44242846965789795,\n   0.5835962295532227,\n   0.6199513673782349],\n  'Average F1 Score': 0.5123540163040161},\n 'Majority': {'F1 Score': [0.0, 0.0, 0.8304266929626465, 0.8917018175125122],\n  'Average F1 Score': 0.4305321276187897}}"
     },
     "execution_count": 172,
     "metadata": {},
     "output_type": "execute_result"
    }
   ],
   "source": [
    "baseline_random = RandomUniformClassifier()\n",
    "baseline_majority = MajorityClassifier()\n",
    "\n",
    "baseline_majority.fit(train_dataloader)\n",
    "\n",
    "models[\"Random\"] = baseline_random\n",
    "models[\"Majority\"] = baseline_majority\n",
    "\n",
    "\n",
    "f1_scores = {}\n",
    "for model_name, model in models.items():\n",
    "    print(f\"Evaluating model {model_name}...\")\n",
    "    \n",
    "    f1_score, f1_score_average = evaluate_model(model, test_dataloader)\n",
    "    f1_scores[model_name] = f1_score.cpu().tolist()\n",
    "    \n",
    "    f1_scores[model_name] = {\n",
    "        \"F1 Score\": f1_score.cpu().tolist(),\n",
    "        \"Average F1 Score\": f1_score_average.cpu().tolist()\n",
    "    }\n",
    "    \n",
    "f1_scores"
   ]
  },
  {
   "cell_type": "code",
   "execution_count": 173,
   "id": "957ae5ba",
   "metadata": {
    "colab": {
     "base_uri": "https://localhost:8080/",
     "height": 143
    },
    "id": "957ae5ba",
    "outputId": "7cbcad66-26fe-4401-8332-3e4c91c66655",
    "ExecuteTime": {
     "end_time": "2024-01-06T16:29:20.017634500Z",
     "start_time": "2024-01-06T16:29:19.990509300Z"
    }
   },
   "outputs": [
    {
     "data": {
      "text/plain": "           Average F1 Score Openness to change Self-enhancement Conservation  \\\nBest model         0.699128            0.48735         0.586234     0.831227   \nbert_w_c            0.55104           0.008386         0.473645     0.830427   \nbert_w_cp          0.687481           0.545455         0.483776     0.828992   \nbert_w_cps         0.699128            0.48735         0.586234     0.831227   \nRandom             0.512354            0.40344         0.442428     0.583596   \nMajority           0.430532                0.0              0.0     0.830427   \n\n           Self-transcendence  \nBest model           0.891702  \nbert_w_c             0.891702  \nbert_w_cp            0.891702  \nbert_w_cps           0.891702  \nRandom               0.619951  \nMajority             0.891702  ",
      "text/html": "<div>\n<style scoped>\n    .dataframe tbody tr th:only-of-type {\n        vertical-align: middle;\n    }\n\n    .dataframe tbody tr th {\n        vertical-align: top;\n    }\n\n    .dataframe thead th {\n        text-align: right;\n    }\n</style>\n<table border=\"1\" class=\"dataframe\">\n  <thead>\n    <tr style=\"text-align: right;\">\n      <th></th>\n      <th>Average F1 Score</th>\n      <th>Openness to change</th>\n      <th>Self-enhancement</th>\n      <th>Conservation</th>\n      <th>Self-transcendence</th>\n    </tr>\n  </thead>\n  <tbody>\n    <tr>\n      <th>Best model</th>\n      <td>0.699128</td>\n      <td>0.48735</td>\n      <td>0.586234</td>\n      <td>0.831227</td>\n      <td>0.891702</td>\n    </tr>\n    <tr>\n      <th>bert_w_c</th>\n      <td>0.55104</td>\n      <td>0.008386</td>\n      <td>0.473645</td>\n      <td>0.830427</td>\n      <td>0.891702</td>\n    </tr>\n    <tr>\n      <th>bert_w_cp</th>\n      <td>0.687481</td>\n      <td>0.545455</td>\n      <td>0.483776</td>\n      <td>0.828992</td>\n      <td>0.891702</td>\n    </tr>\n    <tr>\n      <th>bert_w_cps</th>\n      <td>0.699128</td>\n      <td>0.48735</td>\n      <td>0.586234</td>\n      <td>0.831227</td>\n      <td>0.891702</td>\n    </tr>\n    <tr>\n      <th>Random</th>\n      <td>0.512354</td>\n      <td>0.40344</td>\n      <td>0.442428</td>\n      <td>0.583596</td>\n      <td>0.619951</td>\n    </tr>\n    <tr>\n      <th>Majority</th>\n      <td>0.430532</td>\n      <td>0.0</td>\n      <td>0.0</td>\n      <td>0.830427</td>\n      <td>0.891702</td>\n    </tr>\n  </tbody>\n</table>\n</div>"
     },
     "execution_count": 173,
     "metadata": {},
     "output_type": "execute_result"
    }
   ],
   "source": [
    "for model_name in f1_scores.keys():\n",
    "    for i, category in enumerate(level_3_categories):\n",
    "        f1_scores[model_name][category] = f1_scores[model_name][\"F1 Score\"][i]\n",
    "    \n",
    "baseline_comparison = pd.DataFrame(f1_scores).T \n",
    "baseline_comparison.drop(columns=[\"F1 Score\"], inplace=True)\n",
    "baseline_comparison"
   ]
  },
  {
   "cell_type": "code",
   "execution_count": 174,
   "id": "maBLBJqXu7w2",
   "metadata": {
    "colab": {
     "base_uri": "https://localhost:8080/",
     "height": 251
    },
    "id": "maBLBJqXu7w2",
    "outputId": "e534880a-57dc-4747-ac04-753b305f9598",
    "ExecuteTime": {
     "end_time": "2024-01-06T16:29:20.131388600Z",
     "start_time": "2024-01-06T16:29:20.008123800Z"
    }
   },
   "outputs": [
    {
     "data": {
      "text/plain": "<Figure size 1000x400 with 1 Axes>",
      "image/png": "[encoded data removed]"
     },
     "metadata": {},
     "output_type": "display_data"
    }
   ],
   "source": [
    "baseline_random = baseline_comparison.loc[\"Random\"]\n",
    "\n",
    "\n",
    "# Sample data (replace this with your actual data)\n",
    "plt.figure(figsize=(10, 4))\n",
    "categories = [\"Mean\"] + level_3_categories\n",
    "# Bar chart\n",
    "plt.bar(categories, baseline_random, color='lightgray', label='Random Baseline')\n",
    "\n",
    "# Line plot\n",
    "for model_name in baseline_comparison.index:\n",
    "    if model_name == \"Random\":\n",
    "        continue\n",
    "        \n",
    "    if model_name == best_model_name:\n",
    "        continue \n",
    "        \n",
    "    plt.plot(categories, baseline_comparison.loc[model_name], marker='o', linestyle='-', label=model_name)\n",
    "\n",
    "# plt.plot(categories, f1_score_best_list + [f1_score_best_average], marker='o', linestyle='-', color='green', label='F1 Score (Line)')\n",
    "\n",
    "# Adding labels and title\n",
    "plt.xlabel('Categories')\n",
    "plt.ylabel('F1 Score')\n",
    "plt.title('F1 Score by Category')\n",
    "plt.ylim(0, 1)\n",
    "plt.xticks(rotation=0)\n",
    "plt.legend()\n",
    "plt.yticks(np.arange(0, 1.1, 0.1))\n",
    "\n",
    "# Adding legend\n",
    "plt.legend()\n",
    "\n",
    "# Show the plot\n",
    "plt.show()"
   ]
  },
  {
   "cell_type": "markdown",
   "id": "3c558cc2",
   "metadata": {
    "id": "3c558cc2"
   },
   "source": [
    "### Best model vs variants"
   ]
  },
  {
   "cell_type": "code",
   "outputs": [
    {
     "name": "stdout",
     "output_type": "stream",
     "text": [
      "Premise: there is no reason to force those who are fit for combat to leave the armed forces as long as they voluntarily want to be in them\n",
      "Conclusion: We should prohibit women in combat\n",
      "Stance: against\n",
      "Labels: ['Openness to change', 'Self-enhancement']\n",
      "Predicted: ['Conservation', 'Self-transcendence']\n",
      "\n",
      "Premise: flag burning is a peaceful and non-violent way of expressing dissatisfaction with the policies of a country.\n",
      "Conclusion: We should prohibit flag burning\n",
      "Stance: against\n",
      "Labels: ['Openness to change', 'Self-enhancement']\n",
      "Predicted: ['Conservation', 'Self-transcendence']\n",
      "\n",
      "Premise: if women want to stand up to fight and protect our country that desire and conviction needs to continue.\n",
      "Conclusion: We should prohibit women in combat\n",
      "Stance: against\n",
      "Labels: ['Openness to change', 'Self-enhancement']\n",
      "Predicted: ['Conservation', 'Self-transcendence']\n",
      "\n",
      "Premise: flag burning, while the majority hate it, is a simple way of protesting that is not physically hurting anyone.\n",
      "Conclusion: We should prohibit flag burning\n",
      "Stance: against\n",
      "Labels: ['Openness to change']\n",
      "Predicted: ['Conservation', 'Self-transcendence']\n",
      "\n",
      "Premise: The human rights regulations should be adapted. They were written half a century ago when we did not have mass migration. \n",
      "Conclusion: We should end illegal pushbacks!\n",
      "Stance: against\n",
      "Labels: ['Openness to change', 'Conservation']\n",
      "Predicted: ['Self-enhancement', 'Conservation', 'Self-transcendence']\n"
     ]
    }
   ],
   "source": [
    "# Sample 5 of the worst predictions from the best model\n",
    "\n",
    "# Get the predictions of the best model\n",
    "#y_pred_best = model_predict(best_model, test_dataloader)\n",
    "\n",
    "# Get the target from the test dataloader\n",
    "y_true = torch.cat([data[\"labels\"] for data in test_dataloader], dim=0)\n",
    "\n",
    "# Get the indices of the worst predictions\n",
    "worst_indices = torch.argsort(torch.sum(torch.abs(y_pred_best - y_true), dim=1), descending=True)[:5]\n",
    "\n",
    "# Get the features of the worst predictions\n",
    "worst_features = [test_dataset[i] for i in worst_indices.tolist()]\n",
    "\n",
    "\n",
    "# put into a dataframe\n",
    "\n",
    "worst_df = pd.DataFrame(worst_features)#.drop(columns=[\"labels\"])\n",
    "worst_df[\"Predicted\"] = y_pred_best[worst_indices].tolist()\n",
    "\n",
    "# Reorder the columns\n",
    "worst_df = worst_df[[\"Premise\", \"Conclusion\", \"Stance\", \"labels\", \"Predicted\"]]\n",
    "\n",
    "# convert Stance tensor to string\n",
    "worst_df[\"Stance\"] = worst_df[\"Stance\"].map(lambda x: x.item()).map({1: \"in favor of\", 0: \"against\"})\n",
    "\n",
    "# Convert labels and predictions to string\n",
    "worst_df[\"labels\"] = worst_df[\"labels\"].apply(lambda x: [level_3_categories[i] for i in range(len(x)) if x[i] == 1])\n",
    "worst_df[\"Predicted\"] = worst_df[\"Predicted\"].apply(lambda x: [level_3_categories[i] for i in range(len(x)) if x[i] == 1])\n",
    "\n",
    "# print it in a for loop\n",
    "for _, row in worst_df.iterrows():\n",
    "    print(f\"Premise: {row['Premise']}\")\n",
    "    print(f\"Conclusion: {row['Conclusion']}\")\n",
    "    print(f\"Stance: {row['Stance']}\")\n",
    "    print(f\"Labels: {row['labels']}\")\n",
    "    print(f\"Predicted: {row['Predicted']}\")\n",
    "    print()"
   ],
   "metadata": {
    "collapsed": false,
    "ExecuteTime": {
     "end_time": "2024-01-06T16:29:20.822444400Z",
     "start_time": "2024-01-06T16:29:20.135388700Z"
    }
   },
   "id": "8439d7067bdbb424",
   "execution_count": 175
  }
 ],
 "metadata": {
  "accelerator": "GPU",
  "colab": {
   "gpuType": "T4",
   "provenance": []
  },
  "kernelspec": {
   "name": "python3",
   "language": "python",
   "display_name": "Python 3 (ipykernel)"
  },
  "language_info": {
   "codemirror_mode": {
    "name": "ipython",
    "version": 3
   },
   "file_extension": ".py",
   "mimetype": "text/x-python",
   "name": "python",
   "nbconvert_exporter": "python",
   "pygments_lexer": "ipython3",
   "version": "3.10.12"
  }
 },
 "nbformat": 4,
 "nbformat_minor": 5
}
