{
 "cells": [
  {
   "cell_type": "markdown",
   "metadata": {},
   "source": [
    "# Assignment 1 - Part of Speech Tagging"
   ]
  },
  {
   "cell_type": "markdown",
   "metadata": {},
   "source": [
    "## Dependencies"
   ]
  },
  {
   "cell_type": "code",
   "execution_count": 1,
   "metadata": {
    "ExecuteTime": {
     "end_time": "2023-12-08T15:24:31.190082600Z",
     "start_time": "2023-12-08T15:24:30.971028300Z"
    }
   },
   "outputs": [],
   "source": [
    "# Uncomment this cell to install the required packages in colab\n",
    "\n",
    "# !pip install lightning\n",
    "# !pip install torchtext.data\n",
    "# !pip install torchtext\n",
    "# !pip install torch"
   ]
  },
  {
   "cell_type": "code",
   "execution_count": 2,
   "metadata": {
    "ExecuteTime": {
     "end_time": "2023-12-08T15:24:31.330610300Z",
     "start_time": "2023-12-08T15:24:30.986672500Z"
    }
   },
   "outputs": [
    {
     "name": "stderr",
     "output_type": "stream",
     "text": [
      "d:\\Users\\edo\\envs\\nlp\\Lib\\site-packages\\tqdm\\auto.py:21: TqdmWarning: IProgress not found. Please update jupyter and ipywidgets. See https://ipywidgets.readthedocs.io/en/stable/user_install.html\n",
      "  from .autonotebook import tqdm as notebook_tqdm\n"
     ]
    }
   ],
   "source": [
    "# file management\n",
    "import urllib\n",
    "from pathlib import Path\n",
    "import zipfile\n",
    "import re\n",
    "import os\n",
    "\n",
    "# dataframe management\n",
    "import pandas as pd\n",
    "\n",
    "# data manipulation\n",
    "import numpy as np\n",
    "\n",
    "# for readability\n",
    "from tqdm import tqdm\n",
    "\n",
    "# pytorch\n",
    "import torch\n",
    "from torch import nn\n",
    "from torch.utils.data import Dataset\n",
    "from torch.utils.data import DataLoader\n",
    "\n",
    "# pytorch lightning\n",
    "from lightning import LightningModule\n",
    "from lightning.pytorch import Trainer, seed_everything\n",
    "from lightning.pytorch.loggers import TensorBoardLogger\n",
    "from lightning.pytorch.callbacks import ModelCheckpoint\n",
    "from lightning.pytorch.callbacks.early_stopping import EarlyStopping\n",
    "\n",
    "# Glove and vocabulary\n",
    "from torchtext.vocab import GloVe, build_vocab_from_iterator"
   ]
  },
  {
   "cell_type": "markdown",
   "metadata": {},
   "source": [
    "## TASK 1: Corpus\n",
    "\n",
    "* **Download** the corpus.\n",
    "* **Encode** the corpus into a pandas.DataFrame object.\n",
    "* **Split** it in training, validation, and test sets."
   ]
  },
  {
   "cell_type": "markdown",
   "metadata": {},
   "source": [
    "### Download the corpus"
   ]
  },
  {
   "cell_type": "code",
   "execution_count": 3,
   "metadata": {
    "ExecuteTime": {
     "end_time": "2023-12-08T15:24:31.330610300Z",
     "start_time": "2023-12-08T15:24:31.002689100Z"
    }
   },
   "outputs": [],
   "source": [
    "class DownloadProgressBar(tqdm):\n",
    "    def update_to(self, b=1, bsize=1, tsize=None):\n",
    "        if tsize is not None:\n",
    "            self.total = tsize\n",
    "        self.update(b * bsize - self.n)\n",
    "\n",
    "\n",
    "def download_url(download_path: Path, url: str):\n",
    "    with DownloadProgressBar(unit='B', unit_scale=True,\n",
    "                             miniters=1, desc=url.split('/')[-1]) as t:\n",
    "        urllib.request.urlretrieve(url, filename=download_path, reporthook=t.update_to)\n",
    "\n",
    "\n",
    "def download_dataset(download_path: Path, url: str):\n",
    "    print(\"Downloading dataset...\")\n",
    "    download_url(url=url, download_path=download_path)\n",
    "    print(\"Download complete!\")\n",
    "\n",
    "\n",
    "def extract_dataset(download_path: Path, extract_path: Path):\n",
    "    print(\"Extracting dataset... (it may take a while...)\")\n",
    "    with zipfile.ZipFile(download_path, 'r') as zip_file:\n",
    "        zip_file.extractall(extract_path)\n",
    "\n",
    "    print(\"Extraction completed!\")\n",
    "\n",
    "    Path.unlink(download_path)\n",
    "    print(\"Deleted .zip dataset file\")"
   ]
  },
  {
   "cell_type": "code",
   "execution_count": 4,
   "metadata": {
    "ExecuteTime": {
     "end_time": "2023-12-08T15:24:31.358394200Z",
     "start_time": "2023-12-08T15:24:31.018323300Z"
    }
   },
   "outputs": [
    {
     "name": "stdout",
     "output_type": "stream",
     "text": [
      "Current work directory: c:\\Users\\merli\\OneDrive\\Desktop\\Github repos\\NLP\\A1\n"
     ]
    }
   ],
   "source": [
    "url = \"https://raw.githubusercontent.com/nltk/nltk_data/gh-pages/packages/corpora/dependency_treebank.zip\"\n",
    "dataset_name = \"dependency_treebank\"\n",
    "\n",
    "print(f\"Current work directory: {Path.cwd()}\")\n",
    "\n",
    "dataset_folder = Path.cwd().joinpath(\"Datasets\")\n",
    "\n",
    "if not dataset_folder.exists():\n",
    "    dataset_folder.mkdir(parents=True)\n",
    "\n",
    "dataset_zip_path = dataset_folder.joinpath(\"dependency_treebank.zip\")\n",
    "dataset_path = dataset_folder.joinpath(dataset_name)\n",
    "\n",
    "if not dataset_zip_path.exists():\n",
    "    download_dataset(dataset_zip_path, url)\n",
    "\n",
    "if not dataset_path.exists():\n",
    "    extract_dataset(dataset_zip_path, dataset_folder)\n"
   ]
  },
  {
   "cell_type": "markdown",
   "metadata": {},
   "source": [
    "### Encode the corpus into a pandas.DataFrame object and split it into train, validation and test sets"
   ]
  },
  {
   "cell_type": "markdown",
   "metadata": {},
   "source": [
    "The corpus contains 200 documents.\n",
    "\n",
    "   * **Train**: Documents 1-100\n",
    "   * **Validation**: Documents 101-150\n",
    "   * **Test**: Documents 151-199"
   ]
  },
  {
   "cell_type": "code",
   "execution_count": 5,
   "metadata": {
    "ExecuteTime": {
     "end_time": "2023-12-08T15:24:31.420991200Z",
     "start_time": "2023-12-08T15:24:31.033944600Z"
    }
   },
   "outputs": [],
   "source": [
    "dataframe_rows = []\n",
    "id = 0\n",
    "\n",
    "for i, file_path in enumerate(sorted(dataset_path.iterdir())):\n",
    "    if file_path.is_file():  # split corpus documents in the tree categories: train, validation, tests\n",
    "        if 1 <= i + 1 <= 100:\n",
    "            split = 'train'\n",
    "        elif 101 <= i + 1 <= 150:\n",
    "            split = 'validation'\n",
    "        else:\n",
    "            split = 'test'\n",
    "\n",
    "        with file_path.open(mode='r', encoding='utf-8') as text_file:  # read corpus lines\n",
    "            lines = text_file.readlines()\n",
    "\n",
    "        for line in lines:\n",
    "            fields = line.strip().split('\\t')\n",
    "            if len(fields) == 1:\n",
    "                id = id + 1\n",
    "            if len(fields) >= 2:\n",
    "                text = fields[0]   # store the first field as 'text'\n",
    "                POS = fields[1]    # store the second field as 'POS'\n",
    "                dataframe_row = {  # build DataFrame rows\n",
    "                    \"text\": text,\n",
    "                    \"POS\": POS,\n",
    "                    \"split\": split,\n",
    "                    \"id\": id\n",
    "                }\n",
    "\n",
    "                dataframe_rows.append(dataframe_row)  #append rows\n",
    "# corpus DataFrame\n",
    "corpus_df = pd.DataFrame(dataframe_rows)"
   ]
  },
  {
   "cell_type": "markdown",
   "metadata": {},
   "source": [
    "#### Data inspection"
   ]
  },
  {
   "cell_type": "code",
   "execution_count": 6,
   "metadata": {
    "ExecuteTime": {
     "end_time": "2023-12-08T15:24:31.452685600Z",
     "start_time": "2023-12-08T15:24:31.158832800Z"
    }
   },
   "outputs": [
    {
     "data": {
      "text/html": [
       "<div>\n",
       "<style scoped>\n",
       "    .dataframe tbody tr th:only-of-type {\n",
       "        vertical-align: middle;\n",
       "    }\n",
       "\n",
       "    .dataframe tbody tr th {\n",
       "        vertical-align: top;\n",
       "    }\n",
       "\n",
       "    .dataframe thead th {\n",
       "        text-align: right;\n",
       "    }\n",
       "</style>\n",
       "<table border=\"1\" class=\"dataframe\">\n",
       "  <thead>\n",
       "    <tr style=\"text-align: right;\">\n",
       "      <th></th>\n",
       "      <th>text</th>\n",
       "      <th>POS</th>\n",
       "      <th>split</th>\n",
       "      <th>id</th>\n",
       "    </tr>\n",
       "  </thead>\n",
       "  <tbody>\n",
       "    <tr>\n",
       "      <th>0</th>\n",
       "      <td>Pierre</td>\n",
       "      <td>NNP</td>\n",
       "      <td>train</td>\n",
       "      <td>0</td>\n",
       "    </tr>\n",
       "    <tr>\n",
       "      <th>1</th>\n",
       "      <td>Vinken</td>\n",
       "      <td>NNP</td>\n",
       "      <td>train</td>\n",
       "      <td>0</td>\n",
       "    </tr>\n",
       "    <tr>\n",
       "      <th>2</th>\n",
       "      <td>,</td>\n",
       "      <td>,</td>\n",
       "      <td>train</td>\n",
       "      <td>0</td>\n",
       "    </tr>\n",
       "    <tr>\n",
       "      <th>3</th>\n",
       "      <td>61</td>\n",
       "      <td>CD</td>\n",
       "      <td>train</td>\n",
       "      <td>0</td>\n",
       "    </tr>\n",
       "    <tr>\n",
       "      <th>4</th>\n",
       "      <td>years</td>\n",
       "      <td>NNS</td>\n",
       "      <td>train</td>\n",
       "      <td>0</td>\n",
       "    </tr>\n",
       "    <tr>\n",
       "      <th>5</th>\n",
       "      <td>old</td>\n",
       "      <td>JJ</td>\n",
       "      <td>train</td>\n",
       "      <td>0</td>\n",
       "    </tr>\n",
       "    <tr>\n",
       "      <th>6</th>\n",
       "      <td>,</td>\n",
       "      <td>,</td>\n",
       "      <td>train</td>\n",
       "      <td>0</td>\n",
       "    </tr>\n",
       "    <tr>\n",
       "      <th>7</th>\n",
       "      <td>will</td>\n",
       "      <td>MD</td>\n",
       "      <td>train</td>\n",
       "      <td>0</td>\n",
       "    </tr>\n",
       "    <tr>\n",
       "      <th>8</th>\n",
       "      <td>join</td>\n",
       "      <td>VB</td>\n",
       "      <td>train</td>\n",
       "      <td>0</td>\n",
       "    </tr>\n",
       "    <tr>\n",
       "      <th>9</th>\n",
       "      <td>the</td>\n",
       "      <td>DT</td>\n",
       "      <td>train</td>\n",
       "      <td>0</td>\n",
       "    </tr>\n",
       "  </tbody>\n",
       "</table>\n",
       "</div>"
      ],
      "text/plain": [
       "     text  POS  split  id\n",
       "0  Pierre  NNP  train   0\n",
       "1  Vinken  NNP  train   0\n",
       "2       ,    ,  train   0\n",
       "3      61   CD  train   0\n",
       "4   years  NNS  train   0\n",
       "5     old   JJ  train   0\n",
       "6       ,    ,  train   0\n",
       "7    will   MD  train   0\n",
       "8    join   VB  train   0\n",
       "9     the   DT  train   0"
      ]
     },
     "execution_count": 6,
     "metadata": {},
     "output_type": "execute_result"
    }
   ],
   "source": [
    "corpus_df.head(10)"
   ]
  },
  {
   "cell_type": "code",
   "execution_count": 7,
   "metadata": {
    "ExecuteTime": {
     "end_time": "2023-12-08T15:24:31.452685600Z",
     "start_time": "2023-12-08T15:24:31.174457400Z"
    }
   },
   "outputs": [
    {
     "name": "stdout",
     "output_type": "stream",
     "text": [
      "Dataframe structure:\n",
      "          text  POS  split    id\n",
      "0       Pierre  NNP  train     0\n",
      "1       Vinken  NNP  train     0\n",
      "2            ,    ,  train     0\n",
      "3           61   CD  train     0\n",
      "4        years  NNS  train     0\n",
      "...        ...  ...    ...   ...\n",
      "94079  quarter   NN   test  3715\n",
      "94080       of   IN   test  3715\n",
      "94081     next   JJ   test  3715\n",
      "94082     year   NN   test  3715\n",
      "94083        .    .   test  3715\n",
      "\n",
      "[94084 rows x 4 columns]\n",
      "\n",
      "Total rows 94084\n",
      "\n"
     ]
    }
   ],
   "source": [
    "print(\"Dataframe structure:\")\n",
    "print(corpus_df)\n",
    "print()\n",
    "\n",
    "print(f\"Total rows {len(corpus_df)}\")\n",
    "print()"
   ]
  },
  {
   "cell_type": "code",
   "execution_count": 8,
   "metadata": {
    "ExecuteTime": {
     "end_time": "2023-12-08T15:24:31.452685600Z",
     "start_time": "2023-12-08T15:24:31.196593500Z"
    }
   },
   "outputs": [],
   "source": [
    "# Train, test, validation split\n",
    "df_train = corpus_df[corpus_df['split'] == 'train'].drop(columns=['split'])\n",
    "df_test = corpus_df[corpus_df['split'] == 'test'].drop(columns=['split'])\n",
    "df_val = corpus_df[corpus_df['split'] == 'validation'].drop(columns=['split'])"
   ]
  },
  {
   "cell_type": "markdown",
   "metadata": {},
   "source": [
    "## TASK 2: Text encoding\n",
    "\n",
    "* Embed words using **GloVe embeddings**.\n",
    "* [Optional] You are free to experiment with text pre-processing: **make sure you do not delete any token!**"
   ]
  },
  {
   "cell_type": "code",
   "execution_count": 9,
   "metadata": {
    "ExecuteTime": {
     "end_time": "2023-12-08T15:24:31.452685600Z",
     "start_time": "2023-12-08T15:24:31.221734500Z"
    }
   },
   "outputs": [],
   "source": [
    "def load_embedding_model(embedding_dimension: int = 300):\n",
    "    emb_model = GloVe(name=\"6B\", dim=embedding_dimension)\n",
    "    return emb_model"
   ]
  },
  {
   "cell_type": "code",
   "execution_count": 10,
   "metadata": {
    "ExecuteTime": {
     "end_time": "2023-12-08T15:24:31.452685600Z",
     "start_time": "2023-12-08T15:24:31.237359800Z"
    },
    "collapsed": false
   },
   "outputs": [],
   "source": [
    "# Puntuaction and symbols in the dataset\n",
    "punctuation_and_symbol_pos = [\".\", \",\", \":\", '``', \"''\", \"$\", \"#\", \"-LRB-\", \"-RRB-\", \"SYM\", \"LS\"]  "
   ]
  },
  {
   "cell_type": "markdown",
   "metadata": {},
   "source": [
    "### TASK 4.b: OOV tokens\n",
    "Since GloVe is used as word embedding there could be some words in the training set that does not have a corresponding embedding. To avoid having words in the training set that are considered as OOV we add them to the vocabulary with the corresponding embedding. This one is computed by sampling from a normal distribution with mean and variance equal to the one of the vectors in GloVe"
   ]
  },
  {
   "cell_type": "code",
   "execution_count": 11,
   "metadata": {
    "ExecuteTime": {
     "end_time": "2023-12-08T15:24:31.751172300Z",
     "start_time": "2023-12-08T15:24:31.252984300Z"
    }
   },
   "outputs": [
    {
     "name": "stdout",
     "output_type": "stream",
     "text": [
      "OOV tokens in the training set: 359\n",
      "Some OOV tokens: ['when-issued', 'dollar-yen', 'chilver', 'one-country', 'capital-gains', 'dead-eyed', 'sharedata', '449.04', 'morale-damaging', '382-37', 'sometimes-exhausting', 'hallwood', '4,393,237', 'norwick', 'prize-fighter', 'home-market', 'tarwhine', 'purepac', '497.34', 'twindam', 'higher-salaried', 'non-biodegradable', 'purhasing', 'machine-gun-toting', 'page-one', '95,142', '5\\\\/8', '70-a-share', 'sub-markets', 'sanderoff', 'mortgage-based', 'micronite', 'northy', 'preparatives', 'auto-safety', 'corton-charlemagne', 'cotran', 'delwin', 'market-share', 'asset-sale', 'coche-dury', '90-cent-an-hour', 'rubinfien', 'ariail', 'six-packs', 'subindustry', 'yen-denominated', '352.7', 'weisfield', 'macheski']\n"
     ]
    }
   ],
   "source": [
    "# Find training set OOV tokens\n",
    "embedding_dim = 300\n",
    "embedder = load_embedding_model(embedding_dim)\n",
    "\n",
    "existing_vocab_tokens = set(embedder.itos)  # Tokens in the vocabulary, i.e. present in GloVe\n",
    "train_text = set([word.lower() for word in df_train['text']])\n",
    "\n",
    "train_oov_tokens = train_text - existing_vocab_tokens\n",
    "print(f\"OOV tokens in the training set: {len(train_oov_tokens)}\")\n",
    "print(f\"Some OOV tokens: {list(train_oov_tokens)[:50]}\")"
   ]
  },
  {
   "cell_type": "code",
   "execution_count": 12,
   "metadata": {
    "ExecuteTime": {
     "end_time": "2023-12-08T15:24:49.952897800Z",
     "start_time": "2023-12-08T15:24:31.751172300Z"
    }
   },
   "outputs": [
    {
     "name": "stdout",
     "output_type": "stream",
     "text": [
      "New vocabulary size: 400359\n"
     ]
    }
   ],
   "source": [
    "# Add training set OOV tokens to the GloVe embedder, sampling from a normal distribution centered in the mean of the GloVe embeddings and with the same standard deviation\n",
    "\n",
    "means = torch.mean(embedder.vectors, dim=0)\n",
    "stds = torch.std(embedder.vectors, dim=0)\n",
    "\n",
    "for token in train_oov_tokens:\n",
    "    embedder.itos.append(token)\n",
    "    embedder.stoi[token] = len(embedder.itos) - 1\n",
    "    embedder.vectors = torch.cat((embedder.vectors, torch.normal(means, stds).unsqueeze(dim=0)), dim=0)\n",
    "\n",
    "# For the '[UNK]' token embedding, sample a vector from as done before for the OOV tokens\n",
    "# Mean and std of the GloVe embeddings, for each feature\n",
    "unk_vector = torch.normal(means, stds)\n",
    "\n",
    "# The '[UNK]' token is not really added to the vocabulary (i.e. GloVe)\n",
    "# instead, we redefine the 'unk_init' function of the embedder to return the embedding vector corresponding to '[UNK]'\n",
    "embedder.unk_init = lambda x: unk_vector\n",
    "\n",
    "print(f\"New vocabulary size: {len(embedder.itos)}\")\n",
    "\n",
    "assert len(embedder.itos) == len(embedder.stoi) == embedder.vectors.shape[0]"
   ]
  },
  {
   "cell_type": "markdown",
   "metadata": {},
   "source": [
    "### Embed words using GloVe embeddings"
   ]
  },
  {
   "cell_type": "markdown",
   "metadata": {},
   "source": [
    "For the token to embedding mapping, we decided to use the following approach: the Dataset object takes care of calling the embedder every time it is queried to return a datapoint (\\_\\_getitem\\_\\_ method)"
   ]
  },
  {
   "cell_type": "code",
   "execution_count": 13,
   "metadata": {
    "ExecuteTime": {
     "end_time": "2023-12-08T15:24:50.031059500Z",
     "start_time": "2023-12-08T15:24:49.968893900Z"
    }
   },
   "outputs": [],
   "source": [
    "iterator = ([pos] for pos in corpus_df[\"POS\"].unique())\n",
    "pos_vocab = build_vocab_from_iterator(iterator)\n",
    "pos_vocab.append_token(\"<PAD>\")\n",
    "\n",
    "pos_padding_value = pos_vocab[\"<PAD>\"]\n",
    "punctuation_and_symbol_pos_indices = [pos_vocab[token] for token in punctuation_and_symbol_pos]\n",
    "\n",
    "\n",
    "class CorpusDataset(Dataset):\n",
    "    def __init__(self, dataframe: pd.DataFrame, embedder):\n",
    "        min_id = dataframe['id'].min()\n",
    "        dataframe['id'] = dataframe['id'] - min_id\n",
    "        self.dataframe = dataframe.groupby(\"id\")\n",
    "        self.embedder = embedder\n",
    "\n",
    "    def __len__(self):\n",
    "        return len(self.dataframe)\n",
    "\n",
    "    def __getitem__(self, idx):\n",
    "        sentence = self.dataframe.get_group(idx)\n",
    "        text = sentence['text'].to_list()\n",
    "        text = [token.lower() for token in text]\n",
    "\n",
    "        POS = sentence['POS'].to_list()\n",
    "        POS = torch.Tensor([pos_vocab[token] for token in POS])\n",
    "\n",
    "        embedded_text = self.embedder.get_vecs_by_tokens(text)\n",
    "\n",
    "        return embedded_text, POS\n"
   ]
  },
  {
   "cell_type": "code",
   "execution_count": 14,
   "metadata": {
    "ExecuteTime": {
     "end_time": "2023-12-08T15:24:50.048058800Z",
     "start_time": "2023-12-08T15:24:50.034057800Z"
    }
   },
   "outputs": [],
   "source": [
    "# Definition of the datasets\n",
    "dataset_train = CorpusDataset(df_train, embedder)\n",
    "dataset_test = CorpusDataset(df_test, embedder)\n",
    "dataset_val = CorpusDataset(df_val, embedder)\n",
    "\n",
    "\n",
    "# This collate function takes care of adding padding to the sequences\n",
    "def pad_collate(batch):\n",
    "    sequences, labels = zip(*batch)\n",
    "\n",
    "    sequences_padded = torch.nn.utils.rnn.pad_sequence(sequences, batch_first=True, padding_value=0)\n",
    "    labels_padded = torch.nn.utils.rnn.pad_sequence(labels, batch_first=True, padding_value=pos_padding_value)\n",
    "\n",
    "    sequences_padded = sequences_padded.type(torch.float)\n",
    "    labels_padded = labels_padded.type(torch.long)\n",
    "\n",
    "    return [sequences_padded, labels_padded]\n",
    "\n",
    "batch_size = 64\n",
    "\n",
    "train_loader = DataLoader(dataset_train, batch_size=batch_size, collate_fn=pad_collate)\n",
    "val_loader = DataLoader(dataset_val, batch_size=batch_size, collate_fn=pad_collate)\n",
    "test_loader = DataLoader(dataset_test, batch_size=batch_size, collate_fn=pad_collate)"
   ]
  },
  {
   "cell_type": "markdown",
   "metadata": {},
   "source": [
    "## TASK 4: Metrics\n",
    "\n",
    "* Evaluate models using macro F1-score, computed over **all** tokens.\n",
    "\n",
    "We defined our own macro F1-score metric in order to accumulate FP, TP, FN, TN iteratively"
   ]
  },
  {
   "cell_type": "code",
   "execution_count": 15,
   "metadata": {
    "ExecuteTime": {
     "end_time": "2023-12-08T15:24:50.075229100Z",
     "start_time": "2023-12-08T15:24:50.051057900Z"
    },
    "collapsed": false
   },
   "outputs": [],
   "source": [
    "from torchmetrics import Metric\n",
    "from torchmetrics import ConfusionMatrix\n",
    "\n",
    "\n",
    "class F1ScoreCustom(Metric):\n",
    "    def __init__(self, num_classes: int, pos_padding_value: int = pos_padding_value,\n",
    "                 punctuation_and_symbol_pos_indices: list = punctuation_and_symbol_pos_indices):\n",
    "        super().__init__()\n",
    "\n",
    "        self.num_classes = num_classes\n",
    "        self.mask = torch.ones([num_classes], dtype=torch.bool)\n",
    "        self.mask[[pos_padding_value] + punctuation_and_symbol_pos_indices] = 0\n",
    "\n",
    "        self.add_state(\"true_positive\", default=torch.zeros([num_classes]), dist_reduce_fx=\"sum\")\n",
    "        self.add_state(\"false_negative\", default=torch.zeros([num_classes]), dist_reduce_fx=\"sum\")\n",
    "        self.add_state(\"false_positive\", default=torch.zeros([num_classes]), dist_reduce_fx=\"sum\")\n",
    "\n",
    "    def update(self, y_hat_class: torch.Tensor, y_class: torch.Tensor):\n",
    "        confusion_matrix_metric = ConfusionMatrix(num_classes=self.num_classes, task=\"multiclass\")\n",
    "        confusion_matrix = confusion_matrix_metric(y_hat_class, y_class)\n",
    "\n",
    "        # #  Example of multiclass confusion matrix:\n",
    "        # #  Confusion matrix, TP, FN and FP for class 0 \n",
    "        # #   TRUE LABEL\n",
    "        # #   0               TP     FN     FN     FN     FN       \n",
    "        # #   1               FP       \n",
    "        # #   2               FP               \n",
    "        # #   3               FP                       \n",
    "        # #   4               FP                                \n",
    "        # # PREDICTED LABEL   0       1      2      3      4 \n",
    "\n",
    "        true_positive = torch.Tensor([confusion_matrix[i][i] for i in range(self.num_classes)])\n",
    "        false_negative = torch.Tensor([sum(confusion_matrix[i, :]) - true_positive[i] for i in range(self.num_classes)])\n",
    "        false_positive = torch.Tensor([sum(confusion_matrix[:, i]) - true_positive[i] for i in range(self.num_classes)])\n",
    "\n",
    "        self.true_positive += true_positive\n",
    "        self.false_negative += false_negative\n",
    "        self.false_positive += false_positive\n",
    "\n",
    "    def compute(self):\n",
    "        precision = self.true_positive / (self.true_positive + self.false_positive)\n",
    "        recall = self.true_positive / (self.true_positive + self.false_negative)\n",
    "\n",
    "        f1 = 2 * (precision * recall) / (precision + recall)\n",
    "\n",
    "        return f1[self.mask]\n",
    "\n"
   ]
  },
  {
   "cell_type": "markdown",
   "metadata": {},
   "source": [
    "## TASK 3: Model definition\n",
    "\n",
    "### Instructions\n",
    "\n",
    "* **Baseline**: implement a Bidirectional LSTM with a Dense layer on top.\n",
    "* You are **free** to experiment with hyper-parameters to define the baseline model.\n",
    "\n",
    "* **Model 1**: add an additional LSTM layer to the Baseline model.\n",
    "* **Model 2**: add an additional Dense layer to the Baseline model.\n",
    "\n",
    "* **Do not mix Model 1 and Model 2**. Each model has its own instructions.\n",
    "\n",
    "**Note**: if a document contains many tokens, you are **free** to split them into chunks or sentences to define your mini-batches."
   ]
  },
  {
   "cell_type": "markdown",
   "metadata": {},
   "source": [
    "### Baseline model: Bidirectional LSTM + Dense layer"
   ]
  },
  {
   "cell_type": "code",
   "execution_count": 16,
   "metadata": {
    "ExecuteTime": {
     "end_time": "2023-12-08T15:24:50.078231500Z",
     "start_time": "2023-12-08T15:24:50.068229200Z"
    }
   },
   "outputs": [],
   "source": [
    "class BiLSTMModel(LightningModule):\n",
    "    def __init__(self, input_dim, hidden_dim, output_dim, target_padding_value=pos_padding_value):\n",
    "        super(BiLSTMModel, self).__init__()\n",
    "\n",
    "        self.save_hyperparameters()\n",
    "\n",
    "        self.output_dim = output_dim\n",
    "        self.target_padding_value = target_padding_value\n",
    "\n",
    "        self.lstm = nn.LSTM(input_size=input_dim,\n",
    "                            hidden_size=hidden_dim,\n",
    "                            batch_first=True,\n",
    "                            bidirectional=True)\n",
    "        self.fc = nn.Linear(hidden_dim * 2, output_dim)  # Multiplied by 2 due to the bidirectionality\n",
    "\n",
    "        self._train_f1_metric = F1ScoreCustom(num_classes=output_dim, pos_padding_value=self.target_padding_value)\n",
    "        self._val_f1_metric = F1ScoreCustom(num_classes=output_dim, pos_padding_value=self.target_padding_value)\n",
    "        self._test_f1_metric = F1ScoreCustom(num_classes=output_dim, pos_padding_value=self.target_padding_value)\n",
    "\n",
    "    def forward(self, x):\n",
    "        lstm_out, _ = self.lstm(x)\n",
    "        out = self.fc(lstm_out) \n",
    "        return out\n",
    "\n",
    "    def training_step(self, batch, batch_idx):\n",
    "        x, y = batch\n",
    "        y_hat = self(x)  # (batch_size, seq_length, output_dim)\n",
    "\n",
    "        # Change shape from (batch_size, sequence_len, classes) to be (batch_size, classes, sequence_len) to compute loss function\n",
    "        y_hat = torch.movedim(y_hat, 1, 2)\n",
    "\n",
    "        loss = nn.functional.cross_entropy(y_hat, y, ignore_index=self.target_padding_value)\n",
    "\n",
    "        self.log_dict({'train_loss': loss, 'step': float(self.current_epoch)}, on_epoch=True, prog_bar=True,\n",
    "                      logger=True,\n",
    "                      on_step=False, reduce_fx=\"mean\")\n",
    "\n",
    "        y_hat_class = torch.argmax(y_hat, dim=1)\n",
    "        self._train_f1_metric.update(y_hat_class, y)\n",
    "\n",
    "        return loss\n",
    "\n",
    "    def validation_step(self, batch, batch_idx):\n",
    "        x, y = batch\n",
    "        y_hat = self(x)\n",
    "        y_hat = torch.movedim(y_hat, 1, 2)\n",
    "\n",
    "        loss = nn.functional.cross_entropy(y_hat, y, ignore_index=self.target_padding_value)\n",
    "        self.log_dict({'val_loss': loss, 'step': float(self.current_epoch)}, on_epoch=True, prog_bar=True, logger=True,\n",
    "                      reduce_fx=\"mean\")\n",
    "\n",
    "        y_hat_class = torch.argmax(y_hat, dim=1)\n",
    "        self._val_f1_metric.update(y_hat_class, y)\n",
    "\n",
    "        return loss\n",
    "\n",
    "    def test_step(self, batch, batch_idx):\n",
    "        x, y = batch\n",
    "        y_hat = self(x)\n",
    "        y_hat = torch.movedim(y_hat, 1, 2)\n",
    "        loss = nn.functional.cross_entropy(y_hat, y, ignore_index=self.target_padding_value)\n",
    "\n",
    "        self.log_dict({'test_loss': loss, 'step': float(self.current_epoch)}, on_epoch=True, prog_bar=True, logger=True,\n",
    "                      reduce_fx=\"mean\")\n",
    "\n",
    "        y_hat_class = torch.argmax(y_hat, dim=1)\n",
    "        self._test_f1_metric.update(y_hat_class, y)\n",
    "\n",
    "        return loss\n",
    "\n",
    "    def configure_optimizers(self):\n",
    "        optimizer = torch.optim.Adam(self.parameters(), lr=1e-3)\n",
    "        scheduler = torch.optim.lr_scheduler.ReduceLROnPlateau(optimizer, mode='min', patience=4, verbose=True)\n",
    "        return {\"optimizer\": optimizer, \"lr_scheduler\": scheduler, \"monitor\": \"val_loss\"}\n",
    "\n",
    "    def _compute_f1(self, f1_metric):\n",
    "        mean_f1_score = f1_metric.compute()\n",
    "\n",
    "        # Create a mask that is False for NaNs\n",
    "        mask = torch.isnan(mean_f1_score)\n",
    "\n",
    "        # Invert the mask: True for valid entries, False for NaNs\n",
    "        valid_data = mean_f1_score[~mask]\n",
    "\n",
    "        # Compute the mean of the non-NaN values\n",
    "        mean_value = torch.mean(valid_data)\n",
    "\n",
    "        return mean_value\n",
    "\n",
    "    def on_train_epoch_end(self) -> None:\n",
    "        mean_f1_score = self._compute_f1(self._train_f1_metric)\n",
    "        self.log_dict({\"train_f1\": mean_f1_score, 'step': float(self.current_epoch)}, on_epoch=True, prog_bar=True,\n",
    "                      logger=True)\n",
    "        self._train_f1_metric.reset()\n",
    "\n",
    "    def on_validation_epoch_end(self) -> None:\n",
    "        mean_f1_score = self._compute_f1(self._val_f1_metric)\n",
    "        self.log_dict({\"val_f1\": mean_f1_score, 'step': float(self.current_epoch)}, on_epoch=True, prog_bar=True,\n",
    "                      logger=True)\n",
    "        self._val_f1_metric.reset()\n",
    "\n",
    "    def on_test_epoch_end(self) -> None:\n",
    "        mean_f1_score = self._compute_f1(self._test_f1_metric)\n",
    "        self.log_dict({\"test_f1\": mean_f1_score, 'step': float(self.current_epoch)}, on_epoch=True, prog_bar=True,\n",
    "                      logger=True)\n",
    "        self._test_f1_metric.reset()\n"
   ]
  },
  {
   "cell_type": "markdown",
   "metadata": {},
   "source": [
    "### Model 1: Bidirectional 2-layers LSTM + Dense layer"
   ]
  },
  {
   "cell_type": "code",
   "execution_count": 17,
   "metadata": {
    "ExecuteTime": {
     "end_time": "2023-12-08T15:24:50.117334900Z",
     "start_time": "2023-12-08T15:24:50.097229300Z"
    }
   },
   "outputs": [],
   "source": [
    "class Model1(LightningModule):\n",
    "    def __init__(self, input_dim, hidden_dim, output_dim, target_padding_value=pos_padding_value):\n",
    "        super(Model1, self).__init__()\n",
    "\n",
    "        self.save_hyperparameters()\n",
    "\n",
    "        self.output_dim = output_dim\n",
    "        self.target_padding_value = target_padding_value\n",
    "\n",
    "        self.lstm = nn.LSTM(input_size=input_dim,\n",
    "                            hidden_size=hidden_dim,\n",
    "                            num_layers=2,\n",
    "                            batch_first=True,\n",
    "                            bidirectional=True)\n",
    "        self.fc = nn.Linear(hidden_dim * 2, output_dim)  # Multiplied by 2 due to the bidirectionality\n",
    "\n",
    "        self._train_f1_metric = F1ScoreCustom(num_classes=output_dim, pos_padding_value=self.target_padding_value)\n",
    "        self._val_f1_metric = F1ScoreCustom(num_classes=output_dim, pos_padding_value=self.target_padding_value)\n",
    "        self._test_f1_metric = F1ScoreCustom(num_classes=output_dim, pos_padding_value=self.target_padding_value)\n",
    "\n",
    "    def forward(self, x):\n",
    "        lstm_out, _ = self.lstm(x)\n",
    "        out = self.fc(lstm_out)\n",
    "        return out\n",
    "\n",
    "    def training_step(self, batch, batch_idx):\n",
    "        x, y = batch\n",
    "        y_hat = self(x)\n",
    "\n",
    "        # Change shape from (batchsize, sequence_len, classes) to be (batchsize, classes, sequence_len) to compute loss function\n",
    "        y_hat = torch.movedim(y_hat, 1, 2)\n",
    "        loss = nn.functional.cross_entropy(y_hat, y, ignore_index=self.target_padding_value)\n",
    "\n",
    "        self.log_dict({'train_loss': loss, 'step': float(self.current_epoch)}, on_epoch=True, prog_bar=True,\n",
    "                      logger=True,\n",
    "                      on_step=False, reduce_fx=\"mean\")\n",
    "\n",
    "        y_hat_class = torch.argmax(y_hat, dim=1)\n",
    "        self._train_f1_metric.update(y_hat_class, y)\n",
    "\n",
    "        return loss\n",
    "\n",
    "    def validation_step(self, batch, batch_idx):\n",
    "        x, y = batch\n",
    "        y_hat = self(x)\n",
    "        y_hat = torch.movedim(y_hat, 1, 2)\n",
    "\n",
    "        loss = nn.functional.cross_entropy(y_hat, y, ignore_index=self.target_padding_value)\n",
    "        self.log_dict({'val_loss': loss, 'step': float(self.current_epoch)}, on_epoch=True, prog_bar=True, logger=True,\n",
    "                      reduce_fx=\"mean\")\n",
    "\n",
    "        y_hat_class = torch.argmax(y_hat, dim=1)\n",
    "        self._val_f1_metric.update(y_hat_class, y)\n",
    "\n",
    "        return loss\n",
    "\n",
    "    def test_step(self, batch, batch_idx):\n",
    "        x, y = batch\n",
    "        y_hat = self(x)\n",
    "        y_hat = torch.movedim(y_hat, 1, 2)\n",
    "        loss = nn.functional.cross_entropy(y_hat, y, ignore_index=self.target_padding_value)\n",
    "\n",
    "        self.log_dict({'test_loss': loss, 'step': float(self.current_epoch)}, on_epoch=True, prog_bar=True, logger=True,\n",
    "                      reduce_fx=\"mean\")\n",
    "\n",
    "        y_hat_class = torch.argmax(y_hat, dim=1)\n",
    "        self._test_f1_metric.update(y_hat_class, y)\n",
    "\n",
    "        return loss\n",
    "\n",
    "    def configure_optimizers(self):\n",
    "        optimizer = torch.optim.Adam(self.parameters(), lr=1e-3)\n",
    "        scheduler = torch.optim.lr_scheduler.ReduceLROnPlateau(optimizer, mode='min', patience=4, verbose=True)\n",
    "        return {\"optimizer\": optimizer, \"lr_scheduler\": scheduler, \"monitor\": \"val_loss\"}\n",
    "\n",
    "    def _compute_f1(self, f1_metric):\n",
    "        mean_f1_score = f1_metric.compute()\n",
    "\n",
    "        # Create a mask that is False for NaNs\n",
    "        mask = torch.isnan(mean_f1_score)\n",
    "\n",
    "        # Invert the mask: True for valid entries, False for NaNs\n",
    "        valid_data = mean_f1_score[~mask]\n",
    "\n",
    "        # Compute the mean of the non-NaN values\n",
    "        mean_value = torch.mean(valid_data)\n",
    "\n",
    "        return mean_value\n",
    "\n",
    "    def on_train_epoch_end(self) -> None:\n",
    "        mean_f1_score = self._compute_f1(self._train_f1_metric)\n",
    "        self.log_dict({\"train_f1\": mean_f1_score, 'step': float(self.current_epoch)}, on_epoch=True, prog_bar=True,\n",
    "                      logger=True)\n",
    "        self._train_f1_metric.reset()\n",
    "\n",
    "    def on_validation_epoch_end(self) -> None:\n",
    "        mean_f1_score = self._compute_f1(self._val_f1_metric)\n",
    "        self.log_dict({\"val_f1\": mean_f1_score, 'step': float(self.current_epoch)}, on_epoch=True, prog_bar=True,\n",
    "                      logger=True)\n",
    "        self._val_f1_metric.reset()\n",
    "\n",
    "    def on_test_epoch_end(self) -> None:\n",
    "        mean_f1_score = self._compute_f1(self._test_f1_metric)\n",
    "        self.log_dict({\"test_f1\": mean_f1_score, 'step': float(self.current_epoch)}, on_epoch=True, prog_bar=True,\n",
    "                      logger=True)\n",
    "        self._test_f1_metric.reset()"
   ]
  },
  {
   "cell_type": "markdown",
   "metadata": {},
   "source": [
    "### Model 2: Bidirectional LSTM + 2 Dense layers"
   ]
  },
  {
   "cell_type": "code",
   "execution_count": 18,
   "metadata": {
    "ExecuteTime": {
     "end_time": "2023-12-08T15:24:50.127335Z",
     "start_time": "2023-12-08T15:24:50.115334700Z"
    },
    "collapsed": false
   },
   "outputs": [],
   "source": [
    "class Model2(LightningModule):\n",
    "    def __init__(self, input_dim, hidden_dim, output_dim, fc_size,\n",
    "                 target_padding_value=pos_padding_value):\n",
    "        super(Model2, self).__init__()\n",
    "\n",
    "        self.save_hyperparameters()\n",
    "        \n",
    "        self.output_dim = output_dim\n",
    "        self.target_padding_value = target_padding_value\n",
    "\n",
    "        self.lstm = nn.LSTM(input_size=input_dim,\n",
    "                            hidden_size=hidden_dim,\n",
    "                            num_layers=2,\n",
    "                            batch_first=True,\n",
    "                            bidirectional=True)\n",
    "        self.fc_1 = nn.Linear(hidden_dim * 2, fc_size)  # Multiplied by 2 due to bidirectionality\n",
    "        self.relu = nn.ReLU()\n",
    "        self.fc_2 = nn.Linear(fc_size, output_dim)  \n",
    "\n",
    "        self._train_f1_metric = F1ScoreCustom(num_classes=output_dim, pos_padding_value=self.target_padding_value)\n",
    "        self._val_f1_metric = F1ScoreCustom(num_classes=output_dim, pos_padding_value=self.target_padding_value)\n",
    "        self._test_f1_metric = F1ScoreCustom(num_classes=output_dim, pos_padding_value=self.target_padding_value)\n",
    "\n",
    "    def forward(self, x):\n",
    "        lstm_out, _ = self.lstm(x)\n",
    "        out = self.fc_1(lstm_out)\n",
    "        out = self.relu(out)\n",
    "        out = self.fc_2(out)\n",
    "        return out\n",
    "\n",
    "    def training_step(self, batch, batch_idx):\n",
    "        x, y = batch\n",
    "        y_hat = self(x)\n",
    "\n",
    "        # Change shape from (batch_size, sequence_len, classes) to be (batch_size, classes, sequence_len) to compute loss function\n",
    "        y_hat = torch.movedim(y_hat, 1, 2)\n",
    "        loss = nn.functional.cross_entropy(y_hat, y, ignore_index=self.target_padding_value)\n",
    "\n",
    "        self.log_dict({'train_loss': loss, 'step': float(self.current_epoch)}, on_epoch=True, prog_bar=True,\n",
    "                      logger=True,\n",
    "                      on_step=False, reduce_fx=\"mean\")\n",
    "\n",
    "        y_hat_class = torch.argmax(y_hat, dim=1)\n",
    "        self._train_f1_metric.update(y_hat_class, y)\n",
    "\n",
    "        return loss\n",
    "\n",
    "    def validation_step(self, batch, batch_idx):\n",
    "        x, y = batch\n",
    "        y_hat = self(x)\n",
    "        y_hat = torch.movedim(y_hat, 1, 2)\n",
    "\n",
    "        loss = nn.functional.cross_entropy(y_hat, y, ignore_index=self.target_padding_value)\n",
    "        self.log_dict({'val_loss': loss, 'step': float(self.current_epoch)}, on_epoch=True, prog_bar=True, logger=True,\n",
    "                      reduce_fx=\"mean\")\n",
    "\n",
    "        y_hat_class = torch.argmax(y_hat, dim=1)\n",
    "        self._val_f1_metric.update(y_hat_class, y)\n",
    "\n",
    "        return loss\n",
    "\n",
    "    def test_step(self, batch, batch_idx):\n",
    "        x, y = batch\n",
    "        y_hat = self(x)\n",
    "        y_hat = torch.movedim(y_hat, 1, 2)\n",
    "        loss = nn.functional.cross_entropy(y_hat, y, ignore_index=self.target_padding_value)\n",
    "\n",
    "        self.log_dict({'test_loss': loss, 'step': float(self.current_epoch)}, on_epoch=True, prog_bar=True, logger=True,\n",
    "                      reduce_fx=\"mean\")\n",
    "\n",
    "        y_hat_class = torch.argmax(y_hat, dim=1)\n",
    "        self._test_f1_metric.update(y_hat_class, y)\n",
    "\n",
    "        return loss\n",
    "\n",
    "    def configure_optimizers(self):\n",
    "        optimizer = torch.optim.Adam(self.parameters(), lr=1e-3)\n",
    "        scheduler = torch.optim.lr_scheduler.ReduceLROnPlateau(optimizer, mode='min', patience=4, verbose=True)\n",
    "        return {\"optimizer\": optimizer, \"lr_scheduler\": scheduler, \"monitor\": \"val_loss\"}\n",
    "\n",
    "    def _compute_f1(self, f1_metric):\n",
    "        mean_f1_score = f1_metric.compute()\n",
    "\n",
    "        # Create a mask that is False for NaNs\n",
    "        mask = torch.isnan(mean_f1_score)\n",
    "\n",
    "        # Invert the mask: True for valid entries, False for NaNs\n",
    "        valid_data = mean_f1_score[~mask]\n",
    "\n",
    "        # Compute the mean of the non-NaN values\n",
    "        mean_value = torch.mean(valid_data)\n",
    "\n",
    "        return mean_value\n",
    "\n",
    "    def on_train_epoch_end(self) -> None:\n",
    "        mean_f1_score = self._compute_f1(self._train_f1_metric)\n",
    "        self.log_dict({\"train_f1\": mean_f1_score, 'step': float(self.current_epoch)}, on_epoch=True, prog_bar=True,\n",
    "                      logger=True)\n",
    "        self._train_f1_metric.reset()\n",
    "\n",
    "    def on_validation_epoch_end(self) -> None:\n",
    "        mean_f1_score = self._compute_f1(self._val_f1_metric)\n",
    "        self.log_dict({\"val_f1\": mean_f1_score, 'step': float(self.current_epoch)}, on_epoch=True, prog_bar=True,\n",
    "                      logger=True)\n",
    "        self._val_f1_metric.reset()\n",
    "\n",
    "    def on_test_epoch_end(self) -> None:\n",
    "        mean_f1_score = self._compute_f1(self._test_f1_metric)\n",
    "        self.log_dict({\"test_f1\": mean_f1_score, 'step': float(self.current_epoch)}, on_epoch=True, prog_bar=True,\n",
    "                      logger=True)\n",
    "        self._test_f1_metric.reset()"
   ]
  },
  {
   "cell_type": "markdown",
   "metadata": {},
   "source": [
    "## TASK 5: Training and Evaluation\n",
    "\n",
    "You are now tasked to train and evaluate the Baseline, Model 1, and Model 2."
   ]
  },
  {
   "cell_type": "markdown",
   "metadata": {},
   "source": [
    "### Instructions\n",
    "\n",
    "* Train **all** models on the train set.\n",
    "* Evaluate **all** models on the validation set.\n",
    "* Compute metrics on the validation set.\n",
    "* Pick **at least** three seeds for robust estimation.\n",
    "* Pick the **best** performing model according to the observed validation set performance."
   ]
  },
  {
   "cell_type": "code",
   "execution_count": 19,
   "metadata": {
    "ExecuteTime": {
     "end_time": "2023-12-08T15:24:50.154876300Z",
     "start_time": "2023-12-08T15:24:50.125336Z"
    }
   },
   "outputs": [],
   "source": [
    "# Fix all possible sources of randomness\n",
    "torch.use_deterministic_algorithms(True)\n",
    "\n",
    "torch.backends.cudnn.benchmark = False\n",
    "torch.backends.cudnn.deterministic = True"
   ]
  },
  {
   "cell_type": "markdown",
   "metadata": {},
   "source": [
    "### Training and evaluation\n",
    "Training all models on training set and evalutating on validation set at every epoch s.t. to keep the best model for each model/seed pair. Both cross entropy loss and F1-Score are computed at each evaluation."
   ]
  },
  {
   "cell_type": "code",
   "execution_count": 20,
   "metadata": {
    "ExecuteTime": {
     "end_time": "2023-12-08T15:47:55.392792400Z",
     "start_time": "2023-12-08T15:24:50.145875700Z"
    }
   },
   "outputs": [
    {
     "name": "stderr",
     "output_type": "stream",
     "text": [
      "Seed set to 6\n"
     ]
    },
    {
     "name": "stdout",
     "output_type": "stream",
     "text": [
      "Training model baseline with seed 6...\n"
     ]
    },
    {
     "name": "stderr",
     "output_type": "stream",
     "text": [
      "GPU available: False, used: False\n",
      "TPU available: False, using: 0 TPU cores\n",
      "IPU available: False, using: 0 IPUs\n",
      "HPU available: False, using: 0 HPUs\n",
      "Missing logger folder: c:\\Users\\merli\\OneDrive\\Desktop\\Github repos\\NLP\\A1\\logs\\lightning_logs\\baseline_seed6_emb300\n",
      "\n",
      "  | Name             | Type          | Params\n",
      "---------------------------------------------------\n",
      "0 | lstm             | LSTM          | 440 K \n",
      "1 | fc               | Linear        | 11.8 K\n",
      "2 | _train_f1_metric | F1ScoreCustom | 0     \n",
      "3 | _val_f1_metric   | F1ScoreCustom | 0     \n",
      "4 | _test_f1_metric  | F1ScoreCustom | 0     \n",
      "---------------------------------------------------\n",
      "452 K     Trainable params\n",
      "0         Non-trainable params\n",
      "452 K     Total params\n",
      "1.809     Total estimated model params size (MB)\n"
     ]
    },
    {
     "name": "stdout",
     "output_type": "stream",
     "text": [
      "Sanity Checking:   0%|          | 0/2 [00:00<?, ?it/s]"
     ]
    },
    {
     "name": "stderr",
     "output_type": "stream",
     "text": [
      "d:\\Users\\edo\\envs\\nlp\\Lib\\site-packages\\lightning\\pytorch\\trainer\\connectors\\data_connector.py:441: The 'val_dataloader' does not have many workers which may be a bottleneck. Consider increasing the value of the `num_workers` argument` to `num_workers=7` in the `DataLoader` to improve performance.\n"
     ]
    },
    {
     "name": "stdout",
     "output_type": "stream",
     "text": [
      "                                                                           "
     ]
    },
    {
     "name": "stderr",
     "output_type": "stream",
     "text": [
      "d:\\Users\\edo\\envs\\nlp\\Lib\\site-packages\\lightning\\pytorch\\trainer\\connectors\\data_connector.py:441: The 'train_dataloader' does not have many workers which may be a bottleneck. Consider increasing the value of the `num_workers` argument` to `num_workers=7` in the `DataLoader` to improve performance.\n"
     ]
    },
    {
     "name": "stdout",
     "output_type": "stream",
     "text": [
      "Epoch 0: 100%|██████████| 30/30 [00:26<00:00,  1.12it/s, v_num=0, val_loss=2.380, step=0.000, val_f1=0.346, train_loss=3.020]"
     ]
    },
    {
     "name": "stderr",
     "output_type": "stream",
     "text": [
      "Metric val_loss improved. New best score: 2.379\n"
     ]
    },
    {
     "name": "stdout",
     "output_type": "stream",
     "text": [
      "Epoch 1: 100%|██████████| 30/30 [00:25<00:00,  1.20it/s, v_num=0, val_loss=1.450, step=1.000, val_f1=0.533, train_loss=1.880, train_f1=0.142]"
     ]
    },
    {
     "name": "stderr",
     "output_type": "stream",
     "text": [
      "Metric val_loss improved by 0.932 >= min_delta = 0.0. New best score: 1.447\n"
     ]
    },
    {
     "name": "stdout",
     "output_type": "stream",
     "text": [
      "Epoch 2: 100%|██████████| 30/30 [00:25<00:00,  1.19it/s, v_num=0, val_loss=1.020, step=2.000, val_f1=0.656, train_loss=1.180, train_f1=0.364]"
     ]
    },
    {
     "name": "stderr",
     "output_type": "stream",
     "text": [
      "Metric val_loss improved by 0.428 >= min_delta = 0.0. New best score: 1.019\n"
     ]
    },
    {
     "name": "stdout",
     "output_type": "stream",
     "text": [
      "Epoch 3: 100%|██████████| 30/30 [00:28<00:00,  1.07it/s, v_num=0, val_loss=0.806, step=3.000, val_f1=0.695, train_loss=0.861, train_f1=0.563]"
     ]
    },
    {
     "name": "stderr",
     "output_type": "stream",
     "text": [
      "Metric val_loss improved by 0.213 >= min_delta = 0.0. New best score: 0.806\n"
     ]
    },
    {
     "name": "stdout",
     "output_type": "stream",
     "text": [
      "Epoch 4: 100%|██████████| 30/30 [00:23<00:00,  1.27it/s, v_num=0, val_loss=0.679, step=4.000, val_f1=0.717, train_loss=0.689, train_f1=0.653]"
     ]
    },
    {
     "name": "stderr",
     "output_type": "stream",
     "text": [
      "Metric val_loss improved by 0.127 >= min_delta = 0.0. New best score: 0.679\n"
     ]
    },
    {
     "name": "stdout",
     "output_type": "stream",
     "text": [
      "Epoch 5: 100%|██████████| 30/30 [00:24<00:00,  1.21it/s, v_num=0, val_loss=0.595, step=5.000, val_f1=0.756, train_loss=0.579, train_f1=0.687]"
     ]
    },
    {
     "name": "stderr",
     "output_type": "stream",
     "text": [
      "Metric val_loss improved by 0.084 >= min_delta = 0.0. New best score: 0.595\n"
     ]
    },
    {
     "name": "stdout",
     "output_type": "stream",
     "text": [
      "Epoch 6: 100%|██████████| 30/30 [00:23<00:00,  1.28it/s, v_num=0, val_loss=0.536, step=6.000, val_f1=0.726, train_loss=0.502, train_f1=0.747]"
     ]
    },
    {
     "name": "stderr",
     "output_type": "stream",
     "text": [
      "Metric val_loss improved by 0.059 >= min_delta = 0.0. New best score: 0.536\n"
     ]
    },
    {
     "name": "stdout",
     "output_type": "stream",
     "text": [
      "Epoch 7: 100%|██████████| 30/30 [00:23<00:00,  1.30it/s, v_num=0, val_loss=0.493, step=7.000, val_f1=0.743, train_loss=0.444, train_f1=0.719]"
     ]
    },
    {
     "name": "stderr",
     "output_type": "stream",
     "text": [
      "Metric val_loss improved by 0.043 >= min_delta = 0.0. New best score: 0.493\n"
     ]
    },
    {
     "name": "stdout",
     "output_type": "stream",
     "text": [
      "Epoch 8: 100%|██████████| 30/30 [00:25<00:00,  1.16it/s, v_num=0, val_loss=0.461, step=8.000, val_f1=0.763, train_loss=0.398, train_f1=0.743]"
     ]
    },
    {
     "name": "stderr",
     "output_type": "stream",
     "text": [
      "Metric val_loss improved by 0.032 >= min_delta = 0.0. New best score: 0.461\n"
     ]
    },
    {
     "name": "stdout",
     "output_type": "stream",
     "text": [
      "Epoch 9: 100%|██████████| 30/30 [00:25<00:00,  1.15it/s, v_num=0, val_loss=0.437, step=9.000, val_f1=0.782, train_loss=0.361, train_f1=0.751]"
     ]
    },
    {
     "name": "stderr",
     "output_type": "stream",
     "text": [
      "Metric val_loss improved by 0.025 >= min_delta = 0.0. New best score: 0.437\n"
     ]
    },
    {
     "name": "stdout",
     "output_type": "stream",
     "text": [
      "Epoch 10: 100%|██████████| 30/30 [00:23<00:00,  1.30it/s, v_num=0, val_loss=0.417, step=10.00, val_f1=0.792, train_loss=0.329, train_f1=0.775]"
     ]
    },
    {
     "name": "stderr",
     "output_type": "stream",
     "text": [
      "Metric val_loss improved by 0.020 >= min_delta = 0.0. New best score: 0.417\n"
     ]
    },
    {
     "name": "stdout",
     "output_type": "stream",
     "text": [
      "Epoch 11: 100%|██████████| 30/30 [00:24<00:00,  1.25it/s, v_num=0, val_loss=0.401, step=11.00, val_f1=0.798, train_loss=0.301, train_f1=0.792]"
     ]
    },
    {
     "name": "stderr",
     "output_type": "stream",
     "text": [
      "Metric val_loss improved by 0.016 >= min_delta = 0.0. New best score: 0.401\n"
     ]
    },
    {
     "name": "stdout",
     "output_type": "stream",
     "text": [
      "Epoch 12: 100%|██████████| 30/30 [00:24<00:00,  1.21it/s, v_num=0, val_loss=0.388, step=12.00, val_f1=0.793, train_loss=0.276, train_f1=0.812]"
     ]
    },
    {
     "name": "stderr",
     "output_type": "stream",
     "text": [
      "Metric val_loss improved by 0.013 >= min_delta = 0.0. New best score: 0.388\n"
     ]
    },
    {
     "name": "stdout",
     "output_type": "stream",
     "text": [
      "Epoch 13: 100%|██████████| 30/30 [00:23<00:00,  1.28it/s, v_num=0, val_loss=0.377, step=13.00, val_f1=0.798, train_loss=0.253, train_f1=0.800]"
     ]
    },
    {
     "name": "stderr",
     "output_type": "stream",
     "text": [
      "Metric val_loss improved by 0.011 >= min_delta = 0.0. New best score: 0.377\n"
     ]
    },
    {
     "name": "stdout",
     "output_type": "stream",
     "text": [
      "Epoch 14: 100%|██████████| 30/30 [00:24<00:00,  1.21it/s, v_num=0, val_loss=0.367, step=14.00, val_f1=0.781, train_loss=0.232, train_f1=0.824]"
     ]
    },
    {
     "name": "stderr",
     "output_type": "stream",
     "text": [
      "Metric val_loss improved by 0.009 >= min_delta = 0.0. New best score: 0.367\n"
     ]
    },
    {
     "name": "stdout",
     "output_type": "stream",
     "text": [
      "Epoch 15: 100%|██████████| 30/30 [00:23<00:00,  1.29it/s, v_num=0, val_loss=0.360, step=15.00, val_f1=0.784, train_loss=0.213, train_f1=0.836]"
     ]
    },
    {
     "name": "stderr",
     "output_type": "stream",
     "text": [
      "Metric val_loss improved by 0.008 >= min_delta = 0.0. New best score: 0.360\n"
     ]
    },
    {
     "name": "stdout",
     "output_type": "stream",
     "text": [
      "Epoch 16: 100%|██████████| 30/30 [00:23<00:00,  1.30it/s, v_num=0, val_loss=0.354, step=16.00, val_f1=0.786, train_loss=0.196, train_f1=0.843]"
     ]
    },
    {
     "name": "stderr",
     "output_type": "stream",
     "text": [
      "Metric val_loss improved by 0.006 >= min_delta = 0.0. New best score: 0.354\n"
     ]
    },
    {
     "name": "stdout",
     "output_type": "stream",
     "text": [
      "Epoch 17: 100%|██████████| 30/30 [00:24<00:00,  1.21it/s, v_num=0, val_loss=0.349, step=17.00, val_f1=0.788, train_loss=0.180, train_f1=0.832]"
     ]
    },
    {
     "name": "stderr",
     "output_type": "stream",
     "text": [
      "Metric val_loss improved by 0.004 >= min_delta = 0.0. New best score: 0.349\n"
     ]
    },
    {
     "name": "stdout",
     "output_type": "stream",
     "text": [
      "Epoch 18: 100%|██████████| 30/30 [23:57<00:00,  0.02it/s, v_num=0, val_loss=0.347, step=18.00, val_f1=0.781, train_loss=0.165, train_f1=0.856]"
     ]
    },
    {
     "name": "stderr",
     "output_type": "stream",
     "text": [
      "Metric val_loss improved by 0.002 >= min_delta = 0.0. New best score: 0.347\n"
     ]
    },
    {
     "name": "stdout",
     "output_type": "stream",
     "text": [
      "Epoch 20: 100%|██████████| 30/30 [00:30<00:00,  0.99it/s, v_num=0, val_loss=0.340, step=20.00, val_f1=0.796, train_loss=0.140, train_f1=0.874]"
     ]
    },
    {
     "name": "stderr",
     "output_type": "stream",
     "text": [
      "Metric val_loss improved by 0.007 >= min_delta = 0.0. New best score: 0.340\n"
     ]
    },
    {
     "name": "stdout",
     "output_type": "stream",
     "text": [
      "Epoch 22: 100%|██████████| 30/30 [00:29<00:00,  1.00it/s, v_num=0, val_loss=0.332, step=22.00, val_f1=0.797, train_loss=0.126, train_f1=0.887]"
     ]
    },
    {
     "name": "stderr",
     "output_type": "stream",
     "text": [
      "Metric val_loss improved by 0.008 >= min_delta = 0.0. New best score: 0.332\n"
     ]
    },
    {
     "name": "stdout",
     "output_type": "stream",
     "text": [
      "Epoch 23: 100%|██████████| 30/30 [00:33<00:00,  0.91it/s, v_num=0, val_loss=0.331, step=23.00, val_f1=0.803, train_loss=0.113, train_f1=0.890]"
     ]
    },
    {
     "name": "stderr",
     "output_type": "stream",
     "text": [
      "Metric val_loss improved by 0.001 >= min_delta = 0.0. New best score: 0.331\n"
     ]
    },
    {
     "name": "stdout",
     "output_type": "stream",
     "text": [
      "Epoch 28: 100%|██████████| 30/30 [00:30<00:00,  0.99it/s, v_num=0, val_loss=0.344, step=28.00, val_f1=0.821, train_loss=0.0859, train_f1=0.911]Epoch 00029: reducing learning rate of group 0 to 1.0000e-04.\n",
      "Epoch 29: 100%|██████████| 30/30 [00:36<00:00,  0.82it/s, v_num=0, val_loss=0.322, step=29.00, val_f1=0.785, train_loss=0.0706, train_f1=0.886]"
     ]
    },
    {
     "name": "stderr",
     "output_type": "stream",
     "text": [
      "Metric val_loss improved by 0.009 >= min_delta = 0.0. New best score: 0.322\n"
     ]
    },
    {
     "name": "stdout",
     "output_type": "stream",
     "text": [
      "Epoch 30: 100%|██████████| 30/30 [00:33<00:00,  0.89it/s, v_num=0, val_loss=0.321, step=30.00, val_f1=0.789, train_loss=0.0643, train_f1=0.905]"
     ]
    },
    {
     "name": "stderr",
     "output_type": "stream",
     "text": [
      "Metric val_loss improved by 0.001 >= min_delta = 0.0. New best score: 0.321\n"
     ]
    },
    {
     "name": "stdout",
     "output_type": "stream",
     "text": [
      "Epoch 31: 100%|██████████| 30/30 [00:32<00:00,  0.93it/s, v_num=0, val_loss=0.321, step=31.00, val_f1=0.787, train_loss=0.0628, train_f1=0.902]"
     ]
    },
    {
     "name": "stderr",
     "output_type": "stream",
     "text": [
      "Metric val_loss improved by 0.000 >= min_delta = 0.0. New best score: 0.321\n"
     ]
    },
    {
     "name": "stdout",
     "output_type": "stream",
     "text": [
      "Epoch 36: 100%|██████████| 30/30 [00:34<00:00,  0.87it/s, v_num=0, val_loss=0.322, step=36.00, val_f1=0.784, train_loss=0.0581, train_f1=0.900]Epoch 00037: reducing learning rate of group 0 to 1.0000e-05.\n",
      "Epoch 37: 100%|██████████| 30/30 [00:32<00:00,  0.92it/s, v_num=0, val_loss=0.321, step=37.00, val_f1=0.785, train_loss=0.0571, train_f1=0.900]"
     ]
    },
    {
     "name": "stderr",
     "output_type": "stream",
     "text": [
      "Monitored metric val_loss did not improve in the last 6 records. Best score: 0.321. Signaling Trainer to stop.\n"
     ]
    },
    {
     "name": "stdout",
     "output_type": "stream",
     "text": [
      "Epoch 37: 100%|██████████| 30/30 [00:32<00:00,  0.92it/s, v_num=0, val_loss=0.321, step=37.00, val_f1=0.785, train_loss=0.0571, train_f1=0.900]"
     ]
    },
    {
     "name": "stderr",
     "output_type": "stream",
     "text": [
      "Seed set to 90\n",
      "GPU available: False, used: False\n"
     ]
    },
    {
     "name": "stdout",
     "output_type": "stream",
     "text": [
      "\n",
      "Training model baseline with seed 90...\n"
     ]
    },
    {
     "name": "stderr",
     "output_type": "stream",
     "text": [
      "TPU available: False, using: 0 TPU cores\n",
      "IPU available: False, using: 0 IPUs\n",
      "HPU available: False, using: 0 HPUs\n",
      "Missing logger folder: c:\\Users\\merli\\OneDrive\\Desktop\\Github repos\\NLP\\A1\\logs\\lightning_logs\\baseline_seed90_emb300\n",
      "\n",
      "  | Name             | Type          | Params\n",
      "---------------------------------------------------\n",
      "0 | lstm             | LSTM          | 440 K \n",
      "1 | fc               | Linear        | 11.8 K\n",
      "2 | _train_f1_metric | F1ScoreCustom | 0     \n",
      "3 | _val_f1_metric   | F1ScoreCustom | 0     \n",
      "4 | _test_f1_metric  | F1ScoreCustom | 0     \n",
      "---------------------------------------------------\n",
      "452 K     Trainable params\n",
      "0         Non-trainable params\n",
      "452 K     Total params\n",
      "1.809     Total estimated model params size (MB)\n"
     ]
    },
    {
     "name": "stdout",
     "output_type": "stream",
     "text": [
      "Epoch 0: 100%|██████████| 30/30 [00:29<00:00,  1.01it/s, v_num=0, val_loss=2.400, step=0.000, val_f1=0.330, train_loss=3.030]"
     ]
    },
    {
     "name": "stderr",
     "output_type": "stream",
     "text": [
      "Metric val_loss improved. New best score: 2.395\n"
     ]
    },
    {
     "name": "stdout",
     "output_type": "stream",
     "text": [
      "Epoch 1: 100%|██████████| 30/30 [00:29<00:00,  1.00it/s, v_num=0, val_loss=1.440, step=1.000, val_f1=0.564, train_loss=1.890, train_f1=0.103]"
     ]
    },
    {
     "name": "stderr",
     "output_type": "stream",
     "text": [
      "Metric val_loss improved by 0.951 >= min_delta = 0.0. New best score: 1.444\n"
     ]
    },
    {
     "name": "stdout",
     "output_type": "stream",
     "text": [
      "Epoch 2: 100%|██████████| 30/30 [00:32<00:00,  0.93it/s, v_num=0, val_loss=1.010, step=2.000, val_f1=0.652, train_loss=1.170, train_f1=0.396]"
     ]
    },
    {
     "name": "stderr",
     "output_type": "stream",
     "text": [
      "Metric val_loss improved by 0.437 >= min_delta = 0.0. New best score: 1.007\n"
     ]
    },
    {
     "name": "stdout",
     "output_type": "stream",
     "text": [
      "Epoch 3: 100%|██████████| 30/30 [00:29<00:00,  1.01it/s, v_num=0, val_loss=0.798, step=3.000, val_f1=0.710, train_loss=0.852, train_f1=0.568]"
     ]
    },
    {
     "name": "stderr",
     "output_type": "stream",
     "text": [
      "Metric val_loss improved by 0.209 >= min_delta = 0.0. New best score: 0.798\n"
     ]
    },
    {
     "name": "stdout",
     "output_type": "stream",
     "text": [
      "Epoch 4: 100%|██████████| 30/30 [00:29<00:00,  1.03it/s, v_num=0, val_loss=0.674, step=4.000, val_f1=0.722, train_loss=0.683, train_f1=0.674]"
     ]
    },
    {
     "name": "stderr",
     "output_type": "stream",
     "text": [
      "Metric val_loss improved by 0.124 >= min_delta = 0.0. New best score: 0.674\n"
     ]
    },
    {
     "name": "stdout",
     "output_type": "stream",
     "text": [
      "Epoch 5: 100%|██████████| 30/30 [00:29<00:00,  1.02it/s, v_num=0, val_loss=0.592, step=5.000, val_f1=0.757, train_loss=0.575, train_f1=0.682]"
     ]
    },
    {
     "name": "stderr",
     "output_type": "stream",
     "text": [
      "Metric val_loss improved by 0.083 >= min_delta = 0.0. New best score: 0.592\n"
     ]
    },
    {
     "name": "stdout",
     "output_type": "stream",
     "text": [
      "Epoch 6: 100%|██████████| 30/30 [00:36<00:00,  0.83it/s, v_num=0, val_loss=0.534, step=6.000, val_f1=0.715, train_loss=0.498, train_f1=0.752]"
     ]
    },
    {
     "name": "stderr",
     "output_type": "stream",
     "text": [
      "Metric val_loss improved by 0.057 >= min_delta = 0.0. New best score: 0.534\n"
     ]
    },
    {
     "name": "stdout",
     "output_type": "stream",
     "text": [
      "Epoch 7: 100%|██████████| 30/30 [00:33<00:00,  0.90it/s, v_num=0, val_loss=0.493, step=7.000, val_f1=0.739, train_loss=0.440, train_f1=0.712]"
     ]
    },
    {
     "name": "stderr",
     "output_type": "stream",
     "text": [
      "Metric val_loss improved by 0.041 >= min_delta = 0.0. New best score: 0.493\n"
     ]
    },
    {
     "name": "stdout",
     "output_type": "stream",
     "text": [
      "Epoch 8: 100%|██████████| 30/30 [00:33<00:00,  0.90it/s, v_num=0, val_loss=0.462, step=8.000, val_f1=0.765, train_loss=0.395, train_f1=0.740]"
     ]
    },
    {
     "name": "stderr",
     "output_type": "stream",
     "text": [
      "Metric val_loss improved by 0.031 >= min_delta = 0.0. New best score: 0.462\n"
     ]
    },
    {
     "name": "stdout",
     "output_type": "stream",
     "text": [
      "Epoch 9: 100%|██████████| 30/30 [00:33<00:00,  0.90it/s, v_num=0, val_loss=0.437, step=9.000, val_f1=0.784, train_loss=0.357, train_f1=0.782]"
     ]
    },
    {
     "name": "stderr",
     "output_type": "stream",
     "text": [
      "Metric val_loss improved by 0.025 >= min_delta = 0.0. New best score: 0.437\n"
     ]
    },
    {
     "name": "stdout",
     "output_type": "stream",
     "text": [
      "Epoch 10: 100%|██████████| 30/30 [00:32<00:00,  0.92it/s, v_num=0, val_loss=0.417, step=10.00, val_f1=0.794, train_loss=0.325, train_f1=0.779]"
     ]
    },
    {
     "name": "stderr",
     "output_type": "stream",
     "text": [
      "Metric val_loss improved by 0.020 >= min_delta = 0.0. New best score: 0.417\n"
     ]
    },
    {
     "name": "stdout",
     "output_type": "stream",
     "text": [
      "Epoch 11: 100%|██████████| 30/30 [00:29<00:00,  1.02it/s, v_num=0, val_loss=0.401, step=11.00, val_f1=0.781, train_loss=0.297, train_f1=0.774]"
     ]
    },
    {
     "name": "stderr",
     "output_type": "stream",
     "text": [
      "Metric val_loss improved by 0.016 >= min_delta = 0.0. New best score: 0.401\n"
     ]
    },
    {
     "name": "stdout",
     "output_type": "stream",
     "text": [
      "Epoch 12: 100%|██████████| 30/30 [00:29<00:00,  1.01it/s, v_num=0, val_loss=0.388, step=12.00, val_f1=0.789, train_loss=0.272, train_f1=0.785]"
     ]
    },
    {
     "name": "stderr",
     "output_type": "stream",
     "text": [
      "Metric val_loss improved by 0.013 >= min_delta = 0.0. New best score: 0.388\n"
     ]
    },
    {
     "name": "stdout",
     "output_type": "stream",
     "text": [
      "Epoch 13: 100%|██████████| 30/30 [00:33<00:00,  0.89it/s, v_num=0, val_loss=0.377, step=13.00, val_f1=0.798, train_loss=0.250, train_f1=0.801]"
     ]
    },
    {
     "name": "stderr",
     "output_type": "stream",
     "text": [
      "Metric val_loss improved by 0.011 >= min_delta = 0.0. New best score: 0.377\n"
     ]
    },
    {
     "name": "stdout",
     "output_type": "stream",
     "text": [
      "Epoch 14: 100%|██████████| 30/30 [00:32<00:00,  0.93it/s, v_num=0, val_loss=0.368, step=14.00, val_f1=0.781, train_loss=0.230, train_f1=0.819]"
     ]
    },
    {
     "name": "stderr",
     "output_type": "stream",
     "text": [
      "Metric val_loss improved by 0.009 >= min_delta = 0.0. New best score: 0.368\n"
     ]
    },
    {
     "name": "stdout",
     "output_type": "stream",
     "text": [
      "Epoch 15: 100%|██████████| 30/30 [00:33<00:00,  0.91it/s, v_num=0, val_loss=0.360, step=15.00, val_f1=0.786, train_loss=0.211, train_f1=0.828]"
     ]
    },
    {
     "name": "stderr",
     "output_type": "stream",
     "text": [
      "Metric val_loss improved by 0.008 >= min_delta = 0.0. New best score: 0.360\n"
     ]
    },
    {
     "name": "stdout",
     "output_type": "stream",
     "text": [
      "Epoch 16: 100%|██████████| 30/30 [00:31<00:00,  0.96it/s, v_num=0, val_loss=0.354, step=16.00, val_f1=0.786, train_loss=0.193, train_f1=0.837]"
     ]
    },
    {
     "name": "stderr",
     "output_type": "stream",
     "text": [
      "Metric val_loss improved by 0.006 >= min_delta = 0.0. New best score: 0.354\n"
     ]
    },
    {
     "name": "stdout",
     "output_type": "stream",
     "text": [
      "Epoch 17: 100%|██████████| 30/30 [00:30<00:00,  0.98it/s, v_num=0, val_loss=0.349, step=17.00, val_f1=0.786, train_loss=0.177, train_f1=0.850]"
     ]
    },
    {
     "name": "stderr",
     "output_type": "stream",
     "text": [
      "Metric val_loss improved by 0.005 >= min_delta = 0.0. New best score: 0.349\n"
     ]
    },
    {
     "name": "stdout",
     "output_type": "stream",
     "text": [
      "Epoch 18: 100%|██████████| 30/30 [00:30<00:00,  0.98it/s, v_num=0, val_loss=0.344, step=18.00, val_f1=0.786, train_loss=0.162, train_f1=0.855]"
     ]
    },
    {
     "name": "stderr",
     "output_type": "stream",
     "text": [
      "Metric val_loss improved by 0.004 >= min_delta = 0.0. New best score: 0.344\n"
     ]
    },
    {
     "name": "stdout",
     "output_type": "stream",
     "text": [
      "Epoch 19: 100%|██████████| 30/30 [00:30<00:00,  0.99it/s, v_num=0, val_loss=0.340, step=19.00, val_f1=0.788, train_loss=0.148, train_f1=0.860]"
     ]
    },
    {
     "name": "stderr",
     "output_type": "stream",
     "text": [
      "Metric val_loss improved by 0.004 >= min_delta = 0.0. New best score: 0.340\n"
     ]
    },
    {
     "name": "stdout",
     "output_type": "stream",
     "text": [
      "Epoch 20: 100%|██████████| 30/30 [00:31<00:00,  0.96it/s, v_num=0, val_loss=0.337, step=20.00, val_f1=0.792, train_loss=0.135, train_f1=0.845]"
     ]
    },
    {
     "name": "stderr",
     "output_type": "stream",
     "text": [
      "Metric val_loss improved by 0.004 >= min_delta = 0.0. New best score: 0.337\n"
     ]
    },
    {
     "name": "stdout",
     "output_type": "stream",
     "text": [
      "Epoch 23: 100%|██████████| 30/30 [00:29<00:00,  1.00it/s, v_num=0, val_loss=0.334, step=23.00, val_f1=0.799, train_loss=0.118, train_f1=0.873]"
     ]
    },
    {
     "name": "stderr",
     "output_type": "stream",
     "text": [
      "Metric val_loss improved by 0.003 >= min_delta = 0.0. New best score: 0.334\n"
     ]
    },
    {
     "name": "stdout",
     "output_type": "stream",
     "text": [
      "Epoch 28: 100%|██████████| 30/30 [00:29<00:00,  1.00it/s, v_num=0, val_loss=0.340, step=28.00, val_f1=0.784, train_loss=0.0696, train_f1=0.880]Epoch 00029: reducing learning rate of group 0 to 1.0000e-04.\n",
      "Epoch 29: 100%|██████████| 30/30 [00:29<00:00,  1.03it/s, v_num=0, val_loss=0.326, step=29.00, val_f1=0.779, train_loss=0.0616, train_f1=0.883]"
     ]
    },
    {
     "name": "stderr",
     "output_type": "stream",
     "text": [
      "Metric val_loss improved by 0.008 >= min_delta = 0.0. New best score: 0.326\n"
     ]
    },
    {
     "name": "stdout",
     "output_type": "stream",
     "text": [
      "Epoch 30: 100%|██████████| 30/30 [00:30<00:00,  0.98it/s, v_num=0, val_loss=0.326, step=30.00, val_f1=0.777, train_loss=0.0592, train_f1=0.883]"
     ]
    },
    {
     "name": "stderr",
     "output_type": "stream",
     "text": [
      "Metric val_loss improved by 0.000 >= min_delta = 0.0. New best score: 0.326\n"
     ]
    },
    {
     "name": "stdout",
     "output_type": "stream",
     "text": [
      "Epoch 35: 100%|██████████| 30/30 [00:29<00:00,  1.01it/s, v_num=0, val_loss=0.327, step=35.00, val_f1=0.784, train_loss=0.0553, train_f1=0.893]Epoch 00036: reducing learning rate of group 0 to 1.0000e-05.\n",
      "Epoch 36: 100%|██████████| 30/30 [00:30<00:00,  0.98it/s, v_num=0, val_loss=0.327, step=36.00, val_f1=0.785, train_loss=0.0545, train_f1=0.893]"
     ]
    },
    {
     "name": "stderr",
     "output_type": "stream",
     "text": [
      "Monitored metric val_loss did not improve in the last 6 records. Best score: 0.326. Signaling Trainer to stop.\n"
     ]
    },
    {
     "name": "stdout",
     "output_type": "stream",
     "text": [
      "Epoch 36: 100%|██████████| 30/30 [00:30<00:00,  0.98it/s, v_num=0, val_loss=0.327, step=36.00, val_f1=0.785, train_loss=0.0545, train_f1=0.893]"
     ]
    },
    {
     "name": "stderr",
     "output_type": "stream",
     "text": [
      "Seed set to 157\n"
     ]
    },
    {
     "name": "stdout",
     "output_type": "stream",
     "text": [
      "\n",
      "Training model baseline with seed 157...\n"
     ]
    },
    {
     "name": "stderr",
     "output_type": "stream",
     "text": [
      "GPU available: False, used: False\n",
      "TPU available: False, using: 0 TPU cores\n",
      "IPU available: False, using: 0 IPUs\n",
      "HPU available: False, using: 0 HPUs\n",
      "Missing logger folder: c:\\Users\\merli\\OneDrive\\Desktop\\Github repos\\NLP\\A1\\logs\\lightning_logs\\baseline_seed157_emb300\n",
      "\n",
      "  | Name             | Type          | Params\n",
      "---------------------------------------------------\n",
      "0 | lstm             | LSTM          | 440 K \n",
      "1 | fc               | Linear        | 11.8 K\n",
      "2 | _train_f1_metric | F1ScoreCustom | 0     \n",
      "3 | _val_f1_metric   | F1ScoreCustom | 0     \n",
      "4 | _test_f1_metric  | F1ScoreCustom | 0     \n",
      "---------------------------------------------------\n",
      "452 K     Trainable params\n",
      "0         Non-trainable params\n",
      "452 K     Total params\n",
      "1.809     Total estimated model params size (MB)\n"
     ]
    },
    {
     "name": "stdout",
     "output_type": "stream",
     "text": [
      "Epoch 0: 100%|██████████| 30/30 [00:31<00:00,  0.96it/s, v_num=0, val_loss=2.440, step=0.000, val_f1=0.355, train_loss=3.050]"
     ]
    },
    {
     "name": "stderr",
     "output_type": "stream",
     "text": [
      "Metric val_loss improved. New best score: 2.439\n"
     ]
    },
    {
     "name": "stdout",
     "output_type": "stream",
     "text": [
      "Epoch 1: 100%|██████████| 30/30 [00:29<00:00,  1.01it/s, v_num=0, val_loss=1.480, step=1.000, val_f1=0.525, train_loss=1.950, train_f1=0.123]"
     ]
    },
    {
     "name": "stderr",
     "output_type": "stream",
     "text": [
      "Metric val_loss improved by 0.956 >= min_delta = 0.0. New best score: 1.484\n"
     ]
    },
    {
     "name": "stdout",
     "output_type": "stream",
     "text": [
      "Epoch 2: 100%|██████████| 30/30 [00:29<00:00,  1.02it/s, v_num=0, val_loss=1.020, step=2.000, val_f1=0.660, train_loss=1.190, train_f1=0.383]"
     ]
    },
    {
     "name": "stderr",
     "output_type": "stream",
     "text": [
      "Metric val_loss improved by 0.467 >= min_delta = 0.0. New best score: 1.017\n"
     ]
    },
    {
     "name": "stdout",
     "output_type": "stream",
     "text": [
      "Epoch 3: 100%|██████████| 30/30 [00:29<00:00,  1.01it/s, v_num=0, val_loss=0.801, step=3.000, val_f1=0.647, train_loss=0.856, train_f1=0.563]"
     ]
    },
    {
     "name": "stderr",
     "output_type": "stream",
     "text": [
      "Metric val_loss improved by 0.216 >= min_delta = 0.0. New best score: 0.801\n"
     ]
    },
    {
     "name": "stdout",
     "output_type": "stream",
     "text": [
      "Epoch 4: 100%|██████████| 30/30 [00:29<00:00,  1.02it/s, v_num=0, val_loss=0.676, step=4.000, val_f1=0.719, train_loss=0.684, train_f1=0.643]"
     ]
    },
    {
     "name": "stderr",
     "output_type": "stream",
     "text": [
      "Metric val_loss improved by 0.125 >= min_delta = 0.0. New best score: 0.676\n"
     ]
    },
    {
     "name": "stdout",
     "output_type": "stream",
     "text": [
      "Epoch 5: 100%|██████████| 30/30 [00:31<00:00,  0.96it/s, v_num=0, val_loss=0.592, step=5.000, val_f1=0.725, train_loss=0.576, train_f1=0.682]"
     ]
    },
    {
     "name": "stderr",
     "output_type": "stream",
     "text": [
      "Metric val_loss improved by 0.083 >= min_delta = 0.0. New best score: 0.592\n"
     ]
    },
    {
     "name": "stdout",
     "output_type": "stream",
     "text": [
      "Epoch 6: 100%|██████████| 30/30 [00:30<00:00,  1.00it/s, v_num=0, val_loss=0.534, step=6.000, val_f1=0.700, train_loss=0.500, train_f1=0.721]"
     ]
    },
    {
     "name": "stderr",
     "output_type": "stream",
     "text": [
      "Metric val_loss improved by 0.058 >= min_delta = 0.0. New best score: 0.534\n"
     ]
    },
    {
     "name": "stdout",
     "output_type": "stream",
     "text": [
      "Epoch 7: 100%|██████████| 30/30 [00:29<00:00,  1.01it/s, v_num=0, val_loss=0.493, step=7.000, val_f1=0.741, train_loss=0.442, train_f1=0.721]"
     ]
    },
    {
     "name": "stderr",
     "output_type": "stream",
     "text": [
      "Metric val_loss improved by 0.042 >= min_delta = 0.0. New best score: 0.493\n"
     ]
    },
    {
     "name": "stdout",
     "output_type": "stream",
     "text": [
      "Epoch 8: 100%|██████████| 30/30 [00:30<00:00,  0.99it/s, v_num=0, val_loss=0.462, step=8.000, val_f1=0.771, train_loss=0.397, train_f1=0.748]"
     ]
    },
    {
     "name": "stderr",
     "output_type": "stream",
     "text": [
      "Metric val_loss improved by 0.031 >= min_delta = 0.0. New best score: 0.462\n"
     ]
    },
    {
     "name": "stdout",
     "output_type": "stream",
     "text": [
      "Epoch 9: 100%|██████████| 30/30 [00:29<00:00,  1.01it/s, v_num=0, val_loss=0.438, step=9.000, val_f1=0.789, train_loss=0.360, train_f1=0.787]"
     ]
    },
    {
     "name": "stderr",
     "output_type": "stream",
     "text": [
      "Metric val_loss improved by 0.024 >= min_delta = 0.0. New best score: 0.438\n"
     ]
    },
    {
     "name": "stdout",
     "output_type": "stream",
     "text": [
      "Epoch 10: 100%|██████████| 30/30 [00:30<00:00,  0.97it/s, v_num=0, val_loss=0.418, step=10.00, val_f1=0.808, train_loss=0.328, train_f1=0.758]"
     ]
    },
    {
     "name": "stderr",
     "output_type": "stream",
     "text": [
      "Metric val_loss improved by 0.020 >= min_delta = 0.0. New best score: 0.418\n"
     ]
    },
    {
     "name": "stdout",
     "output_type": "stream",
     "text": [
      "Epoch 11: 100%|██████████| 30/30 [00:30<00:00,  0.97it/s, v_num=0, val_loss=0.402, step=11.00, val_f1=0.796, train_loss=0.300, train_f1=0.775]"
     ]
    },
    {
     "name": "stderr",
     "output_type": "stream",
     "text": [
      "Metric val_loss improved by 0.016 >= min_delta = 0.0. New best score: 0.402\n"
     ]
    },
    {
     "name": "stdout",
     "output_type": "stream",
     "text": [
      "Epoch 12: 100%|██████████| 30/30 [00:30<00:00,  1.00it/s, v_num=0, val_loss=0.389, step=12.00, val_f1=0.816, train_loss=0.275, train_f1=0.796]"
     ]
    },
    {
     "name": "stderr",
     "output_type": "stream",
     "text": [
      "Metric val_loss improved by 0.013 >= min_delta = 0.0. New best score: 0.389\n"
     ]
    },
    {
     "name": "stdout",
     "output_type": "stream",
     "text": [
      "Epoch 13: 100%|██████████| 30/30 [00:29<00:00,  1.01it/s, v_num=0, val_loss=0.378, step=13.00, val_f1=0.827, train_loss=0.253, train_f1=0.816]"
     ]
    },
    {
     "name": "stderr",
     "output_type": "stream",
     "text": [
      "Metric val_loss improved by 0.011 >= min_delta = 0.0. New best score: 0.378\n"
     ]
    },
    {
     "name": "stdout",
     "output_type": "stream",
     "text": [
      "Epoch 14: 100%|██████████| 30/30 [00:29<00:00,  1.02it/s, v_num=0, val_loss=0.369, step=14.00, val_f1=0.833, train_loss=0.233, train_f1=0.833]"
     ]
    },
    {
     "name": "stderr",
     "output_type": "stream",
     "text": [
      "Metric val_loss improved by 0.009 >= min_delta = 0.0. New best score: 0.369\n"
     ]
    },
    {
     "name": "stdout",
     "output_type": "stream",
     "text": [
      "Epoch 15: 100%|██████████| 30/30 [00:30<00:00,  1.00it/s, v_num=0, val_loss=0.361, step=15.00, val_f1=0.834, train_loss=0.214, train_f1=0.845]"
     ]
    },
    {
     "name": "stderr",
     "output_type": "stream",
     "text": [
      "Metric val_loss improved by 0.007 >= min_delta = 0.0. New best score: 0.361\n"
     ]
    },
    {
     "name": "stdout",
     "output_type": "stream",
     "text": [
      "Epoch 16: 100%|██████████| 30/30 [00:31<00:00,  0.96it/s, v_num=0, val_loss=0.356, step=16.00, val_f1=0.835, train_loss=0.196, train_f1=0.855]"
     ]
    },
    {
     "name": "stderr",
     "output_type": "stream",
     "text": [
      "Metric val_loss improved by 0.006 >= min_delta = 0.0. New best score: 0.356\n"
     ]
    },
    {
     "name": "stdout",
     "output_type": "stream",
     "text": [
      "Epoch 17: 100%|██████████| 30/30 [00:31<00:00,  0.95it/s, v_num=0, val_loss=0.352, step=17.00, val_f1=0.810, train_loss=0.180, train_f1=0.864]"
     ]
    },
    {
     "name": "stderr",
     "output_type": "stream",
     "text": [
      "Metric val_loss improved by 0.004 >= min_delta = 0.0. New best score: 0.352\n"
     ]
    },
    {
     "name": "stdout",
     "output_type": "stream",
     "text": [
      "Epoch 18: 100%|██████████| 30/30 [00:34<00:00,  0.87it/s, v_num=0, val_loss=0.349, step=18.00, val_f1=0.809, train_loss=0.165, train_f1=0.872]"
     ]
    },
    {
     "name": "stderr",
     "output_type": "stream",
     "text": [
      "Metric val_loss improved by 0.002 >= min_delta = 0.0. New best score: 0.349\n"
     ]
    },
    {
     "name": "stdout",
     "output_type": "stream",
     "text": [
      "Epoch 21: 100%|██████████| 30/30 [00:30<00:00,  0.99it/s, v_num=0, val_loss=0.338, step=21.00, val_f1=0.812, train_loss=0.131, train_f1=0.894]"
     ]
    },
    {
     "name": "stderr",
     "output_type": "stream",
     "text": [
      "Metric val_loss improved by 0.011 >= min_delta = 0.0. New best score: 0.338\n"
     ]
    },
    {
     "name": "stdout",
     "output_type": "stream",
     "text": [
      "Epoch 22: 100%|██████████| 30/30 [00:31<00:00,  0.94it/s, v_num=0, val_loss=0.337, step=22.00, val_f1=0.820, train_loss=0.124, train_f1=0.896]"
     ]
    },
    {
     "name": "stderr",
     "output_type": "stream",
     "text": [
      "Metric val_loss improved by 0.001 >= min_delta = 0.0. New best score: 0.337\n"
     ]
    },
    {
     "name": "stdout",
     "output_type": "stream",
     "text": [
      "Epoch 23: 100%|██████████| 30/30 [00:31<00:00,  0.96it/s, v_num=0, val_loss=0.335, step=23.00, val_f1=0.822, train_loss=0.115, train_f1=0.900]"
     ]
    },
    {
     "name": "stderr",
     "output_type": "stream",
     "text": [
      "Metric val_loss improved by 0.001 >= min_delta = 0.0. New best score: 0.335\n"
     ]
    },
    {
     "name": "stdout",
     "output_type": "stream",
     "text": [
      "Epoch 28: 100%|██████████| 30/30 [00:30<00:00,  1.00it/s, v_num=0, val_loss=0.358, step=28.00, val_f1=0.814, train_loss=0.0793, train_f1=0.923]Epoch 00029: reducing learning rate of group 0 to 1.0000e-04.\n",
      "Epoch 29: 100%|██████████| 30/30 [00:33<00:00,  0.91it/s, v_num=0, val_loss=0.327, step=29.00, val_f1=0.824, train_loss=0.070, train_f1=0.901] "
     ]
    },
    {
     "name": "stderr",
     "output_type": "stream",
     "text": [
      "Metric val_loss improved by 0.009 >= min_delta = 0.0. New best score: 0.327\n"
     ]
    },
    {
     "name": "stdout",
     "output_type": "stream",
     "text": [
      "Epoch 30: 100%|██████████| 30/30 [00:31<00:00,  0.96it/s, v_num=0, val_loss=0.326, step=30.00, val_f1=0.824, train_loss=0.0639, train_f1=0.911]"
     ]
    },
    {
     "name": "stderr",
     "output_type": "stream",
     "text": [
      "Metric val_loss improved by 0.000 >= min_delta = 0.0. New best score: 0.326\n"
     ]
    },
    {
     "name": "stdout",
     "output_type": "stream",
     "text": [
      "Epoch 31: 100%|██████████| 30/30 [00:30<00:00,  0.98it/s, v_num=0, val_loss=0.326, step=31.00, val_f1=0.824, train_loss=0.0623, train_f1=0.916]"
     ]
    },
    {
     "name": "stderr",
     "output_type": "stream",
     "text": [
      "Metric val_loss improved by 0.001 >= min_delta = 0.0. New best score: 0.326\n"
     ]
    },
    {
     "name": "stdout",
     "output_type": "stream",
     "text": [
      "Epoch 36: 100%|██████████| 30/30 [00:30<00:00,  0.98it/s, v_num=0, val_loss=0.327, step=36.00, val_f1=0.819, train_loss=0.0579, train_f1=0.914]Epoch 00037: reducing learning rate of group 0 to 1.0000e-05.\n",
      "Epoch 37: 100%|██████████| 30/30 [00:30<00:00,  0.99it/s, v_num=0, val_loss=0.327, step=37.00, val_f1=0.819, train_loss=0.057, train_f1=0.914] "
     ]
    },
    {
     "name": "stderr",
     "output_type": "stream",
     "text": [
      "Monitored metric val_loss did not improve in the last 6 records. Best score: 0.326. Signaling Trainer to stop.\n"
     ]
    },
    {
     "name": "stdout",
     "output_type": "stream",
     "text": [
      "Epoch 37: 100%|██████████| 30/30 [00:30<00:00,  0.99it/s, v_num=0, val_loss=0.327, step=37.00, val_f1=0.819, train_loss=0.057, train_f1=0.914]"
     ]
    },
    {
     "name": "stderr",
     "output_type": "stream",
     "text": [
      "Seed set to 6\n",
      "GPU available: False, used: False\n"
     ]
    },
    {
     "name": "stdout",
     "output_type": "stream",
     "text": [
      "\n",
      "Training model model1 with seed 6...\n"
     ]
    },
    {
     "name": "stderr",
     "output_type": "stream",
     "text": [
      "TPU available: False, using: 0 TPU cores\n",
      "IPU available: False, using: 0 IPUs\n",
      "HPU available: False, using: 0 HPUs\n",
      "Missing logger folder: c:\\Users\\merli\\OneDrive\\Desktop\\Github repos\\NLP\\A1\\logs\\lightning_logs\\model1_seed6_emb300\n",
      "\n",
      "  | Name             | Type          | Params\n",
      "---------------------------------------------------\n",
      "0 | lstm             | LSTM          | 835 K \n",
      "1 | fc               | Linear        | 11.8 K\n",
      "2 | _train_f1_metric | F1ScoreCustom | 0     \n",
      "3 | _val_f1_metric   | F1ScoreCustom | 0     \n",
      "4 | _test_f1_metric  | F1ScoreCustom | 0     \n",
      "---------------------------------------------------\n",
      "847 K     Trainable params\n",
      "0         Non-trainable params\n",
      "847 K     Total params\n",
      "3.390     Total estimated model params size (MB)\n"
     ]
    },
    {
     "name": "stdout",
     "output_type": "stream",
     "text": [
      "Epoch 0: 100%|██████████| 30/30 [00:41<00:00,  0.72it/s, v_num=0, val_loss=2.660, step=0.000, val_f1=0.334, train_loss=3.120]"
     ]
    },
    {
     "name": "stderr",
     "output_type": "stream",
     "text": [
      "Metric val_loss improved. New best score: 2.665\n"
     ]
    },
    {
     "name": "stdout",
     "output_type": "stream",
     "text": [
      "Epoch 1: 100%|██████████| 30/30 [00:41<00:00,  0.72it/s, v_num=0, val_loss=1.710, step=1.000, val_f1=0.391, train_loss=2.200, train_f1=0.0913]"
     ]
    },
    {
     "name": "stderr",
     "output_type": "stream",
     "text": [
      "Metric val_loss improved by 0.959 >= min_delta = 0.0. New best score: 1.706\n"
     ]
    },
    {
     "name": "stdout",
     "output_type": "stream",
     "text": [
      "Epoch 2: 100%|██████████| 30/30 [00:42<00:00,  0.70it/s, v_num=0, val_loss=1.160, step=2.000, val_f1=0.552, train_loss=1.380, train_f1=0.291] "
     ]
    },
    {
     "name": "stderr",
     "output_type": "stream",
     "text": [
      "Metric val_loss improved by 0.550 >= min_delta = 0.0. New best score: 1.156\n"
     ]
    },
    {
     "name": "stdout",
     "output_type": "stream",
     "text": [
      "Epoch 3: 100%|██████████| 30/30 [00:43<00:00,  0.69it/s, v_num=0, val_loss=0.859, step=3.000, val_f1=0.692, train_loss=0.960, train_f1=0.461]"
     ]
    },
    {
     "name": "stderr",
     "output_type": "stream",
     "text": [
      "Metric val_loss improved by 0.296 >= min_delta = 0.0. New best score: 0.859\n"
     ]
    },
    {
     "name": "stdout",
     "output_type": "stream",
     "text": [
      "Epoch 4: 100%|██████████| 30/30 [00:42<00:00,  0.70it/s, v_num=0, val_loss=0.696, step=4.000, val_f1=0.745, train_loss=0.725, train_f1=0.639]"
     ]
    },
    {
     "name": "stderr",
     "output_type": "stream",
     "text": [
      "Metric val_loss improved by 0.163 >= min_delta = 0.0. New best score: 0.696\n"
     ]
    },
    {
     "name": "stdout",
     "output_type": "stream",
     "text": [
      "Epoch 5: 100%|██████████| 30/30 [00:41<00:00,  0.73it/s, v_num=0, val_loss=0.592, step=5.000, val_f1=0.728, train_loss=0.584, train_f1=0.684]"
     ]
    },
    {
     "name": "stderr",
     "output_type": "stream",
     "text": [
      "Metric val_loss improved by 0.104 >= min_delta = 0.0. New best score: 0.592\n"
     ]
    },
    {
     "name": "stdout",
     "output_type": "stream",
     "text": [
      "Epoch 6: 100%|██████████| 30/30 [00:42<00:00,  0.71it/s, v_num=0, val_loss=0.518, step=6.000, val_f1=0.779, train_loss=0.487, train_f1=0.704]"
     ]
    },
    {
     "name": "stderr",
     "output_type": "stream",
     "text": [
      "Metric val_loss improved by 0.074 >= min_delta = 0.0. New best score: 0.518\n"
     ]
    },
    {
     "name": "stdout",
     "output_type": "stream",
     "text": [
      "Epoch 7: 100%|██████████| 30/30 [00:42<00:00,  0.71it/s, v_num=0, val_loss=0.464, step=7.000, val_f1=0.783, train_loss=0.413, train_f1=0.717]"
     ]
    },
    {
     "name": "stderr",
     "output_type": "stream",
     "text": [
      "Metric val_loss improved by 0.054 >= min_delta = 0.0. New best score: 0.464\n"
     ]
    },
    {
     "name": "stdout",
     "output_type": "stream",
     "text": [
      "Epoch 8: 100%|██████████| 30/30 [00:42<00:00,  0.71it/s, v_num=0, val_loss=0.424, step=8.000, val_f1=0.787, train_loss=0.356, train_f1=0.773]"
     ]
    },
    {
     "name": "stderr",
     "output_type": "stream",
     "text": [
      "Metric val_loss improved by 0.040 >= min_delta = 0.0. New best score: 0.424\n"
     ]
    },
    {
     "name": "stdout",
     "output_type": "stream",
     "text": [
      "Epoch 9: 100%|██████████| 30/30 [00:41<00:00,  0.73it/s, v_num=0, val_loss=0.394, step=9.000, val_f1=0.786, train_loss=0.309, train_f1=0.793]"
     ]
    },
    {
     "name": "stderr",
     "output_type": "stream",
     "text": [
      "Metric val_loss improved by 0.030 >= min_delta = 0.0. New best score: 0.394\n"
     ]
    },
    {
     "name": "stdout",
     "output_type": "stream",
     "text": [
      "Epoch 10: 100%|██████████| 30/30 [00:44<00:00,  0.67it/s, v_num=0, val_loss=0.371, step=10.00, val_f1=0.787, train_loss=0.271, train_f1=0.803]"
     ]
    },
    {
     "name": "stderr",
     "output_type": "stream",
     "text": [
      "Metric val_loss improved by 0.023 >= min_delta = 0.0. New best score: 0.371\n"
     ]
    },
    {
     "name": "stdout",
     "output_type": "stream",
     "text": [
      "Epoch 11: 100%|██████████| 30/30 [00:42<00:00,  0.70it/s, v_num=0, val_loss=0.356, step=11.00, val_f1=0.809, train_loss=0.238, train_f1=0.811]"
     ]
    },
    {
     "name": "stderr",
     "output_type": "stream",
     "text": [
      "Metric val_loss improved by 0.014 >= min_delta = 0.0. New best score: 0.356\n"
     ]
    },
    {
     "name": "stdout",
     "output_type": "stream",
     "text": [
      "Epoch 13: 100%|██████████| 30/30 [00:40<00:00,  0.73it/s, v_num=0, val_loss=0.334, step=13.00, val_f1=0.809, train_loss=0.197, train_f1=0.817]"
     ]
    },
    {
     "name": "stderr",
     "output_type": "stream",
     "text": [
      "Metric val_loss improved by 0.022 >= min_delta = 0.0. New best score: 0.334\n"
     ]
    },
    {
     "name": "stdout",
     "output_type": "stream",
     "text": [
      "Epoch 14: 100%|██████████| 30/30 [00:44<00:00,  0.67it/s, v_num=0, val_loss=0.319, step=14.00, val_f1=0.792, train_loss=0.169, train_f1=0.835]"
     ]
    },
    {
     "name": "stderr",
     "output_type": "stream",
     "text": [
      "Metric val_loss improved by 0.015 >= min_delta = 0.0. New best score: 0.319\n"
     ]
    },
    {
     "name": "stdout",
     "output_type": "stream",
     "text": [
      "Epoch 15: 100%|██████████| 30/30 [00:42<00:00,  0.71it/s, v_num=0, val_loss=0.313, step=15.00, val_f1=0.803, train_loss=0.146, train_f1=0.852]"
     ]
    },
    {
     "name": "stderr",
     "output_type": "stream",
     "text": [
      "Metric val_loss improved by 0.006 >= min_delta = 0.0. New best score: 0.313\n"
     ]
    },
    {
     "name": "stdout",
     "output_type": "stream",
     "text": [
      "Epoch 16: 100%|██████████| 30/30 [00:42<00:00,  0.71it/s, v_num=0, val_loss=0.304, step=16.00, val_f1=0.814, train_loss=0.126, train_f1=0.863]"
     ]
    },
    {
     "name": "stderr",
     "output_type": "stream",
     "text": [
      "Metric val_loss improved by 0.009 >= min_delta = 0.0. New best score: 0.304\n"
     ]
    },
    {
     "name": "stdout",
     "output_type": "stream",
     "text": [
      "Epoch 21: 100%|██████████| 30/30 [00:41<00:00,  0.72it/s, v_num=0, val_loss=0.314, step=21.00, val_f1=0.824, train_loss=0.072, train_f1=0.891] Epoch 00022: reducing learning rate of group 0 to 1.0000e-04.\n",
      "Epoch 22: 100%|██████████| 30/30 [00:42<00:00,  0.71it/s, v_num=0, val_loss=0.288, step=22.00, val_f1=0.836, train_loss=0.0593, train_f1=0.899]"
     ]
    },
    {
     "name": "stderr",
     "output_type": "stream",
     "text": [
      "Metric val_loss improved by 0.016 >= min_delta = 0.0. New best score: 0.288\n"
     ]
    },
    {
     "name": "stdout",
     "output_type": "stream",
     "text": [
      "Epoch 23: 100%|██████████| 30/30 [00:44<00:00,  0.68it/s, v_num=0, val_loss=0.287, step=23.00, val_f1=0.830, train_loss=0.0536, train_f1=0.911]"
     ]
    },
    {
     "name": "stderr",
     "output_type": "stream",
     "text": [
      "Metric val_loss improved by 0.001 >= min_delta = 0.0. New best score: 0.287\n"
     ]
    },
    {
     "name": "stdout",
     "output_type": "stream",
     "text": [
      "Epoch 24: 100%|██████████| 30/30 [00:41<00:00,  0.73it/s, v_num=0, val_loss=0.287, step=24.00, val_f1=0.832, train_loss=0.0516, train_f1=0.911]"
     ]
    },
    {
     "name": "stderr",
     "output_type": "stream",
     "text": [
      "Metric val_loss improved by 0.000 >= min_delta = 0.0. New best score: 0.287\n"
     ]
    },
    {
     "name": "stdout",
     "output_type": "stream",
     "text": [
      "Epoch 29: 100%|██████████| 30/30 [00:30<00:00,  1.00it/s, v_num=0, val_loss=0.287, step=29.00, val_f1=0.834, train_loss=0.0463, train_f1=0.895]Epoch 00030: reducing learning rate of group 0 to 1.0000e-05.\n",
      "Epoch 30: 100%|██████████| 30/30 [00:27<00:00,  1.11it/s, v_num=0, val_loss=0.287, step=30.00, val_f1=0.833, train_loss=0.0453, train_f1=0.896]"
     ]
    },
    {
     "name": "stderr",
     "output_type": "stream",
     "text": [
      "Monitored metric val_loss did not improve in the last 6 records. Best score: 0.287. Signaling Trainer to stop.\n"
     ]
    },
    {
     "name": "stdout",
     "output_type": "stream",
     "text": [
      "Epoch 30: 100%|██████████| 30/30 [00:27<00:00,  1.11it/s, v_num=0, val_loss=0.287, step=30.00, val_f1=0.833, train_loss=0.0453, train_f1=0.896]"
     ]
    },
    {
     "name": "stderr",
     "output_type": "stream",
     "text": [
      "Seed set to 90\n",
      "GPU available: False, used: False\n",
      "TPU available: False, using: 0 TPU cores\n",
      "IPU available: False, using: 0 IPUs\n",
      "HPU available: False, using: 0 HPUs\n",
      "Missing logger folder: c:\\Users\\merli\\OneDrive\\Desktop\\Github repos\\NLP\\A1\\logs\\lightning_logs\\model1_seed90_emb300\n",
      "\n",
      "  | Name             | Type          | Params\n",
      "---------------------------------------------------\n",
      "0 | lstm             | LSTM          | 835 K \n",
      "1 | fc               | Linear        | 11.8 K\n",
      "2 | _train_f1_metric | F1ScoreCustom | 0     \n",
      "3 | _val_f1_metric   | F1ScoreCustom | 0     \n",
      "4 | _test_f1_metric  | F1ScoreCustom | 0     \n",
      "---------------------------------------------------\n",
      "847 K     Trainable params\n",
      "0         Non-trainable params\n",
      "847 K     Total params\n",
      "3.390     Total estimated model params size (MB)\n"
     ]
    },
    {
     "name": "stdout",
     "output_type": "stream",
     "text": [
      "\n",
      "Training model model1 with seed 90...\n",
      "Epoch 0: 100%|██████████| 30/30 [00:20<00:00,  1.44it/s, v_num=0, val_loss=2.740, step=0.000, val_f1=0.325, train_loss=3.130]"
     ]
    },
    {
     "name": "stderr",
     "output_type": "stream",
     "text": [
      "Metric val_loss improved. New best score: 2.736\n"
     ]
    },
    {
     "name": "stdout",
     "output_type": "stream",
     "text": [
      "Epoch 1: 100%|██████████| 30/30 [00:21<00:00,  1.40it/s, v_num=0, val_loss=1.730, step=1.000, val_f1=0.396, train_loss=2.250, train_f1=0.0851]"
     ]
    },
    {
     "name": "stderr",
     "output_type": "stream",
     "text": [
      "Metric val_loss improved by 1.007 >= min_delta = 0.0. New best score: 1.730\n"
     ]
    },
    {
     "name": "stdout",
     "output_type": "stream",
     "text": [
      "Epoch 2: 100%|██████████| 30/30 [00:22<00:00,  1.35it/s, v_num=0, val_loss=1.140, step=2.000, val_f1=0.535, train_loss=1.380, train_f1=0.238] "
     ]
    },
    {
     "name": "stderr",
     "output_type": "stream",
     "text": [
      "Metric val_loss improved by 0.587 >= min_delta = 0.0. New best score: 1.143\n"
     ]
    },
    {
     "name": "stdout",
     "output_type": "stream",
     "text": [
      "Epoch 3: 100%|██████████| 30/30 [00:21<00:00,  1.36it/s, v_num=0, val_loss=0.853, step=3.000, val_f1=0.697, train_loss=0.951, train_f1=0.464]"
     ]
    },
    {
     "name": "stderr",
     "output_type": "stream",
     "text": [
      "Metric val_loss improved by 0.290 >= min_delta = 0.0. New best score: 0.853\n"
     ]
    },
    {
     "name": "stdout",
     "output_type": "stream",
     "text": [
      "Epoch 4: 100%|██████████| 30/30 [00:21<00:00,  1.39it/s, v_num=0, val_loss=0.692, step=4.000, val_f1=0.710, train_loss=0.722, train_f1=0.637]"
     ]
    },
    {
     "name": "stderr",
     "output_type": "stream",
     "text": [
      "Metric val_loss improved by 0.161 >= min_delta = 0.0. New best score: 0.692\n"
     ]
    },
    {
     "name": "stdout",
     "output_type": "stream",
     "text": [
      "Epoch 5: 100%|██████████| 30/30 [00:21<00:00,  1.40it/s, v_num=0, val_loss=0.590, step=5.000, val_f1=0.721, train_loss=0.582, train_f1=0.720]"
     ]
    },
    {
     "name": "stderr",
     "output_type": "stream",
     "text": [
      "Metric val_loss improved by 0.102 >= min_delta = 0.0. New best score: 0.590\n"
     ]
    },
    {
     "name": "stdout",
     "output_type": "stream",
     "text": [
      "Epoch 6: 100%|██████████| 30/30 [00:21<00:00,  1.37it/s, v_num=0, val_loss=0.520, step=6.000, val_f1=0.729, train_loss=0.486, train_f1=0.701]"
     ]
    },
    {
     "name": "stderr",
     "output_type": "stream",
     "text": [
      "Metric val_loss improved by 0.070 >= min_delta = 0.0. New best score: 0.520\n"
     ]
    },
    {
     "name": "stdout",
     "output_type": "stream",
     "text": [
      "Epoch 7: 100%|██████████| 30/30 [00:22<00:00,  1.34it/s, v_num=0, val_loss=0.468, step=7.000, val_f1=0.743, train_loss=0.413, train_f1=0.724]"
     ]
    },
    {
     "name": "stderr",
     "output_type": "stream",
     "text": [
      "Metric val_loss improved by 0.052 >= min_delta = 0.0. New best score: 0.468\n"
     ]
    },
    {
     "name": "stdout",
     "output_type": "stream",
     "text": [
      "Epoch 8: 100%|██████████| 30/30 [00:21<00:00,  1.38it/s, v_num=0, val_loss=0.429, step=8.000, val_f1=0.773, train_loss=0.356, train_f1=0.777]"
     ]
    },
    {
     "name": "stderr",
     "output_type": "stream",
     "text": [
      "Metric val_loss improved by 0.040 >= min_delta = 0.0. New best score: 0.429\n"
     ]
    },
    {
     "name": "stdout",
     "output_type": "stream",
     "text": [
      "Epoch 9: 100%|██████████| 30/30 [00:21<00:00,  1.38it/s, v_num=0, val_loss=0.398, step=9.000, val_f1=0.769, train_loss=0.309, train_f1=0.755]"
     ]
    },
    {
     "name": "stderr",
     "output_type": "stream",
     "text": [
      "Metric val_loss improved by 0.031 >= min_delta = 0.0. New best score: 0.398\n"
     ]
    },
    {
     "name": "stdout",
     "output_type": "stream",
     "text": [
      "Epoch 10: 100%|██████████| 30/30 [00:22<00:00,  1.35it/s, v_num=0, val_loss=0.374, step=10.00, val_f1=0.769, train_loss=0.269, train_f1=0.797]"
     ]
    },
    {
     "name": "stderr",
     "output_type": "stream",
     "text": [
      "Metric val_loss improved by 0.024 >= min_delta = 0.0. New best score: 0.374\n"
     ]
    },
    {
     "name": "stdout",
     "output_type": "stream",
     "text": [
      "Epoch 11: 100%|██████████| 30/30 [00:23<00:00,  1.28it/s, v_num=0, val_loss=0.356, step=11.00, val_f1=0.797, train_loss=0.236, train_f1=0.824]"
     ]
    },
    {
     "name": "stderr",
     "output_type": "stream",
     "text": [
      "Metric val_loss improved by 0.018 >= min_delta = 0.0. New best score: 0.356\n"
     ]
    },
    {
     "name": "stdout",
     "output_type": "stream",
     "text": [
      "Epoch 12: 100%|██████████| 30/30 [00:20<00:00,  1.46it/s, v_num=0, val_loss=0.343, step=12.00, val_f1=0.808, train_loss=0.206, train_f1=0.797]"
     ]
    },
    {
     "name": "stderr",
     "output_type": "stream",
     "text": [
      "Metric val_loss improved by 0.012 >= min_delta = 0.0. New best score: 0.343\n"
     ]
    },
    {
     "name": "stdout",
     "output_type": "stream",
     "text": [
      "Epoch 13: 100%|██████████| 30/30 [00:20<00:00,  1.47it/s, v_num=0, val_loss=0.343, step=13.00, val_f1=0.811, train_loss=0.181, train_f1=0.815]"
     ]
    },
    {
     "name": "stderr",
     "output_type": "stream",
     "text": [
      "Metric val_loss improved by 0.000 >= min_delta = 0.0. New best score: 0.343\n"
     ]
    },
    {
     "name": "stdout",
     "output_type": "stream",
     "text": [
      "Epoch 15: 100%|██████████| 30/30 [00:23<00:00,  1.27it/s, v_num=0, val_loss=0.332, step=15.00, val_f1=0.798, train_loss=0.160, train_f1=0.850]"
     ]
    },
    {
     "name": "stderr",
     "output_type": "stream",
     "text": [
      "Metric val_loss improved by 0.012 >= min_delta = 0.0. New best score: 0.332\n"
     ]
    },
    {
     "name": "stdout",
     "output_type": "stream",
     "text": [
      "Epoch 16: 100%|██████████| 30/30 [00:23<00:00,  1.29it/s, v_num=0, val_loss=0.316, step=16.00, val_f1=0.802, train_loss=0.142, train_f1=0.864]"
     ]
    },
    {
     "name": "stderr",
     "output_type": "stream",
     "text": [
      "Metric val_loss improved by 0.015 >= min_delta = 0.0. New best score: 0.316\n"
     ]
    },
    {
     "name": "stdout",
     "output_type": "stream",
     "text": [
      "Epoch 20: 100%|██████████| 30/30 [00:21<00:00,  1.37it/s, v_num=0, val_loss=0.316, step=20.00, val_f1=0.805, train_loss=0.0831, train_f1=0.880]"
     ]
    },
    {
     "name": "stderr",
     "output_type": "stream",
     "text": [
      "Metric val_loss improved by 0.000 >= min_delta = 0.0. New best score: 0.316\n"
     ]
    },
    {
     "name": "stdout",
     "output_type": "stream",
     "text": [
      "Epoch 25: 100%|██████████| 30/30 [00:23<00:00,  1.28it/s, v_num=0, val_loss=0.353, step=25.00, val_f1=0.819, train_loss=0.0483, train_f1=0.914]Epoch 00026: reducing learning rate of group 0 to 1.0000e-04.\n",
      "Epoch 26: 100%|██████████| 30/30 [00:24<00:00,  1.21it/s, v_num=0, val_loss=0.305, step=26.00, val_f1=0.813, train_loss=0.0421, train_f1=0.924]"
     ]
    },
    {
     "name": "stderr",
     "output_type": "stream",
     "text": [
      "Metric val_loss improved by 0.011 >= min_delta = 0.0. New best score: 0.305\n"
     ]
    },
    {
     "name": "stdout",
     "output_type": "stream",
     "text": [
      "Epoch 27: 100%|██████████| 30/30 [00:24<00:00,  1.23it/s, v_num=0, val_loss=0.300, step=27.00, val_f1=0.827, train_loss=0.0319, train_f1=0.935]"
     ]
    },
    {
     "name": "stderr",
     "output_type": "stream",
     "text": [
      "Metric val_loss improved by 0.004 >= min_delta = 0.0. New best score: 0.300\n"
     ]
    },
    {
     "name": "stdout",
     "output_type": "stream",
     "text": [
      "Epoch 28: 100%|██████████| 30/30 [00:24<00:00,  1.25it/s, v_num=0, val_loss=0.300, step=28.00, val_f1=0.827, train_loss=0.0304, train_f1=0.936]"
     ]
    },
    {
     "name": "stderr",
     "output_type": "stream",
     "text": [
      "Metric val_loss improved by 0.000 >= min_delta = 0.0. New best score: 0.300\n"
     ]
    },
    {
     "name": "stdout",
     "output_type": "stream",
     "text": [
      "Epoch 33: 100%|██████████| 30/30 [00:23<00:00,  1.26it/s, v_num=0, val_loss=0.301, step=33.00, val_f1=0.821, train_loss=0.0274, train_f1=0.942]Epoch 00034: reducing learning rate of group 0 to 1.0000e-05.\n",
      "Epoch 34: 100%|██████████| 30/30 [00:25<00:00,  1.19it/s, v_num=0, val_loss=0.301, step=34.00, val_f1=0.821, train_loss=0.0269, train_f1=0.942]"
     ]
    },
    {
     "name": "stderr",
     "output_type": "stream",
     "text": [
      "Monitored metric val_loss did not improve in the last 6 records. Best score: 0.300. Signaling Trainer to stop.\n"
     ]
    },
    {
     "name": "stdout",
     "output_type": "stream",
     "text": [
      "Epoch 34: 100%|██████████| 30/30 [00:25<00:00,  1.19it/s, v_num=0, val_loss=0.301, step=34.00, val_f1=0.821, train_loss=0.0269, train_f1=0.942]"
     ]
    },
    {
     "name": "stderr",
     "output_type": "stream",
     "text": [
      "Seed set to 157\n"
     ]
    },
    {
     "name": "stdout",
     "output_type": "stream",
     "text": [
      "\n",
      "Training model model1 with seed 157...\n"
     ]
    },
    {
     "name": "stderr",
     "output_type": "stream",
     "text": [
      "GPU available: False, used: False\n",
      "TPU available: False, using: 0 TPU cores\n",
      "IPU available: False, using: 0 IPUs\n",
      "HPU available: False, using: 0 HPUs\n",
      "Missing logger folder: c:\\Users\\merli\\OneDrive\\Desktop\\Github repos\\NLP\\A1\\logs\\lightning_logs\\model1_seed157_emb300\n",
      "\n",
      "  | Name             | Type          | Params\n",
      "---------------------------------------------------\n",
      "0 | lstm             | LSTM          | 835 K \n",
      "1 | fc               | Linear        | 11.8 K\n",
      "2 | _train_f1_metric | F1ScoreCustom | 0     \n",
      "3 | _val_f1_metric   | F1ScoreCustom | 0     \n",
      "4 | _test_f1_metric  | F1ScoreCustom | 0     \n",
      "---------------------------------------------------\n",
      "847 K     Trainable params\n",
      "0         Non-trainable params\n",
      "847 K     Total params\n",
      "3.390     Total estimated model params size (MB)\n"
     ]
    },
    {
     "name": "stdout",
     "output_type": "stream",
     "text": [
      "Epoch 0: 100%|██████████| 30/30 [00:23<00:00,  1.26it/s, v_num=0, val_loss=2.690, step=0.000, val_f1=0.263, train_loss=3.130]"
     ]
    },
    {
     "name": "stderr",
     "output_type": "stream",
     "text": [
      "Metric val_loss improved. New best score: 2.695\n"
     ]
    },
    {
     "name": "stdout",
     "output_type": "stream",
     "text": [
      "Epoch 1: 100%|██████████| 30/30 [00:24<00:00,  1.25it/s, v_num=0, val_loss=1.690, step=1.000, val_f1=0.411, train_loss=2.220, train_f1=0.135]"
     ]
    },
    {
     "name": "stderr",
     "output_type": "stream",
     "text": [
      "Metric val_loss improved by 1.004 >= min_delta = 0.0. New best score: 1.691\n"
     ]
    },
    {
     "name": "stdout",
     "output_type": "stream",
     "text": [
      "Epoch 2: 100%|██████████| 30/30 [00:25<00:00,  1.16it/s, v_num=0, val_loss=1.130, step=2.000, val_f1=0.567, train_loss=1.350, train_f1=0.282]"
     ]
    },
    {
     "name": "stderr",
     "output_type": "stream",
     "text": [
      "Metric val_loss improved by 0.566 >= min_delta = 0.0. New best score: 1.125\n"
     ]
    },
    {
     "name": "stdout",
     "output_type": "stream",
     "text": [
      "Epoch 3: 100%|██████████| 30/30 [00:24<00:00,  1.23it/s, v_num=0, val_loss=0.841, step=3.000, val_f1=0.669, train_loss=0.932, train_f1=0.476]"
     ]
    },
    {
     "name": "stderr",
     "output_type": "stream",
     "text": [
      "Metric val_loss improved by 0.284 >= min_delta = 0.0. New best score: 0.841\n"
     ]
    },
    {
     "name": "stdout",
     "output_type": "stream",
     "text": [
      "Epoch 4: 100%|██████████| 30/30 [00:24<00:00,  1.25it/s, v_num=0, val_loss=0.681, step=4.000, val_f1=0.691, train_loss=0.707, train_f1=0.625]"
     ]
    },
    {
     "name": "stderr",
     "output_type": "stream",
     "text": [
      "Metric val_loss improved by 0.160 >= min_delta = 0.0. New best score: 0.681\n"
     ]
    },
    {
     "name": "stdout",
     "output_type": "stream",
     "text": [
      "Epoch 5: 100%|██████████| 30/30 [00:23<00:00,  1.28it/s, v_num=0, val_loss=0.578, step=5.000, val_f1=0.732, train_loss=0.570, train_f1=0.667]"
     ]
    },
    {
     "name": "stderr",
     "output_type": "stream",
     "text": [
      "Metric val_loss improved by 0.104 >= min_delta = 0.0. New best score: 0.578\n"
     ]
    },
    {
     "name": "stdout",
     "output_type": "stream",
     "text": [
      "Epoch 6: 100%|██████████| 30/30 [00:25<00:00,  1.17it/s, v_num=0, val_loss=0.507, step=6.000, val_f1=0.781, train_loss=0.474, train_f1=0.720]"
     ]
    },
    {
     "name": "stderr",
     "output_type": "stream",
     "text": [
      "Metric val_loss improved by 0.070 >= min_delta = 0.0. New best score: 0.507\n"
     ]
    },
    {
     "name": "stdout",
     "output_type": "stream",
     "text": [
      "Epoch 7: 100%|██████████| 30/30 [00:23<00:00,  1.27it/s, v_num=0, val_loss=0.458, step=7.000, val_f1=0.787, train_loss=0.403, train_f1=0.781]"
     ]
    },
    {
     "name": "stderr",
     "output_type": "stream",
     "text": [
      "Metric val_loss improved by 0.050 >= min_delta = 0.0. New best score: 0.458\n"
     ]
    },
    {
     "name": "stdout",
     "output_type": "stream",
     "text": [
      "Epoch 8: 100%|██████████| 30/30 [00:23<00:00,  1.25it/s, v_num=0, val_loss=0.421, step=8.000, val_f1=0.748, train_loss=0.347, train_f1=0.773]"
     ]
    },
    {
     "name": "stderr",
     "output_type": "stream",
     "text": [
      "Metric val_loss improved by 0.036 >= min_delta = 0.0. New best score: 0.421\n"
     ]
    },
    {
     "name": "stdout",
     "output_type": "stream",
     "text": [
      "Epoch 9: 100%|██████████| 30/30 [00:23<00:00,  1.28it/s, v_num=0, val_loss=0.393, step=9.000, val_f1=0.778, train_loss=0.301, train_f1=0.765]"
     ]
    },
    {
     "name": "stderr",
     "output_type": "stream",
     "text": [
      "Metric val_loss improved by 0.028 >= min_delta = 0.0. New best score: 0.393\n"
     ]
    },
    {
     "name": "stdout",
     "output_type": "stream",
     "text": [
      "Epoch 10: 100%|██████████| 30/30 [00:23<00:00,  1.27it/s, v_num=0, val_loss=0.371, step=10.00, val_f1=0.801, train_loss=0.263, train_f1=0.811]"
     ]
    },
    {
     "name": "stderr",
     "output_type": "stream",
     "text": [
      "Metric val_loss improved by 0.022 >= min_delta = 0.0. New best score: 0.371\n"
     ]
    },
    {
     "name": "stdout",
     "output_type": "stream",
     "text": [
      "Epoch 11: 100%|██████████| 30/30 [00:24<00:00,  1.24it/s, v_num=0, val_loss=0.357, step=11.00, val_f1=0.816, train_loss=0.230, train_f1=0.807]"
     ]
    },
    {
     "name": "stderr",
     "output_type": "stream",
     "text": [
      "Metric val_loss improved by 0.014 >= min_delta = 0.0. New best score: 0.357\n"
     ]
    },
    {
     "name": "stdout",
     "output_type": "stream",
     "text": [
      "Epoch 12: 100%|██████████| 30/30 [00:23<00:00,  1.28it/s, v_num=0, val_loss=0.350, step=12.00, val_f1=0.779, train_loss=0.203, train_f1=0.828]"
     ]
    },
    {
     "name": "stderr",
     "output_type": "stream",
     "text": [
      "Metric val_loss improved by 0.007 >= min_delta = 0.0. New best score: 0.350\n"
     ]
    },
    {
     "name": "stdout",
     "output_type": "stream",
     "text": [
      "Epoch 13: 100%|██████████| 30/30 [00:24<00:00,  1.23it/s, v_num=0, val_loss=0.328, step=13.00, val_f1=0.797, train_loss=0.180, train_f1=0.817]"
     ]
    },
    {
     "name": "stderr",
     "output_type": "stream",
     "text": [
      "Metric val_loss improved by 0.022 >= min_delta = 0.0. New best score: 0.328\n"
     ]
    },
    {
     "name": "stdout",
     "output_type": "stream",
     "text": [
      "Epoch 14: 100%|██████████| 30/30 [00:25<00:00,  1.16it/s, v_num=0, val_loss=0.324, step=14.00, val_f1=0.799, train_loss=0.166, train_f1=0.839]"
     ]
    },
    {
     "name": "stderr",
     "output_type": "stream",
     "text": [
      "Metric val_loss improved by 0.004 >= min_delta = 0.0. New best score: 0.324\n"
     ]
    },
    {
     "name": "stdout",
     "output_type": "stream",
     "text": [
      "Epoch 16: 100%|██████████| 30/30 [00:23<00:00,  1.27it/s, v_num=0, val_loss=0.316, step=16.00, val_f1=0.804, train_loss=0.130, train_f1=0.867]"
     ]
    },
    {
     "name": "stderr",
     "output_type": "stream",
     "text": [
      "Metric val_loss improved by 0.009 >= min_delta = 0.0. New best score: 0.316\n"
     ]
    },
    {
     "name": "stdout",
     "output_type": "stream",
     "text": [
      "Epoch 17: 100%|██████████| 30/30 [00:23<00:00,  1.27it/s, v_num=0, val_loss=0.308, step=17.00, val_f1=0.813, train_loss=0.110, train_f1=0.885]"
     ]
    },
    {
     "name": "stderr",
     "output_type": "stream",
     "text": [
      "Metric val_loss improved by 0.008 >= min_delta = 0.0. New best score: 0.308\n"
     ]
    },
    {
     "name": "stdout",
     "output_type": "stream",
     "text": [
      "Epoch 22: 100%|██████████| 30/30 [00:23<00:00,  1.26it/s, v_num=0, val_loss=0.316, step=22.00, val_f1=0.813, train_loss=0.050, train_f1=0.893] Epoch 00023: reducing learning rate of group 0 to 1.0000e-04.\n",
      "Epoch 23: 100%|██████████| 30/30 [00:23<00:00,  1.28it/s, v_num=0, val_loss=0.295, step=23.00, val_f1=0.822, train_loss=0.0436, train_f1=0.921]"
     ]
    },
    {
     "name": "stderr",
     "output_type": "stream",
     "text": [
      "Metric val_loss improved by 0.013 >= min_delta = 0.0. New best score: 0.295\n"
     ]
    },
    {
     "name": "stdout",
     "output_type": "stream",
     "text": [
      "Epoch 28: 100%|██████████| 30/30 [00:23<00:00,  1.29it/s, v_num=0, val_loss=0.297, step=28.00, val_f1=0.822, train_loss=0.0375, train_f1=0.927]Epoch 00029: reducing learning rate of group 0 to 1.0000e-05.\n",
      "Epoch 29: 100%|██████████| 30/30 [00:23<00:00,  1.26it/s, v_num=0, val_loss=0.297, step=29.00, val_f1=0.822, train_loss=0.0367, train_f1=0.927]"
     ]
    },
    {
     "name": "stderr",
     "output_type": "stream",
     "text": [
      "Monitored metric val_loss did not improve in the last 6 records. Best score: 0.295. Signaling Trainer to stop.\n"
     ]
    },
    {
     "name": "stdout",
     "output_type": "stream",
     "text": [
      "Epoch 29: 100%|██████████| 30/30 [00:23<00:00,  1.26it/s, v_num=0, val_loss=0.297, step=29.00, val_f1=0.822, train_loss=0.0367, train_f1=0.927]"
     ]
    },
    {
     "name": "stderr",
     "output_type": "stream",
     "text": [
      "Seed set to 6\n",
      "GPU available: False, used: False\n",
      "TPU available: False, using: 0 TPU cores\n",
      "IPU available: False, using: 0 IPUs\n",
      "HPU available: False, using: 0 HPUs\n",
      "Missing logger folder: c:\\Users\\merli\\OneDrive\\Desktop\\Github repos\\NLP\\A1\\logs\\lightning_logs\\model2_seed6_emb300\n",
      "\n",
      "  | Name             | Type          | Params\n",
      "---------------------------------------------------\n",
      "0 | lstm             | LSTM          | 835 K \n",
      "1 | fc_1             | Linear        | 65.8 K\n",
      "2 | relu             | ReLU          | 0     \n",
      "3 | fc_2             | Linear        | 11.8 K\n",
      "4 | _train_f1_metric | F1ScoreCustom | 0     \n",
      "5 | _val_f1_metric   | F1ScoreCustom | 0     \n",
      "6 | _test_f1_metric  | F1ScoreCustom | 0     \n",
      "---------------------------------------------------\n",
      "913 K     Trainable params\n",
      "0         Non-trainable params\n",
      "913 K     Total params\n",
      "3.653     Total estimated model params size (MB)\n"
     ]
    },
    {
     "name": "stdout",
     "output_type": "stream",
     "text": [
      "\n",
      "Training model model2 with seed 6...\n",
      "Epoch 0: 100%|██████████| 30/30 [00:25<00:00,  1.17it/s, v_num=0, val_loss=2.900, step=0.000, val_f1=0.155, train_loss=3.200]"
     ]
    },
    {
     "name": "stderr",
     "output_type": "stream",
     "text": [
      "Metric val_loss improved. New best score: 2.899\n"
     ]
    },
    {
     "name": "stdout",
     "output_type": "stream",
     "text": [
      "Epoch 1: 100%|██████████| 30/30 [00:24<00:00,  1.20it/s, v_num=0, val_loss=1.930, step=1.000, val_f1=0.419, train_loss=2.470, train_f1=0.0655]"
     ]
    },
    {
     "name": "stderr",
     "output_type": "stream",
     "text": [
      "Metric val_loss improved by 0.966 >= min_delta = 0.0. New best score: 1.933\n"
     ]
    },
    {
     "name": "stdout",
     "output_type": "stream",
     "text": [
      "Epoch 2: 100%|██████████| 30/30 [00:24<00:00,  1.21it/s, v_num=0, val_loss=1.170, step=2.000, val_f1=0.479, train_loss=1.500, train_f1=0.231] "
     ]
    },
    {
     "name": "stderr",
     "output_type": "stream",
     "text": [
      "Metric val_loss improved by 0.762 >= min_delta = 0.0. New best score: 1.171\n"
     ]
    },
    {
     "name": "stdout",
     "output_type": "stream",
     "text": [
      "Epoch 3: 100%|██████████| 30/30 [00:24<00:00,  1.23it/s, v_num=0, val_loss=0.845, step=3.000, val_f1=0.653, train_loss=0.956, train_f1=0.400]"
     ]
    },
    {
     "name": "stderr",
     "output_type": "stream",
     "text": [
      "Metric val_loss improved by 0.326 >= min_delta = 0.0. New best score: 0.845\n"
     ]
    },
    {
     "name": "stdout",
     "output_type": "stream",
     "text": [
      "Epoch 4: 100%|██████████| 30/30 [00:25<00:00,  1.19it/s, v_num=0, val_loss=0.665, step=4.000, val_f1=0.673, train_loss=0.697, train_f1=0.570]"
     ]
    },
    {
     "name": "stderr",
     "output_type": "stream",
     "text": [
      "Metric val_loss improved by 0.180 >= min_delta = 0.0. New best score: 0.665\n"
     ]
    },
    {
     "name": "stdout",
     "output_type": "stream",
     "text": [
      "Epoch 5: 100%|██████████| 30/30 [00:24<00:00,  1.25it/s, v_num=0, val_loss=0.561, step=5.000, val_f1=0.734, train_loss=0.548, train_f1=0.599]"
     ]
    },
    {
     "name": "stderr",
     "output_type": "stream",
     "text": [
      "Metric val_loss improved by 0.104 >= min_delta = 0.0. New best score: 0.561\n"
     ]
    },
    {
     "name": "stdout",
     "output_type": "stream",
     "text": [
      "Epoch 6: 100%|██████████| 30/30 [00:27<00:00,  1.11it/s, v_num=0, val_loss=0.494, step=6.000, val_f1=0.757, train_loss=0.450, train_f1=0.701]"
     ]
    },
    {
     "name": "stderr",
     "output_type": "stream",
     "text": [
      "Metric val_loss improved by 0.067 >= min_delta = 0.0. New best score: 0.494\n"
     ]
    },
    {
     "name": "stdout",
     "output_type": "stream",
     "text": [
      "Epoch 7: 100%|██████████| 30/30 [00:24<00:00,  1.24it/s, v_num=0, val_loss=0.436, step=7.000, val_f1=0.739, train_loss=0.377, train_f1=0.730]"
     ]
    },
    {
     "name": "stderr",
     "output_type": "stream",
     "text": [
      "Metric val_loss improved by 0.057 >= min_delta = 0.0. New best score: 0.436\n"
     ]
    },
    {
     "name": "stdout",
     "output_type": "stream",
     "text": [
      "Epoch 8: 100%|██████████| 30/30 [00:25<00:00,  1.18it/s, v_num=0, val_loss=0.401, step=8.000, val_f1=0.775, train_loss=0.317, train_f1=0.736]"
     ]
    },
    {
     "name": "stderr",
     "output_type": "stream",
     "text": [
      "Metric val_loss improved by 0.036 >= min_delta = 0.0. New best score: 0.401\n"
     ]
    },
    {
     "name": "stdout",
     "output_type": "stream",
     "text": [
      "Epoch 9: 100%|██████████| 30/30 [00:26<00:00,  1.12it/s, v_num=0, val_loss=0.395, step=9.000, val_f1=0.795, train_loss=0.269, train_f1=0.783]"
     ]
    },
    {
     "name": "stderr",
     "output_type": "stream",
     "text": [
      "Metric val_loss improved by 0.005 >= min_delta = 0.0. New best score: 0.395\n"
     ]
    },
    {
     "name": "stdout",
     "output_type": "stream",
     "text": [
      "Epoch 10: 100%|██████████| 30/30 [00:31<00:00,  0.94it/s, v_num=0, val_loss=0.348, step=10.00, val_f1=0.814, train_loss=0.229, train_f1=0.794]"
     ]
    },
    {
     "name": "stderr",
     "output_type": "stream",
     "text": [
      "Metric val_loss improved by 0.047 >= min_delta = 0.0. New best score: 0.348\n"
     ]
    },
    {
     "name": "stdout",
     "output_type": "stream",
     "text": [
      "Epoch 11: 100%|██████████| 30/30 [00:25<00:00,  1.18it/s, v_num=0, val_loss=0.343, step=11.00, val_f1=0.818, train_loss=0.188, train_f1=0.798]"
     ]
    },
    {
     "name": "stderr",
     "output_type": "stream",
     "text": [
      "Metric val_loss improved by 0.006 >= min_delta = 0.0. New best score: 0.343\n"
     ]
    },
    {
     "name": "stdout",
     "output_type": "stream",
     "text": [
      "Epoch 12: 100%|██████████| 30/30 [00:24<00:00,  1.21it/s, v_num=0, val_loss=0.341, step=12.00, val_f1=0.799, train_loss=0.163, train_f1=0.826]"
     ]
    },
    {
     "name": "stderr",
     "output_type": "stream",
     "text": [
      "Metric val_loss improved by 0.002 >= min_delta = 0.0. New best score: 0.341\n"
     ]
    },
    {
     "name": "stdout",
     "output_type": "stream",
     "text": [
      "Epoch 13: 100%|██████████| 30/30 [00:25<00:00,  1.17it/s, v_num=0, val_loss=0.320, step=13.00, val_f1=0.783, train_loss=0.140, train_f1=0.847]"
     ]
    },
    {
     "name": "stderr",
     "output_type": "stream",
     "text": [
      "Metric val_loss improved by 0.020 >= min_delta = 0.0. New best score: 0.320\n"
     ]
    },
    {
     "name": "stdout",
     "output_type": "stream",
     "text": [
      "Epoch 15: 100%|██████████| 30/30 [00:24<00:00,  1.25it/s, v_num=0, val_loss=0.317, step=15.00, val_f1=0.798, train_loss=0.121, train_f1=0.864]"
     ]
    },
    {
     "name": "stderr",
     "output_type": "stream",
     "text": [
      "Metric val_loss improved by 0.003 >= min_delta = 0.0. New best score: 0.317\n"
     ]
    },
    {
     "name": "stdout",
     "output_type": "stream",
     "text": [
      "Epoch 20: 100%|██████████| 30/30 [00:25<00:00,  1.18it/s, v_num=0, val_loss=0.376, step=20.00, val_f1=0.816, train_loss=0.0517, train_f1=0.897]Epoch 00021: reducing learning rate of group 0 to 1.0000e-04.\n",
      "Epoch 21: 100%|██████████| 30/30 [00:24<00:00,  1.23it/s, v_num=0, val_loss=0.314, step=21.00, val_f1=0.826, train_loss=0.0387, train_f1=0.900]"
     ]
    },
    {
     "name": "stderr",
     "output_type": "stream",
     "text": [
      "Metric val_loss improved by 0.003 >= min_delta = 0.0. New best score: 0.314\n"
     ]
    },
    {
     "name": "stdout",
     "output_type": "stream",
     "text": [
      "Epoch 26: 100%|██████████| 30/30 [00:23<00:00,  1.26it/s, v_num=0, val_loss=0.317, step=26.00, val_f1=0.828, train_loss=0.024, train_f1=0.935] Epoch 00027: reducing learning rate of group 0 to 1.0000e-05.\n",
      "Epoch 27: 100%|██████████| 30/30 [00:26<00:00,  1.15it/s, v_num=0, val_loss=0.317, step=27.00, val_f1=0.828, train_loss=0.0229, train_f1=0.936]"
     ]
    },
    {
     "name": "stderr",
     "output_type": "stream",
     "text": [
      "Monitored metric val_loss did not improve in the last 6 records. Best score: 0.314. Signaling Trainer to stop.\n"
     ]
    },
    {
     "name": "stdout",
     "output_type": "stream",
     "text": [
      "Epoch 27: 100%|██████████| 30/30 [00:26<00:00,  1.15it/s, v_num=0, val_loss=0.317, step=27.00, val_f1=0.828, train_loss=0.0229, train_f1=0.936]"
     ]
    },
    {
     "name": "stderr",
     "output_type": "stream",
     "text": [
      "Seed set to 90\n",
      "GPU available: False, used: False\n",
      "TPU available: False, using: 0 TPU cores\n",
      "IPU available: False, using: 0 IPUs\n",
      "HPU available: False, using: 0 HPUs\n",
      "Missing logger folder: c:\\Users\\merli\\OneDrive\\Desktop\\Github repos\\NLP\\A1\\logs\\lightning_logs\\model2_seed90_emb300\n",
      "\n",
      "  | Name             | Type          | Params\n",
      "---------------------------------------------------\n",
      "0 | lstm             | LSTM          | 835 K \n",
      "1 | fc_1             | Linear        | 65.8 K\n",
      "2 | relu             | ReLU          | 0     \n",
      "3 | fc_2             | Linear        | 11.8 K\n",
      "4 | _train_f1_metric | F1ScoreCustom | 0     \n",
      "5 | _val_f1_metric   | F1ScoreCustom | 0     \n",
      "6 | _test_f1_metric  | F1ScoreCustom | 0     \n",
      "---------------------------------------------------\n",
      "913 K     Trainable params\n",
      "0         Non-trainable params\n",
      "913 K     Total params\n",
      "3.653     Total estimated model params size (MB)\n"
     ]
    },
    {
     "name": "stdout",
     "output_type": "stream",
     "text": [
      "\n",
      "Training model model2 with seed 90...\n",
      "Epoch 0: 100%|██████████| 30/30 [00:24<00:00,  1.22it/s, v_num=0, val_loss=2.970, step=0.000, val_f1=0.202, train_loss=3.220]"
     ]
    },
    {
     "name": "stderr",
     "output_type": "stream",
     "text": [
      "Metric val_loss improved. New best score: 2.965\n"
     ]
    },
    {
     "name": "stdout",
     "output_type": "stream",
     "text": [
      "Epoch 1: 100%|██████████| 30/30 [00:24<00:00,  1.24it/s, v_num=0, val_loss=2.060, step=1.000, val_f1=0.311, train_loss=2.590, train_f1=0.0324]"
     ]
    },
    {
     "name": "stderr",
     "output_type": "stream",
     "text": [
      "Metric val_loss improved by 0.904 >= min_delta = 0.0. New best score: 2.061\n"
     ]
    },
    {
     "name": "stdout",
     "output_type": "stream",
     "text": [
      "Epoch 2: 100%|██████████| 30/30 [00:24<00:00,  1.22it/s, v_num=0, val_loss=1.150, step=2.000, val_f1=0.547, train_loss=1.540, train_f1=0.227] "
     ]
    },
    {
     "name": "stderr",
     "output_type": "stream",
     "text": [
      "Metric val_loss improved by 0.908 >= min_delta = 0.0. New best score: 1.153\n"
     ]
    },
    {
     "name": "stdout",
     "output_type": "stream",
     "text": [
      "Epoch 3: 100%|██████████| 30/30 [00:24<00:00,  1.24it/s, v_num=0, val_loss=0.818, step=3.000, val_f1=0.629, train_loss=0.936, train_f1=0.434]"
     ]
    },
    {
     "name": "stderr",
     "output_type": "stream",
     "text": [
      "Metric val_loss improved by 0.335 >= min_delta = 0.0. New best score: 0.818\n"
     ]
    },
    {
     "name": "stdout",
     "output_type": "stream",
     "text": [
      "Epoch 4: 100%|██████████| 30/30 [00:24<00:00,  1.20it/s, v_num=0, val_loss=0.651, step=4.000, val_f1=0.662, train_loss=0.682, train_f1=0.545]"
     ]
    },
    {
     "name": "stderr",
     "output_type": "stream",
     "text": [
      "Metric val_loss improved by 0.167 >= min_delta = 0.0. New best score: 0.651\n"
     ]
    },
    {
     "name": "stdout",
     "output_type": "stream",
     "text": [
      "Epoch 5: 100%|██████████| 30/30 [00:24<00:00,  1.21it/s, v_num=0, val_loss=0.559, step=5.000, val_f1=0.733, train_loss=0.538, train_f1=0.651]"
     ]
    },
    {
     "name": "stderr",
     "output_type": "stream",
     "text": [
      "Metric val_loss improved by 0.092 >= min_delta = 0.0. New best score: 0.559\n"
     ]
    },
    {
     "name": "stdout",
     "output_type": "stream",
     "text": [
      "Epoch 6: 100%|██████████| 30/30 [00:25<00:00,  1.16it/s, v_num=0, val_loss=0.495, step=6.000, val_f1=0.711, train_loss=0.446, train_f1=0.686]"
     ]
    },
    {
     "name": "stderr",
     "output_type": "stream",
     "text": [
      "Metric val_loss improved by 0.063 >= min_delta = 0.0. New best score: 0.495\n"
     ]
    },
    {
     "name": "stdout",
     "output_type": "stream",
     "text": [
      "Epoch 7: 100%|██████████| 30/30 [00:24<00:00,  1.20it/s, v_num=0, val_loss=0.443, step=7.000, val_f1=0.774, train_loss=0.373, train_f1=0.735]"
     ]
    },
    {
     "name": "stderr",
     "output_type": "stream",
     "text": [
      "Metric val_loss improved by 0.052 >= min_delta = 0.0. New best score: 0.443\n"
     ]
    },
    {
     "name": "stdout",
     "output_type": "stream",
     "text": [
      "Epoch 8: 100%|██████████| 30/30 [00:24<00:00,  1.24it/s, v_num=0, val_loss=0.424, step=8.000, val_f1=0.776, train_loss=0.314, train_f1=0.765]"
     ]
    },
    {
     "name": "stderr",
     "output_type": "stream",
     "text": [
      "Metric val_loss improved by 0.019 >= min_delta = 0.0. New best score: 0.424\n"
     ]
    },
    {
     "name": "stdout",
     "output_type": "stream",
     "text": [
      "Epoch 9: 100%|██████████| 30/30 [00:24<00:00,  1.24it/s, v_num=0, val_loss=0.378, step=9.000, val_f1=0.796, train_loss=0.265, train_f1=0.775]"
     ]
    },
    {
     "name": "stderr",
     "output_type": "stream",
     "text": [
      "Metric val_loss improved by 0.046 >= min_delta = 0.0. New best score: 0.378\n"
     ]
    },
    {
     "name": "stdout",
     "output_type": "stream",
     "text": [
      "Epoch 10: 100%|██████████| 30/30 [00:24<00:00,  1.21it/s, v_num=0, val_loss=0.348, step=10.00, val_f1=0.787, train_loss=0.219, train_f1=0.758]"
     ]
    },
    {
     "name": "stderr",
     "output_type": "stream",
     "text": [
      "Metric val_loss improved by 0.030 >= min_delta = 0.0. New best score: 0.348\n"
     ]
    },
    {
     "name": "stdout",
     "output_type": "stream",
     "text": [
      "Epoch 11: 100%|██████████| 30/30 [00:24<00:00,  1.22it/s, v_num=0, val_loss=0.340, step=11.00, val_f1=0.822, train_loss=0.185, train_f1=0.797]"
     ]
    },
    {
     "name": "stderr",
     "output_type": "stream",
     "text": [
      "Metric val_loss improved by 0.009 >= min_delta = 0.0. New best score: 0.340\n"
     ]
    },
    {
     "name": "stdout",
     "output_type": "stream",
     "text": [
      "Epoch 16: 100%|██████████| 30/30 [00:24<00:00,  1.23it/s, v_num=0, val_loss=0.343, step=16.00, val_f1=0.786, train_loss=0.104, train_f1=0.871]Epoch 00017: reducing learning rate of group 0 to 1.0000e-04.\n",
      "Epoch 17: 100%|██████████| 30/30 [00:26<00:00,  1.14it/s, v_num=0, val_loss=0.305, step=17.00, val_f1=0.819, train_loss=0.0716, train_f1=0.882]"
     ]
    },
    {
     "name": "stderr",
     "output_type": "stream",
     "text": [
      "Metric val_loss improved by 0.034 >= min_delta = 0.0. New best score: 0.305\n"
     ]
    },
    {
     "name": "stdout",
     "output_type": "stream",
     "text": [
      "Epoch 18: 100%|██████████| 30/30 [00:24<00:00,  1.21it/s, v_num=0, val_loss=0.305, step=18.00, val_f1=0.816, train_loss=0.0597, train_f1=0.895]"
     ]
    },
    {
     "name": "stderr",
     "output_type": "stream",
     "text": [
      "Metric val_loss improved by 0.001 >= min_delta = 0.0. New best score: 0.305\n"
     ]
    },
    {
     "name": "stdout",
     "output_type": "stream",
     "text": [
      "Epoch 19: 100%|██████████| 30/30 [00:24<00:00,  1.23it/s, v_num=0, val_loss=0.304, step=19.00, val_f1=0.813, train_loss=0.0563, train_f1=0.919]"
     ]
    },
    {
     "name": "stderr",
     "output_type": "stream",
     "text": [
      "Metric val_loss improved by 0.001 >= min_delta = 0.0. New best score: 0.304\n"
     ]
    },
    {
     "name": "stdout",
     "output_type": "stream",
     "text": [
      "Epoch 24: 100%|██████████| 30/30 [00:24<00:00,  1.21it/s, v_num=0, val_loss=0.306, step=24.00, val_f1=0.813, train_loss=0.0467, train_f1=0.900]Epoch 00025: reducing learning rate of group 0 to 1.0000e-05.\n",
      "Epoch 25: 100%|██████████| 30/30 [00:24<00:00,  1.24it/s, v_num=0, val_loss=0.306, step=25.00, val_f1=0.818, train_loss=0.0449, train_f1=0.902]"
     ]
    },
    {
     "name": "stderr",
     "output_type": "stream",
     "text": [
      "Monitored metric val_loss did not improve in the last 6 records. Best score: 0.304. Signaling Trainer to stop.\n"
     ]
    },
    {
     "name": "stdout",
     "output_type": "stream",
     "text": [
      "Epoch 25: 100%|██████████| 30/30 [00:24<00:00,  1.24it/s, v_num=0, val_loss=0.306, step=25.00, val_f1=0.818, train_loss=0.0449, train_f1=0.902]"
     ]
    },
    {
     "name": "stderr",
     "output_type": "stream",
     "text": [
      "Seed set to 157\n",
      "GPU available: False, used: False\n",
      "TPU available: False, using: 0 TPU cores\n",
      "IPU available: False, using: 0 IPUs\n",
      "HPU available: False, using: 0 HPUs\n",
      "Missing logger folder: c:\\Users\\merli\\OneDrive\\Desktop\\Github repos\\NLP\\A1\\logs\\lightning_logs\\model2_seed157_emb300\n",
      "\n",
      "  | Name             | Type          | Params\n",
      "---------------------------------------------------\n",
      "0 | lstm             | LSTM          | 835 K \n",
      "1 | fc_1             | Linear        | 65.8 K\n",
      "2 | relu             | ReLU          | 0     \n",
      "3 | fc_2             | Linear        | 11.8 K\n",
      "4 | _train_f1_metric | F1ScoreCustom | 0     \n",
      "5 | _val_f1_metric   | F1ScoreCustom | 0     \n",
      "6 | _test_f1_metric  | F1ScoreCustom | 0     \n",
      "---------------------------------------------------\n",
      "913 K     Trainable params\n",
      "0         Non-trainable params\n",
      "913 K     Total params\n",
      "3.653     Total estimated model params size (MB)\n"
     ]
    },
    {
     "name": "stdout",
     "output_type": "stream",
     "text": [
      "\n",
      "Training model model2 with seed 157...\n",
      "Epoch 0: 100%|██████████| 30/30 [00:24<00:00,  1.22it/s, v_num=0, val_loss=2.900, step=0.000, val_f1=0.162, train_loss=3.210]"
     ]
    },
    {
     "name": "stderr",
     "output_type": "stream",
     "text": [
      "Metric val_loss improved. New best score: 2.901\n"
     ]
    },
    {
     "name": "stdout",
     "output_type": "stream",
     "text": [
      "Epoch 1: 100%|██████████| 30/30 [00:25<00:00,  1.16it/s, v_num=0, val_loss=1.890, step=1.000, val_f1=0.336, train_loss=2.460, train_f1=0.0484]"
     ]
    },
    {
     "name": "stderr",
     "output_type": "stream",
     "text": [
      "Metric val_loss improved by 1.009 >= min_delta = 0.0. New best score: 1.892\n"
     ]
    },
    {
     "name": "stdout",
     "output_type": "stream",
     "text": [
      "Epoch 2: 100%|██████████| 30/30 [00:26<00:00,  1.13it/s, v_num=0, val_loss=1.100, step=2.000, val_f1=0.541, train_loss=1.430, train_f1=0.194] "
     ]
    },
    {
     "name": "stderr",
     "output_type": "stream",
     "text": [
      "Metric val_loss improved by 0.796 >= min_delta = 0.0. New best score: 1.096\n"
     ]
    },
    {
     "name": "stdout",
     "output_type": "stream",
     "text": [
      "Epoch 3: 100%|██████████| 30/30 [00:26<00:00,  1.13it/s, v_num=0, val_loss=0.795, step=3.000, val_f1=0.657, train_loss=0.883, train_f1=0.375]"
     ]
    },
    {
     "name": "stderr",
     "output_type": "stream",
     "text": [
      "Metric val_loss improved by 0.300 >= min_delta = 0.0. New best score: 0.795\n"
     ]
    },
    {
     "name": "stdout",
     "output_type": "stream",
     "text": [
      "Epoch 4: 100%|██████████| 30/30 [00:25<00:00,  1.16it/s, v_num=0, val_loss=0.637, step=4.000, val_f1=0.690, train_loss=0.649, train_f1=0.586]"
     ]
    },
    {
     "name": "stderr",
     "output_type": "stream",
     "text": [
      "Metric val_loss improved by 0.158 >= min_delta = 0.0. New best score: 0.637\n"
     ]
    },
    {
     "name": "stdout",
     "output_type": "stream",
     "text": [
      "Epoch 5: 100%|██████████| 30/30 [00:25<00:00,  1.16it/s, v_num=0, val_loss=0.544, step=5.000, val_f1=0.712, train_loss=0.522, train_f1=0.649]"
     ]
    },
    {
     "name": "stderr",
     "output_type": "stream",
     "text": [
      "Metric val_loss improved by 0.093 >= min_delta = 0.0. New best score: 0.544\n"
     ]
    },
    {
     "name": "stdout",
     "output_type": "stream",
     "text": [
      "Epoch 6: 100%|██████████| 30/30 [00:24<00:00,  1.21it/s, v_num=0, val_loss=0.475, step=6.000, val_f1=0.721, train_loss=0.425, train_f1=0.688]"
     ]
    },
    {
     "name": "stderr",
     "output_type": "stream",
     "text": [
      "Metric val_loss improved by 0.069 >= min_delta = 0.0. New best score: 0.475\n"
     ]
    },
    {
     "name": "stdout",
     "output_type": "stream",
     "text": [
      "Epoch 7: 100%|██████████| 30/30 [00:24<00:00,  1.22it/s, v_num=0, val_loss=0.421, step=7.000, val_f1=0.765, train_loss=0.349, train_f1=0.707]"
     ]
    },
    {
     "name": "stderr",
     "output_type": "stream",
     "text": [
      "Metric val_loss improved by 0.054 >= min_delta = 0.0. New best score: 0.421\n"
     ]
    },
    {
     "name": "stdout",
     "output_type": "stream",
     "text": [
      "Epoch 8: 100%|██████████| 30/30 [00:27<00:00,  1.11it/s, v_num=0, val_loss=0.388, step=8.000, val_f1=0.792, train_loss=0.292, train_f1=0.776]"
     ]
    },
    {
     "name": "stderr",
     "output_type": "stream",
     "text": [
      "Metric val_loss improved by 0.034 >= min_delta = 0.0. New best score: 0.388\n"
     ]
    },
    {
     "name": "stdout",
     "output_type": "stream",
     "text": [
      "Epoch 9: 100%|██████████| 30/30 [00:27<00:00,  1.09it/s, v_num=0, val_loss=0.368, step=9.000, val_f1=0.808, train_loss=0.248, train_f1=0.812]"
     ]
    },
    {
     "name": "stderr",
     "output_type": "stream",
     "text": [
      "Metric val_loss improved by 0.019 >= min_delta = 0.0. New best score: 0.368\n"
     ]
    },
    {
     "name": "stdout",
     "output_type": "stream",
     "text": [
      "Epoch 11: 100%|██████████| 30/30 [00:28<00:00,  1.06it/s, v_num=0, val_loss=0.347, step=11.00, val_f1=0.818, train_loss=0.185, train_f1=0.810]"
     ]
    },
    {
     "name": "stderr",
     "output_type": "stream",
     "text": [
      "Metric val_loss improved by 0.022 >= min_delta = 0.0. New best score: 0.347\n"
     ]
    },
    {
     "name": "stdout",
     "output_type": "stream",
     "text": [
      "Epoch 14: 100%|██████████| 30/30 [00:28<00:00,  1.05it/s, v_num=0, val_loss=0.346, step=14.00, val_f1=0.760, train_loss=0.112, train_f1=0.847]"
     ]
    },
    {
     "name": "stderr",
     "output_type": "stream",
     "text": [
      "Metric val_loss improved by 0.001 >= min_delta = 0.0. New best score: 0.346\n"
     ]
    },
    {
     "name": "stdout",
     "output_type": "stream",
     "text": [
      "Epoch 15: 100%|██████████| 30/30 [00:26<00:00,  1.14it/s, v_num=0, val_loss=0.343, step=15.00, val_f1=0.780, train_loss=0.0996, train_f1=0.850]"
     ]
    },
    {
     "name": "stderr",
     "output_type": "stream",
     "text": [
      "Metric val_loss improved by 0.002 >= min_delta = 0.0. New best score: 0.343\n"
     ]
    },
    {
     "name": "stdout",
     "output_type": "stream",
     "text": [
      "Epoch 20: 100%|██████████| 30/30 [00:25<00:00,  1.19it/s, v_num=0, val_loss=0.336, step=20.00, val_f1=0.803, train_loss=0.0547, train_f1=0.890]"
     ]
    },
    {
     "name": "stderr",
     "output_type": "stream",
     "text": [
      "Metric val_loss improved by 0.008 >= min_delta = 0.0. New best score: 0.336\n"
     ]
    },
    {
     "name": "stdout",
     "output_type": "stream",
     "text": [
      "Epoch 25: 100%|██████████| 30/30 [00:24<00:00,  1.21it/s, v_num=0, val_loss=0.408, step=25.00, val_f1=0.805, train_loss=0.0283, train_f1=0.929]Epoch 00026: reducing learning rate of group 0 to 1.0000e-04.\n",
      "Epoch 26: 100%|██████████| 30/30 [00:25<00:00,  1.17it/s, v_num=0, val_loss=0.359, step=26.00, val_f1=0.814, train_loss=0.0184, train_f1=0.940]"
     ]
    },
    {
     "name": "stderr",
     "output_type": "stream",
     "text": [
      "Monitored metric val_loss did not improve in the last 6 records. Best score: 0.336. Signaling Trainer to stop.\n"
     ]
    },
    {
     "name": "stdout",
     "output_type": "stream",
     "text": [
      "Epoch 26: 100%|██████████| 30/30 [00:25<00:00,  1.17it/s, v_num=0, val_loss=0.359, step=26.00, val_f1=0.814, train_loss=0.0184, train_f1=0.940]\n"
     ]
    }
   ],
   "source": [
    "logs_path = Path.cwd() / \"logs\" / \"lightning_logs\"\n",
    "train = False\n",
    "\n",
    "seeds = [6, 90, 157]\n",
    "\n",
    "epochs = 100\n",
    "output_dim = len(df_train[\"POS\"].unique()) + 1  # +1 for padding\n",
    "hidden_dim = 128\n",
    "input_dim = embedding_dim\n",
    "\n",
    "model_classes = [BiLSTMModel, Model1, Model2]\n",
    "model_names = [\"baseline\", \"model1\", \"model2\"]\n",
    "hyperparameters = [\n",
    "    {'input_dim': input_dim, 'hidden_dim': hidden_dim, 'output_dim': output_dim},\n",
    "    {'input_dim': input_dim, 'hidden_dim': hidden_dim, 'output_dim': output_dim},\n",
    "    {'input_dim': input_dim, 'hidden_dim': hidden_dim, 'output_dim': output_dim, 'fc_size': 256}\n",
    "]\n",
    "\n",
    "if train:\n",
    "    for model_class, model_name, hyperparameter in zip(model_classes, model_names, hyperparameters):\n",
    "        for seed in seeds:\n",
    "            print(f\"Training model {model_name} with seed {seed}...\")\n",
    "            seed_everything(seed, workers=True)\n",
    "\n",
    "            model = model_class(**hyperparameter)\n",
    "\n",
    "            logger = TensorBoardLogger(logs_path, name=f\"{model_name}_seed{seed}_emb{embedding_dim}\")\n",
    "            checkpoint_callback = ModelCheckpoint(\n",
    "                monitor='val_loss',\n",
    "                dirpath=None,\n",
    "                filename=f'{model_name}-seed={seed}' + '-{epoch:02d}-{val_loss:.2f}-{val_f1:.2f}',\n",
    "                save_top_k=1,\n",
    "            )\n",
    "            \n",
    "            early_stop_callback = EarlyStopping(\n",
    "                monitor='val_loss',\n",
    "                patience=6,\n",
    "                verbose=True,\n",
    "                mode='min'\n",
    "            )\n",
    "\n",
    "            trainer = Trainer(\n",
    "                max_epochs=epochs,\n",
    "                logger=logger,\n",
    "                log_every_n_steps=1,\n",
    "                callbacks=[checkpoint_callback, early_stop_callback],\n",
    "                deterministic=True\n",
    "            )\n",
    "\n",
    "            trainer.fit(model, train_loader, val_loader)\n",
    "else:\n",
    "    print(\"Skipping training...\")"
   ]
  },
  {
   "cell_type": "markdown",
   "metadata": {},
   "source": [
    "### Robust estimation across seeds and choice of best model\n",
    "\n",
    "Compute mean and standard deviation of the validation F1Score across seeds for each of the 3 models"
   ]
  },
  {
   "cell_type": "code",
   "execution_count": 21,
   "metadata": {
    "ExecuteTime": {
     "end_time": "2023-12-08T15:47:55.412815200Z",
     "start_time": "2023-12-08T15:47:55.395792200Z"
    }
   },
   "outputs": [],
   "source": [
    "def mean_and_std_f1score(f1_scores: list):\n",
    "    mean_f1_score = torch.mean(torch.Tensor(f1_scores))\n",
    "    std_f1_score = torch.std(torch.Tensor(f1_scores))\n",
    "\n",
    "    return mean_f1_score, std_f1_score\n",
    "\n",
    "\n",
    "# Iterate log directory and retrieve f1 scores for every model\n",
    "models_dict = {\n",
    "    \"baseline\": {\n",
    "        \"best_model_path\": \"\",\n",
    "        \"val_f1_scores\": []\n",
    "    },\n",
    "    \"model1\": {\n",
    "        \"best_model_path\": \"\",\n",
    "        \"val_f1_scores\": []\n",
    "    },\n",
    "    \"model2\": {\n",
    "        \"best_model_path\": \"\",\n",
    "        \"val_f1_scores\": []\n",
    "    }\n",
    "}\n",
    "\n",
    "for model_name in model_names:\n",
    "    best_model_f1_score = 0\n",
    "    \n",
    "    for root, dirs, files in os.walk(logs_path):\n",
    "        for file in files:\n",
    "            file_path = os.path.join(root, file)\n",
    "            if file_path.endswith('.ckpt') and model_name in file_path:\n",
    "                f1_score = float(re.search(r'val_f1=(\\d\\.\\d+)', file_path).group(1))\n",
    "                models_dict[model_name][\"val_f1_scores\"].append(f1_score)\n",
    "\n",
    "                if f1_score > best_model_f1_score:\n",
    "                    models_dict[model_name][\"best_model_path\"] = file_path\n",
    "                    best_model_f1_score = f1_score"
   ]
  },
  {
   "cell_type": "code",
   "execution_count": 22,
   "metadata": {
    "ExecuteTime": {
     "end_time": "2023-12-08T15:47:55.424277200Z",
     "start_time": "2023-12-08T15:47:55.410816400Z"
    }
   },
   "outputs": [
    {
     "name": "stdout",
     "output_type": "stream",
     "text": [
      "baseline mean f1 score: 0.7967 ± 0.0208\n",
      "model1 mean f1 score: 0.8267 ± 0.0058\n",
      "model2 mean f1 score: 0.8133 ± 0.0153\n"
     ]
    }
   ],
   "source": [
    "for model_name in model_names:\n",
    "    mean, std = mean_and_std_f1score(models_dict[model_name][\"val_f1_scores\"])\n",
    "    print(f\"{model_name} mean f1 score: {round(mean.item(), 4)} ± {round(std.item(), 4)}\")"
   ]
  },
  {
   "cell_type": "markdown",
   "metadata": {},
   "source": [
    "The best performing model is **model 1**. We consider its best instance (seed 6) for the error analysis"
   ]
  },
  {
   "cell_type": "markdown",
   "metadata": {},
   "source": [
    "## TASK 6: Error analysis\n",
    "\n",
    "You are tasked to evaluate your best performing model."
   ]
  },
  {
   "cell_type": "markdown",
   "metadata": {},
   "source": [
    "### Instructions\n",
    "\n",
    "* Train **all** models on the train set.\n",
    "* Evaluate **all** models on the validation set.\n",
    "* Compute metrics on the validation set.\n",
    "* Pick **at least** three seeds for robust estimation.\n",
    "* Pick the **best** performing model according to the observed validation set performance."
   ]
  },
  {
   "cell_type": "markdown",
   "metadata": {
    "collapsed": false
   },
   "source": [
    "### Best model evaluation\n",
    "The best model is taken and it's evaluated on test and val"
   ]
  },
  {
   "cell_type": "code",
   "execution_count": 23,
   "metadata": {
    "ExecuteTime": {
     "end_time": "2023-12-08T15:47:55.769727Z",
     "start_time": "2023-12-08T15:47:55.426276700Z"
    },
    "collapsed": false
   },
   "outputs": [
    {
     "data": {
      "text/plain": [
       "Model1(\n",
       "  (lstm): LSTM(300, 128, num_layers=2, batch_first=True, bidirectional=True)\n",
       "  (fc): Linear(in_features=256, out_features=46, bias=True)\n",
       "  (_train_f1_metric): F1ScoreCustom()\n",
       "  (_val_f1_metric): F1ScoreCustom()\n",
       "  (_test_f1_metric): F1ScoreCustom()\n",
       ")"
      ]
     },
     "execution_count": 23,
     "metadata": {},
     "output_type": "execute_result"
    }
   ],
   "source": [
    "def load_model(model_name, model_path):\n",
    "    if model_name == \"baseline\":\n",
    "        cls = BiLSTMModel\n",
    "    elif model_name == \"model1\":\n",
    "        cls = Model1\n",
    "    elif model_name == \"model2\":\n",
    "        cls = Model2\n",
    "    else:\n",
    "        raise ValueError(f\"Model name {model_name} not recognized.\")\n",
    "    hparams_path = Path(model_path).parent.parent / \"hparams.yaml\"\n",
    "    model = cls.load_from_checkpoint(model_path, hparams_file=hparams_path)\n",
    "    model.freeze()\n",
    "    return model\n",
    "\n",
    "best_model = load_model(\"model1\", models_dict[\"model1\"][\"best_model_path\"])\n",
    "best_model"
   ]
  },
  {
   "cell_type": "markdown",
   "metadata": {},
   "source": [
    "Comparison of performance in validation and test sets"
   ]
  },
  {
   "cell_type": "code",
   "execution_count": 24,
   "metadata": {
    "ExecuteTime": {
     "end_time": "2023-12-08T15:47:59.142276500Z",
     "start_time": "2023-12-08T15:47:55.770727100Z"
    },
    "collapsed": false
   },
   "outputs": [
    {
     "name": "stderr",
     "output_type": "stream",
     "text": [
      "GPU available: False, used: False\n",
      "TPU available: False, using: 0 TPU cores\n",
      "IPU available: False, using: 0 IPUs\n",
      "HPU available: False, using: 0 HPUs\n",
      "Missing logger folder: c:\\Users\\merli\\OneDrive\\Desktop\\Github repos\\NLP\\A1\\lightning_logs\n",
      "d:\\Users\\edo\\envs\\nlp\\Lib\\site-packages\\lightning\\pytorch\\trainer\\connectors\\data_connector.py:441: The 'test_dataloader' does not have many workers which may be a bottleneck. Consider increasing the value of the `num_workers` argument` to `num_workers=7` in the `DataLoader` to improve performance.\n"
     ]
    },
    {
     "name": "stdout",
     "output_type": "stream",
     "text": [
      "Testing: |          | 0/? [00:00<?, ?it/s]"
     ]
    },
    {
     "name": "stdout",
     "output_type": "stream",
     "text": [
      "Testing DataLoader 0: 100%|██████████| 10/10 [00:02<00:00,  3.83it/s]\n",
      "────────────────────────────────────────────────────────────────────────────────────────────────────────────────────────\n",
      "       Test metric             DataLoader 0\n",
      "────────────────────────────────────────────────────────────────────────────────────────────────────────────────────────\n",
      "          step                      0.0\n",
      "         test_f1            0.8352375030517578\n",
      "        test_loss            0.259675532579422\n",
      "────────────────────────────────────────────────────────────────────────────────────────────────────────────────────────\n",
      "Validation DataLoader 0: 100%|██████████| 20/20 [00:06<00:00,  3.23it/s]\n",
      "────────────────────────────────────────────────────────────────────────────────────────────────────────────────────────\n",
      "     Validate metric           DataLoader 0\n",
      "────────────────────────────────────────────────────────────────────────────────────────────────────────────────────────\n",
      "          step                      0.0\n",
      "         val_f1             0.8315724730491638\n",
      "        val_loss            0.2865433096885681\n",
      "────────────────────────────────────────────────────────────────────────────────────────────────────────────────────────\n",
      "Validation performance: loss 0.28654, f1 0.83157\n",
      "Test performance: loss 0.25968, f1 0.83524\n"
     ]
    }
   ],
   "source": [
    "trainer = Trainer(deterministic=True)\n",
    "test_res = trainer.test(best_model, dataloaders=test_loader)\n",
    "val_res = trainer.validate(best_model, dataloaders=val_loader)\n",
    "\n",
    "print(f\"Validation performance: loss {round(val_res[0]['val_loss'], 5)}, f1 {round(val_res[0]['val_f1'], 5)}\")\n",
    "print(f\"Test performance: loss {round(test_res[0]['test_loss'], 5)}, f1 {round(test_res[0]['test_f1'], 5)}\")"
   ]
  },
  {
   "cell_type": "markdown",
   "metadata": {},
   "source": [
    "### Plot precision-recall curves\n",
    "For each POS class the precision recall curve with the corresponding AUC value is plotted. After the 3 most difficult tags are shown."
   ]
  },
  {
   "cell_type": "code",
   "execution_count": 25,
   "metadata": {
    "ExecuteTime": {
     "end_time": "2023-12-08T15:48:19.070291100Z",
     "start_time": "2023-12-08T15:47:59.146080300Z"
    },
    "collapsed": false
   },
   "outputs": [
    {
     "data": {
      "image/png": "[encoded data removed]",
      "text/plain": [
       "<Figure size 1500x1000 with 1 Axes>"
      ]
     },
     "metadata": {},
     "output_type": "display_data"
    }
   ],
   "source": [
    "import matplotlib.pyplot as plt\n",
    "from torchmetrics import PrecisionRecallCurve\n",
    "\n",
    "precision_curve = PrecisionRecallCurve(task=\"multiclass\", num_classes=best_model.output_dim)\n",
    "\n",
    "\n",
    "def model_predict(loader, model):\n",
    "    y_pred = torch.Tensor([])\n",
    "    y_true = torch.empty(0, dtype=torch.long)\n",
    "\n",
    "    for batch in loader:\n",
    "        x_batch, y_true_batch = batch\n",
    "        y_pred_batch = model(x_batch)\n",
    "        y_pred_batch = y_pred_batch.reshape(-1, model.output_dim)\n",
    "        y_true_batch = y_true_batch.reshape(-1)\n",
    "        y_pred = torch.cat((y_pred, y_pred_batch), dim=0)\n",
    "        y_true = torch.cat((y_true, y_true_batch), dim=0)\n",
    "\n",
    "    return y_pred, y_true\n",
    "\n",
    "y_pred, y_true = model_predict(test_loader, best_model)\n",
    "    \n",
    "\n",
    "curve = precision_curve(y_pred, y_true)\n",
    "precision, recall, _ = curve\n",
    "\n",
    "plt.figure(figsize=(15, 10))\n",
    "plt.title(\"Precision-Recall Curve\")\n",
    "plt.xlabel(\"Recall\")\n",
    "plt.ylabel(\"Precision\")\n",
    "plt.xlim(0, 1)\n",
    "plt.ylim(0, 1)\n",
    "plt.grid()\n",
    "\n",
    "\n",
    "pos_to_auc = {}\n",
    "for i in range(best_model.output_dim):\n",
    "    pos_name = pos_vocab.lookup_token(i)\n",
    "    \n",
    "    if pos_name in punctuation_and_symbol_pos:\n",
    "        continue\n",
    "                \n",
    "    auc = -1 * torch.trapz(precision[i], recall[i])\n",
    "    \n",
    "    pos_to_auc[pos_name] = auc.item()\n",
    "    \n",
    "    plt.plot(recall[i], precision[i], label=f\"{pos_name}: {auc:.2f}\")\n",
    "\n",
    "plt.legend(loc=\"center left\", bbox_to_anchor=(1, 0.5))\n",
    "plt.show()\n"
   ]
  },
  {
   "cell_type": "code",
   "execution_count": 26,
   "metadata": {
    "ExecuteTime": {
     "end_time": "2023-12-08T15:48:19.085375100Z",
     "start_time": "2023-12-08T15:48:19.071290500Z"
    },
    "collapsed": false
   },
   "outputs": [
    {
     "name": "stdout",
     "output_type": "stream",
     "text": [
      "Top 3 hardest pos [('PDT', 0.3132553696632385), ('NNPS', 0.3231227993965149), ('RBR', 0.511216402053833)]\n"
     ]
    }
   ],
   "source": [
    "top_k_hardest = 3\n",
    "hardest = sorted(pos_to_auc.items(), key=lambda x: x[1])[:top_k_hardest]\n",
    "print(f\"Top 3 hardest pos {hardest}\")"
   ]
  },
  {
   "cell_type": "markdown",
   "metadata": {},
   "source": [
    "### Confusion matrix\n",
    "The overall confusion matrix is plotted, it is useful to understand which are the most confusing tags."
   ]
  },
  {
   "cell_type": "code",
   "execution_count": 27,
   "metadata": {
    "ExecuteTime": {
     "end_time": "2023-12-08T15:48:19.443563Z",
     "start_time": "2023-12-08T15:48:19.087375Z"
    },
    "collapsed": false
   },
   "outputs": [
    {
     "data": {
      "image/png": "[encoded data removed]",
      "text/plain": [
       "<Figure size 1500x1000 with 2 Axes>"
      ]
     },
     "metadata": {},
     "output_type": "display_data"
    }
   ],
   "source": [
    "from torchmetrics.classification import MulticlassConfusionMatrix\n",
    "\n",
    "confusion_matrix_metric = MulticlassConfusionMatrix(num_classes=best_model.output_dim)\n",
    "\n",
    "y_pred_class = torch.argmax(y_pred, dim=1)\n",
    "pred_to_plot = y_pred_class[y_true != pos_padding_value]\n",
    "true_to_plot = y_true[y_true != pos_padding_value]\n",
    "\n",
    "confusion_matrix = confusion_matrix_metric(pred_to_plot, true_to_plot)\n",
    "\n",
    "# plot confusion matrix\n",
    "plt.figure(figsize=(15, 10))\n",
    "plt.title(\"Confusion Matrix\")\n",
    "plt.xlabel(\"Predicted\")\n",
    "plt.ylabel(\"True\")\n",
    "plt.imshow(confusion_matrix)\n",
    "plt.colorbar()\n",
    "plt.xticks(range(best_model.output_dim - 1), pos_vocab.get_itos()[:-1])\n",
    "plt.yticks(range(best_model.output_dim - 1), pos_vocab.get_itos()[:-1])\n",
    "# x ticks labels vertical\n",
    "plt.xticks(rotation=90)\n",
    "\n",
    "plt.show()"
   ]
  },
  {
   "cell_type": "markdown",
   "metadata": {},
   "source": [
    "### Difficult pairs\n",
    "From the confusion matrix, it is possible to find the most confused pairs. It is possible to expect that common and proper nouns can be easily confused instead of nouns and proposition or conjuction.   "
   ]
  },
  {
   "cell_type": "code",
   "execution_count": 28,
   "metadata": {
    "ExecuteTime": {
     "end_time": "2023-12-08T15:48:19.474779200Z",
     "start_time": "2023-12-08T15:48:19.445563800Z"
    },
    "collapsed": false
   },
   "outputs": [
    {
     "name": "stdout",
     "output_type": "stream",
     "text": [
      "Top 1 most confused pos: NNP, confused with NN with 122 errors\n",
      "Top 2 most confused pos: NN, confused with JJ with 96 errors\n",
      "Top 3 most confused pos: JJ, confused with NN with 78 errors\n",
      "Top 4 most confused pos: IN, confused with RB with 36 errors\n",
      "Top 5 most confused pos: NNS, confused with NN with 35 errors\n",
      "Top 6 most confused pos: VBN, confused with JJ with 33 errors\n"
     ]
    }
   ],
   "source": [
    "# Find the maximum value outside the diagonal\n",
    "confused_pos = {}\n",
    "    \n",
    "for i in range(best_model.output_dim):\n",
    "    if i in punctuation_and_symbol_pos or i == pos_padding_value:\n",
    "        continue\n",
    "        \n",
    "    temp_row = confusion_matrix[i]\n",
    "    temp_row[i] = -1\n",
    "    \n",
    "    # find the pos that is most confused with the current pos\n",
    "    max_pos = torch.argmax(temp_row)\n",
    "    \n",
    "    confused_pos[pos_vocab.lookup_token(i)] = {\n",
    "        \"confused_with\": pos_vocab.lookup_token(max_pos),\n",
    "        \"n_errors\": temp_row[max_pos].item()\n",
    "    }\n",
    "    \n",
    "\n",
    "top_k_most_confused = 6\n",
    "most_confused = sorted(confused_pos.items(), key=lambda x: x[1][\"n_errors\"], reverse=True)[:top_k_most_confused]\n",
    "\n",
    "for i, (pos, info) in enumerate(most_confused):\n",
    "    print(f\"Top {i + 1} most confused pos: {pos}, confused with {info['confused_with']} with {info['n_errors']} errors\")"
   ]
  },
  {
   "cell_type": "markdown",
   "metadata": {
    "collapsed": false
   },
   "source": [
    "### Analysis of some misclassified samples\n",
    "The most difficult sentences are shown here. "
   ]
  },
  {
   "cell_type": "code",
   "execution_count": 31,
   "metadata": {
    "ExecuteTime": {
     "end_time": "2023-12-08T15:48:23.383885300Z",
     "start_time": "2023-12-08T15:48:19.460229400Z"
    }
   },
   "outputs": [
    {
     "name": "stdout",
     "output_type": "stream",
     "text": [
      "Top 1 hardest sentence: 74, with 3 errors and f1 score 0.2\n"
     ]
    },
    {
     "data": {
      "text/html": [
       "<div>\n",
       "<style scoped>\n",
       "    .dataframe tbody tr th:only-of-type {\n",
       "        vertical-align: middle;\n",
       "    }\n",
       "\n",
       "    .dataframe tbody tr th {\n",
       "        vertical-align: top;\n",
       "    }\n",
       "\n",
       "    .dataframe thead th {\n",
       "        text-align: right;\n",
       "    }\n",
       "</style>\n",
       "<table border=\"1\" class=\"dataframe\">\n",
       "  <thead>\n",
       "    <tr style=\"text-align: right;\">\n",
       "      <th></th>\n",
       "      <th>text</th>\n",
       "      <th>ground_truth</th>\n",
       "      <th>prediction</th>\n",
       "    </tr>\n",
       "  </thead>\n",
       "  <tbody>\n",
       "    <tr>\n",
       "      <th>0</th>\n",
       "      <td>GRAINS</td>\n",
       "      <td>NNPS</td>\n",
       "      <td>NNS</td>\n",
       "    </tr>\n",
       "    <tr>\n",
       "      <th>1</th>\n",
       "      <td>AND</td>\n",
       "      <td>NNP</td>\n",
       "      <td>CC</td>\n",
       "    </tr>\n",
       "    <tr>\n",
       "      <th>2</th>\n",
       "      <td>SOYBEANS</td>\n",
       "      <td>NNPS</td>\n",
       "      <td>NNS</td>\n",
       "    </tr>\n",
       "    <tr>\n",
       "      <th>3</th>\n",
       "      <td>:</td>\n",
       "      <td>:</td>\n",
       "      <td>:</td>\n",
       "    </tr>\n",
       "  </tbody>\n",
       "</table>\n",
       "</div>"
      ],
      "text/plain": [
       "       text ground_truth prediction\n",
       "0    GRAINS         NNPS        NNS\n",
       "1       AND          NNP         CC\n",
       "2  SOYBEANS         NNPS        NNS\n",
       "3         :            :          :"
      ]
     },
     "metadata": {},
     "output_type": "display_data"
    },
    {
     "name": "stdout",
     "output_type": "stream",
     "text": [
      "Top 2 hardest sentence: 82, with 1 errors and f1 score 0.3333333333333333\n"
     ]
    },
    {
     "data": {
      "text/html": [
       "<div>\n",
       "<style scoped>\n",
       "    .dataframe tbody tr th:only-of-type {\n",
       "        vertical-align: middle;\n",
       "    }\n",
       "\n",
       "    .dataframe tbody tr th {\n",
       "        vertical-align: top;\n",
       "    }\n",
       "\n",
       "    .dataframe thead th {\n",
       "        text-align: right;\n",
       "    }\n",
       "</style>\n",
       "<table border=\"1\" class=\"dataframe\">\n",
       "  <thead>\n",
       "    <tr style=\"text-align: right;\">\n",
       "      <th></th>\n",
       "      <th>text</th>\n",
       "      <th>ground_truth</th>\n",
       "      <th>prediction</th>\n",
       "    </tr>\n",
       "  </thead>\n",
       "  <tbody>\n",
       "    <tr>\n",
       "      <th>0</th>\n",
       "      <td>COPPER</td>\n",
       "      <td>NNP</td>\n",
       "      <td>NN</td>\n",
       "    </tr>\n",
       "    <tr>\n",
       "      <th>1</th>\n",
       "      <td>:</td>\n",
       "      <td>:</td>\n",
       "      <td>:</td>\n",
       "    </tr>\n",
       "  </tbody>\n",
       "</table>\n",
       "</div>"
      ],
      "text/plain": [
       "     text ground_truth prediction\n",
       "0  COPPER          NNP         NN\n",
       "1       :            :          :"
      ]
     },
     "metadata": {},
     "output_type": "display_data"
    },
    {
     "name": "stdout",
     "output_type": "stream",
     "text": [
      "Top 3 hardest sentence: 329, with 2 errors and f1 score 0.5\n"
     ]
    },
    {
     "data": {
      "text/html": [
       "<div>\n",
       "<style scoped>\n",
       "    .dataframe tbody tr th:only-of-type {\n",
       "        vertical-align: middle;\n",
       "    }\n",
       "\n",
       "    .dataframe tbody tr th {\n",
       "        vertical-align: top;\n",
       "    }\n",
       "\n",
       "    .dataframe thead th {\n",
       "        text-align: right;\n",
       "    }\n",
       "</style>\n",
       "<table border=\"1\" class=\"dataframe\">\n",
       "  <thead>\n",
       "    <tr style=\"text-align: right;\">\n",
       "      <th></th>\n",
       "      <th>text</th>\n",
       "      <th>ground_truth</th>\n",
       "      <th>prediction</th>\n",
       "    </tr>\n",
       "  </thead>\n",
       "  <tbody>\n",
       "    <tr>\n",
       "      <th>0</th>\n",
       "      <td>Stocks</td>\n",
       "      <td>NNS</td>\n",
       "      <td>NNS</td>\n",
       "    </tr>\n",
       "    <tr>\n",
       "      <th>1</th>\n",
       "      <td>:</td>\n",
       "      <td>:</td>\n",
       "      <td>:</td>\n",
       "    </tr>\n",
       "    <tr>\n",
       "      <th>2</th>\n",
       "      <td>Volume</td>\n",
       "      <td>NN</td>\n",
       "      <td>JJ</td>\n",
       "    </tr>\n",
       "    <tr>\n",
       "      <th>3</th>\n",
       "      <td>154,240,000</td>\n",
       "      <td>CD</td>\n",
       "      <td>NN</td>\n",
       "    </tr>\n",
       "    <tr>\n",
       "      <th>4</th>\n",
       "      <td>shares</td>\n",
       "      <td>NNS</td>\n",
       "      <td>NNS</td>\n",
       "    </tr>\n",
       "    <tr>\n",
       "      <th>5</th>\n",
       "      <td>.</td>\n",
       "      <td>.</td>\n",
       "      <td>.</td>\n",
       "    </tr>\n",
       "  </tbody>\n",
       "</table>\n",
       "</div>"
      ],
      "text/plain": [
       "          text ground_truth prediction\n",
       "0       Stocks          NNS        NNS\n",
       "1            :            :          :\n",
       "2       Volume           NN         JJ\n",
       "3  154,240,000           CD         NN\n",
       "4       shares          NNS        NNS\n",
       "5            .            .          ."
      ]
     },
     "metadata": {},
     "output_type": "display_data"
    }
   ],
   "source": [
    "from sklearn.metrics import f1_score \n",
    "\n",
    "def model_predict_sentence(sentence: list[str]):\n",
    "    sentence = [token.lower() for token in sentence]\n",
    "    embedded_text = embedder.get_vecs_by_tokens(sentence)\n",
    "    pred = best_model(embedded_text)\n",
    "    pred_class = torch.argmax(pred, dim=1)\n",
    "    pred_token = [pos_vocab.lookup_token(i) for i in pred_class]\n",
    "    return pred_token    \n",
    "\n",
    "\n",
    "result = []\n",
    "id_max = df_test[\"id\"].max()\n",
    "tot_errors = 0\n",
    "cap_errors = 0\n",
    "for id in range(id_max):\n",
    "    group = df_test.groupby(\"id\").get_group(id)\n",
    "    \n",
    "    text = group[\"text\"].to_list()\n",
    "    ground_truth = group[\"POS\"].to_list()\n",
    "    prediction = model_predict_sentence(text)\n",
    "    \n",
    "    # insert into a dataframe\n",
    "    df = pd.DataFrame({\"text\": text, \"ground_truth\": ground_truth, \"prediction\": prediction})\n",
    "    \n",
    "    # compute f1 score\n",
    "    f1 = f1_score(ground_truth, prediction, average=\"macro\")\n",
    "    \n",
    "    # compute number of errors\n",
    "    n_errors = len(df[df[\"ground_truth\"] != df[\"prediction\"]])\n",
    "\n",
    "    # update total errors and capitalization errors\n",
    "    tot_errors += n_errors\n",
    "\n",
    "    token_errors = df[df[\"ground_truth\"] != df[\"prediction\"]][\"text\"].to_list()\n",
    "    cap_errors += sum(s[0].isupper() for s in token_errors)\n",
    "\n",
    "    result.append({\n",
    "        \"df\": df,\n",
    "        \"n_errors\": n_errors,\n",
    "        \"f1_score\": f1,\n",
    "        \"id\": id\n",
    "    })\n",
    "\n",
    "\n",
    "top_k_hardest = 3\n",
    "\n",
    "for i, res in enumerate(sorted(result, key=lambda x: x[\"f1_score\"], reverse=False)[:top_k_hardest]):\n",
    "    print(f\"Top {i + 1} hardest sentence: {res['id']}, with {res['n_errors']} errors and f1 score {res['f1_score']}\")\n",
    "    display(res[\"df\"])"
   ]
  },
  {
   "cell_type": "markdown",
   "metadata": {},
   "source": [
    "Sentence one is a clear example of misslabeled data: even though it is a title of an article, it's not justified to label \"GRAINS\" and \"SOYBEANS\" as **proper** nouns. Even worse, \"AND\" cannot be a proper noun but is here a conjunction, as correctly predicted by the model."
   ]
  },
  {
   "cell_type": "markdown",
   "metadata": {},
   "source": [
    "For a better understanding of the errors portrayed above, here is the translation of the POS codes to their meaning, from the Penn Treebank dataset page:\n",
    "\n",
    "1. **CC**  Coordinating conjunction  \n",
    "2. **CD**  Cardinal number           \n",
    "3. **DT**  Determiner                \n",
    "4. **EX**  Existential there  \t \n",
    "5. **FW**  Foreign word              \n",
    "6. **IN**  Preposition/subord. conjunction  \t\n",
    "7. **JJ**  Adjective                 \n",
    "8. **JJR** Adjective, comparative    \n",
    "9. **JJS** Adjective, superlative    \n",
    "10. **LS**  List item marker          \n",
    "11. **MD**  Modal                     \n",
    "12. **NN**  Noun, singular or mass    \n",
    "13. **NNS** Noun, plural             \n",
    "14. **NNP** Proper noun, singular     \n",
    "15. **NNPS** Proper noun, plural      \n",
    "16. **PDT** Predeterminer             \n",
    "17. **POS** Possessive ending          \n",
    "18. **PRP** Personal pronoun           \n",
    "19. **PP**  Possessive pronoun         \n",
    "20. **RB**  Adverb                    \n",
    "21. **RBR** Adverb, comparative        \n",
    "22. **RBS** Adverb, superlative       \n",
    "23. **RP**  Particle                  \n",
    "24. **SYM** Symbol\n",
    "25. **TO**  to \n",
    "26. **UH**  Interjection \n",
    "27. **VB**  Verb, base form \n",
    "28. **VBD** Verb, past tense \n",
    "29. **VBG** Verb, gerund/present participle \n",
    "30. **VBN** Verb, past participle \n",
    "31. **VBP** Verb, non-3rd ps. sing. present \n",
    "32. **VBZ** Verb, 3rd ps. sing. present \n",
    "33. **WDT** wh-determiner \n",
    "34. **WP**  wh-pronoun \n",
    "35. **WP**  Possessive wh-pronoun \n",
    "36. **WRB** wh-adverb "
   ]
  },
  {
   "cell_type": "code",
   "execution_count": null,
   "metadata": {},
   "outputs": [
    {
     "name": "stdout",
     "output_type": "stream",
     "text": [
      "The number of capitalization errors is 310 out of 1212 total errors\n",
      "The percentage of capitalization errors is 25.58%\n"
     ]
    }
   ],
   "source": [
    "print(f\"The number of capitalization errors is {cap_errors} out of {tot_errors} total errors\")\n",
    "print(f\"The percentage of capitalization errors is {round(cap_errors / tot_errors * 100, 2)}%\")"
   ]
  },
  {
   "cell_type": "markdown",
   "metadata": {},
   "source": [
    "Notably, a big percentage of errors are on capitalized (in the original dataset, before preprocessing) work tokens. This could be explained by the fact that we make all tokens lowercase as a preprocessing step, and hence lose information."
   ]
  },
  {
   "cell_type": "markdown",
   "metadata": {},
   "source": [
    "## Task 7: Report\n",
    "\n",
    "The report can be found in this folder, with the name *report.pdf*"
   ]
  },
  {
   "cell_type": "markdown",
   "metadata": {},
   "source": [
    "We included here a plot of the training and validation loss and macro F1 score during training (obtained using TensorBoard)\n",
    "\n",
    "<center>\n",
    "    <img src=\"images/learning_curves.png\" alt=\"Learning curves plots\" />\n",
    "</center>"
   ]
  }
 ],
 "metadata": {
  "kernelspec": {
   "display_name": "Python 3",
   "language": "python",
   "name": "python3"
  },
  "language_info": {
   "codemirror_mode": {
    "name": "ipython",
    "version": 3
   },
   "file_extension": ".py",
   "mimetype": "text/x-python",
   "name": "python",
   "nbconvert_exporter": "python",
   "pygments_lexer": "ipython3",
   "version": "3.11.5"
  }
 },
 "nbformat": 4,
 "nbformat_minor": 2
}
