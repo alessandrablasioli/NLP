{
 "cells": [
  {
   "cell_type": "markdown",
   "metadata": {},
   "source": [
    "# Assignment 1 - Part of Speech Tagging"
   ]
  },
  {
   "cell_type": "markdown",
   "metadata": {},
   "source": [
    "## Dependencies"
   ]
  },
  {
   "cell_type": "code",
   "execution_count": 1,
   "metadata": {},
   "outputs": [],
   "source": [
    "# !pip install lightning\n",
    "# !pip install torchtext.data\n",
    "# !pip install torchtext\n",
    "# !pip install torch"
   ]
  },
  {
   "cell_type": "code",
   "execution_count": 2,
   "metadata": {},
   "outputs": [],
   "source": [
    "# TODO: remove unused dependencies\n",
    "\n",
    "# file management\n",
    "import urllib\n",
    "from pathlib import Path\n",
    "import zipfile\n",
    "import re\n",
    "import os\n",
    "\n",
    "# dataframe management\n",
    "import pandas as pd\n",
    "\n",
    "# data manipulation\n",
    "import numpy as np\n",
    "\n",
    "# for readability\n",
    "from tqdm import tqdm\n",
    "\n",
    "# pytorch\n",
    "import torch\n",
    "from torch import nn\n",
    "from torch.utils.data import Dataset\n",
    "from torch.utils.data import DataLoader\n",
    "\n",
    "# pytorch lightning\n",
    "from lightning import LightningModule\n",
    "from lightning.pytorch import Trainer, seed_everything\n",
    "from lightning.pytorch.loggers import TensorBoardLogger\n",
    "from lightning.pytorch.callbacks import ModelCheckpoint\n",
    "from lightning.pytorch.callbacks.early_stopping import EarlyStopping\n",
    "\n",
    "# Glove and vocabulary\n",
    "from torchtext.vocab import GloVe, build_vocab_from_iterator"
   ]
  },
  {
   "cell_type": "markdown",
   "metadata": {},
   "source": [
    "## TASK 1: Corpus\n",
    "\n",
    "* **Download** the corpus.\n",
    "* **Encode** the corpus into a pandas.DataFrame object.\n",
    "* **Split** it in training, validation, and test sets."
   ]
  },
  {
   "cell_type": "markdown",
   "metadata": {},
   "source": [
    "### Download the corpus"
   ]
  },
  {
   "cell_type": "code",
   "execution_count": 3,
   "metadata": {},
   "outputs": [],
   "source": [
    "class DownloadProgressBar(tqdm):\n",
    "    def update_to(self, b=1, bsize=1, tsize=None):\n",
    "        if tsize is not None:\n",
    "            self.total = tsize\n",
    "        self.update(b * bsize - self.n)\n",
    "\n",
    "\n",
    "def download_url(download_path: Path, url: str):\n",
    "    with DownloadProgressBar(unit='B', unit_scale=True,\n",
    "                             miniters=1, desc=url.split('/')[-1]) as t:\n",
    "        urllib.request.urlretrieve(url, filename=download_path, reporthook=t.update_to)\n",
    "\n",
    "\n",
    "def download_dataset(download_path: Path, url: str):\n",
    "    print(\"Downloading dataset...\")\n",
    "    download_url(url=url, download_path=download_path)\n",
    "    print(\"Download complete!\")\n",
    "\n",
    "\n",
    "def extract_dataset(download_path: Path, extract_path: Path):\n",
    "    print(\"Extracting dataset... (it may take a while...)\")\n",
    "    with zipfile.ZipFile(download_path, 'r') as zip_file:\n",
    "        zip_file.extractall(extract_path)\n",
    "\n",
    "    print(\"Extraction completed!\")\n",
    "\n",
    "    Path.unlink(download_path)\n",
    "    print(\"Deleted .zip dataset file\")"
   ]
  },
  {
   "cell_type": "code",
   "execution_count": 4,
   "metadata": {},
   "outputs": [
    {
     "name": "stdout",
     "output_type": "stream",
     "text": [
      "Current work directory: c:\\Users\\merli\\OneDrive\\Desktop\\Github repos\\NLP\\A1\n"
     ]
    }
   ],
   "source": [
    "url = \"https://raw.githubusercontent.com/nltk/nltk_data/gh-pages/packages/corpora/dependency_treebank.zip\"\n",
    "dataset_name = \"dependency_treebank\"\n",
    "\n",
    "print(f\"Current work directory: {Path.cwd()}\")\n",
    "\n",
    "dataset_folder = Path.cwd().joinpath(\"Datasets\")\n",
    "\n",
    "if not dataset_folder.exists():\n",
    "    dataset_folder.mkdir(parents=True)\n",
    "\n",
    "dataset_zip_path = dataset_folder.joinpath(\"dependency_treebank.zip\")\n",
    "dataset_path = dataset_folder.joinpath(dataset_name)\n",
    "\n",
    "if not dataset_zip_path.exists():\n",
    "    download_dataset(dataset_zip_path, url)\n",
    "\n",
    "if not dataset_path.exists():\n",
    "    extract_dataset(dataset_zip_path, dataset_folder)\n"
   ]
  },
  {
   "cell_type": "markdown",
   "metadata": {},
   "source": [
    "### Encode the corpus into a pandas.DataFrame object and split it into train, validation and test sets"
   ]
  },
  {
   "cell_type": "markdown",
   "metadata": {},
   "source": [
    "The corpus contains 200 documents.\n",
    "\n",
    "   * **Train**: Documents 1-100\n",
    "   * **Validation**: Documents 101-150\n",
    "   * **Test**: Documents 151-199"
   ]
  },
  {
   "cell_type": "code",
   "execution_count": 5,
   "metadata": {},
   "outputs": [],
   "source": [
    "dataframe_rows = []\n",
    "id = 0\n",
    "\n",
    "for i, file_path in enumerate(sorted(dataset_path.iterdir())):\n",
    "    if file_path.is_file():  # split corpus documents in the tree categories: train, validation, tests\n",
    "        if 1 <= i + 1 <= 100:\n",
    "            split = 'train'\n",
    "        elif 101 <= i + 1 <= 150:\n",
    "            split = 'validation'\n",
    "        else:\n",
    "            split = 'test'\n",
    "\n",
    "        with file_path.open(mode='r', encoding='utf-8') as text_file:  # read corpus lines\n",
    "            lines = text_file.readlines()\n",
    "\n",
    "        for line in lines:\n",
    "            fields = line.strip().split('\\t')\n",
    "            if len(fields) == 1:\n",
    "                id = id + 1\n",
    "            if len(fields) >= 2:\n",
    "                text = fields[0]  # store the first field as 'text'\n",
    "                POS = fields[1]  # store the second field as 'POS'\n",
    "                dataframe_row = {  #build DataFrame rows\n",
    "                    \"text\": text,\n",
    "                    \"POS\": POS,\n",
    "                    \"split\": split,\n",
    "                    \"id\": id\n",
    "                }\n",
    "\n",
    "                dataframe_rows.append(dataframe_row)  #append rows\n",
    "# corpus DataFrame\n",
    "corpus_df = pd.DataFrame(dataframe_rows)"
   ]
  },
  {
   "cell_type": "markdown",
   "metadata": {},
   "source": [
    "#### Data inspection"
   ]
  },
  {
   "cell_type": "code",
   "execution_count": 6,
   "metadata": {},
   "outputs": [
    {
     "data": {
      "text/html": [
       "<div>\n",
       "<style scoped>\n",
       "    .dataframe tbody tr th:only-of-type {\n",
       "        vertical-align: middle;\n",
       "    }\n",
       "\n",
       "    .dataframe tbody tr th {\n",
       "        vertical-align: top;\n",
       "    }\n",
       "\n",
       "    .dataframe thead th {\n",
       "        text-align: right;\n",
       "    }\n",
       "</style>\n",
       "<table border=\"1\" class=\"dataframe\">\n",
       "  <thead>\n",
       "    <tr style=\"text-align: right;\">\n",
       "      <th></th>\n",
       "      <th>text</th>\n",
       "      <th>POS</th>\n",
       "      <th>split</th>\n",
       "      <th>id</th>\n",
       "    </tr>\n",
       "  </thead>\n",
       "  <tbody>\n",
       "    <tr>\n",
       "      <th>0</th>\n",
       "      <td>Pierre</td>\n",
       "      <td>NNP</td>\n",
       "      <td>train</td>\n",
       "      <td>0</td>\n",
       "    </tr>\n",
       "    <tr>\n",
       "      <th>1</th>\n",
       "      <td>Vinken</td>\n",
       "      <td>NNP</td>\n",
       "      <td>train</td>\n",
       "      <td>0</td>\n",
       "    </tr>\n",
       "    <tr>\n",
       "      <th>2</th>\n",
       "      <td>,</td>\n",
       "      <td>,</td>\n",
       "      <td>train</td>\n",
       "      <td>0</td>\n",
       "    </tr>\n",
       "    <tr>\n",
       "      <th>3</th>\n",
       "      <td>61</td>\n",
       "      <td>CD</td>\n",
       "      <td>train</td>\n",
       "      <td>0</td>\n",
       "    </tr>\n",
       "    <tr>\n",
       "      <th>4</th>\n",
       "      <td>years</td>\n",
       "      <td>NNS</td>\n",
       "      <td>train</td>\n",
       "      <td>0</td>\n",
       "    </tr>\n",
       "    <tr>\n",
       "      <th>5</th>\n",
       "      <td>old</td>\n",
       "      <td>JJ</td>\n",
       "      <td>train</td>\n",
       "      <td>0</td>\n",
       "    </tr>\n",
       "    <tr>\n",
       "      <th>6</th>\n",
       "      <td>,</td>\n",
       "      <td>,</td>\n",
       "      <td>train</td>\n",
       "      <td>0</td>\n",
       "    </tr>\n",
       "    <tr>\n",
       "      <th>7</th>\n",
       "      <td>will</td>\n",
       "      <td>MD</td>\n",
       "      <td>train</td>\n",
       "      <td>0</td>\n",
       "    </tr>\n",
       "    <tr>\n",
       "      <th>8</th>\n",
       "      <td>join</td>\n",
       "      <td>VB</td>\n",
       "      <td>train</td>\n",
       "      <td>0</td>\n",
       "    </tr>\n",
       "    <tr>\n",
       "      <th>9</th>\n",
       "      <td>the</td>\n",
       "      <td>DT</td>\n",
       "      <td>train</td>\n",
       "      <td>0</td>\n",
       "    </tr>\n",
       "  </tbody>\n",
       "</table>\n",
       "</div>"
      ],
      "text/plain": [
       "     text  POS  split  id\n",
       "0  Pierre  NNP  train   0\n",
       "1  Vinken  NNP  train   0\n",
       "2       ,    ,  train   0\n",
       "3      61   CD  train   0\n",
       "4   years  NNS  train   0\n",
       "5     old   JJ  train   0\n",
       "6       ,    ,  train   0\n",
       "7    will   MD  train   0\n",
       "8    join   VB  train   0\n",
       "9     the   DT  train   0"
      ]
     },
     "execution_count": 6,
     "metadata": {},
     "output_type": "execute_result"
    }
   ],
   "source": [
    "corpus_df.head(10)"
   ]
  },
  {
   "cell_type": "code",
   "execution_count": 7,
   "metadata": {},
   "outputs": [
    {
     "name": "stdout",
     "output_type": "stream",
     "text": [
      "Dataframe structure:\n",
      "          text  POS  split    id\n",
      "0       Pierre  NNP  train     0\n",
      "1       Vinken  NNP  train     0\n",
      "2            ,    ,  train     0\n",
      "3           61   CD  train     0\n",
      "4        years  NNS  train     0\n",
      "...        ...  ...    ...   ...\n",
      "94079  quarter   NN   test  3715\n",
      "94080       of   IN   test  3715\n",
      "94081     next   JJ   test  3715\n",
      "94082     year   NN   test  3715\n",
      "94083        .    .   test  3715\n",
      "\n",
      "[94084 rows x 4 columns]\n",
      "\n",
      "Total rows 94084\n",
      "\n"
     ]
    }
   ],
   "source": [
    "print(\"Dataframe structure:\")\n",
    "print(corpus_df)\n",
    "print()\n",
    "\n",
    "print(f\"Total rows {len(corpus_df)}\")\n",
    "print()"
   ]
  },
  {
   "cell_type": "code",
   "execution_count": 8,
   "metadata": {},
   "outputs": [],
   "source": [
    "# Train, test, validation split\n",
    "df_train = corpus_df[corpus_df['split'] == 'train'].drop(columns=['split'])\n",
    "df_test = corpus_df[corpus_df['split'] == 'test'].drop(columns=['split'])\n",
    "df_val = corpus_df[corpus_df['split'] == 'validation'].drop(columns=['split'])"
   ]
  },
  {
   "cell_type": "markdown",
   "metadata": {},
   "source": [
    "## TASK 2: Text encoding\n",
    "\n",
    "* Embed words using **GloVe embeddings**.\n",
    "* TODO: see if we want to do it, otherwise remove it -> [Optional] You are free to experiment with text pre-processing: **make sure you do not delete any token!**"
   ]
  },
  {
   "cell_type": "code",
   "execution_count": 12,
   "metadata": {},
   "outputs": [],
   "source": [
    "def load_embedding_model(embedding_dimension: int = 300):\n",
    "    emb_model = GloVe(name=\"6B\", dim=embedding_dimension)\n",
    "    return emb_model"
   ]
  },
  {
   "cell_type": "code",
   "execution_count": 13,
   "metadata": {
    "collapsed": false
   },
   "outputs": [],
   "source": [
    "punctuation_and_symbol_pos = [\".\", \",\", \":\", '``', \"''\", \"$\", \"#\", \"-LRB-\", \"-RRB-\", \"SYM\", \"LS\"]  #TODO check \"LS\" "
   ]
  },
  {
   "cell_type": "markdown",
   "metadata": {},
   "source": [
    "### TASK 4.b: OOV tokens"
   ]
  },
  {
   "cell_type": "markdown",
   "metadata": {},
   "source": [
    "Our vocabulary is stored in the GloVe object, and we simply edit its fields to add tokens and embedding vectors"
   ]
  },
  {
   "cell_type": "code",
   "execution_count": 14,
   "metadata": {},
   "outputs": [
    {
     "name": "stderr",
     "output_type": "stream",
     "text": [
      "100%|█████████▉| 399999/400000 [02:01<00:00, 3290.52it/s]\n"
     ]
    },
    {
     "name": "stdout",
     "output_type": "stream",
     "text": [
      "OOV tokens in the training set: 359\n",
      "Some OOV tokens: ['co-developers', 'side-crash', 'wheel-loader', 'recession-inspired', '143.93', 'trading-company', 'centerbank', 'anti-takeover', 'yeargin', '3.253', 'retin-a', '1\\\\/10th', '361,376', 'six-bottle', 'sometimes-exhausting', '143.80', 'pramual', 'pattenden', 'forest-products', 'sino-u.s.', 'red-blooded', 'sub-markets', '236.74', 'student-test', 'roof-crush', 'stirlen', 'nagymaros', 'uzi-model', 'yen-support', '16,072', 'twin-jet', 'tarwhine', 'preparatives', 'senate-house', 'delwin', 'hummerstone', 'school-research', 'macmillan\\\\/mcgraw', 'pathlogy', 'mouth-up', 'chinchon', 'landonne', '449.04', 'anti-abortionists', 'sometimes-tawdry', '-rcb-', '143.08', '-lrb-', 'index-related', 'bermuda-based']\n"
     ]
    }
   ],
   "source": [
    "# Find training set OOV tokens\n",
    "embedding_dim = 300\n",
    "embedder = load_embedding_model(embedding_dim)\n",
    "\n",
    "existing_vocab_tokens = set(embedder.itos)  # Tokens in the vocabulary, i.e. present in GloVe\n",
    "train_text = set([word.lower() for word in df_train['text']])\n",
    "\n",
    "train_oov_tokens = train_text - existing_vocab_tokens\n",
    "print(f\"OOV tokens in the training set: {len(train_oov_tokens)}\")\n",
    "print(f\"Some OOV tokens: {list(train_oov_tokens)[:50]}\")"
   ]
  },
  {
   "cell_type": "code",
   "execution_count": 15,
   "metadata": {},
   "outputs": [
    {
     "name": "stdout",
     "output_type": "stream",
     "text": [
      "New vocabulary size: 400359\n"
     ]
    }
   ],
   "source": [
    "# Add training set OOV tokens to the GloVe embedder, sampling from a random uniform distribution for each feature in the respective range\n",
    "# mins = torch.min(embedder.vectors, dim=0).values\n",
    "# ranges = mins - torch.max(embedder.vectors, dim=0).values\n",
    "\n",
    "means = torch.mean(embedder.vectors, dim=0)\n",
    "stds = torch.std(embedder.vectors, dim=0)\n",
    "\n",
    "for token in train_oov_tokens:\n",
    "    embedder.itos.append(token)\n",
    "    embedder.stoi[token] = len(embedder.itos) - 1\n",
    "    # embedder.vectors = torch.cat((embedder.vectors, (torch.rand(embedding_dim) * ranges + mins).unsqueeze(dim=0)), dim=0)\n",
    "    embedder.vectors = torch.cat((embedder.vectors, torch.normal(means, stds).unsqueeze(dim=0)), dim=0)\n",
    "\n",
    "# For the '[UNK]' token embedding, sample a vector from a normal distribution for each feature\n",
    "\n",
    "# Mean and std of the GloVe embeddings, for each feature\n",
    "# means = torch.mean(embedder.vectors, dim=0)\n",
    "# stds = torch.std(embedder.vectors, dim=0)\n",
    "unk_vector = torch.normal(means, stds)\n",
    "\n",
    "# The '[UNK]' token is not really added to the vocabulary (i.e. GloVe)\n",
    "# instead, we redefine the 'unk_init' function of the embedder to return the embedding vector corresponding to '[UNK]'\n",
    "embedder.unk_init = lambda x: unk_vector\n",
    "\n",
    "print(f\"New vocabulary size: {len(embedder.itos)}\")\n",
    "\n",
    "assert len(embedder.itos) == len(embedder.stoi) == embedder.vectors.shape[0]\n",
    "# mean, std"
   ]
  },
  {
   "cell_type": "markdown",
   "metadata": {},
   "source": [
    "### Embed words using GloVe embeddings"
   ]
  },
  {
   "cell_type": "markdown",
   "metadata": {},
   "source": [
    "For the token to embedding mapping, we decided to use the following approach: the Dataset object takes care of calling the embedder every time it is queried to return a datapoint (\\_\\_getitem\\_\\_ method)"
   ]
  },
  {
   "cell_type": "code",
   "execution_count": 16,
   "metadata": {},
   "outputs": [],
   "source": [
    "iterator = ([pos] for pos in corpus_df[\"POS\"].unique())\n",
    "pos_vocab = build_vocab_from_iterator(iterator)\n",
    "pos_vocab.append_token(\"<PAD>\")\n",
    "\n",
    "pos_padding_value = pos_vocab[\"<PAD>\"]\n",
    "punctuation_and_symbol_pos_indices = [pos_vocab[token] for token in punctuation_and_symbol_pos]\n",
    "\n",
    "\n",
    "class CorpusDataset(Dataset):\n",
    "    def __init__(self, dataframe: pd.DataFrame, embedder):\n",
    "        min_id = dataframe['id'].min()\n",
    "        dataframe['id'] = dataframe['id'] - min_id\n",
    "        self.dataframe = dataframe.groupby(\"id\")\n",
    "        self.embedder = embedder\n",
    "\n",
    "    def __len__(self):\n",
    "        return len(self.dataframe)\n",
    "\n",
    "    def __getitem__(self, idx):\n",
    "        sentence = self.dataframe.get_group(idx)\n",
    "        text = sentence['text'].to_list()\n",
    "        text = [token.lower() for token in text]\n",
    "\n",
    "        POS = sentence['POS'].to_list()\n",
    "        POS = torch.Tensor([pos_vocab[token] for token in POS])\n",
    "\n",
    "        embedded_text = self.embedder.get_vecs_by_tokens(text)\n",
    "\n",
    "        return embedded_text, POS\n"
   ]
  },
  {
   "cell_type": "code",
   "execution_count": 17,
   "metadata": {},
   "outputs": [],
   "source": [
    "# Definition of the dataset\n",
    "dataset_train = CorpusDataset(df_train, embedder)\n",
    "dataset_test = CorpusDataset(df_test, embedder)\n",
    "dataset_val = CorpusDataset(df_val, embedder)\n",
    "dataset_all = CorpusDataset(corpus_df, embedder)  # TODO: remove if not used\n",
    "\n",
    "\n",
    "# This collate function takes care of adding padding to the sequences\n",
    "# TODO - test if it works in the LSTM training\n",
    "def my_collate(batch):\n",
    "    sequences, labels = zip(*batch)\n",
    "\n",
    "    # max_len = max([len(seq) for seq in sequences])\n",
    "    # sequences_padded = [seq + [\"<PAD>\"] * (max_len - len(seq)) for seq in sequences]\n",
    "\n",
    "    sequences_padded = torch.nn.utils.rnn.pad_sequence(sequences, batch_first=True, padding_value=0)\n",
    "    labels_padded = torch.nn.utils.rnn.pad_sequence(labels, batch_first=True, padding_value=pos_padding_value)\n",
    "\n",
    "    sequences_padded = sequences_padded.type(torch.float)\n",
    "    labels_padded = labels_padded.type(torch.long)\n",
    "\n",
    "    return [sequences_padded, labels_padded]\n",
    "\n",
    "\n",
    "train_loader = DataLoader(dataset_train, batch_size=32, collate_fn=my_collate)\n",
    "val_loader = DataLoader(dataset_val, batch_size=32, collate_fn=my_collate)\n",
    "test_loader = DataLoader(dataset_test, batch_size=32, collate_fn=my_collate)"
   ]
  },
  {
   "cell_type": "markdown",
   "metadata": {},
   "source": [
    "## TASK 4: Metrics\n",
    "\n",
    "* Evaluate models using macro F1-score, computed over **all** tokens."
   ]
  },
  {
   "cell_type": "markdown",
   "metadata": {},
   "source": [
    "We defined our own macro F1-score metric in order to accumulate FP, TP, FN, TN iteratively"
   ]
  },
  {
   "cell_type": "code",
   "execution_count": 18,
   "metadata": {
    "collapsed": false
   },
   "outputs": [],
   "source": [
    "from torchmetrics import Metric\n",
    "from torchmetrics import ConfusionMatrix\n",
    "\n",
    "\n",
    "class F1ScoreCustom(Metric):\n",
    "    def __init__(self, num_classes: int, pos_padding_value: int = pos_padding_value,\n",
    "                 punctuation_and_symbol_pos_indices: list = punctuation_and_symbol_pos_indices):\n",
    "        super().__init__()\n",
    "\n",
    "        self.num_classes = num_classes\n",
    "        self.mask = torch.ones([num_classes], dtype=torch.bool)\n",
    "        self.mask[[pos_padding_value] + punctuation_and_symbol_pos_indices] = 0\n",
    "\n",
    "        self.add_state(\"true_positive\", default=torch.zeros([num_classes]), dist_reduce_fx=\"sum\")\n",
    "        self.add_state(\"false_negative\", default=torch.zeros([num_classes]), dist_reduce_fx=\"sum\")\n",
    "        self.add_state(\"false_positive\", default=torch.zeros([num_classes]), dist_reduce_fx=\"sum\")\n",
    "\n",
    "    def update(self, y_hat_class: torch.Tensor, y_class: torch.Tensor):\n",
    "        confusion_matrix_metric = ConfusionMatrix(num_classes=self.num_classes, task=\"multiclass\")\n",
    "        confusion_matrix = confusion_matrix_metric(y_hat_class, y_class)\n",
    "\n",
    "        # # Confusion matrix, TP, FN and FP for class 0 \n",
    "        # #   TRUE LABEL\n",
    "        # #   0               TP     FN     FN     FN     FN       \n",
    "        # #   1               FP       \n",
    "        # #   2               FP               \n",
    "        # #   3               FP                       \n",
    "        # #   4               FP                                \n",
    "        # # PREDICTED LABEL   0       1      2      3      4\n",
    "        # \n",
    "\n",
    "        true_positive = torch.Tensor([confusion_matrix[i][i] for i in range(self.num_classes)])\n",
    "        false_negative = torch.Tensor([sum(confusion_matrix[i, :]) - true_positive[i] for i in range(self.num_classes)])\n",
    "        false_positive = torch.Tensor([sum(confusion_matrix[:, i]) - true_positive[i] for i in range(self.num_classes)])\n",
    "\n",
    "        self.true_positive += true_positive\n",
    "        self.false_negative += false_negative\n",
    "        self.false_positive += false_positive\n",
    "\n",
    "    def compute(self):\n",
    "        precision = self.true_positive / (self.true_positive + self.false_positive)\n",
    "        recall = self.true_positive / (self.true_positive + self.false_negative)\n",
    "\n",
    "        f1 = 2 * (precision * recall) / (precision + recall)\n",
    "\n",
    "        return f1[self.mask]\n",
    "\n",
    "        # f1 = f1 * self.mask\n",
    "\n",
    "        # return f1\n",
    "\n"
   ]
  },
  {
   "cell_type": "markdown",
   "metadata": {},
   "source": [
    "## TASK 3: Model definition\n",
    "\n",
    "* **Baseline**: implement a Bidirectional LSTM with a Dense layer on top.\n",
    "\n",
    "* **Model 1**: add an additional LSTM layer to the Baseline model.\n",
    "* **Model 2**: add an additional Dense layer to the Baseline model."
   ]
  },
  {
   "cell_type": "markdown",
   "metadata": {},
   "source": [
    "### Baseline model: Bidirectional LSTM + Dense layer"
   ]
  },
  {
   "cell_type": "code",
   "execution_count": 19,
   "metadata": {},
   "outputs": [],
   "source": [
    "class BiLSTMModel(LightningModule):\n",
    "    def __init__(self, input_dim, hidden_dim, output_dim, target_padding_value=pos_padding_value):\n",
    "        super(BiLSTMModel, self).__init__()\n",
    "\n",
    "        self.save_hyperparameters()\n",
    "\n",
    "        self.output_dim = output_dim\n",
    "        self.target_padding_value = target_padding_value\n",
    "\n",
    "        self.lstm = nn.LSTM(input_size=input_dim,\n",
    "                            hidden_size=hidden_dim,\n",
    "                            batch_first=True,\n",
    "                            bidirectional=True)\n",
    "        self.fc = nn.Linear(hidden_dim * 2, output_dim)  # Multiplied by 2 due to the bidirectionality\n",
    "\n",
    "        self._train_f1_metric = F1ScoreCustom(num_classes=output_dim, pos_padding_value=self.target_padding_value)\n",
    "        self._val_f1_metric = F1ScoreCustom(num_classes=output_dim, pos_padding_value=self.target_padding_value)\n",
    "        self._test_f1_metric = F1ScoreCustom(num_classes=output_dim, pos_padding_value=self.target_padding_value)\n",
    "\n",
    "    def forward(self, x):\n",
    "        # embedding = self.embedding_layer(x)\n",
    "        lstm_out, _ = self.lstm(x)\n",
    "        # lstm_out (batch_size, seq_length, hidden_size * 2)\n",
    "        out = self.fc(lstm_out)\n",
    "        # out (batch_size, seq_length, output_dim)\n",
    "        return out\n",
    "\n",
    "    def training_step(self, batch, batch_idx):\n",
    "        x, y = batch\n",
    "        y_hat = self(x)  # (batch_size, seq_length, output_dim)\n",
    "\n",
    "        # Change shape from (batchsize, sequence_len, classes) to be (batchsize, classes, sequence_len) to compute loss function\n",
    "        y_hat = torch.movedim(y_hat, 1, 2)\n",
    "\n",
    "        loss = nn.functional.cross_entropy(y_hat, y, ignore_index=self.target_padding_value)\n",
    "\n",
    "        self.log_dict({'train_loss': loss, 'step': float(self.current_epoch)}, on_epoch=True, prog_bar=True,\n",
    "                      logger=True,\n",
    "                      on_step=False, reduce_fx=\"mean\")\n",
    "\n",
    "        y_hat_class = torch.argmax(y_hat, dim=1)\n",
    "        self._train_f1_metric.update(y_hat_class, y)\n",
    "\n",
    "        return loss\n",
    "\n",
    "    def validation_step(self, batch, batch_idx):\n",
    "        x, y = batch\n",
    "        y_hat = self(x)\n",
    "        y_hat = torch.movedim(y_hat, 1, 2)\n",
    "\n",
    "        loss = nn.functional.cross_entropy(y_hat, y, ignore_index=self.target_padding_value)\n",
    "        self.log_dict({'val_loss': loss, 'step': float(self.current_epoch)}, on_epoch=True, prog_bar=True, logger=True,\n",
    "                      reduce_fx=\"mean\")\n",
    "\n",
    "        y_hat_class = torch.argmax(y_hat, dim=1)\n",
    "        self._val_f1_metric.update(y_hat_class, y)\n",
    "\n",
    "        return loss\n",
    "\n",
    "    def test_step(self, batch, batch_idx):\n",
    "        x, y = batch\n",
    "        y_hat = self(x)\n",
    "        y_hat = torch.movedim(y_hat, 1, 2)\n",
    "        loss = nn.functional.cross_entropy(y_hat, y, ignore_index=self.target_padding_value)\n",
    "\n",
    "        self.log_dict({'test_loss': loss, 'step': float(self.current_epoch)}, on_epoch=True, prog_bar=True, logger=True,\n",
    "                      reduce_fx=\"mean\")\n",
    "\n",
    "        y_hat_class = torch.argmax(y_hat, dim=1)\n",
    "        self._test_f1_metric.update(y_hat_class, y)\n",
    "\n",
    "        return loss\n",
    "\n",
    "    def configure_optimizers(self):\n",
    "        optimizer = torch.optim.Adam(self.parameters(), lr=1e-3)\n",
    "        return optimizer\n",
    "\n",
    "    def _compute_f1(self, f1_metric):\n",
    "        mean_f1_score = f1_metric.compute()\n",
    "\n",
    "        # Create a mask that is False for NaNs\n",
    "        mask = torch.isnan(mean_f1_score)\n",
    "\n",
    "        # Invert the mask: True for valid entries, False for NaNs\n",
    "        valid_data = mean_f1_score[~mask]\n",
    "\n",
    "        # Compute the mean of the non-NaN values\n",
    "        mean_value = torch.mean(valid_data)\n",
    "\n",
    "        return mean_value\n",
    "\n",
    "    def on_train_epoch_end(self) -> None:\n",
    "        mean_f1_score = self._compute_f1(self._train_f1_metric)\n",
    "        self.log_dict({\"train_f1\": mean_f1_score, 'step': float(self.current_epoch)}, on_epoch=True, prog_bar=True,\n",
    "                      logger=True)\n",
    "        self._train_f1_metric.reset()\n",
    "\n",
    "    def on_validation_epoch_end(self) -> None:\n",
    "        mean_f1_score = self._compute_f1(self._val_f1_metric)\n",
    "        self.log_dict({\"val_f1\": mean_f1_score, 'step': float(self.current_epoch)}, on_epoch=True, prog_bar=True,\n",
    "                      logger=True)\n",
    "        self._val_f1_metric.reset()\n",
    "\n",
    "    def on_test_epoch_end(self) -> None:\n",
    "        mean_f1_score = self._compute_f1(self._test_f1_metric)\n",
    "        self.log_dict({\"test_f1\": mean_f1_score, 'step': float(self.current_epoch)}, on_epoch=True, prog_bar=True,\n",
    "                      logger=True)\n",
    "        self._test_f1_metric.reset()\n"
   ]
  },
  {
   "cell_type": "markdown",
   "metadata": {},
   "source": [
    "### Model 1: Bidirectional 2-layers LSTM + Dense layer"
   ]
  },
  {
   "cell_type": "code",
   "execution_count": 20,
   "metadata": {},
   "outputs": [],
   "source": [
    "class Model1(LightningModule):\n",
    "    def __init__(self, input_dim, hidden_dim, output_dim, target_padding_value=pos_padding_value):\n",
    "        super(Model1, self).__init__()\n",
    "\n",
    "        self.save_hyperparameters()\n",
    "\n",
    "        self.output_dim = output_dim\n",
    "        self.target_padding_value = target_padding_value\n",
    "\n",
    "        self.lstm = nn.LSTM(input_size=input_dim,\n",
    "                            hidden_size=hidden_dim,\n",
    "                            num_layers=2,\n",
    "                            batch_first=True,\n",
    "                            bidirectional=True)\n",
    "        self.fc = nn.Linear(hidden_dim * 2, output_dim)  # Multiplied by 2 due to the bidirectionality\n",
    "\n",
    "        self._train_f1_metric = F1ScoreCustom(num_classes=output_dim, pos_padding_value=self.target_padding_value)\n",
    "        self._val_f1_metric = F1ScoreCustom(num_classes=output_dim, pos_padding_value=self.target_padding_value)\n",
    "        self._test_f1_metric = F1ScoreCustom(num_classes=output_dim, pos_padding_value=self.target_padding_value)\n",
    "\n",
    "    def forward(self, x):\n",
    "        # embedding = self.embedding_layer(x)\n",
    "        lstm_out, _ = self.lstm(x)\n",
    "        # lstm_out (batch_size, seq_length, hidden_size * 2)\n",
    "        out = self.fc(lstm_out)\n",
    "        # out (batch_size, seq_length, output_dim)\n",
    "        return out\n",
    "\n",
    "    def training_step(self, batch, batch_idx):\n",
    "        x, y = batch\n",
    "        y_hat = self(x)\n",
    "\n",
    "        # Change shape from (batchsize, sequence_len, classes) to be (batchsize, classes, sequence_len) to compute loss function\n",
    "        y_hat = torch.movedim(y_hat, 1, 2)\n",
    "        loss = nn.functional.cross_entropy(y_hat, y, ignore_index=self.target_padding_value)\n",
    "\n",
    "        self.log_dict({'train_loss': loss, 'step': float(self.current_epoch)}, on_epoch=True, prog_bar=True,\n",
    "                      logger=True,\n",
    "                      on_step=False, reduce_fx=\"mean\")\n",
    "\n",
    "        y_hat_class = torch.argmax(y_hat, dim=1)\n",
    "        self._train_f1_metric.update(y_hat_class, y)\n",
    "\n",
    "        return loss\n",
    "\n",
    "    def validation_step(self, batch, batch_idx):\n",
    "        x, y = batch\n",
    "        y_hat = self(x)\n",
    "        y_hat = torch.movedim(y_hat, 1, 2)\n",
    "\n",
    "        loss = nn.functional.cross_entropy(y_hat, y, ignore_index=self.target_padding_value)\n",
    "        self.log_dict({'val_loss': loss, 'step': float(self.current_epoch)}, on_epoch=True, prog_bar=True, logger=True,\n",
    "                      reduce_fx=\"mean\")\n",
    "\n",
    "        y_hat_class = torch.argmax(y_hat, dim=1)\n",
    "        self._val_f1_metric.update(y_hat_class, y)\n",
    "\n",
    "        return loss\n",
    "\n",
    "    def test_step(self, batch, batch_idx):\n",
    "        x, y = batch\n",
    "        y_hat = self(x)\n",
    "        y_hat = torch.movedim(y_hat, 1, 2)\n",
    "        loss = nn.functional.cross_entropy(y_hat, y, ignore_index=self.target_padding_value)\n",
    "\n",
    "        self.log_dict({'test_loss': loss, 'step': float(self.current_epoch)}, on_epoch=True, prog_bar=True, logger=True,\n",
    "                      reduce_fx=\"mean\")\n",
    "\n",
    "        y_hat_class = torch.argmax(y_hat, dim=1)\n",
    "        self._test_f1_metric.update(y_hat_class, y)\n",
    "\n",
    "        return loss\n",
    "\n",
    "    def configure_optimizers(self):\n",
    "        optimizer = torch.optim.Adam(self.parameters(), lr=1e-3)\n",
    "        return optimizer\n",
    "\n",
    "    def _compute_f1(self, f1_metric):\n",
    "        mean_f1_score = f1_metric.compute()\n",
    "\n",
    "        # Create a mask that is False for NaNs\n",
    "        mask = torch.isnan(mean_f1_score)\n",
    "\n",
    "        # Invert the mask: True for valid entries, False for NaNs\n",
    "        valid_data = mean_f1_score[~mask]\n",
    "\n",
    "        # Compute the mean of the non-NaN values\n",
    "        mean_value = torch.mean(valid_data)\n",
    "\n",
    "        return mean_value\n",
    "\n",
    "    def on_train_epoch_end(self) -> None:\n",
    "        mean_f1_score = self._compute_f1(self._train_f1_metric)\n",
    "        self.log_dict({\"train_f1\": mean_f1_score, 'step': float(self.current_epoch)}, on_epoch=True, prog_bar=True,\n",
    "                      logger=True)\n",
    "        self._train_f1_metric.reset()\n",
    "\n",
    "    def on_validation_epoch_end(self) -> None:\n",
    "        mean_f1_score = self._compute_f1(self._val_f1_metric)\n",
    "        self.log_dict({\"val_f1\": mean_f1_score, 'step': float(self.current_epoch)}, on_epoch=True, prog_bar=True,\n",
    "                      logger=True)\n",
    "        self._val_f1_metric.reset()\n",
    "\n",
    "    def on_test_epoch_end(self) -> None:\n",
    "        mean_f1_score = self._compute_f1(self._test_f1_metric)\n",
    "        self.log_dict({\"test_f1\": mean_f1_score, 'step': float(self.current_epoch)}, on_epoch=True, prog_bar=True,\n",
    "                      logger=True)\n",
    "        self._test_f1_metric.reset()"
   ]
  },
  {
   "cell_type": "markdown",
   "metadata": {},
   "source": [
    "### Model 2: Bidirectional LSTM + 2 Dense layers"
   ]
  },
  {
   "cell_type": "code",
   "execution_count": 21,
   "metadata": {
    "collapsed": false
   },
   "outputs": [],
   "source": [
    "class Model2(LightningModule):\n",
    "    def __init__(self, input_dim, hidden_dim, output_dim, fc_size,\n",
    "                 target_padding_value=pos_padding_value):\n",
    "        super(Model2, self).__init__()\n",
    "\n",
    "        self.save_hyperparameters()\n",
    "        \n",
    "        self.output_dim = output_dim\n",
    "        self.target_padding_value = target_padding_value\n",
    "\n",
    "        self.lstm = nn.LSTM(input_size=input_dim,\n",
    "                            hidden_size=hidden_dim,\n",
    "                            num_layers=2,\n",
    "                            batch_first=True,\n",
    "                            bidirectional=True)\n",
    "        self.fc_1 = nn.Linear(hidden_dim * 2, fc_size)  # Multiplied by 2 due to bidirectionality\n",
    "        self.fc_2 = nn.Linear(fc_size, output_dim)\n",
    "\n",
    "        self._train_f1_metric = F1ScoreCustom(num_classes=output_dim, pos_padding_value=self.target_padding_value)\n",
    "        self._val_f1_metric = F1ScoreCustom(num_classes=output_dim, pos_padding_value=self.target_padding_value)\n",
    "        self._test_f1_metric = F1ScoreCustom(num_classes=output_dim, pos_padding_value=self.target_padding_value)\n",
    "\n",
    "    def forward(self, x):\n",
    "        # embedding = self.embedding_layer(x)\n",
    "        lstm_out, _ = self.lstm(x)\n",
    "        # lstm_out (batch_size, seq_length, hidden_size * 2)\n",
    "        out = self.fc_1(lstm_out)\n",
    "        out = self.fc_2(out)\n",
    "        # out (batch_size, seq_length, output_dim)\n",
    "        return out\n",
    "\n",
    "    def training_step(self, batch, batch_idx):\n",
    "        x, y = batch\n",
    "        y_hat = self(x)\n",
    "\n",
    "        # Change shape from (batchsize, sequence_len, classes) to be (batchsize, classes, sequence_len) to compute loss function\n",
    "        y_hat = torch.movedim(y_hat, 1, 2)\n",
    "        loss = nn.functional.cross_entropy(y_hat, y, ignore_index=self.target_padding_value)\n",
    "\n",
    "        self.log_dict({'train_loss': loss, 'step': float(self.current_epoch)}, on_epoch=True, prog_bar=True,\n",
    "                      logger=True,\n",
    "                      on_step=False, reduce_fx=\"mean\")\n",
    "\n",
    "        y_hat_class = torch.argmax(y_hat, dim=1)\n",
    "        self._train_f1_metric.update(y_hat_class, y)\n",
    "\n",
    "        return loss\n",
    "\n",
    "    def validation_step(self, batch, batch_idx):\n",
    "        x, y = batch\n",
    "        y_hat = self(x)\n",
    "        y_hat = torch.movedim(y_hat, 1, 2)\n",
    "\n",
    "        loss = nn.functional.cross_entropy(y_hat, y, ignore_index=self.target_padding_value)\n",
    "        self.log_dict({'val_loss': loss, 'step': float(self.current_epoch)}, on_epoch=True, prog_bar=True, logger=True,\n",
    "                      reduce_fx=\"mean\")\n",
    "\n",
    "        y_hat_class = torch.argmax(y_hat, dim=1)\n",
    "        self._val_f1_metric.update(y_hat_class, y)\n",
    "\n",
    "        return loss\n",
    "\n",
    "    def test_step(self, batch, batch_idx):\n",
    "        x, y = batch\n",
    "        y_hat = self(x)\n",
    "        y_hat = torch.movedim(y_hat, 1, 2)\n",
    "        loss = nn.functional.cross_entropy(y_hat, y, ignore_index=self.target_padding_value)\n",
    "\n",
    "        self.log_dict({'test_loss': loss, 'step': float(self.current_epoch)}, on_epoch=True, prog_bar=True, logger=True,\n",
    "                      reduce_fx=\"mean\")\n",
    "\n",
    "        y_hat_class = torch.argmax(y_hat, dim=1)\n",
    "        self._test_f1_metric.update(y_hat_class, y)\n",
    "\n",
    "        return loss\n",
    "\n",
    "    def configure_optimizers(self):\n",
    "        optimizer = torch.optim.Adam(self.parameters(), lr=1e-3)\n",
    "        return optimizer\n",
    "\n",
    "    def _compute_f1(self, f1_metric):\n",
    "        mean_f1_score = f1_metric.compute()\n",
    "\n",
    "        # Create a mask that is False for NaNs\n",
    "        mask = torch.isnan(mean_f1_score)\n",
    "\n",
    "        # Invert the mask: True for valid entries, False for NaNs\n",
    "        valid_data = mean_f1_score[~mask]\n",
    "\n",
    "        # Compute the mean of the non-NaN values\n",
    "        mean_value = torch.mean(valid_data)\n",
    "\n",
    "        return mean_value\n",
    "\n",
    "    def on_train_epoch_end(self) -> None:\n",
    "        mean_f1_score = self._compute_f1(self._train_f1_metric)\n",
    "        self.log_dict({\"train_f1\": mean_f1_score, 'step': float(self.current_epoch)}, on_epoch=True, prog_bar=True,\n",
    "                      logger=True)\n",
    "        self._train_f1_metric.reset()\n",
    "\n",
    "    def on_validation_epoch_end(self) -> None:\n",
    "        mean_f1_score = self._compute_f1(self._val_f1_metric)\n",
    "        self.log_dict({\"val_f1\": mean_f1_score, 'step': float(self.current_epoch)}, on_epoch=True, prog_bar=True,\n",
    "                      logger=True)\n",
    "        self._val_f1_metric.reset()\n",
    "\n",
    "    def on_test_epoch_end(self) -> None:\n",
    "        mean_f1_score = self._compute_f1(self._test_f1_metric)\n",
    "        self.log_dict({\"test_f1\": mean_f1_score, 'step': float(self.current_epoch)}, on_epoch=True, prog_bar=True,\n",
    "                      logger=True)\n",
    "        self._test_f1_metric.reset()"
   ]
  },
  {
   "cell_type": "markdown",
   "metadata": {},
   "source": [
    "## TASK 5: Training and Evaluation\n",
    "\n",
    "* Train **all** models on the train set.\n",
    "* Evaluate **all** models on the validation set.\n",
    "* Compute metrics on the validation set.\n",
    "* Pick **at least** three seeds for robust estimation.\n",
    "* Pick the **best** performing model according to the observed validation set performance."
   ]
  },
  {
   "cell_type": "code",
   "execution_count": 22,
   "metadata": {},
   "outputs": [],
   "source": [
    "# Fix all possible sources of randomness\n",
    "torch.use_deterministic_algorithms(True)\n",
    "\n",
    "torch.backends.cudnn.benchmark = False\n",
    "torch.backends.cudnn.deterministic = True"
   ]
  },
  {
   "cell_type": "markdown",
   "metadata": {},
   "source": [
    "### Training and evaluation\n",
    "\n",
    "#### Training all models on training set and evalutating on validation set at every epoch s.t. to keep the best model for each model/seed pair.\n",
    "#### Both cross entropy loss and F1-Score are computed at each evaluation"
   ]
  },
  {
   "cell_type": "code",
   "execution_count": 26,
   "metadata": {},
   "outputs": [
    {
     "name": "stderr",
     "output_type": "stream",
     "text": [
      "Seed set to 6\n"
     ]
    },
    {
     "name": "stdout",
     "output_type": "stream",
     "text": [
      "Training model baseline with seed 6...\n"
     ]
    },
    {
     "name": "stderr",
     "output_type": "stream",
     "text": [
      "GPU available: False, used: False\n",
      "TPU available: False, using: 0 TPU cores\n",
      "IPU available: False, using: 0 IPUs\n",
      "HPU available: False, using: 0 HPUs\n",
      "Missing logger folder: c:\\Users\\merli\\OneDrive\\Desktop\\Github repos\\NLP\\A1\\logs\\lightning_logs\\baseline_seed6_emb300\n",
      "\n",
      "  | Name             | Type          | Params\n",
      "---------------------------------------------------\n",
      "0 | lstm             | LSTM          | 440 K \n",
      "1 | fc               | Linear        | 11.8 K\n",
      "2 | _train_f1_metric | F1ScoreCustom | 0     \n",
      "3 | _val_f1_metric   | F1ScoreCustom | 0     \n",
      "4 | _test_f1_metric  | F1ScoreCustom | 0     \n",
      "---------------------------------------------------\n",
      "452 K     Trainable params\n",
      "0         Non-trainable params\n",
      "452 K     Total params\n",
      "1.809     Total estimated model params size (MB)\n"
     ]
    },
    {
     "name": "stdout",
     "output_type": "stream",
     "text": [
      "Sanity Checking:   0%|          | 0/2 [00:00<?, ?it/s]"
     ]
    },
    {
     "name": "stderr",
     "output_type": "stream",
     "text": [
      "d:\\Users\\edo\\envs\\nlp\\Lib\\site-packages\\lightning\\pytorch\\trainer\\connectors\\data_connector.py:441: The 'val_dataloader' does not have many workers which may be a bottleneck. Consider increasing the value of the `num_workers` argument` to `num_workers=7` in the `DataLoader` to improve performance.\n"
     ]
    },
    {
     "name": "stdout",
     "output_type": "stream",
     "text": [
      "                                                                           "
     ]
    },
    {
     "name": "stderr",
     "output_type": "stream",
     "text": [
      "d:\\Users\\edo\\envs\\nlp\\Lib\\site-packages\\lightning\\pytorch\\trainer\\connectors\\data_connector.py:441: The 'train_dataloader' does not have many workers which may be a bottleneck. Consider increasing the value of the `num_workers` argument` to `num_workers=7` in the `DataLoader` to improve performance.\n"
     ]
    },
    {
     "name": "stdout",
     "output_type": "stream",
     "text": [
      "Epoch 0: 100%|██████████| 59/59 [00:30<00:00,  1.96it/s, v_num=0, val_loss=1.530, step=0.000, val_f1=0.470, train_loss=2.510]"
     ]
    },
    {
     "name": "stderr",
     "output_type": "stream",
     "text": [
      "Metric val_loss improved. New best score: 1.533\n"
     ]
    },
    {
     "name": "stdout",
     "output_type": "stream",
     "text": [
      "Epoch 1: 100%|██████████| 59/59 [00:32<00:00,  1.83it/s, v_num=0, val_loss=0.875, step=1.000, val_f1=0.686, train_loss=1.110, train_f1=0.185]"
     ]
    },
    {
     "name": "stderr",
     "output_type": "stream",
     "text": [
      "Metric val_loss improved by 0.659 >= min_delta = 0.0. New best score: 0.875\n"
     ]
    },
    {
     "name": "stdout",
     "output_type": "stream",
     "text": [
      "Epoch 2: 100%|██████████| 59/59 [00:31<00:00,  1.87it/s, v_num=0, val_loss=0.652, step=2.000, val_f1=0.736, train_loss=0.710, train_f1=0.581]"
     ]
    },
    {
     "name": "stderr",
     "output_type": "stream",
     "text": [
      "Metric val_loss improved by 0.223 >= min_delta = 0.0. New best score: 0.652\n"
     ]
    },
    {
     "name": "stdout",
     "output_type": "stream",
     "text": [
      "Epoch 3: 100%|██████████| 59/59 [00:22<00:00,  2.64it/s, v_num=0, val_loss=0.539, step=3.000, val_f1=0.780, train_loss=0.541, train_f1=0.683]"
     ]
    },
    {
     "name": "stderr",
     "output_type": "stream",
     "text": [
      "Metric val_loss improved by 0.113 >= min_delta = 0.0. New best score: 0.539\n"
     ]
    },
    {
     "name": "stdout",
     "output_type": "stream",
     "text": [
      "Epoch 4: 100%|██████████| 59/59 [00:22<00:00,  2.66it/s, v_num=0, val_loss=0.473, step=4.000, val_f1=0.770, train_loss=0.443, train_f1=0.721]"
     ]
    },
    {
     "name": "stderr",
     "output_type": "stream",
     "text": [
      "Metric val_loss improved by 0.066 >= min_delta = 0.0. New best score: 0.473\n"
     ]
    },
    {
     "name": "stdout",
     "output_type": "stream",
     "text": [
      "Epoch 5: 100%|██████████| 59/59 [00:22<00:00,  2.58it/s, v_num=0, val_loss=0.430, step=5.000, val_f1=0.775, train_loss=0.377, train_f1=0.752]"
     ]
    },
    {
     "name": "stderr",
     "output_type": "stream",
     "text": [
      "Metric val_loss improved by 0.043 >= min_delta = 0.0. New best score: 0.430\n"
     ]
    },
    {
     "name": "stdout",
     "output_type": "stream",
     "text": [
      "Epoch 6: 100%|██████████| 59/59 [00:23<00:00,  2.47it/s, v_num=0, val_loss=0.400, step=6.000, val_f1=0.777, train_loss=0.328, train_f1=0.775]"
     ]
    },
    {
     "name": "stderr",
     "output_type": "stream",
     "text": [
      "Metric val_loss improved by 0.030 >= min_delta = 0.0. New best score: 0.400\n"
     ]
    },
    {
     "name": "stdout",
     "output_type": "stream",
     "text": [
      "Epoch 7: 100%|██████████| 59/59 [00:23<00:00,  2.56it/s, v_num=0, val_loss=0.378, step=7.000, val_f1=0.804, train_loss=0.288, train_f1=0.801]"
     ]
    },
    {
     "name": "stderr",
     "output_type": "stream",
     "text": [
      "Metric val_loss improved by 0.022 >= min_delta = 0.0. New best score: 0.378\n"
     ]
    },
    {
     "name": "stdout",
     "output_type": "stream",
     "text": [
      "Epoch 8: 100%|██████████| 59/59 [00:22<00:00,  2.57it/s, v_num=0, val_loss=0.361, step=8.000, val_f1=0.816, train_loss=0.254, train_f1=0.806]"
     ]
    },
    {
     "name": "stderr",
     "output_type": "stream",
     "text": [
      "Metric val_loss improved by 0.017 >= min_delta = 0.0. New best score: 0.361\n"
     ]
    },
    {
     "name": "stdout",
     "output_type": "stream",
     "text": [
      "Epoch 9: 100%|██████████| 59/59 [00:25<00:00,  2.36it/s, v_num=0, val_loss=0.349, step=9.000, val_f1=0.784, train_loss=0.224, train_f1=0.833]"
     ]
    },
    {
     "name": "stderr",
     "output_type": "stream",
     "text": [
      "Metric val_loss improved by 0.013 >= min_delta = 0.0. New best score: 0.349\n"
     ]
    },
    {
     "name": "stdout",
     "output_type": "stream",
     "text": [
      "Epoch 10: 100%|██████████| 59/59 [00:25<00:00,  2.35it/s, v_num=0, val_loss=0.339, step=10.00, val_f1=0.803, train_loss=0.198, train_f1=0.828]"
     ]
    },
    {
     "name": "stderr",
     "output_type": "stream",
     "text": [
      "Metric val_loss improved by 0.009 >= min_delta = 0.0. New best score: 0.339\n"
     ]
    },
    {
     "name": "stdout",
     "output_type": "stream",
     "text": [
      "Epoch 11: 100%|██████████| 59/59 [00:24<00:00,  2.37it/s, v_num=0, val_loss=0.332, step=11.00, val_f1=0.804, train_loss=0.175, train_f1=0.861]"
     ]
    },
    {
     "name": "stderr",
     "output_type": "stream",
     "text": [
      "Metric val_loss improved by 0.007 >= min_delta = 0.0. New best score: 0.332\n"
     ]
    },
    {
     "name": "stdout",
     "output_type": "stream",
     "text": [
      "Epoch 12: 100%|██████████| 59/59 [00:27<00:00,  2.11it/s, v_num=0, val_loss=0.328, step=12.00, val_f1=0.809, train_loss=0.154, train_f1=0.873]"
     ]
    },
    {
     "name": "stderr",
     "output_type": "stream",
     "text": [
      "Metric val_loss improved by 0.005 >= min_delta = 0.0. New best score: 0.328\n"
     ]
    },
    {
     "name": "stdout",
     "output_type": "stream",
     "text": [
      "Epoch 13: 100%|██████████| 59/59 [00:26<00:00,  2.20it/s, v_num=0, val_loss=0.325, step=13.00, val_f1=0.815, train_loss=0.136, train_f1=0.883]"
     ]
    },
    {
     "name": "stderr",
     "output_type": "stream",
     "text": [
      "Metric val_loss improved by 0.002 >= min_delta = 0.0. New best score: 0.325\n"
     ]
    },
    {
     "name": "stdout",
     "output_type": "stream",
     "text": [
      "Epoch 15: 100%|██████████| 59/59 [01:49<00:00,  0.54it/s, v_num=0, val_loss=0.324, step=15.00, val_f1=0.815, train_loss=0.110, train_f1=0.901]"
     ]
    },
    {
     "name": "stderr",
     "output_type": "stream",
     "text": [
      "Metric val_loss improved by 0.001 >= min_delta = 0.0. New best score: 0.324\n"
     ]
    },
    {
     "name": "stdout",
     "output_type": "stream",
     "text": [
      "Epoch 17: 100%|██████████| 59/59 [01:29<00:00,  0.66it/s, v_num=0, val_loss=0.310, step=17.00, val_f1=0.809, train_loss=0.0846, train_f1=0.891]"
     ]
    },
    {
     "name": "stderr",
     "output_type": "stream",
     "text": [
      "Metric val_loss improved by 0.014 >= min_delta = 0.0. New best score: 0.310\n"
     ]
    },
    {
     "name": "stdout",
     "output_type": "stream",
     "text": [
      "Epoch 18: 100%|██████████| 59/59 [00:49<00:00,  1.19it/s, v_num=0, val_loss=0.309, step=18.00, val_f1=0.800, train_loss=0.0702, train_f1=0.899]"
     ]
    },
    {
     "name": "stderr",
     "output_type": "stream",
     "text": [
      "Metric val_loss improved by 0.001 >= min_delta = 0.0. New best score: 0.309\n"
     ]
    },
    {
     "name": "stdout",
     "output_type": "stream",
     "text": [
      "Epoch 21: 100%|██████████| 59/59 [00:27<00:00,  2.16it/s, v_num=0, val_loss=0.326, step=21.00, val_f1=0.797, train_loss=0.0459, train_f1=0.919]"
     ]
    },
    {
     "name": "stderr",
     "output_type": "stream",
     "text": [
      "Monitored metric val_loss did not improve in the last 3 records. Best score: 0.309. Signaling Trainer to stop.\n"
     ]
    },
    {
     "name": "stdout",
     "output_type": "stream",
     "text": [
      "Epoch 21: 100%|██████████| 59/59 [00:27<00:00,  2.16it/s, v_num=0, val_loss=0.326, step=21.00, val_f1=0.797, train_loss=0.0459, train_f1=0.919]"
     ]
    },
    {
     "name": "stderr",
     "output_type": "stream",
     "text": [
      "Seed set to 6\n"
     ]
    },
    {
     "name": "stdout",
     "output_type": "stream",
     "text": [
      "\n",
      "Training model model1 with seed 6...\n"
     ]
    },
    {
     "name": "stderr",
     "output_type": "stream",
     "text": [
      "GPU available: False, used: False\n",
      "TPU available: False, using: 0 TPU cores\n",
      "IPU available: False, using: 0 IPUs\n",
      "HPU available: False, using: 0 HPUs\n",
      "Missing logger folder: c:\\Users\\merli\\OneDrive\\Desktop\\Github repos\\NLP\\A1\\logs\\lightning_logs\\model1_seed6_emb300\n",
      "\n",
      "  | Name             | Type          | Params\n",
      "---------------------------------------------------\n",
      "0 | lstm             | LSTM          | 835 K \n",
      "1 | fc               | Linear        | 11.8 K\n",
      "2 | _train_f1_metric | F1ScoreCustom | 0     \n",
      "3 | _val_f1_metric   | F1ScoreCustom | 0     \n",
      "4 | _test_f1_metric  | F1ScoreCustom | 0     \n",
      "---------------------------------------------------\n",
      "847 K     Trainable params\n",
      "0         Non-trainable params\n",
      "847 K     Total params\n",
      "3.390     Total estimated model params size (MB)\n"
     ]
    },
    {
     "name": "stdout",
     "output_type": "stream",
     "text": [
      "Epoch 0: 100%|██████████| 59/59 [00:33<00:00,  1.74it/s, v_num=0, val_loss=1.800, step=0.000, val_f1=0.418, train_loss=2.730]"
     ]
    },
    {
     "name": "stderr",
     "output_type": "stream",
     "text": [
      "Metric val_loss improved. New best score: 1.802\n"
     ]
    },
    {
     "name": "stdout",
     "output_type": "stream",
     "text": [
      "Epoch 1: 100%|██████████| 59/59 [00:32<00:00,  1.82it/s, v_num=0, val_loss=0.967, step=1.000, val_f1=0.651, train_loss=1.290, train_f1=0.159]"
     ]
    },
    {
     "name": "stderr",
     "output_type": "stream",
     "text": [
      "Metric val_loss improved by 0.835 >= min_delta = 0.0. New best score: 0.967\n"
     ]
    },
    {
     "name": "stdout",
     "output_type": "stream",
     "text": [
      "Epoch 2: 100%|██████████| 59/59 [00:28<00:00,  2.10it/s, v_num=0, val_loss=0.673, step=2.000, val_f1=0.723, train_loss=0.770, train_f1=0.478]"
     ]
    },
    {
     "name": "stderr",
     "output_type": "stream",
     "text": [
      "Metric val_loss improved by 0.294 >= min_delta = 0.0. New best score: 0.673\n"
     ]
    },
    {
     "name": "stdout",
     "output_type": "stream",
     "text": [
      "Epoch 3: 100%|██████████| 59/59 [00:28<00:00,  2.10it/s, v_num=0, val_loss=0.534, step=3.000, val_f1=0.774, train_loss=0.548, train_f1=0.670]"
     ]
    },
    {
     "name": "stderr",
     "output_type": "stream",
     "text": [
      "Metric val_loss improved by 0.139 >= min_delta = 0.0. New best score: 0.534\n"
     ]
    },
    {
     "name": "stdout",
     "output_type": "stream",
     "text": [
      "Epoch 4: 100%|██████████| 59/59 [00:27<00:00,  2.11it/s, v_num=0, val_loss=0.449, step=4.000, val_f1=0.781, train_loss=0.423, train_f1=0.712]"
     ]
    },
    {
     "name": "stderr",
     "output_type": "stream",
     "text": [
      "Metric val_loss improved by 0.085 >= min_delta = 0.0. New best score: 0.449\n"
     ]
    },
    {
     "name": "stdout",
     "output_type": "stream",
     "text": [
      "Epoch 5: 100%|██████████| 59/59 [00:29<00:00,  2.01it/s, v_num=0, val_loss=0.395, step=5.000, val_f1=0.797, train_loss=0.341, train_f1=0.783]"
     ]
    },
    {
     "name": "stderr",
     "output_type": "stream",
     "text": [
      "Metric val_loss improved by 0.054 >= min_delta = 0.0. New best score: 0.395\n"
     ]
    },
    {
     "name": "stdout",
     "output_type": "stream",
     "text": [
      "Epoch 6: 100%|██████████| 59/59 [00:29<00:00,  1.99it/s, v_num=0, val_loss=0.364, step=6.000, val_f1=0.770, train_loss=0.278, train_f1=0.787]"
     ]
    },
    {
     "name": "stderr",
     "output_type": "stream",
     "text": [
      "Metric val_loss improved by 0.031 >= min_delta = 0.0. New best score: 0.364\n"
     ]
    },
    {
     "name": "stdout",
     "output_type": "stream",
     "text": [
      "Epoch 7: 100%|██████████| 59/59 [00:30<00:00,  1.93it/s, v_num=0, val_loss=0.353, step=7.000, val_f1=0.802, train_loss=0.230, train_f1=0.780]"
     ]
    },
    {
     "name": "stderr",
     "output_type": "stream",
     "text": [
      "Metric val_loss improved by 0.011 >= min_delta = 0.0. New best score: 0.353\n"
     ]
    },
    {
     "name": "stdout",
     "output_type": "stream",
     "text": [
      "Epoch 8: 100%|██████████| 59/59 [00:28<00:00,  2.05it/s, v_num=0, val_loss=0.324, step=8.000, val_f1=0.820, train_loss=0.192, train_f1=0.816]"
     ]
    },
    {
     "name": "stderr",
     "output_type": "stream",
     "text": [
      "Metric val_loss improved by 0.029 >= min_delta = 0.0. New best score: 0.324\n"
     ]
    },
    {
     "name": "stdout",
     "output_type": "stream",
     "text": [
      "Epoch 9: 100%|██████████| 59/59 [00:31<00:00,  1.88it/s, v_num=0, val_loss=0.320, step=9.000, val_f1=0.806, train_loss=0.169, train_f1=0.845]"
     ]
    },
    {
     "name": "stderr",
     "output_type": "stream",
     "text": [
      "Metric val_loss improved by 0.004 >= min_delta = 0.0. New best score: 0.320\n"
     ]
    },
    {
     "name": "stdout",
     "output_type": "stream",
     "text": [
      "Epoch 10: 100%|██████████| 59/59 [00:28<00:00,  2.08it/s, v_num=0, val_loss=0.285, step=10.00, val_f1=0.841, train_loss=0.143, train_f1=0.860]"
     ]
    },
    {
     "name": "stderr",
     "output_type": "stream",
     "text": [
      "Metric val_loss improved by 0.035 >= min_delta = 0.0. New best score: 0.285\n"
     ]
    },
    {
     "name": "stdout",
     "output_type": "stream",
     "text": [
      "Epoch 11: 100%|██████████| 59/59 [00:28<00:00,  2.08it/s, v_num=0, val_loss=0.282, step=11.00, val_f1=0.817, train_loss=0.110, train_f1=0.870]"
     ]
    },
    {
     "name": "stderr",
     "output_type": "stream",
     "text": [
      "Metric val_loss improved by 0.004 >= min_delta = 0.0. New best score: 0.282\n"
     ]
    },
    {
     "name": "stdout",
     "output_type": "stream",
     "text": [
      "Epoch 12: 100%|██████████| 59/59 [00:29<00:00,  2.03it/s, v_num=0, val_loss=0.277, step=12.00, val_f1=0.828, train_loss=0.0867, train_f1=0.889]"
     ]
    },
    {
     "name": "stderr",
     "output_type": "stream",
     "text": [
      "Metric val_loss improved by 0.004 >= min_delta = 0.0. New best score: 0.277\n"
     ]
    },
    {
     "name": "stdout",
     "output_type": "stream",
     "text": [
      "Epoch 15: 100%|██████████| 59/59 [00:28<00:00,  2.06it/s, v_num=0, val_loss=0.308, step=15.00, val_f1=0.836, train_loss=0.0462, train_f1=0.910]"
     ]
    },
    {
     "name": "stderr",
     "output_type": "stream",
     "text": [
      "Monitored metric val_loss did not improve in the last 3 records. Best score: 0.277. Signaling Trainer to stop.\n"
     ]
    },
    {
     "name": "stdout",
     "output_type": "stream",
     "text": [
      "Epoch 15: 100%|██████████| 59/59 [00:28<00:00,  2.06it/s, v_num=0, val_loss=0.308, step=15.00, val_f1=0.836, train_loss=0.0462, train_f1=0.910]"
     ]
    },
    {
     "name": "stderr",
     "output_type": "stream",
     "text": [
      "Seed set to 6\n"
     ]
    },
    {
     "name": "stdout",
     "output_type": "stream",
     "text": [
      "\n",
      "Training model model2 with seed 6...\n"
     ]
    },
    {
     "name": "stderr",
     "output_type": "stream",
     "text": [
      "GPU available: False, used: False\n",
      "TPU available: False, using: 0 TPU cores\n",
      "IPU available: False, using: 0 IPUs\n",
      "HPU available: False, using: 0 HPUs\n",
      "Missing logger folder: c:\\Users\\merli\\OneDrive\\Desktop\\Github repos\\NLP\\A1\\logs\\lightning_logs\\model2_seed6_emb300\n",
      "\n",
      "  | Name             | Type          | Params\n",
      "---------------------------------------------------\n",
      "0 | lstm             | LSTM          | 835 K \n",
      "1 | fc_1             | Linear        | 16.4 K\n",
      "2 | fc_2             | Linear        | 3.0 K \n",
      "3 | _train_f1_metric | F1ScoreCustom | 0     \n",
      "4 | _val_f1_metric   | F1ScoreCustom | 0     \n",
      "5 | _test_f1_metric  | F1ScoreCustom | 0     \n",
      "---------------------------------------------------\n",
      "855 K     Trainable params\n",
      "0         Non-trainable params\n",
      "855 K     Total params\n",
      "3.420     Total estimated model params size (MB)\n"
     ]
    },
    {
     "name": "stdout",
     "output_type": "stream",
     "text": [
      "Epoch 0: 100%|██████████| 59/59 [00:28<00:00,  2.05it/s, v_num=0, val_loss=1.970, step=0.000, val_f1=0.404, train_loss=2.860]"
     ]
    },
    {
     "name": "stderr",
     "output_type": "stream",
     "text": [
      "Metric val_loss improved. New best score: 1.975\n"
     ]
    },
    {
     "name": "stdout",
     "output_type": "stream",
     "text": [
      "Epoch 1: 100%|██████████| 59/59 [00:31<00:00,  1.90it/s, v_num=0, val_loss=1.000, step=1.000, val_f1=0.588, train_loss=1.380, train_f1=0.107]"
     ]
    },
    {
     "name": "stderr",
     "output_type": "stream",
     "text": [
      "Metric val_loss improved by 0.971 >= min_delta = 0.0. New best score: 1.004\n"
     ]
    },
    {
     "name": "stdout",
     "output_type": "stream",
     "text": [
      "Epoch 2: 100%|██████████| 59/59 [00:30<00:00,  1.96it/s, v_num=0, val_loss=0.678, step=2.000, val_f1=0.698, train_loss=0.780, train_f1=0.411]"
     ]
    },
    {
     "name": "stderr",
     "output_type": "stream",
     "text": [
      "Metric val_loss improved by 0.326 >= min_delta = 0.0. New best score: 0.678\n"
     ]
    },
    {
     "name": "stdout",
     "output_type": "stream",
     "text": [
      "Epoch 3: 100%|██████████| 59/59 [00:30<00:00,  1.96it/s, v_num=0, val_loss=0.539, step=3.000, val_f1=0.738, train_loss=0.557, train_f1=0.634]"
     ]
    },
    {
     "name": "stderr",
     "output_type": "stream",
     "text": [
      "Metric val_loss improved by 0.139 >= min_delta = 0.0. New best score: 0.539\n"
     ]
    },
    {
     "name": "stdout",
     "output_type": "stream",
     "text": [
      "Epoch 4: 100%|██████████| 59/59 [00:29<00:00,  1.99it/s, v_num=0, val_loss=0.455, step=4.000, val_f1=0.753, train_loss=0.414, train_f1=0.657]"
     ]
    },
    {
     "name": "stderr",
     "output_type": "stream",
     "text": [
      "Metric val_loss improved by 0.085 >= min_delta = 0.0. New best score: 0.455\n"
     ]
    },
    {
     "name": "stdout",
     "output_type": "stream",
     "text": [
      "Epoch 5: 100%|██████████| 59/59 [00:29<00:00,  2.03it/s, v_num=0, val_loss=0.393, step=5.000, val_f1=0.810, train_loss=0.316, train_f1=0.711]"
     ]
    },
    {
     "name": "stderr",
     "output_type": "stream",
     "text": [
      "Metric val_loss improved by 0.062 >= min_delta = 0.0. New best score: 0.393\n"
     ]
    },
    {
     "name": "stdout",
     "output_type": "stream",
     "text": [
      "Epoch 6: 100%|██████████| 59/59 [00:28<00:00,  2.04it/s, v_num=0, val_loss=0.354, step=6.000, val_f1=0.807, train_loss=0.245, train_f1=0.791]"
     ]
    },
    {
     "name": "stderr",
     "output_type": "stream",
     "text": [
      "Metric val_loss improved by 0.039 >= min_delta = 0.0. New best score: 0.354\n"
     ]
    },
    {
     "name": "stdout",
     "output_type": "stream",
     "text": [
      "Epoch 7: 100%|██████████| 59/59 [00:28<00:00,  2.04it/s, v_num=0, val_loss=0.332, step=7.000, val_f1=0.823, train_loss=0.191, train_f1=0.813]"
     ]
    },
    {
     "name": "stderr",
     "output_type": "stream",
     "text": [
      "Metric val_loss improved by 0.023 >= min_delta = 0.0. New best score: 0.332\n"
     ]
    },
    {
     "name": "stdout",
     "output_type": "stream",
     "text": [
      "Epoch 8: 100%|██████████| 59/59 [00:30<00:00,  1.94it/s, v_num=0, val_loss=0.330, step=8.000, val_f1=0.798, train_loss=0.151, train_f1=0.816]"
     ]
    },
    {
     "name": "stderr",
     "output_type": "stream",
     "text": [
      "Metric val_loss improved by 0.002 >= min_delta = 0.0. New best score: 0.330\n"
     ]
    },
    {
     "name": "stdout",
     "output_type": "stream",
     "text": [
      "Epoch 11: 100%|██████████| 59/59 [00:30<00:00,  1.95it/s, v_num=0, val_loss=0.307, step=11.00, val_f1=0.798, train_loss=0.111, train_f1=0.853]"
     ]
    },
    {
     "name": "stderr",
     "output_type": "stream",
     "text": [
      "Metric val_loss improved by 0.023 >= min_delta = 0.0. New best score: 0.307\n"
     ]
    },
    {
     "name": "stdout",
     "output_type": "stream",
     "text": [
      "Epoch 14: 100%|██████████| 59/59 [00:28<00:00,  2.05it/s, v_num=0, val_loss=0.324, step=14.00, val_f1=0.806, train_loss=0.032, train_f1=0.913] "
     ]
    },
    {
     "name": "stderr",
     "output_type": "stream",
     "text": [
      "Monitored metric val_loss did not improve in the last 3 records. Best score: 0.307. Signaling Trainer to stop.\n"
     ]
    },
    {
     "name": "stdout",
     "output_type": "stream",
     "text": [
      "Epoch 14: 100%|██████████| 59/59 [00:28<00:00,  2.05it/s, v_num=0, val_loss=0.324, step=14.00, val_f1=0.806, train_loss=0.032, train_f1=0.913]\n"
     ]
    }
   ],
   "source": [
    "logs_path = Path.cwd() / \"logs\" / \"lightning_logs\"\n",
    "train = False\n",
    "\n",
    "seeds = [6, 90, 157]\n",
    "\n",
    "epochs = 100\n",
    "output_dim = len(df_train[\"POS\"].unique()) + 1  # +1 for padding\n",
    "hidden_dim = 128\n",
    "input_dim = embedding_dim\n",
    "\n",
    "model_classes = [BiLSTMModel, Model1, Model2]\n",
    "model_names = [\"baseline\", \"model1\", \"model2\"]\n",
    "hyperparameters = [\n",
    "    {'input_dim': input_dim, 'hidden_dim': hidden_dim, 'output_dim': output_dim},\n",
    "    {'input_dim': input_dim, 'hidden_dim': hidden_dim, 'output_dim': output_dim},\n",
    "    {'input_dim': input_dim, 'hidden_dim': hidden_dim, 'output_dim': output_dim, 'fc_size': 64}\n",
    "]\n",
    "\n",
    "if train:\n",
    "    for model_class, model_name, hyperparameter in zip(model_classes, model_names, hyperparameters):\n",
    "        for seed in seeds:\n",
    "            print(f\"Training model {model_name} with seed {seed}...\")\n",
    "            seed_everything(seed, workers=True)\n",
    "\n",
    "            model = model_class(**hyperparameter)\n",
    "\n",
    "            logger = TensorBoardLogger(logs_path, name=f\"{model_name}_seed{seed}_emb{embedding_dim}\")\n",
    "            checkpoint_callback = ModelCheckpoint(\n",
    "                monitor='val_loss',\n",
    "                dirpath=None,\n",
    "                filename=f'{model_name}-seed={seed}' + '-{epoch:02d}-{val_loss:.2f}-{val_f1:.2f}',\n",
    "                save_top_k=1,\n",
    "            )\n",
    "            early_stop_callback = EarlyStopping(\n",
    "                monitor='val_loss',\n",
    "                patience=3,\n",
    "                verbose=True,\n",
    "                mode='min'\n",
    "            )\n",
    "\n",
    "            trainer = Trainer(\n",
    "                max_epochs=epochs,\n",
    "                logger=logger,\n",
    "                log_every_n_steps=1,\n",
    "                callbacks=[checkpoint_callback, early_stop_callback],\n",
    "                deterministic=True\n",
    "            )\n",
    "\n",
    "            trainer.fit(model, train_loader, val_loader)\n",
    "else:\n",
    "    print(\"Skipping training...\")"
   ]
  },
  {
   "cell_type": "markdown",
   "metadata": {},
   "source": [
    "### Robust estimation across seeds and choice of best model\n",
    "\n",
    "#### Compute mean and standard deviation of the validation F1Score across seeds, for each of the 3 models"
   ]
  },
  {
   "cell_type": "code",
   "execution_count": 27,
   "metadata": {},
   "outputs": [],
   "source": [
    "def mean_and_std_f1score(f1_scores: list):\n",
    "    mean_f1_score = torch.mean(torch.Tensor(f1_scores))\n",
    "    std_f1_score = torch.std(torch.Tensor(f1_scores))\n",
    "\n",
    "    return mean_f1_score, std_f1_score\n",
    "\n",
    "\n",
    "logs_path = Path.cwd() / \"logs\" / \"lightning_logs\"  #TODO: remove\n",
    "\n",
    "model_names = [\"baseline\", \"model1\", \"model2\"]  #TODO: remove\n",
    "\n",
    "# Iterate log directory and retrieve f1 scores for every model\n",
    "models_dict = {\n",
    "    \"baseline\": {\n",
    "        \"best_model_path\": \"\",\n",
    "        \"val_f1_scores\": []\n",
    "    },\n",
    "    \"model1\": {\n",
    "        \"best_model_path\": \"\",\n",
    "        \"val_f1_scores\": []\n",
    "    },\n",
    "    \"model2\": {\n",
    "        \"best_model_path\": \"\",\n",
    "        \"val_f1_scores\": []\n",
    "    }\n",
    "}\n",
    "\n",
    "for model_name in model_names:\n",
    "    best_model_f1_score = 0\n",
    "    \n",
    "    for root, dirs, files in os.walk(logs_path):\n",
    "        for file in files:\n",
    "            file_path = os.path.join(root, file)\n",
    "            if file_path.endswith('.ckpt') and model_name in file_path:\n",
    "                f1_score = float(re.search(r'val_f1=(\\d\\.\\d+)', file_path).group(1))\n",
    "                models_dict[model_name][\"val_f1_scores\"].append(f1_score)\n",
    "\n",
    "                if f1_score > best_model_f1_score:\n",
    "                    models_dict[model_name][\"best_model_path\"] = file_path\n",
    "                    best_model_f1_score = f1_score"
   ]
  },
  {
   "cell_type": "code",
   "execution_count": 32,
   "metadata": {},
   "outputs": [
    {
     "name": "stdout",
     "output_type": "stream",
     "text": [
      "baseline mean f1 score: 0.8233 ± 0.0208\n",
      "model1 mean f1 score: 0.8267 ± 0.0058\n",
      "model2 mean f1 score: 0.81 ± 0.01\n"
     ]
    }
   ],
   "source": [
    "for model_name in model_names:\n",
    "    mean, std = mean_and_std_f1score(models_dict[model_name][\"val_f1_scores\"])\n",
    "    print(f\"{model_name} mean f1 score: {round(mean.item(), 4)} ± {round(std.item(), 4)}\")"
   ]
  },
  {
   "cell_type": "markdown",
   "metadata": {},
   "source": [
    "The best performing model is **model 1**. We consider it's best instance (seed 6) for the error analysis"
   ]
  },
  {
   "cell_type": "markdown",
   "metadata": {},
   "source": [
    "## TASK 6: Error analysis\n",
    "\n",
    "* Compare the errors made on the validation and test sets.\n",
    "* Aggregate model errors into categories (if possible) \n",
    "* Comment about errors and propose possible solutions on how to address them."
   ]
  },
  {
   "cell_type": "markdown",
   "metadata": {
    "collapsed": false
   },
   "source": [
    "### Load the best mode and evaluate it on the test set"
   ]
  },
  {
   "cell_type": "code",
   "execution_count": 35,
   "metadata": {
    "collapsed": false
   },
   "outputs": [
    {
     "data": {
      "text/plain": [
       "Model1(\n",
       "  (lstm): LSTM(300, 128, num_layers=2, batch_first=True, bidirectional=True)\n",
       "  (fc): Linear(in_features=256, out_features=46, bias=True)\n",
       "  (_train_f1_metric): F1ScoreCustom()\n",
       "  (_val_f1_metric): F1ScoreCustom()\n",
       "  (_test_f1_metric): F1ScoreCustom()\n",
       ")"
      ]
     },
     "execution_count": 35,
     "metadata": {},
     "output_type": "execute_result"
    }
   ],
   "source": [
    "def load_model(model_name, model_path):\n",
    "    if model_name == \"baseline\":\n",
    "        cls = BiLSTMModel\n",
    "    elif model_name == \"model1\":\n",
    "        cls = Model1\n",
    "    elif model_name == \"model2\":\n",
    "        cls = Model2\n",
    "    else:\n",
    "        raise ValueError(f\"Model name {model_name} not recognized.\")\n",
    "    hparams_path = Path(model_path).parent.parent / \"hparams.yaml\"\n",
    "    model = cls.load_from_checkpoint(model_path, hparams_file=hparams_path)\n",
    "    model.freeze()\n",
    "    return model\n",
    "\n",
    "best_model = load_model(\"model1\", models_dict[\"model1\"][\"best_model_path\"])\n",
    "best_model"
   ]
  },
  {
   "cell_type": "markdown",
   "metadata": {},
   "source": [
    "Comparison of performance in validation and test sets"
   ]
  },
  {
   "cell_type": "code",
   "execution_count": 43,
   "metadata": {
    "collapsed": false
   },
   "outputs": [
    {
     "name": "stderr",
     "output_type": "stream",
     "text": [
      "GPU available: False, used: False\n",
      "TPU available: False, using: 0 TPU cores\n",
      "IPU available: False, using: 0 IPUs\n",
      "HPU available: False, using: 0 HPUs\n",
      "d:\\Users\\edo\\envs\\nlp\\Lib\\site-packages\\lightning\\pytorch\\trainer\\connectors\\data_connector.py:441: The 'test_dataloader' does not have many workers which may be a bottleneck. Consider increasing the value of the `num_workers` argument` to `num_workers=7` in the `DataLoader` to improve performance.\n"
     ]
    },
    {
     "name": "stdout",
     "output_type": "stream",
     "text": [
      "Testing DataLoader 0:   0%|          | 0/19 [00:00<?, ?it/s]"
     ]
    },
    {
     "name": "stdout",
     "output_type": "stream",
     "text": [
      "Testing DataLoader 0: 100%|██████████| 19/19 [00:03<00:00,  5.12it/s]"
     ]
    },
    {
     "name": "stderr",
     "output_type": "stream",
     "text": [
      "d:\\Users\\edo\\envs\\nlp\\Lib\\site-packages\\lightning\\pytorch\\trainer\\connectors\\data_connector.py:441: The 'val_dataloader' does not have many workers which may be a bottleneck. Consider increasing the value of the `num_workers` argument` to `num_workers=7` in the `DataLoader` to improve performance.\n"
     ]
    },
    {
     "name": "stdout",
     "output_type": "stream",
     "text": [
      "\n",
      "────────────────────────────────────────────────────────────────────────────────────────────────────────────────────────\n",
      "       Test metric             DataLoader 0\n",
      "────────────────────────────────────────────────────────────────────────────────────────────────────────────────────────\n",
      "          step                      0.0\n",
      "         test_f1            0.8218908309936523\n",
      "        test_loss           0.24975371360778809\n",
      "────────────────────────────────────────────────────────────────────────────────────────────────────────────────────────\n",
      "Validation DataLoader 0: 100%|██████████| 40/40 [00:12<00:00,  3.25it/s]\n",
      "────────────────────────────────────────────────────────────────────────────────────────────────────────────────────────\n",
      "     Validate metric           DataLoader 0\n",
      "────────────────────────────────────────────────────────────────────────────────────────────────────────────────────────\n",
      "          step                      0.0\n",
      "         val_f1             0.8283072113990784\n",
      "        val_loss             0.277202844619751\n",
      "────────────────────────────────────────────────────────────────────────────────────────────────────────────────────────\n",
      "Validation performance: loss 0.2772, f1 0.82831\n",
      "Test performance: loss 0.24975, f1 0.82189\n"
     ]
    }
   ],
   "source": [
    "trainer = Trainer(deterministic=True)\n",
    "test_res = trainer.test(best_model, dataloaders=test_loader)\n",
    "val_res = trainer.validate(best_model, dataloaders=val_loader)\n",
    "\n",
    "print(f\"Validation performance: loss {round(val_res[0]['val_loss'], 5)}, f1 {round(val_res[0]['val_f1'], 5)}\")\n",
    "print(f\"Test performance: loss {round(test_res[0]['test_loss'], 5)}, f1 {round(test_res[0]['test_f1'], 5)}\")"
   ]
  },
  {
   "cell_type": "code",
   "execution_count": 44,
   "metadata": {
    "ExecuteTime": {
     "end_time": "2023-12-05T17:44:09.271449600Z",
     "start_time": "2023-12-05T17:43:45.846928600Z"
    },
    "collapsed": false
   },
   "outputs": [
    {
     "data": {
      "image/png": "[encoded data removed]",
      "text/plain": [
       "<Figure size 1500x1000 with 1 Axes>"
      ]
     },
     "metadata": {},
     "output_type": "display_data"
    }
   ],
   "source": [
    "import matplotlib.pyplot as plt\n",
    "from torchmetrics import PrecisionRecallCurve\n",
    "\n",
    "precision_curve = PrecisionRecallCurve(task=\"multiclass\", num_classes=best_model.output_dim)\n",
    "\n",
    "y_pred = torch.Tensor([])\n",
    "y_true = torch.empty(0, dtype=torch.long) \n",
    "\n",
    "for batch in test_loader:\n",
    "    x_batch, y_true_batch = batch\n",
    "    y_pred_batch = best_model(x_batch)\n",
    "    y_pred_batch = y_pred_batch.reshape(-1, best_model.output_dim)\n",
    "    y_true_batch = y_true_batch.reshape(-1)\n",
    "    y_pred = torch.cat((y_pred, y_pred_batch), dim=0)\n",
    "    y_true = torch.cat((y_true, y_true_batch), dim=0)\n",
    "    \n",
    "\n",
    "curve = precision_curve(y_pred, y_true)\n",
    "precision, recall, _ = curve\n",
    "\n",
    "plt.figure(figsize=(15, 10))\n",
    "plt.title(\"Precision-Recall Curve\")\n",
    "plt.xlabel(\"Recall\")\n",
    "plt.ylabel(\"Precision\")\n",
    "plt.xlim(0, 1)\n",
    "plt.ylim(0, 1)\n",
    "plt.grid()\n",
    "\n",
    "\n",
    "pos_to_auc = {}\n",
    "for i in range(best_model.output_dim):\n",
    "    pos_name = pos_vocab.lookup_token(i)\n",
    "    \n",
    "    if pos_name in punctuation_and_symbol_pos:\n",
    "        continue\n",
    "                \n",
    "    auc = -1 * torch.trapz(precision[i], recall[i])\n",
    "    \n",
    "    pos_to_auc[pos_name] = auc.item()\n",
    "    \n",
    "    plt.plot(recall[i], precision[i], label=f\"{pos_name}: {auc:.2f}\")\n",
    "\n",
    "plt.legend(loc=\"center left\", bbox_to_anchor=(1, 0.5))\n",
    "plt.show()\n"
   ]
  },
  {
   "cell_type": "code",
   "execution_count": 45,
   "metadata": {
    "ExecuteTime": {
     "end_time": "2023-12-05T17:44:09.318713700Z",
     "start_time": "2023-12-05T17:44:09.271449600Z"
    },
    "collapsed": false
   },
   "outputs": [
    {
     "name": "stdout",
     "output_type": "stream",
     "text": [
      "Top 3 hardest pos [('NNPS', 0.3237694501876831), ('PDT', 0.34960854053497314), ('RBR', 0.5072044134140015)]\n"
     ]
    }
   ],
   "source": [
    "top_k_hardest = 3\n",
    "hardest = sorted(pos_to_auc.items(), key=lambda x: x[1])[:top_k_hardest]\n",
    "print(f\"Top 3 hardest pos {hardest}\")"
   ]
  },
  {
   "cell_type": "code",
   "execution_count": 46,
   "metadata": {
    "ExecuteTime": {
     "end_time": "2023-12-05T17:44:09.601340400Z",
     "start_time": "2023-12-05T17:44:09.288579400Z"
    },
    "collapsed": false
   },
   "outputs": [
    {
     "data": {
      "image/png": "[encoded data removed]",
      "text/plain": [
       "<Figure size 1500x1000 with 2 Axes>"
      ]
     },
     "metadata": {},
     "output_type": "display_data"
    }
   ],
   "source": [
    "from torchmetrics.classification import MulticlassConfusionMatrix\n",
    "\n",
    "confusion_matrix_metric = MulticlassConfusionMatrix(num_classes=best_model.output_dim)\n",
    "\n",
    "y_pred_class = torch.argmax(y_pred, dim=1)\n",
    "pred_to_plot = y_pred_class[y_true != pos_padding_value]\n",
    "true_to_plot = y_true[y_true != pos_padding_value]\n",
    "\n",
    "confusion_matrix = confusion_matrix_metric(pred_to_plot, true_to_plot)\n",
    "\n",
    "# plot confusion matrix\n",
    "plt.figure(figsize=(15, 10))\n",
    "plt.title(\"Confusion Matrix\")\n",
    "plt.xlabel(\"Predicted\")\n",
    "plt.ylabel(\"True\")\n",
    "plt.imshow(confusion_matrix)\n",
    "plt.colorbar()\n",
    "plt.xticks(range(best_model.output_dim - 1), pos_vocab.get_itos()[:-1])\n",
    "plt.yticks(range(best_model.output_dim - 1), pos_vocab.get_itos()[:-1])\n",
    "# x ticks labels vertical\n",
    "plt.xticks(rotation=90)\n",
    "\n",
    "plt.show()"
   ]
  },
  {
   "cell_type": "code",
   "execution_count": 47,
   "metadata": {
    "ExecuteTime": {
     "end_time": "2023-12-05T17:44:09.616969600Z",
     "start_time": "2023-12-05T17:44:09.601340400Z"
    },
    "collapsed": false
   },
   "outputs": [
    {
     "name": "stdout",
     "output_type": "stream",
     "text": [
      "Top 1 most confused pos: NN, confused with NNP with 114 errors\n",
      "Top 2 most confused pos: JJ, confused with NN with 95 errors\n",
      "Top 3 most confused pos: NNP, confused with NN with 74 errors\n",
      "Top 4 most confused pos: NNS, confused with NN with 50 errors\n",
      "Top 5 most confused pos: IN, confused with RB with 47 errors\n",
      "Top 6 most confused pos: VBN, confused with JJ with 28 errors\n"
     ]
    }
   ],
   "source": [
    "# Find the maximum value outside the diagonal\n",
    "\n",
    "confused_pos = {}\n",
    "    \n",
    "for i in range(best_model.output_dim):\n",
    "    if i in punctuation_and_symbol_pos or i == pos_padding_value:\n",
    "        continue\n",
    "        \n",
    "    temp_row = confusion_matrix[i]\n",
    "    temp_row[i] = -1\n",
    "    \n",
    "    # find the pos that is most confused with the current pos\n",
    "    max_pos = torch.argmax(temp_row)\n",
    "    \n",
    "    confused_pos[pos_vocab.lookup_token(i)] = {\n",
    "        \"confused_with\": pos_vocab.lookup_token(max_pos),\n",
    "        \"n_errors\": temp_row[max_pos].item()\n",
    "    }\n",
    "    \n",
    "    # print(f\"Most confused pos for {pos_vocab.lookup_token(i)} is {pos_vocab.lookup_token(max_pos)}, with {temp_row[max_pos].item()} errors\")     \n",
    "\n",
    "top_k_most_confused = 6\n",
    "most_confused = sorted(confused_pos.items(), key=lambda x: x[1][\"n_errors\"], reverse=True)[:top_k_most_confused]\n",
    "\n",
    "for i, (pos, info) in enumerate(most_confused):\n",
    "    print(f\"Top {i + 1} most confused pos: {pos}, confused with {info['confused_with']} with {info['n_errors']} errors\")"
   ]
  },
  {
   "cell_type": "markdown",
   "metadata": {
    "collapsed": false
   },
   "source": [
    "#### Analysis of some misclassified samples"
   ]
  },
  {
   "cell_type": "code",
   "execution_count": null,
   "metadata": {},
   "outputs": [],
   "source": [
    "# TODO "
   ]
  },
  {
   "cell_type": "markdown",
   "metadata": {},
   "source": [
    "# Task 7: Report\n",
    "\n",
    "Wrap up your experiment in a short report (up to 2 pages)."
   ]
  },
  {
   "cell_type": "markdown",
   "metadata": {},
   "source": [
    "### Instructions\n",
    "\n",
    "* Use the NLP course report template.\n",
    "* Summarize each task in the report following the provided template."
   ]
  },
  {
   "cell_type": "markdown",
   "metadata": {},
   "source": [
    "### Recommendations\n",
    "\n",
    "The report is not a copy-paste of graphs, tables, and command outputs.\n",
    "\n",
    "* Summarize classification performance in Table format.\n",
    "* **Do not** report command outputs or screenshots.\n",
    "* Report learning curves in Figure format.\n",
    "* The error analysis section should summarize your findings."
   ]
  },
  {
   "cell_type": "markdown",
   "metadata": {},
   "source": [
    "# Submission\n",
    "\n",
    "* **Submit** your report in PDF format.\n",
    "* **Submit** your python notebook.\n",
    "* Make sure your notebook is **well organized**, with no temporary code, commented sections, tests, etc...\n",
    "* You can upload **model weights** in a cloud repository and report the link in the report."
   ]
  }
 ],
 "metadata": {
  "kernelspec": {
   "display_name": "Python 3",
   "language": "python",
   "name": "python3"
  },
  "language_info": {
   "codemirror_mode": {
    "name": "ipython",
    "version": 3
   },
   "file_extension": ".py",
   "mimetype": "text/x-python",
   "name": "python",
   "nbconvert_exporter": "python",
   "pygments_lexer": "ipython3",
   "version": "3.11.5"
  }
 },
 "nbformat": 4,
 "nbformat_minor": 2
}
