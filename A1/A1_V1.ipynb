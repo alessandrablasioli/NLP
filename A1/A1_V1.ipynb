{
 "cells": [
  {
   "cell_type": "markdown",
   "metadata": {},
   "source": [
    "# Assignment 1 - Part of Speech Tagging"
   ]
  },
  {
   "cell_type": "markdown",
   "metadata": {},
   "source": [
    "## Dependencies"
   ]
  },
  {
   "cell_type": "code",
   "execution_count": 689,
   "metadata": {
    "ExecuteTime": {
     "end_time": "2023-11-14T17:39:16.581090200Z",
     "start_time": "2023-11-14T17:39:16.474910800Z"
    }
   },
   "outputs": [],
   "source": [
    "# !pip install lightning\n",
    "# !pip install torchtext.data\n",
    "# !pip install torchtext\n",
    "# !pip install torch"
   ]
  },
  {
   "cell_type": "code",
   "execution_count": 690,
   "metadata": {
    "ExecuteTime": {
     "end_time": "2023-11-14T17:39:16.668132600Z",
     "start_time": "2023-11-14T17:39:16.493919900Z"
    }
   },
   "outputs": [],
   "source": [
    "# TODO: remove unused dependencies\n",
    "\n",
    "# file management\n",
    "import sys\n",
    "import shutil\n",
    "import urllib\n",
    "import tarfile\n",
    "from pathlib import Path\n",
    "import zipfile\n",
    "import os\n",
    "\n",
    "# DL framework\n",
    "from torchmetrics import Accuracy, F1Score\n",
    "from lightning.pytorch.loggers import TensorBoardLogger\n",
    "\n",
    "# dataframe management\n",
    "import pandas as pd\n",
    "\n",
    "# data manipulation\n",
    "import numpy as np\n",
    "\n",
    "# for readability\n",
    "from typing import Iterable\n",
    "from tqdm import tqdm"
   ]
  },
  {
   "cell_type": "markdown",
   "metadata": {},
   "source": [
    "#### Download the corpus"
   ]
  },
  {
   "cell_type": "code",
   "execution_count": 691,
   "metadata": {
    "ExecuteTime": {
     "end_time": "2023-11-14T17:39:16.759172600Z",
     "start_time": "2023-11-14T17:39:16.507923300Z"
    }
   },
   "outputs": [],
   "source": [
    "class DownloadProgressBar(tqdm):\n",
    "    def update_to(self, b=1, bsize=1, tsize=None):\n",
    "        if tsize is not None:\n",
    "            self.total = tsize\n",
    "        self.update(b * bsize - self.n)\n",
    "\n",
    "\n",
    "def download_url(download_path: Path, url: str):\n",
    "    with DownloadProgressBar(unit='B', unit_scale=True,\n",
    "                             miniters=1, desc=url.split('/')[-1]) as t:\n",
    "        urllib.request.urlretrieve(url, filename=download_path, reporthook=t.update_to)\n",
    "\n",
    "\n",
    "def download_dataset(download_path: Path, url: str):\n",
    "    print(\"Downloading dataset...\")\n",
    "    download_url(url=url, download_path=download_path)\n",
    "    print(\"Download complete!\")\n",
    "\n",
    "\n",
    "def extract_dataset(download_path: Path, extract_path: Path):\n",
    "    print(\"Extracting dataset... (it may take a while...)\")\n",
    "    with zipfile.ZipFile(download_path, 'r') as zip_file:\n",
    "        zip_file.extractall(extract_path)\n",
    "\n",
    "    print(\"Extraction completed!\")\n",
    "\n",
    "    Path.unlink(download_path)\n",
    "    print(\"Deleted .zip dataset file\")"
   ]
  },
  {
   "cell_type": "code",
   "execution_count": 692,
   "metadata": {
    "ExecuteTime": {
     "end_time": "2023-11-14T17:39:16.785171800Z",
     "start_time": "2023-11-14T17:39:16.524920300Z"
    }
   },
   "outputs": [
    {
     "name": "stdout",
     "output_type": "stream",
     "text": [
      "Current work directory: C:\\Users\\Matteo\\Documents\\University\\NLP\\A1\n"
     ]
    }
   ],
   "source": [
    "url = \"https://raw.githubusercontent.com/nltk/nltk_data/gh-pages/packages/corpora/dependency_treebank.zip\"\n",
    "dataset_name = \"dependency_treebank\"\n",
    "\n",
    "print(f\"Current work directory: {Path.cwd()}\")\n",
    "\n",
    "dataset_folder = Path.cwd().joinpath(\"Datasets\")\n",
    "\n",
    "if not dataset_folder.exists():\n",
    "    dataset_folder.mkdir(parents=True)\n",
    "\n",
    "dataset_zip_path = dataset_folder.joinpath(\"dependency_treebank.zip\")\n",
    "dataset_path = dataset_folder.joinpath(dataset_name)\n",
    "\n",
    "if not dataset_zip_path.exists():\n",
    "    download_dataset(dataset_zip_path, url)\n",
    "\n",
    "if not dataset_path.exists():\n",
    "    extract_dataset(dataset_zip_path, dataset_folder)\n"
   ]
  },
  {
   "cell_type": "markdown",
   "metadata": {},
   "source": [
    "#### Encode the corpus into a pandas.DataFrame object and split it into train, validation and test sets"
   ]
  },
  {
   "cell_type": "markdown",
   "metadata": {},
   "source": [
    "The corpus contains 200 documents.\n",
    "\n",
    "   * **Train**: Documents 1-100\n",
    "   * **Validation**: Documents 101-150\n",
    "   * **Test**: Documents 151-199"
   ]
  },
  {
   "cell_type": "code",
   "execution_count": 693,
   "metadata": {
    "ExecuteTime": {
     "end_time": "2023-11-14T17:39:16.787172700Z",
     "start_time": "2023-11-14T17:39:16.540921200Z"
    }
   },
   "outputs": [],
   "source": [
    "dataframe_rows = []  # list for DataFrame rows\n",
    "id = 0\n",
    "\n",
    "for i, file_path in enumerate(sorted(dataset_path.iterdir())):\n",
    "    if file_path.is_file():  # split corpus documents in the tree categories: train, validation, tests\n",
    "        if 1 <= i + 1 <= 100:\n",
    "            split = 'train'\n",
    "        elif 101 <= i + 1 <= 150:\n",
    "            split = 'validation'\n",
    "        else:\n",
    "            split = 'test'\n",
    "\n",
    "        with file_path.open(mode='r', encoding='utf-8') as text_file:  # read corpus lines\n",
    "            lines = text_file.readlines()\n",
    "\n",
    "        for line in lines:\n",
    "            fields = line.strip().split('\\t')\n",
    "            if len(fields) == 1:\n",
    "                id = id + 1\n",
    "            if len(fields) >= 2:\n",
    "                text = fields[0]  # store the first field as 'text'\n",
    "                POS = fields[1]  # store the second field as 'POS'\n",
    "                dataframe_row = {  #build DataFrame rows\n",
    "                    \"text\": text,\n",
    "                    \"POS\": POS,\n",
    "                    \"split\": split,\n",
    "                    \"id\": id\n",
    "                }\n",
    "\n",
    "                dataframe_rows.append(dataframe_row)  #append rows\n",
    "# corpus DataFrame\n",
    "corpus_df = pd.DataFrame(dataframe_rows)"
   ]
  },
  {
   "cell_type": "markdown",
   "metadata": {
    "collapsed": false
   },
   "source": [
    "## TASK 1: Corpus\n",
    "\n",
    "* **Download** the corpus.\n",
    "* **Encode** the corpus into a pandas.DataFrame object.\n",
    "* **Split** it in training, validation, and test sets."
   ]
  },
  {
   "cell_type": "markdown",
   "metadata": {},
   "source": [
    "#### Data inspection"
   ]
  },
  {
   "cell_type": "code",
   "execution_count": 694,
   "metadata": {
    "ExecuteTime": {
     "end_time": "2023-11-14T17:39:16.788172800Z",
     "start_time": "2023-11-14T17:39:16.652096900Z"
    }
   },
   "outputs": [
    {
     "data": {
      "text/plain": "     text  POS  split  id\n0  Pierre  NNP  train   0\n1  Vinken  NNP  train   0\n2       ,    ,  train   0\n3      61   CD  train   0\n4   years  NNS  train   0\n5     old   JJ  train   0\n6       ,    ,  train   0\n7    will   MD  train   0\n8    join   VB  train   0\n9     the   DT  train   0",
      "text/html": "<div>\n<style scoped>\n    .dataframe tbody tr th:only-of-type {\n        vertical-align: middle;\n    }\n\n    .dataframe tbody tr th {\n        vertical-align: top;\n    }\n\n    .dataframe thead th {\n        text-align: right;\n    }\n</style>\n<table border=\"1\" class=\"dataframe\">\n  <thead>\n    <tr style=\"text-align: right;\">\n      <th></th>\n      <th>text</th>\n      <th>POS</th>\n      <th>split</th>\n      <th>id</th>\n    </tr>\n  </thead>\n  <tbody>\n    <tr>\n      <th>0</th>\n      <td>Pierre</td>\n      <td>NNP</td>\n      <td>train</td>\n      <td>0</td>\n    </tr>\n    <tr>\n      <th>1</th>\n      <td>Vinken</td>\n      <td>NNP</td>\n      <td>train</td>\n      <td>0</td>\n    </tr>\n    <tr>\n      <th>2</th>\n      <td>,</td>\n      <td>,</td>\n      <td>train</td>\n      <td>0</td>\n    </tr>\n    <tr>\n      <th>3</th>\n      <td>61</td>\n      <td>CD</td>\n      <td>train</td>\n      <td>0</td>\n    </tr>\n    <tr>\n      <th>4</th>\n      <td>years</td>\n      <td>NNS</td>\n      <td>train</td>\n      <td>0</td>\n    </tr>\n    <tr>\n      <th>5</th>\n      <td>old</td>\n      <td>JJ</td>\n      <td>train</td>\n      <td>0</td>\n    </tr>\n    <tr>\n      <th>6</th>\n      <td>,</td>\n      <td>,</td>\n      <td>train</td>\n      <td>0</td>\n    </tr>\n    <tr>\n      <th>7</th>\n      <td>will</td>\n      <td>MD</td>\n      <td>train</td>\n      <td>0</td>\n    </tr>\n    <tr>\n      <th>8</th>\n      <td>join</td>\n      <td>VB</td>\n      <td>train</td>\n      <td>0</td>\n    </tr>\n    <tr>\n      <th>9</th>\n      <td>the</td>\n      <td>DT</td>\n      <td>train</td>\n      <td>0</td>\n    </tr>\n  </tbody>\n</table>\n</div>"
     },
     "execution_count": 694,
     "metadata": {},
     "output_type": "execute_result"
    }
   ],
   "source": [
    "corpus_df.head(10)"
   ]
  },
  {
   "cell_type": "code",
   "execution_count": 695,
   "metadata": {
    "ExecuteTime": {
     "end_time": "2023-11-14T17:39:16.835171700Z",
     "start_time": "2023-11-14T17:39:16.666132600Z"
    }
   },
   "outputs": [],
   "source": [
    "# Train, test, validation split\n",
    "df_train = corpus_df[corpus_df['split'] == 'train'].drop(columns=['split'])\n",
    "df_test = corpus_df[corpus_df['split'] == 'test'].drop(columns=['split'])\n",
    "df_val = corpus_df[corpus_df['split'] == 'validation'].drop(columns=['split'])"
   ]
  },
  {
   "cell_type": "code",
   "execution_count": 696,
   "metadata": {
    "ExecuteTime": {
     "end_time": "2023-11-14T17:39:16.846176700Z",
     "start_time": "2023-11-14T17:39:16.696133200Z"
    }
   },
   "outputs": [
    {
     "name": "stdout",
     "output_type": "stream",
     "text": [
      "Dataframe structure:\n",
      "          text  POS  split    id\n",
      "0       Pierre  NNP  train     0\n",
      "1       Vinken  NNP  train     0\n",
      "2            ,    ,  train     0\n",
      "3           61   CD  train     0\n",
      "4        years  NNS  train     0\n",
      "...        ...  ...    ...   ...\n",
      "94079  quarter   NN   test  3715\n",
      "94080       of   IN   test  3715\n",
      "94081     next   JJ   test  3715\n",
      "94082     year   NN   test  3715\n",
      "94083        .    .   test  3715\n",
      "\n",
      "[94084 rows x 4 columns]\n",
      "\n",
      "Total rows 94084\n"
     ]
    }
   ],
   "source": [
    "print(\"Dataframe structure:\")\n",
    "print(corpus_df)\n",
    "print()\n",
    "\n",
    "print(\"Total rows %d\" % (len(corpus_df)))\n",
    "print()"
   ]
  },
  {
   "cell_type": "markdown",
   "metadata": {},
   "source": [
    "## TASK 2: Text encoding\n",
    "\n",
    "* Embed words using **GloVe embeddings**.\n",
    "* TODO: see if we want to do it, otherwise remove it -> [Optional] You are free to experiment with text pre-processing: **make sure you do not delete any token!**"
   ]
  },
  {
   "cell_type": "markdown",
   "metadata": {},
   "source": [
    "### Embed words unsing GloVe embeddings"
   ]
  },
  {
   "cell_type": "code",
   "execution_count": 697,
   "metadata": {
    "ExecuteTime": {
     "end_time": "2023-11-14T17:39:16.846176700Z",
     "start_time": "2023-11-14T17:39:16.712132900Z"
    }
   },
   "outputs": [],
   "source": [
    "from torchtext.vocab import GloVe, build_vocab_from_iterator\n",
    "\n",
    "import torch\n",
    "from torch import nn\n",
    "from torch.utils.data import Dataset\n",
    "from torch.utils.data import DataLoader\n",
    "\n",
    "import pytorch_lightning as pl\n",
    "from lightning.pytorch import loggers as pl_logger"
   ]
  },
  {
   "cell_type": "code",
   "execution_count": 698,
   "metadata": {
    "ExecuteTime": {
     "end_time": "2023-11-14T17:39:16.846176700Z",
     "start_time": "2023-11-14T17:39:16.727134300Z"
    }
   },
   "outputs": [],
   "source": [
    "def load_embedding_model(embedding_dimension: int = 300):\n",
    "    emb_model = GloVe(name=\"6B\", dim=embedding_dimension)\n",
    "    return emb_model"
   ]
  },
  {
   "cell_type": "code",
   "execution_count": 699,
   "metadata": {
    "ExecuteTime": {
     "end_time": "2023-11-14T17:39:16.864683900Z",
     "start_time": "2023-11-14T17:39:16.743138Z"
    }
   },
   "outputs": [],
   "source": [
    "iterator = ([text] for text in corpus_df[\"POS\"].unique())\n",
    "vocab = build_vocab_from_iterator(iterator)\n",
    "vocab.append_token(\"<PAD>\")\n",
    "\n",
    "pos_padding_value = vocab[\"<PAD>\"]\n",
    "\n",
    "\n",
    "class CorpusDataset(Dataset):\n",
    "    def __init__(self, dataframe: pd.DataFrame, embedder):\n",
    "        min_id = dataframe['id'].min()\n",
    "        dataframe['id'] = dataframe['id'] - min_id\n",
    "        self.dataframe = dataframe.groupby(\"id\")\n",
    "        self.embedder = embedder\n",
    "\n",
    "    def __len__(self):\n",
    "        return len(self.dataframe)\n",
    "\n",
    "    def __getitem__(self, idx):\n",
    "        sentence = self.dataframe.get_group(idx)\n",
    "        text = sentence['text'].to_list()\n",
    "        POS = sentence['POS'].to_list()\n",
    "\n",
    "        POS = torch.Tensor([vocab[token] for token in POS])\n",
    "\n",
    "        # POS_one_hot = torch.nn.functional.one_hot(POS.to(torch.int64), num_classes=len(vocab))\n",
    "        # TODO: remove\n",
    "        embedded_text = self.embedder.get_vecs_by_tokens(text)\n",
    "\n",
    "        return embedded_text, POS\n"
   ]
  },
  {
   "cell_type": "code",
   "execution_count": 700,
   "metadata": {
    "ExecuteTime": {
     "end_time": "2023-11-14T17:39:16.957774Z",
     "start_time": "2023-11-14T17:39:16.792172900Z"
    }
   },
   "outputs": [],
   "source": [
    "# Definition of the dataset\n",
    "EMBEDDING_DIM = 50\n",
    "embedder = load_embedding_model(EMBEDDING_DIM)\n",
    "dataset_train = CorpusDataset(df_train, embedder)\n",
    "dataset_test = CorpusDataset(df_test, embedder)\n",
    "dataset_val = CorpusDataset(df_val, embedder)\n",
    "dataset_all = CorpusDataset(corpus_df, embedder)\n",
    "\n",
    "\n",
    "# TODO - test if it works in the LSTM training\n",
    "def my_collate(batch):\n",
    "    sequences, labels = zip(*batch)\n",
    "\n",
    "    # max_len = max([len(seq) for seq in sequences])\n",
    "    # sequences_padded = [seq + [\"<PAD>\"] * (max_len - len(seq)) for seq in sequences]\n",
    "\n",
    "    sequences_padded = torch.nn.utils.rnn.pad_sequence(sequences, batch_first=True, padding_value=0)\n",
    "    labels_padded = torch.nn.utils.rnn.pad_sequence(labels, batch_first=True, padding_value=pos_padding_value)\n",
    "\n",
    "    sequences_padded = sequences_padded.type(torch.float)\n",
    "    labels_padded = labels_padded.type(torch.long)\n",
    "\n",
    "    return [sequences_padded, labels_padded]\n",
    "\n",
    "\n",
    "train_loader = DataLoader(dataset_train, batch_size=32, collate_fn=my_collate)\n",
    "val_loader = DataLoader(dataset_val, batch_size=32, collate_fn=my_collate)\n",
    "test_loader = DataLoader(dataset_test, batch_size=32, collate_fn=my_collate)"
   ]
  },
  {
   "cell_type": "markdown",
   "metadata": {},
   "source": []
  },
  {
   "cell_type": "markdown",
   "metadata": {},
   "source": [
    "## TASK 3: Model definition\n",
    "\n",
    "* **Baseline**: implement a Bidirectional LSTM with a Dense layer on top.\n",
    "\n",
    "* **Model 1**: add an additional LSTM layer to the Baseline model.\n",
    "* **Model 2**: add an additional Dense layer to the Baseline model."
   ]
  },
  {
   "cell_type": "markdown",
   "metadata": {},
   "source": [
    "### Baseline model: Bidirectional LSTM + Dense layer"
   ]
  },
  {
   "cell_type": "code",
   "execution_count": 701,
   "metadata": {
    "collapsed": false,
    "ExecuteTime": {
     "end_time": "2023-11-14T17:39:16.976778900Z",
     "start_time": "2023-11-14T17:39:16.950270Z"
    }
   },
   "outputs": [],
   "source": [
    "from torchmetrics import Metric\n",
    "from torchmetrics import ConfusionMatrix\n",
    "\n",
    "\n",
    "class F1ScoreCustom(Metric):\n",
    "    def __init__(self, num_classes: int, pos_padding_value: int = pos_padding_value):\n",
    "        super().__init__()\n",
    "\n",
    "        self.num_classes = num_classes\n",
    "        self.pos_padding_value = pos_padding_value\n",
    "        self.add_state(\"true_positive\", default=torch.zeros([num_classes]), dist_reduce_fx=\"sum\")\n",
    "        self.add_state(\"false_negative\", default=torch.zeros([num_classes]), dist_reduce_fx=\"sum\")\n",
    "        self.add_state(\"false_positive\", default=torch.zeros([num_classes]), dist_reduce_fx=\"sum\")\n",
    "\n",
    "    def update(self, y_hat_class: torch.Tensor, y_class: torch.Tensor):\n",
    "        confusion_matrix_metric = ConfusionMatrix(num_classes=self.num_classes, task=\"multiclass\")\n",
    "        confusion_matrix = confusion_matrix_metric(y_hat_class, y_class)\n",
    "\n",
    "        # # Confusion matrix, TP, FN and FP for class 0 \n",
    "        # #   TRUE LABEL\n",
    "        # #   0               TP     FN    FN     FN      FN        \n",
    "        # #   1               FP       \n",
    "        # #   2               FP               \n",
    "        # #   3               FP                       \n",
    "        # #   4               FP                                \n",
    "        # # PREDICTED LABEL   0       1      2       3       4\n",
    "        # \n",
    "\n",
    "        true_positive = torch.Tensor([confusion_matrix[i][i] for i in range(self.num_classes)])\n",
    "        false_negative = torch.Tensor([sum(confusion_matrix[i, :]) - true_positive[i] for i in range(self.num_classes)])\n",
    "        false_positive = torch.Tensor([sum(confusion_matrix[:, i]) - true_positive[i] for i in range(self.num_classes)])\n",
    "\n",
    "        self.true_positive += true_positive\n",
    "        self.false_negative += false_negative\n",
    "        self.false_positive += false_positive\n",
    "\n",
    "    def compute(self):\n",
    "        precision = self.true_positive / (self.true_positive + self.false_positive)\n",
    "        recall = self.true_positive / (self.true_positive + self.false_negative)\n",
    "\n",
    "        f1 = 2 * (precision * recall) / (precision + recall)\n",
    "\n",
    "        mask = torch.ones_like(f1)\n",
    "        mask[self.pos_padding_value] = 0\n",
    "\n",
    "        f1 = f1 * mask\n",
    "\n",
    "        return f1\n",
    "\n"
   ]
  },
  {
   "cell_type": "code",
   "execution_count": 702,
   "metadata": {
    "ExecuteTime": {
     "end_time": "2023-11-14T17:39:16.988778300Z",
     "start_time": "2023-11-14T17:39:16.972782Z"
    }
   },
   "outputs": [],
   "source": [
    "class BiLSTMModel(pl.LightningModule):\n",
    "    def __init__(self, input_dim, hidden_dim, output_dim, target_padding_value=pos_padding_value):  #, embedder):\n",
    "        super(BiLSTMModel, self).__init__()\n",
    "        self.output_dim = output_dim\n",
    "        self.target_padding_value = target_padding_value\n",
    "\n",
    "        # self.embedder = embedder\n",
    "        # self.embedding_layer = nn.Embedding.from_pretrained(embedder.vectors)\n",
    "\n",
    "        self.lstm = nn.LSTM(input_size=input_dim,\n",
    "                            hidden_size=hidden_dim,\n",
    "                            batch_first=True,\n",
    "                            bidirectional=True)\n",
    "        self.fc = nn.Linear(hidden_dim * 2, output_dim)  # Multiplied by 2 due to the bidirectionality\n",
    "\n",
    "        self._train_f1_metric = F1ScoreCustom(num_classes=output_dim, pos_padding_value=self.target_padding_value)\n",
    "        self._val_f1_metric = F1ScoreCustom(num_classes=output_dim, pos_padding_value=self.target_padding_value)\n",
    "        self._test_f1_metric = F1ScoreCustom(num_classes=output_dim, pos_padding_value=self.target_padding_value)\n",
    "\n",
    "    def forward(self, x):\n",
    "        # embedding = self.embedding_layer(x)\n",
    "        lstm_out, _ = self.lstm(x)\n",
    "        # lstm_out (batch_size, seq_length, hidden_size * 2)\n",
    "        out = self.fc(lstm_out)\n",
    "        # out (batch_size, seq_length, output_dim)\n",
    "        return out\n",
    "\n",
    "    def training_step(self, batch, batch_idx):\n",
    "        x, y = batch\n",
    "        y_hat = self(x)\n",
    "\n",
    "        # Change shape from (batchsize, sequence_len, classes) to be (batchsize, classes, sequence_len) to compute loss function\n",
    "        y_hat = torch.movedim(y_hat, 1, 2)\n",
    "        loss = nn.functional.cross_entropy(y_hat, y, ignore_index=self.target_padding_value)\n",
    "\n",
    "        self.log_dict({'train_loss': loss, 'step': self.current_epoch}, on_epoch=True, prog_bar=True, logger=True,\n",
    "                      on_step=False, reduce_fx=\"mean\")\n",
    "\n",
    "        y_hat_class = torch.argmax(y_hat, dim=1)\n",
    "        self._train_f1_metric.update(y_hat_class, y)\n",
    "\n",
    "        return loss\n",
    "\n",
    "    def validation_step(self, batch, batch_idx):\n",
    "        x, y = batch\n",
    "        y_hat = self(x)\n",
    "        y_hat = torch.movedim(y_hat, 1, 2)\n",
    "\n",
    "        loss = nn.functional.cross_entropy(y_hat, y, ignore_index=self.target_padding_value)\n",
    "        self.log_dict({'val_loss': loss, 'step': self.current_epoch}, on_epoch=True, prog_bar=True, logger=True,\n",
    "                      reduce_fx=\"mean\")\n",
    "\n",
    "        y_hat_class = torch.argmax(y_hat, dim=1)\n",
    "        self._val_f1_metric.update(y_hat_class, y)\n",
    "\n",
    "        return loss\n",
    "\n",
    "    def test_step(self, batch, batch_idx):\n",
    "        x, y = batch\n",
    "        y_hat = self(x)\n",
    "        y_hat = torch.movedim(y_hat, 1, 2)\n",
    "        loss = nn.functional.cross_entropy(y_hat, y, ignore_index=self.target_padding_value)\n",
    "\n",
    "        self.log_dict({'test_loss': loss, 'step': self.current_epoch}, on_epoch=True, prog_bar=True, logger=True,\n",
    "                      reduce_fx=\"mean\")\n",
    "\n",
    "        y_hat_class = torch.argmax(y_hat, dim=1)\n",
    "        self._test_f1_metric.update(y_hat_class, y)\n",
    "\n",
    "        return loss\n",
    "\n",
    "    def configure_optimizers(self):\n",
    "        optimizer = torch.optim.Adam(self.parameters(), lr=1e-3)\n",
    "        return optimizer\n",
    "\n",
    "    def _compute_f1(self, f1_metric):\n",
    "        mean_f1_score = f1_metric.compute()\n",
    "\n",
    "        # Create a mask that is False for NaNs\n",
    "        mask = torch.isnan(mean_f1_score)\n",
    "\n",
    "        # Invert the mask: True for valid entries, False for NaNs\n",
    "        valid_data = mean_f1_score[~mask]\n",
    "\n",
    "        # Compute the mean of the non-NaN values\n",
    "        mean_value = torch.mean(valid_data)\n",
    "\n",
    "        return mean_value\n",
    "\n",
    "    def on_train_epoch_end(self) -> None:\n",
    "        mean_f1_score = self._compute_f1(self._train_f1_metric)\n",
    "        self.log_dict({\"train_f1\": mean_f1_score, 'step': self.current_epoch}, on_epoch=True, prog_bar=True, logger=True)\n",
    "        self._train_f1_metric.reset()\n",
    "\n",
    "    def on_validation_epoch_end(self) -> None:\n",
    "        mean_f1_score = self._compute_f1(self._val_f1_metric)\n",
    "        self.log_dict({\"val_f1\": mean_f1_score, 'step': self.current_epoch}, on_epoch=True, prog_bar=True, logger=True)\n",
    "        self._val_f1_metric.reset()\n",
    "\n",
    "    def on_test_epoch_end(self) -> None:\n",
    "        mean_f1_score = self._compute_f1(self._test_f1_metric)\n",
    "        self.log_dict({\"test_f1\": mean_f1_score, 'step': self.current_epoch}, on_epoch=True, prog_bar=True, logger=True)\n",
    "        self._test_f1_metric.reset()\n"
   ]
  },
  {
   "cell_type": "code",
   "execution_count": 703,
   "outputs": [],
   "source": [
    "output_dim = len(df_train[\"POS\"].unique()) + 1  # +1 for padding\n",
    "input_dim = EMBEDDING_DIM"
   ],
   "metadata": {
    "collapsed": false,
    "ExecuteTime": {
     "end_time": "2023-11-14T17:39:17.017778800Z",
     "start_time": "2023-11-14T17:39:16.979778900Z"
    }
   }
  },
  {
   "cell_type": "code",
   "execution_count": 704,
   "metadata": {
    "ExecuteTime": {
     "end_time": "2023-11-14T17:39:17.018778800Z",
     "start_time": "2023-11-14T17:39:16.995778200Z"
    }
   },
   "outputs": [],
   "source": [
    "baseline_version = 1"
   ]
  },
  {
   "cell_type": "code",
   "execution_count": 705,
   "metadata": {
    "collapsed": false,
    "ExecuteTime": {
     "end_time": "2023-11-14T17:39:33.710572100Z",
     "start_time": "2023-11-14T17:39:17.011778700Z"
    }
   },
   "outputs": [
    {
     "name": "stderr",
     "output_type": "stream",
     "text": [
      "GPU available: False, used: False\n",
      "TPU available: False, using: 0 TPU cores\n",
      "IPU available: False, using: 0 IPUs\n",
      "HPU available: False, using: 0 HPUs\n",
      "C:\\Users\\Matteo\\AppData\\Local\\Programs\\Python\\Python310\\lib\\site-packages\\pytorch_lightning\\callbacks\\model_checkpoint.py:630: Checkpoint directory logs\\lightning_logs\\version_1\\checkpoints exists and is not empty.\n",
      "\n",
      "  | Name             | Type          | Params\n",
      "---------------------------------------------------\n",
      "0 | lstm             | LSTM          | 17.9 K\n",
      "1 | fc               | Linear        | 2.6 K \n",
      "2 | _train_f1_metric | F1ScoreCustom | 0     \n",
      "3 | _val_f1_metric   | F1ScoreCustom | 0     \n",
      "4 | _test_f1_metric  | F1ScoreCustom | 0     \n",
      "---------------------------------------------------\n",
      "20.5 K    Trainable params\n",
      "0         Non-trainable params\n",
      "20.5 K    Total params\n",
      "0.082     Total estimated model params size (MB)\n"
     ]
    },
    {
     "data": {
      "text/plain": "Sanity Checking: |          | 0/? [00:00<?, ?it/s]",
      "application/vnd.jupyter.widget-view+json": {
       "version_major": 2,
       "version_minor": 0,
       "model_id": "c25d2ea1fca649dc92d0c648520d0b8e"
      }
     },
     "metadata": {},
     "output_type": "display_data"
    },
    {
     "name": "stderr",
     "output_type": "stream",
     "text": [
      "C:\\Users\\Matteo\\AppData\\Local\\Programs\\Python\\Python310\\lib\\site-packages\\pytorch_lightning\\trainer\\connectors\\data_connector.py:441: The 'val_dataloader' does not have many workers which may be a bottleneck. Consider increasing the value of the `num_workers` argument` to `num_workers=19` in the `DataLoader` to improve performance.\n",
      "C:\\Users\\Matteo\\AppData\\Local\\Programs\\Python\\Python310\\lib\\site-packages\\pytorch_lightning\\trainer\\connectors\\data_connector.py:441: The 'train_dataloader' does not have many workers which may be a bottleneck. Consider increasing the value of the `num_workers` argument` to `num_workers=19` in the `DataLoader` to improve performance.\n"
     ]
    },
    {
     "data": {
      "text/plain": "Training: |          | 0/? [00:00<?, ?it/s]",
      "application/vnd.jupyter.widget-view+json": {
       "version_major": 2,
       "version_minor": 0,
       "model_id": "cd1c816ed7e44ddeaa3b9bdf39286b4c"
      }
     },
     "metadata": {},
     "output_type": "display_data"
    },
    {
     "data": {
      "text/plain": "Validation: |          | 0/? [00:00<?, ?it/s]",
      "application/vnd.jupyter.widget-view+json": {
       "version_major": 2,
       "version_minor": 0,
       "model_id": "c1a7280d0d7046cea556a24f779c30fd"
      }
     },
     "metadata": {},
     "output_type": "display_data"
    },
    {
     "data": {
      "text/plain": "Validation: |          | 0/? [00:00<?, ?it/s]",
      "application/vnd.jupyter.widget-view+json": {
       "version_major": 2,
       "version_minor": 0,
       "model_id": "ff755b6caa86485796daf5d3b4e2eeb0"
      }
     },
     "metadata": {},
     "output_type": "display_data"
    },
    {
     "data": {
      "text/plain": "Validation: |          | 0/? [00:00<?, ?it/s]",
      "application/vnd.jupyter.widget-view+json": {
       "version_major": 2,
       "version_minor": 0,
       "model_id": "a0939d6e4e87487f972d281e8c835a9e"
      }
     },
     "metadata": {},
     "output_type": "display_data"
    },
    {
     "data": {
      "text/plain": "Validation: |          | 0/? [00:00<?, ?it/s]",
      "application/vnd.jupyter.widget-view+json": {
       "version_major": 2,
       "version_minor": 0,
       "model_id": "cd27a71c4f754977b5b24b892d057fa5"
      }
     },
     "metadata": {},
     "output_type": "display_data"
    },
    {
     "data": {
      "text/plain": "Validation: |          | 0/? [00:00<?, ?it/s]",
      "application/vnd.jupyter.widget-view+json": {
       "version_major": 2,
       "version_minor": 0,
       "model_id": "c58e18fe748b48608f2f6c5e722f5b40"
      }
     },
     "metadata": {},
     "output_type": "display_data"
    },
    {
     "name": "stderr",
     "output_type": "stream",
     "text": [
      "`Trainer.fit` stopped: `max_epochs=5` reached.\n"
     ]
    }
   ],
   "source": [
    "hidden_dim = 28\n",
    "max_epochs = 5\n",
    "\n",
    "save_dir = \"logs\"\n",
    "load_model = False\n",
    "train_model = True\n",
    "model_ckpt = \"baseline.ckpt\"\n",
    "\n",
    "PATH = os.path.join(save_dir, \"lightning_logs\", \"version_\" + str(baseline_version), \"checkpoints\", model_ckpt)\n",
    "\n",
    "if load_model:\n",
    "    model = BiLSTMModel.load_from_checkpoint(PATH, input_dim=input_dim, hidden_dim=hidden_dim,\n",
    "                                             output_dim=output_dim)  #, embedder=embedder)\n",
    "else:\n",
    "    model = BiLSTMModel(input_dim=input_dim, hidden_dim=hidden_dim, output_dim=output_dim)  #, embedder=embedder)\n",
    "\n",
    "if train_model:\n",
    "    tb_logger = TensorBoardLogger(version=baseline_version, save_dir='logs')\n",
    "    trainer = pl.Trainer(max_epochs=max_epochs, logger=tb_logger, default_root_dir='./', log_every_n_steps=1)\n",
    "    trainer.fit(model, train_loader, val_loader)\n",
    "    trainer.save_checkpoint(PATH)\n",
    "    baseline_version += 1\n"
   ]
  },
  {
   "cell_type": "code",
   "execution_count": 706,
   "metadata": {
    "ExecuteTime": {
     "end_time": "2023-11-14T17:39:34.240170Z",
     "start_time": "2023-11-14T17:39:33.710572100Z"
    }
   },
   "outputs": [
    {
     "name": "stderr",
     "output_type": "stream",
     "text": [
      "C:\\Users\\Matteo\\AppData\\Local\\Programs\\Python\\Python310\\lib\\site-packages\\pytorch_lightning\\trainer\\connectors\\data_connector.py:441: The 'test_dataloader' does not have many workers which may be a bottleneck. Consider increasing the value of the `num_workers` argument` to `num_workers=19` in the `DataLoader` to improve performance.\n"
     ]
    },
    {
     "data": {
      "text/plain": "Testing: |          | 0/? [00:00<?, ?it/s]",
      "application/vnd.jupyter.widget-view+json": {
       "version_major": 2,
       "version_minor": 0,
       "model_id": "3f83a5eef0dc4ff5aae77bb79b7d0a26"
      }
     },
     "metadata": {},
     "output_type": "display_data"
    },
    {
     "name": "stdout",
     "output_type": "stream",
     "text": [
      "────────────────────────────────────────────────────────────────────────────────────────────────────────────────────────\r\n",
      "       Test metric             DataLoader 0\r\n",
      "────────────────────────────────────────────────────────────────────────────────────────────────────────────────────────\r\n",
      "          step                      5.0\r\n",
      "         test_f1            0.5615873336791992\r\n",
      "        test_loss           1.4257254600524902\r\n",
      "────────────────────────────────────────────────────────────────────────────────────────────────────────────────────────\n"
     ]
    },
    {
     "data": {
      "text/plain": "[{'test_loss': 1.4257254600524902, 'step': 5.0, 'test_f1': 0.5615873336791992}]"
     },
     "execution_count": 706,
     "metadata": {},
     "output_type": "execute_result"
    }
   ],
   "source": [
    "# test the model\n",
    "trainer.test(model, dataloaders=test_loader)"
   ]
  },
  {
   "cell_type": "code",
   "execution_count": 707,
   "outputs": [],
   "source": [
    "%reload_ext tensorboard"
   ],
   "metadata": {
    "collapsed": false,
    "ExecuteTime": {
     "end_time": "2023-11-14T17:39:34.255824400Z",
     "start_time": "2023-11-14T17:39:34.240170Z"
    }
   }
  },
  {
   "cell_type": "code",
   "execution_count": 708,
   "metadata": {
    "collapsed": false,
    "ExecuteTime": {
     "end_time": "2023-11-14T17:39:34.300845400Z",
     "start_time": "2023-11-14T17:39:34.255824400Z"
    }
   },
   "outputs": [
    {
     "data": {
      "text/plain": "Launching TensorBoard..."
     },
     "metadata": {},
     "output_type": "display_data"
    },
    {
     "data": {
      "text/plain": "<IPython.core.display.HTML object>",
      "text/html": "\n      <iframe id=\"tensorboard-frame-4586480973af6582\" width=\"100%\" height=\"800\" frameborder=\"0\">\n      </iframe>\n      <script>\n        (function() {\n          const frame = document.getElementById(\"tensorboard-frame-4586480973af6582\");\n          const url = new URL(\"/\", window.location);\n          const port = 6006;\n          if (port) {\n            url.port = port;\n          }\n          frame.src = url;\n        })();\n      </script>\n    "
     },
     "metadata": {},
     "output_type": "display_data"
    }
   ],
   "source": [
    "%tensorboard --logdir logs"
   ]
  },
  {
   "cell_type": "markdown",
   "metadata": {},
   "source": [
    "### Model 1: Bidirectional 2-layers LSTM + Dense layer"
   ]
  },
  {
   "cell_type": "code",
   "execution_count": 709,
   "metadata": {
    "ExecuteTime": {
     "end_time": "2023-11-14T17:39:34.314844600Z",
     "start_time": "2023-11-14T17:39:34.271844500Z"
    }
   },
   "outputs": [],
   "source": [
    "class Model1(pl.LightningModule):\n",
    "    def __init__(self, input_dim, hidden_dim, output_dim, target_padding_value=pos_padding_value):  #, embedder):\n",
    "        super(Model1, self).__init__()\n",
    "        self.output_dim = output_dim\n",
    "        self.target_padding_value = target_padding_value\n",
    "\n",
    "        # self.embedder = embedder\n",
    "        # self.embedding_layer = nn.Embedding.from_pretrained(embedder.vectors)\n",
    "\n",
    "        self.lstm = nn.LSTM(input_size=input_dim,\n",
    "                            hidden_size=hidden_dim,\n",
    "                            num_layers=2,\n",
    "                            batch_first=True,\n",
    "                            bidirectional=True)\n",
    "        self.fc = nn.Linear(hidden_dim * 2, output_dim)  # Multiplied by 2 due to the bidirectionality\n",
    "\n",
    "        self._train_f1_metric = F1ScoreCustom(num_classes=output_dim, pos_padding_value=self.target_padding_value)\n",
    "        self._val_f1_metric = F1ScoreCustom(num_classes=output_dim, pos_padding_value=self.target_padding_value)\n",
    "        self._test_f1_metric = F1ScoreCustom(num_classes=output_dim, pos_padding_value=self.target_padding_value)\n",
    "\n",
    "    def forward(self, x):\n",
    "        # embedding = self.embedding_layer(x)\n",
    "        lstm_out, _ = self.lstm(x)\n",
    "        # lstm_out (batch_size, seq_length, hidden_size * 2)\n",
    "        out = self.fc(lstm_out)\n",
    "        # out (batch_size, seq_length, output_dim)\n",
    "        return out\n",
    "\n",
    "    def training_step(self, batch, batch_idx):\n",
    "        x, y = batch\n",
    "        y_hat = self(x)\n",
    "\n",
    "        # Change shape from (batchsize, sequence_len, classes) to be (batchsize, classes, sequence_len) to compute loss function\n",
    "        y_hat = torch.movedim(y_hat, 1, 2)\n",
    "        loss = nn.functional.cross_entropy(y_hat, y, ignore_index=self.target_padding_value)\n",
    "\n",
    "        self.log_dict({'train_loss': loss, 'step': self.current_epoch}, on_epoch=True, prog_bar=True, logger=True,\n",
    "                      on_step=False, reduce_fx=\"mean\")\n",
    "\n",
    "        y_hat_class = torch.argmax(y_hat, dim=1)\n",
    "        self._train_f1_metric.update(y_hat_class, y)\n",
    "\n",
    "        return loss\n",
    "\n",
    "    def validation_step(self, batch, batch_idx):\n",
    "        x, y = batch\n",
    "        y_hat = self(x)\n",
    "        y_hat = torch.movedim(y_hat, 1, 2)\n",
    "\n",
    "        loss = nn.functional.cross_entropy(y_hat, y, ignore_index=self.target_padding_value)\n",
    "        self.log_dict({'val_loss': loss, 'step': self.current_epoch}, on_epoch=True, prog_bar=True, logger=True,\n",
    "                      reduce_fx=\"mean\")\n",
    "\n",
    "        y_hat_class = torch.argmax(y_hat, dim=1)\n",
    "        self._val_f1_metric.update(y_hat_class, y)\n",
    "\n",
    "        return loss\n",
    "\n",
    "    def test_step(self, batch, batch_idx):\n",
    "        x, y = batch\n",
    "        y_hat = self(x)\n",
    "        y_hat = torch.movedim(y_hat, 1, 2)\n",
    "        loss = nn.functional.cross_entropy(y_hat, y, ignore_index=self.target_padding_value)\n",
    "\n",
    "        self.log_dict({'test_loss': loss, 'step': self.current_epoch}, on_epoch=True, prog_bar=True, logger=True,\n",
    "                      reduce_fx=\"mean\")\n",
    "\n",
    "        y_hat_class = torch.argmax(y_hat, dim=1)\n",
    "        self._test_f1_metric.update(y_hat_class, y)\n",
    "\n",
    "        return loss\n",
    "\n",
    "    def configure_optimizers(self):\n",
    "        optimizer = torch.optim.Adam(self.parameters(), lr=1e-3)\n",
    "        return optimizer\n",
    "\n",
    "    def _compute_f1(self, f1_metric):\n",
    "        mean_f1_score = f1_metric.compute()\n",
    "\n",
    "        # Create a mask that is False for NaNs\n",
    "        mask = torch.isnan(mean_f1_score)\n",
    "\n",
    "        # Invert the mask: True for valid entries, False for NaNs\n",
    "        valid_data = mean_f1_score[~mask]\n",
    "\n",
    "        # Compute the mean of the non-NaN values\n",
    "        mean_value = torch.mean(valid_data)\n",
    "\n",
    "        return mean_value\n",
    "\n",
    "    def on_train_epoch_end(self) -> None:\n",
    "        mean_f1_score = self._compute_f1(self._train_f1_metric)\n",
    "        self.log_dict({\"train_f1\": mean_f1_score, 'step': self.current_epoch}, on_epoch=True, prog_bar=True, logger=True)\n",
    "        self._train_f1_metric.reset()\n",
    "\n",
    "    def on_validation_epoch_end(self) -> None:\n",
    "        mean_f1_score = self._compute_f1(self._val_f1_metric)\n",
    "        self.log_dict({\"val_f1\": mean_f1_score, 'step': self.current_epoch}, on_epoch=True, prog_bar=True, logger=True)\n",
    "        self._val_f1_metric.reset()\n",
    "\n",
    "    def on_test_epoch_end(self) -> None:\n",
    "        mean_f1_score = self._compute_f1(self._test_f1_metric)\n",
    "        self.log_dict({\"test_f1\": mean_f1_score, 'step': self.current_epoch}, on_epoch=True, prog_bar=True, logger=True)\n",
    "        self._test_f1_metric.reset()"
   ]
  },
  {
   "cell_type": "code",
   "execution_count": 710,
   "metadata": {
    "ExecuteTime": {
     "end_time": "2023-11-14T17:39:34.315845Z",
     "start_time": "2023-11-14T17:39:34.287844200Z"
    }
   },
   "outputs": [],
   "source": [
    "model1_version = 1"
   ]
  },
  {
   "cell_type": "code",
   "execution_count": 723,
   "metadata": {
    "collapsed": false,
    "ExecuteTime": {
     "end_time": "2023-11-14T17:40:53.172459500Z",
     "start_time": "2023-11-14T17:40:08.090810300Z"
    }
   },
   "outputs": [
    {
     "name": "stderr",
     "output_type": "stream",
     "text": [
      "GPU available: False, used: False\n",
      "TPU available: False, using: 0 TPU cores\n",
      "IPU available: False, using: 0 IPUs\n",
      "HPU available: False, using: 0 HPUs\n",
      "C:\\Users\\Matteo\\AppData\\Local\\Programs\\Python\\Python310\\lib\\site-packages\\pytorch_lightning\\callbacks\\model_checkpoint.py:630: Checkpoint directory logs\\lightning_logs\\version_2\\checkpoints exists and is not empty.\n",
      "\n",
      "  | Name             | Type          | Params\n",
      "---------------------------------------------------\n",
      "0 | lstm             | LSTM          | 37.2 K\n",
      "1 | fc               | Linear        | 2.6 K \n",
      "2 | _train_f1_metric | F1ScoreCustom | 0     \n",
      "3 | _val_f1_metric   | F1ScoreCustom | 0     \n",
      "4 | _test_f1_metric  | F1ScoreCustom | 0     \n",
      "---------------------------------------------------\n",
      "39.8 K    Trainable params\n",
      "0         Non-trainable params\n",
      "39.8 K    Total params\n",
      "0.159     Total estimated model params size (MB)\n"
     ]
    },
    {
     "data": {
      "text/plain": "Sanity Checking: |          | 0/? [00:00<?, ?it/s]",
      "application/vnd.jupyter.widget-view+json": {
       "version_major": 2,
       "version_minor": 0,
       "model_id": "35d21ba1c5a244f1a6acc109120b2ba3"
      }
     },
     "metadata": {},
     "output_type": "display_data"
    },
    {
     "name": "stderr",
     "output_type": "stream",
     "text": [
      "C:\\Users\\Matteo\\AppData\\Local\\Programs\\Python\\Python310\\lib\\site-packages\\pytorch_lightning\\trainer\\connectors\\data_connector.py:441: The 'val_dataloader' does not have many workers which may be a bottleneck. Consider increasing the value of the `num_workers` argument` to `num_workers=19` in the `DataLoader` to improve performance.\n",
      "C:\\Users\\Matteo\\AppData\\Local\\Programs\\Python\\Python310\\lib\\site-packages\\pytorch_lightning\\trainer\\connectors\\data_connector.py:441: The 'train_dataloader' does not have many workers which may be a bottleneck. Consider increasing the value of the `num_workers` argument` to `num_workers=19` in the `DataLoader` to improve performance.\n"
     ]
    },
    {
     "data": {
      "text/plain": "Training: |          | 0/? [00:00<?, ?it/s]",
      "application/vnd.jupyter.widget-view+json": {
       "version_major": 2,
       "version_minor": 0,
       "model_id": "d6e24a6f85084ebf8ce33515ed9caf24"
      }
     },
     "metadata": {},
     "output_type": "display_data"
    },
    {
     "data": {
      "text/plain": "Validation: |          | 0/? [00:00<?, ?it/s]",
      "application/vnd.jupyter.widget-view+json": {
       "version_major": 2,
       "version_minor": 0,
       "model_id": "68e3e9d30b814673a208425158df502f"
      }
     },
     "metadata": {},
     "output_type": "display_data"
    },
    {
     "data": {
      "text/plain": "Validation: |          | 0/? [00:00<?, ?it/s]",
      "application/vnd.jupyter.widget-view+json": {
       "version_major": 2,
       "version_minor": 0,
       "model_id": "6546168afd2f4e709776132677ff643d"
      }
     },
     "metadata": {},
     "output_type": "display_data"
    },
    {
     "data": {
      "text/plain": "Validation: |          | 0/? [00:00<?, ?it/s]",
      "application/vnd.jupyter.widget-view+json": {
       "version_major": 2,
       "version_minor": 0,
       "model_id": "5fb949fd65af408a8c20009344f1d034"
      }
     },
     "metadata": {},
     "output_type": "display_data"
    },
    {
     "data": {
      "text/plain": "Validation: |          | 0/? [00:00<?, ?it/s]",
      "application/vnd.jupyter.widget-view+json": {
       "version_major": 2,
       "version_minor": 0,
       "model_id": "79d060dfc0f148778cfdfa09ea2929d1"
      }
     },
     "metadata": {},
     "output_type": "display_data"
    },
    {
     "data": {
      "text/plain": "Validation: |          | 0/? [00:00<?, ?it/s]",
      "application/vnd.jupyter.widget-view+json": {
       "version_major": 2,
       "version_minor": 0,
       "model_id": "f09540cbf7044c5d9bf9942413d14fb7"
      }
     },
     "metadata": {},
     "output_type": "display_data"
    },
    {
     "data": {
      "text/plain": "Validation: |          | 0/? [00:00<?, ?it/s]",
      "application/vnd.jupyter.widget-view+json": {
       "version_major": 2,
       "version_minor": 0,
       "model_id": "0448bc22374241c48a7d7bfaf3e32b0b"
      }
     },
     "metadata": {},
     "output_type": "display_data"
    },
    {
     "data": {
      "text/plain": "Validation: |          | 0/? [00:00<?, ?it/s]",
      "application/vnd.jupyter.widget-view+json": {
       "version_major": 2,
       "version_minor": 0,
       "model_id": "95a7ce8361584298b26af4cd14a83c2a"
      }
     },
     "metadata": {},
     "output_type": "display_data"
    },
    {
     "data": {
      "text/plain": "Validation: |          | 0/? [00:00<?, ?it/s]",
      "application/vnd.jupyter.widget-view+json": {
       "version_major": 2,
       "version_minor": 0,
       "model_id": "67fb1c5db5d14f52a0746d7704f9d87f"
      }
     },
     "metadata": {},
     "output_type": "display_data"
    },
    {
     "data": {
      "text/plain": "Validation: |          | 0/? [00:00<?, ?it/s]",
      "application/vnd.jupyter.widget-view+json": {
       "version_major": 2,
       "version_minor": 0,
       "model_id": "fa9e620db00c47d99df901e687c83072"
      }
     },
     "metadata": {},
     "output_type": "display_data"
    },
    {
     "data": {
      "text/plain": "Validation: |          | 0/? [00:00<?, ?it/s]",
      "application/vnd.jupyter.widget-view+json": {
       "version_major": 2,
       "version_minor": 0,
       "model_id": "636cdc89cc634645ba06cf193639f45b"
      }
     },
     "metadata": {},
     "output_type": "display_data"
    },
    {
     "name": "stderr",
     "output_type": "stream",
     "text": [
      "`Trainer.fit` stopped: `max_epochs=10` reached.\n"
     ]
    }
   ],
   "source": [
    "hidden_dim = 28\n",
    "max_epochs = 10\n",
    "\n",
    "save_dir = \"logs\"\n",
    "load_model = False\n",
    "train_model = True\n",
    "model_ckpt = \"model1.ckpt\"\n",
    "\n",
    "PATH = os.path.join(save_dir, \"lightning_logs\", \"version_\" + str(model1_version), \"checkpoints\", model_ckpt)\n",
    "\n",
    "if load_model:\n",
    "    model_1 = Model1.load_from_checkpoint(PATH, input_dim=input_dim, hidden_dim=hidden_dim, output_dim=output_dim)\n",
    "else:\n",
    "    model_1 = Model1(input_dim=input_dim, hidden_dim=hidden_dim, output_dim=output_dim)\n",
    "\n",
    "if train_model:\n",
    "    tb_logger = TensorBoardLogger(version=model1_version, save_dir='logs')\n",
    "    trainer = pl.Trainer(max_epochs=max_epochs, logger=tb_logger, default_root_dir='./', log_every_n_steps=1)\n",
    "    trainer.fit(model_1, train_loader, val_loader)\n",
    "    trainer.save_checkpoint(PATH)\n",
    "    model1_version += 1\n"
   ]
  },
  {
   "cell_type": "code",
   "execution_count": 728,
   "metadata": {
    "collapsed": false,
    "ExecuteTime": {
     "end_time": "2023-11-14T17:41:14.356047600Z",
     "start_time": "2023-11-14T17:41:13.353616500Z"
    }
   },
   "outputs": [
    {
     "name": "stderr",
     "output_type": "stream",
     "text": [
      "C:\\Users\\Matteo\\AppData\\Local\\Programs\\Python\\Python310\\lib\\site-packages\\pytorch_lightning\\trainer\\connectors\\data_connector.py:441: The 'test_dataloader' does not have many workers which may be a bottleneck. Consider increasing the value of the `num_workers` argument` to `num_workers=19` in the `DataLoader` to improve performance.\n"
     ]
    },
    {
     "data": {
      "text/plain": "Testing: |          | 0/? [00:00<?, ?it/s]",
      "application/vnd.jupyter.widget-view+json": {
       "version_major": 2,
       "version_minor": 0,
       "model_id": "5dd51f0de5674fc1b5b7c037e422fa3e"
      }
     },
     "metadata": {},
     "output_type": "display_data"
    },
    {
     "name": "stdout",
     "output_type": "stream",
     "text": [
      "────────────────────────────────────────────────────────────────────────────────────────────────────────────────────────\r\n",
      "       Test metric             DataLoader 0\r\n",
      "────────────────────────────────────────────────────────────────────────────────────────────────────────────────────────\r\n",
      "          step                     10.0\r\n",
      "         test_f1            0.6905661225318909\r\n",
      "        test_loss           0.8774994015693665\r\n",
      "────────────────────────────────────────────────────────────────────────────────────────────────────────────────────────\n"
     ]
    }
   ],
   "source": [
    "trainer.test(model_1, dataloaders=test_loader);"
   ]
  },
  {
   "cell_type": "markdown",
   "metadata": {},
   "source": [
    "### Model 2: Bidirectional LSTM + 2 Dense layers"
   ]
  },
  {
   "cell_type": "code",
   "execution_count": 729,
   "metadata": {
    "collapsed": false,
    "ExecuteTime": {
     "end_time": "2023-11-14T17:41:15.091106300Z",
     "start_time": "2023-11-14T17:41:15.082084Z"
    }
   },
   "outputs": [],
   "source": [
    "class Model2(pl.LightningModule):\n",
    "    def __init__(self, input_dim, hidden_dim, output_dim, fc_size,\n",
    "                 target_padding_value=pos_padding_value):  #, embedder):\n",
    "        super(Model2, self).__init__()\n",
    "        self.output_dim = output_dim\n",
    "        self.target_padding_value = target_padding_value\n",
    "\n",
    "        # self.embedder = embedder\n",
    "        # self.embedding_layer = nn.Embedding.from_pretrained(embedder.vectors)\n",
    "\n",
    "        self.lstm = nn.LSTM(input_size=input_dim,\n",
    "                            hidden_size=hidden_dim,\n",
    "                            num_layers=2,\n",
    "                            batch_first=True,\n",
    "                            bidirectional=True)\n",
    "        self.fc_1 = nn.Linear(hidden_dim * 2, fc_size)  # Multiplied by 2 due to bidirectionality\n",
    "        self.fc_2 = nn.Linear(fc_size, output_dim)\n",
    "\n",
    "        self._train_f1_metric = F1ScoreCustom(num_classes=output_dim, pos_padding_value=self.target_padding_value)\n",
    "        self._val_f1_metric = F1ScoreCustom(num_classes=output_dim, pos_padding_value=self.target_padding_value)\n",
    "        self._test_f1_metric = F1ScoreCustom(num_classes=output_dim, pos_padding_value=self.target_padding_value)\n",
    "\n",
    "    def forward(self, x):\n",
    "        # embedding = self.embedding_layer(x)\n",
    "        lstm_out, _ = self.lstm(x)\n",
    "        # lstm_out (batch_size, seq_length, hidden_size * 2)\n",
    "        out = self.fc_1(lstm_out)\n",
    "        out = self.fc_2(out)\n",
    "        # out (batch_size, seq_length, output_dim)\n",
    "        return out\n",
    "\n",
    "    def training_step(self, batch, batch_idx):\n",
    "        x, y = batch\n",
    "        y_hat = self(x)\n",
    "\n",
    "        # Change shape from (batchsize, sequence_len, classes) to be (batchsize, classes, sequence_len) to compute loss function\n",
    "        y_hat = torch.movedim(y_hat, 1, 2)\n",
    "        loss = nn.functional.cross_entropy(y_hat, y, ignore_index=self.target_padding_value)\n",
    "\n",
    "        self.log_dict({'train_loss': loss, 'step': self.current_epoch}, on_epoch=True, prog_bar=True, logger=True,\n",
    "                      on_step=False, reduce_fx=\"mean\")\n",
    "\n",
    "        y_hat_class = torch.argmax(y_hat, dim=1)\n",
    "        self._train_f1_metric.update(y_hat_class, y)\n",
    "\n",
    "        return loss\n",
    "\n",
    "    def validation_step(self, batch, batch_idx):\n",
    "        x, y = batch\n",
    "        y_hat = self(x)\n",
    "        y_hat = torch.movedim(y_hat, 1, 2)\n",
    "\n",
    "        loss = nn.functional.cross_entropy(y_hat, y, ignore_index=self.target_padding_value)\n",
    "        self.log_dict({'val_loss': loss, 'step': self.current_epoch}, on_epoch=True, prog_bar=True, logger=True,\n",
    "                      reduce_fx=\"mean\")\n",
    "\n",
    "        y_hat_class = torch.argmax(y_hat, dim=1)\n",
    "        self._val_f1_metric.update(y_hat_class, y)\n",
    "\n",
    "        return loss\n",
    "\n",
    "    def test_step(self, batch, batch_idx):\n",
    "        x, y = batch\n",
    "        y_hat = self(x)\n",
    "        y_hat = torch.movedim(y_hat, 1, 2)\n",
    "        loss = nn.functional.cross_entropy(y_hat, y, ignore_index=self.target_padding_value)\n",
    "\n",
    "        self.log_dict({'test_loss': loss, 'step': self.current_epoch}, on_epoch=True, prog_bar=True, logger=True,\n",
    "                      reduce_fx=\"mean\")\n",
    "\n",
    "        y_hat_class = torch.argmax(y_hat, dim=1)\n",
    "        self._test_f1_metric.update(y_hat_class, y)\n",
    "\n",
    "        return loss\n",
    "\n",
    "    def configure_optimizers(self):\n",
    "        optimizer = torch.optim.Adam(self.parameters(), lr=1e-3)\n",
    "        return optimizer\n",
    "\n",
    "    def _compute_f1(self, f1_metric):\n",
    "        mean_f1_score = f1_metric.compute()\n",
    "\n",
    "        # Create a mask that is False for NaNs\n",
    "        mask = torch.isnan(mean_f1_score)\n",
    "\n",
    "        # Invert the mask: True for valid entries, False for NaNs\n",
    "        valid_data = mean_f1_score[~mask]\n",
    "\n",
    "        # Compute the mean of the non-NaN values\n",
    "        mean_value = torch.mean(valid_data)\n",
    "\n",
    "        return mean_value\n",
    "\n",
    "    def on_train_epoch_end(self) -> None:\n",
    "        mean_f1_score = self._compute_f1(self._train_f1_metric)\n",
    "        self.log_dict({\"train_f1\": mean_f1_score, 'step': self.current_epoch}, on_epoch=True, prog_bar=True, logger=True)\n",
    "        self._train_f1_metric.reset()\n",
    "\n",
    "    def on_validation_epoch_end(self) -> None:\n",
    "        mean_f1_score = self._compute_f1(self._val_f1_metric)\n",
    "        self.log_dict({\"val_f1\": mean_f1_score, 'step': self.current_epoch}, on_epoch=True, prog_bar=True, logger=True)\n",
    "        self._val_f1_metric.reset()\n",
    "\n",
    "    def on_test_epoch_end(self) -> None:\n",
    "        mean_f1_score = self._compute_f1(self._test_f1_metric)\n",
    "        self.log_dict({\"test_f1\": mean_f1_score, 'step': self.current_epoch}, on_epoch=True, prog_bar=True, logger=True)\n",
    "        self._test_f1_metric.reset()"
   ]
  },
  {
   "cell_type": "code",
   "execution_count": 730,
   "metadata": {
    "ExecuteTime": {
     "end_time": "2023-11-14T17:41:18.261888800Z",
     "start_time": "2023-11-14T17:41:18.248884500Z"
    }
   },
   "outputs": [],
   "source": [
    "model2_version = 1"
   ]
  },
  {
   "cell_type": "code",
   "execution_count": 731,
   "metadata": {
    "collapsed": false,
    "ExecuteTime": {
     "end_time": "2023-11-14T17:42:07.052902200Z",
     "start_time": "2023-11-14T17:41:20.440569Z"
    }
   },
   "outputs": [
    {
     "name": "stderr",
     "output_type": "stream",
     "text": [
      "GPU available: False, used: False\n",
      "TPU available: False, using: 0 TPU cores\n",
      "IPU available: False, using: 0 IPUs\n",
      "HPU available: False, using: 0 HPUs\n",
      "C:\\Users\\Matteo\\AppData\\Local\\Programs\\Python\\Python310\\lib\\site-packages\\pytorch_lightning\\callbacks\\model_checkpoint.py:630: Checkpoint directory logs\\lightning_logs\\version_1\\checkpoints exists and is not empty.\n",
      "\n",
      "  | Name             | Type          | Params\n",
      "---------------------------------------------------\n",
      "0 | lstm             | LSTM          | 37.2 K\n",
      "1 | fc_1             | Linear        | 5.7 K \n",
      "2 | fc_2             | Linear        | 4.6 K \n",
      "3 | _train_f1_metric | F1ScoreCustom | 0     \n",
      "4 | _val_f1_metric   | F1ScoreCustom | 0     \n",
      "5 | _test_f1_metric  | F1ScoreCustom | 0     \n",
      "---------------------------------------------------\n",
      "47.5 K    Trainable params\n",
      "0         Non-trainable params\n",
      "47.5 K    Total params\n",
      "0.190     Total estimated model params size (MB)\n"
     ]
    },
    {
     "data": {
      "text/plain": "Sanity Checking: |          | 0/? [00:00<?, ?it/s]",
      "application/vnd.jupyter.widget-view+json": {
       "version_major": 2,
       "version_minor": 0,
       "model_id": "78fcd95b61c74b079333d373f3717491"
      }
     },
     "metadata": {},
     "output_type": "display_data"
    },
    {
     "name": "stderr",
     "output_type": "stream",
     "text": [
      "C:\\Users\\Matteo\\AppData\\Local\\Programs\\Python\\Python310\\lib\\site-packages\\pytorch_lightning\\trainer\\connectors\\data_connector.py:441: The 'val_dataloader' does not have many workers which may be a bottleneck. Consider increasing the value of the `num_workers` argument` to `num_workers=19` in the `DataLoader` to improve performance.\n",
      "C:\\Users\\Matteo\\AppData\\Local\\Programs\\Python\\Python310\\lib\\site-packages\\pytorch_lightning\\trainer\\connectors\\data_connector.py:441: The 'train_dataloader' does not have many workers which may be a bottleneck. Consider increasing the value of the `num_workers` argument` to `num_workers=19` in the `DataLoader` to improve performance.\n"
     ]
    },
    {
     "data": {
      "text/plain": "Training: |          | 0/? [00:00<?, ?it/s]",
      "application/vnd.jupyter.widget-view+json": {
       "version_major": 2,
       "version_minor": 0,
       "model_id": "4b8d70ba6ede46ad82511c30a6561a7c"
      }
     },
     "metadata": {},
     "output_type": "display_data"
    },
    {
     "data": {
      "text/plain": "Validation: |          | 0/? [00:00<?, ?it/s]",
      "application/vnd.jupyter.widget-view+json": {
       "version_major": 2,
       "version_minor": 0,
       "model_id": "90357825440a40d9bf2a21997dbd32a6"
      }
     },
     "metadata": {},
     "output_type": "display_data"
    },
    {
     "data": {
      "text/plain": "Validation: |          | 0/? [00:00<?, ?it/s]",
      "application/vnd.jupyter.widget-view+json": {
       "version_major": 2,
       "version_minor": 0,
       "model_id": "0c9c962c01e041a597d103f9649942a0"
      }
     },
     "metadata": {},
     "output_type": "display_data"
    },
    {
     "data": {
      "text/plain": "Validation: |          | 0/? [00:00<?, ?it/s]",
      "application/vnd.jupyter.widget-view+json": {
       "version_major": 2,
       "version_minor": 0,
       "model_id": "4f93a59e227340f6a13147c07a2c139b"
      }
     },
     "metadata": {},
     "output_type": "display_data"
    },
    {
     "data": {
      "text/plain": "Validation: |          | 0/? [00:00<?, ?it/s]",
      "application/vnd.jupyter.widget-view+json": {
       "version_major": 2,
       "version_minor": 0,
       "model_id": "10ab103a3a5041fa96ae50fc3d0c8926"
      }
     },
     "metadata": {},
     "output_type": "display_data"
    },
    {
     "data": {
      "text/plain": "Validation: |          | 0/? [00:00<?, ?it/s]",
      "application/vnd.jupyter.widget-view+json": {
       "version_major": 2,
       "version_minor": 0,
       "model_id": "6bfccee9a0b44cb3bb58e3c1f6ff225a"
      }
     },
     "metadata": {},
     "output_type": "display_data"
    },
    {
     "data": {
      "text/plain": "Validation: |          | 0/? [00:00<?, ?it/s]",
      "application/vnd.jupyter.widget-view+json": {
       "version_major": 2,
       "version_minor": 0,
       "model_id": "302f0995bd1e4907bf3054dd48dd1895"
      }
     },
     "metadata": {},
     "output_type": "display_data"
    },
    {
     "data": {
      "text/plain": "Validation: |          | 0/? [00:00<?, ?it/s]",
      "application/vnd.jupyter.widget-view+json": {
       "version_major": 2,
       "version_minor": 0,
       "model_id": "707ba508bef84318a9cb19f00daae849"
      }
     },
     "metadata": {},
     "output_type": "display_data"
    },
    {
     "data": {
      "text/plain": "Validation: |          | 0/? [00:00<?, ?it/s]",
      "application/vnd.jupyter.widget-view+json": {
       "version_major": 2,
       "version_minor": 0,
       "model_id": "8c7d50e49b1e49048d3248f7a212a4cf"
      }
     },
     "metadata": {},
     "output_type": "display_data"
    },
    {
     "data": {
      "text/plain": "Validation: |          | 0/? [00:00<?, ?it/s]",
      "application/vnd.jupyter.widget-view+json": {
       "version_major": 2,
       "version_minor": 0,
       "model_id": "97452e0121464796a1ddd6f93e462c4f"
      }
     },
     "metadata": {},
     "output_type": "display_data"
    },
    {
     "data": {
      "text/plain": "Validation: |          | 0/? [00:00<?, ?it/s]",
      "application/vnd.jupyter.widget-view+json": {
       "version_major": 2,
       "version_minor": 0,
       "model_id": "fc9e468eb49148b4a9669009818fb260"
      }
     },
     "metadata": {},
     "output_type": "display_data"
    },
    {
     "name": "stderr",
     "output_type": "stream",
     "text": [
      "`Trainer.fit` stopped: `max_epochs=10` reached.\n"
     ]
    }
   ],
   "source": [
    "hidden_dim = 28\n",
    "fc_size = 100\n",
    "\n",
    "max_epochs = 10\n",
    "\n",
    "save_dir = \"logs\"\n",
    "load_model = False\n",
    "train_model = True\n",
    "model_ckpt = \"model2.ckpt\"\n",
    "\n",
    "PATH = os.path.join(save_dir, \"lightning_logs\", \"version_\" + str(model2_version), \"checkpoints\", model_ckpt)\n",
    "\n",
    "if load_model:\n",
    "    model_2 = Model2.load_from_checkpoint(PATH, input_dim=input_dim, hidden_dim=hidden_dim, output_dim=output_dim,\n",
    "                                          fc_size=fc_size)\n",
    "else:\n",
    "    model_2 = Model2(input_dim=input_dim, hidden_dim=hidden_dim, output_dim=output_dim, fc_size=fc_size)\n",
    "\n",
    "if train_model:\n",
    "    tb_logger = TensorBoardLogger(version=model2_version, save_dir='logs')\n",
    "    trainer = pl.Trainer(max_epochs=max_epochs, logger=tb_logger, default_root_dir='./', log_every_n_steps=1)\n",
    "    trainer.fit(model_2, train_loader, val_loader)\n",
    "    trainer.save_checkpoint(PATH)\n",
    "    model2_version += 1"
   ]
  },
  {
   "cell_type": "code",
   "execution_count": 716,
   "metadata": {
    "collapsed": false,
    "ExecuteTime": {
     "end_time": "2023-11-14T17:40:05.608999400Z",
     "start_time": "2023-11-14T17:40:04.909060900Z"
    }
   },
   "outputs": [
    {
     "data": {
      "text/plain": "Testing: |          | 0/? [00:00<?, ?it/s]",
      "application/vnd.jupyter.widget-view+json": {
       "version_major": 2,
       "version_minor": 0,
       "model_id": "e1e7cc9b9ef14f95a4e7264664d37257"
      }
     },
     "metadata": {},
     "output_type": "display_data"
    },
    {
     "name": "stdout",
     "output_type": "stream",
     "text": [
      "────────────────────────────────────────────────────────────────────────────────────────────────────────────────────────\r\n",
      "       Test metric             DataLoader 0\r\n",
      "────────────────────────────────────────────────────────────────────────────────────────────────────────────────────────\r\n",
      "          step                      0.0\r\n",
      "         test_f1            0.06370722502470016\r\n",
      "        test_loss           3.8354685306549072\r\n",
      "────────────────────────────────────────────────────────────────────────────────────────────────────────────────────────\n"
     ]
    },
    {
     "data": {
      "text/plain": "[{'test_loss': 3.8354685306549072,\n  'step': 0.0,\n  'test_f1': 0.06370722502470016}]"
     },
     "execution_count": 716,
     "metadata": {},
     "output_type": "execute_result"
    }
   ],
   "source": [
    "trainer.test(model_2, dataloaders=test_loader);"
   ]
  },
  {
   "cell_type": "code",
   "execution_count": 717,
   "metadata": {
    "collapsed": false,
    "ExecuteTime": {
     "end_time": "2023-11-14T17:40:05.656695200Z",
     "start_time": "2023-11-14T17:40:05.611001600Z"
    }
   },
   "outputs": [
    {
     "data": {
      "text/plain": "Launching TensorBoard..."
     },
     "metadata": {},
     "output_type": "display_data"
    },
    {
     "data": {
      "text/plain": "<IPython.core.display.HTML object>",
      "text/html": "\n      <iframe id=\"tensorboard-frame-4f15d634b4fbf73e\" width=\"100%\" height=\"800\" frameborder=\"0\">\n      </iframe>\n      <script>\n        (function() {\n          const frame = document.getElementById(\"tensorboard-frame-4f15d634b4fbf73e\");\n          const url = new URL(\"/\", window.location);\n          const port = 6006;\n          if (port) {\n            url.port = port;\n          }\n          frame.src = url;\n        })();\n      </script>\n    "
     },
     "metadata": {},
     "output_type": "display_data"
    }
   ],
   "source": [
    "%reload_ext tensorboard\n",
    "%tensorboard --logdir logs"
   ]
  },
  {
   "cell_type": "markdown",
   "metadata": {},
   "source": [
    "## TASK 4: Metrics\n",
    "\n",
    "* Assign static embedding to validation and test set OOV words (Edo: see unk_init param at [docs](https://torchtext.readthedocs.io/en/latest/vocab.html))\n",
    "* **Concatenate** all tokens in a data split -> (**Hint**: accumulate FP, TP, FN, TN iteratively) TODO: rewrite \n",
    "* Evaluate models using macro F1-score, computed over **all** tokens.\n",
    "* TODO: remove -> **Do not consider punctuation and symbol classes** $\\rightarrow$ [What is punctuation?](https://en.wikipedia.org/wiki/English_punctuation)"
   ]
  },
  {
   "cell_type": "markdown",
   "metadata": {},
   "source": []
  },
  {
   "cell_type": "code",
   "execution_count": 718,
   "metadata": {
    "ExecuteTime": {
     "end_time": "2023-11-14T17:40:05.694210100Z",
     "start_time": "2023-11-14T17:40:05.630000200Z"
    }
   },
   "outputs": [],
   "source": [
    "word_iterator = (word for word in corpus_df['text'].unique())\n",
    "word_vocab = build_vocab_from_iterator(word_iterator)"
   ]
  },
  {
   "cell_type": "code",
   "execution_count": 719,
   "metadata": {
    "ExecuteTime": {
     "end_time": "2023-11-14T17:40:05.726155Z",
     "start_time": "2023-11-14T17:40:05.691001800Z"
    }
   },
   "outputs": [
    {
     "name": "stdout",
     "output_type": "stream",
     "text": [
      "Out-of-vocabulary words in validation set: {'authorities', 'vehicles', 'advertised', 'biggest', 'wizards', 'interests', 'provided', 'Research', '396,000', 'suggest', 'conceivable', 'coal', 'Seoul', 'assault', 'event', 'Due', 'aesthetic', 'heebie-jeebies', 'technically', 'Hoylake', 'pre-existing', 'speculative', 'How', 'companion', '62%-owned', 'restricting', 'intense', 'Pretty', 'century', 'House-Senate', 'disappointment', 'Express-Buick', 'dealers', '107.03', 'tree', 'syndicate', 'economist', 'cancer', 'Ballot', 'skeptical', 'directly', 'Secretary', 'soybeans', 'outnumbered', 'although', 'consequence', 'abridging', 'thus', 'Tots', 'attributed', 'Lawless', 'pain', '1.6', 'estimate', 'blurred', 'tied', 'Public', 'lines', \"O'Loughlin\", 'curses', 'terminated', 'ease', 'headed', 'surpluses', '29', 'ranged', 'purchase', 'complex', 'every', 'reasoning', 'anticipation', 'Belt', 'Something', 'mammoth', '3.43', 'shudders', 'mirror', 'hotel', 'income', 'propose', 'meals', 'records', 'drink', 'tons', 'unit', 'Walker', 'third', 'floating-rate', 'needs', 'She', 'indications', 'Jail', 'influential', 'Educational', 'crops', 'causes', 'helpful', '282', 'Banking', 'chief', 'Christmas', 'escape', 'Piper', 'held', 'job', 'Bob', 'cow', 'arranged', 'attractive', 'As', 'offset', 'signal', 'individual', 'mediocre', 'Builders', 'circulation', 'charge', 'before', 'apples', 'increases', 'Stadium', 'jobs', 'retail', 'SERVICES', 'stores', 'inspection', 'Israel', 'declared', 'RATE', 'letting', 'confined', '30-year', 'allowed', 'contends', 'airplane', 'grown', 'industry', 'gives', 'Petersburg', 'broadcasting', 'up', 'foldable', 'services', 'impetuous', 'S.I.', 'languages', 'quiet', 'areas', 'doubts', 'simultaneous', 'inevitable', 'profit-taking', 'process', 'Hot', 'subsidiaries', 'rather', 'Almost', 'cautious', 'Typical', 'topics', 'size', 'leaving', 'DISCOUNT', 'until', 'three-year', 'shopping', 'Bankruptcy', 'offerings', 'loser', 'larger-than-normal', 'assaults', 'renew', 'invested', 'Random', 'Moreover', 'Articles', 'affairs', 'establish', 'airline-related', 'merits', 'recommendations', 'explained', 'appeared', 'preclude', 'RATES', 'serial', 'After', 'chaos', 'crusade', 'hazards', 'superconductor', 'expand', 'deterioration', 'Bank', 'many', '2,410', 'disadvantage', 'management', 'exposure', 'center', '14.99', 'citizen-sparked', 'prescribe', 'Open', 'easing', '7.272', 'by', 'reduce', '3.4', 'decline', 'comparable', 'DOT', 'Criminal', 'Program', 'crashing', 'Guaranteed', 'devouring', 'lending', 'museums', 'Betting', 'High', 'hunted', 'six-month', 'Collins', 'client', 'temporary', 'right', 'above', 'something', 'burn', 'trying', 'CEO', 'produce', 'presumes', 'Amendment', 'contradictions', 'Guard', 'involves', '13.8', 'untrue', 'period', 'Regal', 'community', 'issuers', 'profit', 'employment', 'off', 'Advance', 'den', 'rising', 'demise', 'crying', 'Off-Track', 'Linden', 'three', 'Put', 'hear', '10.19', 'duties', 'complicated', 'identical', 'scripts', 'meeting', 'brokerage', 'anti-miscarriage', 'seems', 'discharge', '270', 'enabling', 'German', 'LATE', 'rape', 'compassion', 'Root', 'conditions', 'experience', 'business', '98', 'bought', 'desirable', 'better', 'Dr.', 'security', 'publications', 'widget', 'nomination', 'reform', '30', 'minutes', 'need', 'citation', 'surprising', 'Obligations', 'outlets', 'Lids', 'permit', 'Newhouse', 'death', '1973-75', 'mentally', 'architecture', 'greater', 'shed', 'two-time-losers', 'cheapest', 'nature', 'Perspective', 'pursuant', 'edged', 'common-law', 'bottle', 'varied', '3.18', 'Hans', 'reasons', 'says', 'heirs', 'largely', 'Yorkers', 'R.', 'centers', 'initiative', 'side', 'protecting', 'Corp', 'exceeding', 'coordinate', 'Shearson', 'none', 'adapting', 'Van', 'Occupational', 'Tiger', '133', 'steady', 'selling', 'sky', 'In', 'Works', 'helped', 'frozen', '14.13', 'insinuating', 'takings', 'USA', 'hardly', 'Edwards', 'reversed', 'covers', 'Loan', 'floor', 'set', 'branch', '4.5', 'difference', 'memo', 'deal', 'goes', 'Frederick', 'bills', 'followed', 'discussing', 'beat', 'absorbed', 'funny', 'manpower', 'trouble', 'conversations', 'difficult', 'willing', 'compromise', 'withhold', 'containing', 'Last', 'declaring', 'alike', 'famed', 'meet', 'Family', 'enough', 'corporation', 'senses', 'recovered', 'Ednie', 'everywhere', 'natural', 'apple', '7.88', 'watchers', 'yield', 'faith', 'combination', 'demographic', 'solicitor', 'FOREIGN', 'expressed', 'fundamentally', 'openings', 'shambles', 'start-up', 'takes', 'doubt', 'eight', '0.25', 'overcrowding', 'wound', 'places', 'Daily', 'Michelin', 'chilled', 'Barbados', 'of', 'tinker', 'exuded', '1991-2000', 'sitting', 'doctrine', 'drastically', 'Earlier', 'Taccetta', 'mortgage', 'significantly', '13.90', '40', 'confirms', 'uses', 'Alstyne', 'greatly', 'occurs', 'leaky', 'generators', 'inquiries', 'Pentagon', 'prescription', 'Wellington', 'Cheetham', 'father', 'happened', '144', 'Piscataway', 'Putty', 'her', 'under', 'immediately', 'free', 'from', 'rapidly', 'ratings', 'maintain', 'Eliminate', 'likeness', 'touch', 'promised', 'You', 'generalizations', 'panel', 'billion-dollar', 'approached', '8.467', 'motor', 'Another', 'Lewis', 'broadened', 'traveling', 'corporate', 'honor', '4.875', 'spreads', 'Section', '451', 'Negotiable', 'alleging', 'someone', 'experiencing', 'single-handed', 'spite', 'Tyre', 'multiplying', 'sharp', 'Sales', 'array', 'designed', 'appropriation', 'intraocular', 'tender', 'Typically', 'Garrison', 'slab', 'June', 'Credit', 'interview', 'awareness', 'controversial', 'increase', 'customers', 'Long', 'Sir', 'environment', 'compiled', 'Boone', 'succeeds', 'average', 'Lilly', 'Solution', 'saying', 'improved', 'kicked', 'Fails', 'cancellation', '2163.2', 'relegated', 'pretty', 'Abrupt', 'Dole', 'retain', 'live', 'debate', 'intended', 'mothers', '221.4', 'merger', 'shut', 'viewpoint', 'nation', 'studied', 'E.W.', 'medical', 'concentrate', 'lost', 'culprit', 'downgraded', 'making', 'clearer', 'playing', 'inflation', 'half', 'pressures', 'colleagues', 'collapse', '1979', 'Campbell', '84-year-old', 'abandon', 'young', 'Jim', 'should', 'controlled', 'Teikoku', 'seller', 'guy', 'wasted', '65', 'food-industry', 'underwriters', 'PLC', 'civics', 'available', 'tapping', 'bonds', 'disarray', 'contest', 'stupid', 'thousands', 'looming', 'II', 'congressmen', 'species', 'heavy', 'telephone', 'curb', 'seize', 'desire', 'us', 'Ginnie', 'Dealers', 'Voters', 'issue', 'domestically', 'Mayor', 'composite', 'downgrading', 'entrenched', 'businesses', 'manually', 'Voice', 'poor', 'Uptick', 'August', 'car-development', 'erroneous', 'U.S.A', '27.1', 'Des', 'eventually', 'Duke', 'fold', 'restrictions', 'Hopkins', 'favors', 'bid', '1,500', 'cells', 'Fabian', 'prior', 'role', 'generation', 'Funding', 'instrument', 'spring', 'Indexing', 'departures', 'approval', 'land-idling', 'similar', '16.7', 'self-serving', 'become', 'examined', 'Hartford', 'condition', 'story', 'tenure', 'fluctuations', 'Inc', 'Purchasing', 'Hills', 'specialist', 'thin', 'amounted', 'columns', 'backed', 'theory', 'design', '240', 'integrated', 'CEOs', 'remains', 'jumps', 'amps', 'have', 'surrendered', '45.75', 'Authority', 'Western', 'dynamics', 'incurred', 'Antitrust', 'Energy', 'Reserve', 'searching', 'flat', 'representing', 'assessed', '1925', 'repriced', 'programming', 'Ruth', 'stresses', 'auction', 'gold', 'Frankfurt', 'Russell', 'judges', 'feasible', 'Kong', 'benefited', 'Recently', 'Reagan-Bush', 'quickly', 'groups', 'pension-fund', 'accountant', 'immense', 'completed', 'collected', 'suddenly', 'Street', 'Sable', 'subsidiary', 'Under', 'new', 'However', 'El', 'excise', 'poorly', 'reformers', 'option', 'Texas', '321', 'photocopy', 'employer', 'Periods', 'had', '120', 'era', 'fast-growing', 'included', '1993', 'McMillin', 'anti-programmers', 'excess', 'fixed-rate', 'Quant', 'allow', 'participant', 'tubular', 'spread', '7.422', 'Before', 'MORTGAGE', 'shoring', 'asking', 'pharaohs', 'techniques', 'remained', 'Today', '235', 'surreptitiously', 'troubles', '203', 'setback', '1972', 'conduct', 'private', 'drug', 'supply', 'Communications', 'Or', 'My', 'arms', 'carries', 'synthetic', 'airline', 'A.', 'Upham', 'clearance', 'invariably', 'attractions', '1928-33', 'single-family', 'unhappy', 'technologies', 'nail', 'execution', 'hailing', 'receptive', 'used', 'courts', 'halted', 'Hill', '155', 'lousy', '1903', 're-election', 'defense', 'abounding', 'second-largest', 'clean-air', 'Japan', 'harmed', 'signed', '420', 'financially', 'responsibilities', 'worse', 'art', 'states', 'Express', 'heart', 'protection', 'implications', 'vacation', 'rewrite', 'we', 'double-C', 'lower', 'Craftsmen', '7.52', 'able', 'Friedrichs', 'psychology', 'Kingdom', 'hardest-hit', 'mutual-fund', 'Sonny', 'roadblock', '1,050,000', '6.25', 'much-larger', 'Group', 'clashed', 'scant', 'affecting', 'avoiding', 'dailies', 'eclipse', 'voters', 'interest-rate', 'programmer', 'subtraction', 'waited', 'companies', 'folded', 'Drexel', 'further', 'typically', 'default', 'rare', 'Broadcasting', 'pre-tax', 'without', 'Eastern', 'dominates', 'civil', '57.6', 'example', 'Persky', 'circuit', 'Financing', 'same', 'overleveraged', 'Huber', 'MEDICINE', 'Freshbake', 'Stores', 'necessities', 'Hold', 'filling', 'heightened', 'aftermath', 'Highway', 'Nippon', 'maker', 'matched', '141.9', 'abroad', 'big', 'involving', 'Donaldson', '7.62', 'motor-home', 'generally', 'reduced', 'Daniel', '300-a-share', 'powers', 'advertisements', 'necessarily', 'At', 'barometer', 'benefits', 'wholesaler', 'Democrat', 'reluctance', 'miscarriages', 'presidency', 'persons', 'tablets', 'popular', 'LYNCH', 'Congress', 'product', 'worker', 'pools', 'gamut', 'kind', 'scoffs', 'prohibiting', 'abolishing', 'amendments', 'CORP', 'access', 'connection', 'cell', 'picks', 'Sigmund', 'pennies', 'English-speaking', 'Average', 'stretched', 'Here', 'identified', 'For', 'scientists', 'jumped', 'backers', 'objectionable', 'technical', 'corporations', 'inefficiencies', 'toll', '60', 'strip', 'champions', 'test-drive', 'changing', 'highway', 'reputation', 'Arnold', 'eliminates', 'measure', 'Goldsmith', '1.125', 'Stanley', 'corkscrews', 'Jack', 'challenge', 'providing', 'Whip', 'sickness', 'Candlestick', 'Gordon', 'clothing', 'offered', 'Mass.', 'effort', 'upsetting', 'plus', 'quick', 'Caribbean', 'plastic', 'soaring', 'gaining', 'resistance', 'nine-year', 'likely', 'craze', 'engage', 'Solomonic', '17.5', 'Kansas', 'resulting', 'reacted', '3.9', 'University', 'walls', 'elephant', 'chairman', 'muster', 'Sachs', 'play', 'chemicals', 'Leighton', 'criteria', 'yesterday', 'losing', 'trader', 'Marvin', 'payrolls', 'such', 'stifle', 'clipped', 'Geneva', 'gained', 'send', '500-stock', 'reached', 'brakes', 'incentive-backed', 'medallions', 'brightened', 'COLLECTING', 'loses', 'Tom', 'performed', 'Pacific', 'farmers', 'Municipal', 'watch', 'beers', 'retirement', 'Psychiatry', 'Colleges', 'agreement', 'financial', 'Anku', 'ballot', 'plunging', 'Ray', 'gut-wrenching', 'sulfur-dioxide', 'world', 'dismiss', 'following', 'arise', 'modern', 'September', 'uncertainties', 'D.', 'purse', 'disappointing', 'expenses', 'NBC', 'annualized', 'bill', 'Sen.', 'hazardous', 'sustained', 'Sept.', 'juggle', 'limbo', 'hours', 'does', 'rumored', 'softer', 'Institutions', 'breathed', 'slow', 'minute', 'include', 'Small', 'Analysts', 'blind', 'Canadian', 'capture', 'Davis', 'Taking', 'Jihad', 'views', 'enable', 'damages', 'Major', 'loudest', 'AGREES', 'opened', '5.92', 'Jr.', 'on', 'attempt', 'Tray', 'Private', 'professor', 'playgrounds', 'double-A', 'Banks', 'whom', 'lack', 'Danzig', 'Montgomery', 'perhaps', 'Prudential-Bache', 'C.', 'cause', 'Chadha', 'than', '1.2', 'Syracuse', 'fee', 'evoking', 'giants', 'non-U.S.', 'Motors', 'contrary', 'area', 'healthy', 'capital', 'dozens', 'senior', 'Salomon', '11', 'bilingual', 'waiver', 'Airways', 'Sit', 'grim', 'capital-markets', 'Food', 'paying', 'flim-flammery', '8.575', 'doing', 'aid', 'Compromises', 'people', 'grain', 'plants', 'publisher', 'instead', 'gyrations', 'unknown', 'Nationwide', 'price', 'An', 'indicating', 'outlawing', '0.16', 'Though', 'Do', 'curbing', 'ACCEPTANCES', '4.6', 'Keith', 'kept', 'earthquake', 'salary', 'State', 'rule', 'Neanderthals', 'Overseas', 'company', 'he', 'ordinary', 'solid', 'severe', 'shrinking', 'Oak', 'Unable', 'VOA', 'transcribe', 'legislation', 'PaineWebber', 'Officials', 'thinking', 'temptation', 'winners', 'Stadiums', '100', 'doctor', 'Fischer', 'sizable', 'Petersen', 'remainder', 'alcoholism', 'stark', 'apply', 'shares', 'industrial', 'streets', 'Wamre', 'cars', 'lucrative', 'Allied', 'plant', 'INS', 'currently', 'ticket', 'finally', 'Miles', 'through', '71', 'accounts', 'Brigham', 'cap', 'own', 'where', 'she', 'corn', 'suffer', 'LONDON', 'would', 'especially', '388', 'called', '1995', 'resulted', '700,000', 'ca', 'shrinks', 'Bowl', 'thread', 'five', '397', 'putting', 'freeway', 'Investors', 'apparently', 'throws', 'They', 'which', 'Water', 'yet', 'operate', 'golden', 'growing', 'benchmarks', 'debt', 'fixes', 'advise', 'with', 'preserving', 'Co', 'emphasized', 'Business', 'Instead', 'compare', 'Annualized', 'principle', 'advantage', 'Center', 'noting', 'households', 'contrasts', 'Traders', 'resentment', 'perceived', 'certainly', 'lipsticks', 'emissions', '300', 'penalties', 'advertisers', 'unless', 'executes', 'inmates', 'key', 'continuously', 'Rated', 'Peninsula', 'equipment', 'racket', 'Raymond', '26.8', 'America', 'risk', 'staffs', \"'d\", 'presidents', '195', 'independence', 'Since', 'compelling', 'figure', 'limping', 'illegally', 'bank', 'Merchant', 'Markets', '140', 'factors', 'Breakey', 'banking', 'dumped', 'introducing', 'bottom', 'minimum', 'attention', 'nor', 'packaging', 'San', 'bundles', '454', 'electricity', 'stiff', 'PETS', 'Touches', 'practical', 'focus', 'pretax', '1990s', 'ample', 'Futures', 'Impact', 'auctions', '8.55', 'second', 'No.', '2009', 'warned', 'raise', 'considers', 'went', '6\\\\/2', 'diseases', 'liabilities', 'managing', 'Sigler', 'Gorbachev', 'worked', 'perpetual', 'OFFERED', '730', '1967', '80', 'Kathleen', '1\\\\/8', 'dubbed', 'ahead', 'removing', 'global', 'taxation', 'Bankers', 'cents', 'entertainment', 'Maine', 'regional', 'borrowing', 'beer', 'letter', 'stripped', 'duty', 'ceiling', 'B.A.T', 'Phillip', 'idea', '184', 'pockets', 'v.', 'radio', '8.64', 'an', 'night', 'Review', 'two', 'anytime', 'ever', 'four-day', 'comeback', '31', 'merchandise', '1994', 'pyramids', 'peripheral', 'editor', 'limited', 'obtain', '1998', 'therapy', 'so', 'Nylev', 'respond', 'newsroom', 'commodities', 'taxpayers', 'accomplishments', 'Stephen', 'competition', 'violations', 'Community', 'Patients', 'Williams', 'regulation', 'reap', 'posted', 'moment', 'matter', 'legislature', 'North', 'Fees', 'Buyers', 'prospects', 'gain', 'inquiring', 'slightly', 'digs', 'retired', 'ratified', 'derisively', 'most', 'Bell', 'Ill.', '1.92', 'one-third', 'Diceon', 'radioactivity', 'wo', 'truth-in-lending', 'necessary', 'aimed', 'Ore.', 'knell', 'Results', '80.8', 'utility', 'Mergers', 'deeds', 'conflicts', 'ones', 'buy', 'officers', 'device', '1\\\\/4', 'extent', 'convince', '1992-1999', 'laws', 'political', 'Young', 'president', 'undo', 'Nikkei', 'life', 'criminal', 'inviting', 'Code', 'number', 'goods', 'Pasadena', 'Svenska', 'different', 'dollar', 'suggests', '609', 'going', 'Neal', 'vetoes', 'surely', 'railings', 'Europe', 'suspect', '7.65', '7\\\\/8', 'Limited', 'billing', 'Allergan', 'quantitive', 'contain', 'containers', 'physical', 'blames', 'Bonds', 'old', 'bring', 'Si', 'deprivation', 'march', 'see', 'consistent', 'baskets', 'bidding', 'Petroleum', 'Vanderbilt', 'represents', 'factoring', 'White', 'good-faith', 'construed', 'vindication', 'taking', 'predicts', 'upheld', 'can', 'custom', 'transferring', '25', 'overseas', 'Wohlstetter', 'extending', 'lesson', 'speculator', \"'ve\", 'amid', 'Collector', 'PAPER', 'registration', 'among', 'wines', '900', 'pounds', 'successful', 'sparked', '49.9', 'lawyers', 'Both', 'leash', 'stiffer', 'bearing', 'assume', 'ratcheting', 'dealings', 'Vacancies', 'disagreed', \"'S\", 'food', 'officially', 'Toledo', 'St.', 'congressional', 'slowing', 'empowers', 'parts', 'injuries', 'NRDC', 'sides', 'Claire', 'introduces', 'Illinois', 'Sweden', 'parts-engineering', 'beleaguered', 'social', 'their', 'Why', 'sale', 'OF', 'caution', 'well-known', 'curtailed', 'Whether', '148.9', 'Midwestern', 'stacked', 'hailed', '13.625', 'avid', 'controls', 'December', 'edition', 'programs', 'Take', 'tackle', 'effectively', 'facility', 'pose', 'desires', 'Corn', 'marketers', 'liable', 'thing', 'important', 'clearly', 'subscribe', 'transactions', 'recyclable', 'careful', 'cities', 'Beach', 'utterly', 'confident', 'negative', 'Polish', '55', 'door', 'worries', 'processing', 'Underwoods', 'precisely', 'John', 'son', 'DIALING', 'authorizing', 'conglomerate', 'clouding', 'interactions', 'price-depressing', 'swallow', 'negotiable', 'fragile', 'pinning', '7.60', 'development', 'agriculture', '4.2', 'arguing', 'tall', 'is', 'paint', 'index-fund', 'retraced', 'lawsuits', 'worth', 'General', 'Edward', '16.9', 'Cambridge', 'huge', 'Baim', 'millionaires', 'deviant', '19.6', 'unfunded', '7.80', 'supporters', 'head', 'accounted', 'Possible', 'about', 'rider', 'anti-program', 'Traditional', 'signals', 'grandfather', 'stay', 'revive', 'computer', 'PHOTOGRAPH', 'Linda', '2003\\\\/2007', '7.20', 'Detroit', 'motors', 'buyer', 'dramatically', 'hurting', 'address', 'are', 'examinations', 'adds', 'auditor', 'finished', 'speed', '6.79', 'Arbitraging', 'thousand', 'Foster', \"'s\", 'warrant', 'health', 'treatment', 'Pharaoh', 'triple-C', 'Allen', 'CS', 'Farm', 'teams', 'section', 'unsuccessful', '240-page', 'pretext', 'personal', 'stands', 'criticism', 'frightened', 'limiting', 'required', 'Egyptian', 'Budget', 'Filter', 'effective', 'Elizabeth', 'McCormick', 'team', 'Terms', 'details', 'OSHA', 'pending', 'Beth', '600,000', 'substantially', 'branches', 'Calif.-based', 'mining', 'improve', 'model', 'pay', 'Michael', 'switched', 'soon', 'market-makers', 'manufactured', 'parched', 'non-farm', 'built', 'Traficant', 'Laboratories', 'clear', 'nine-month', 'versus', '210,000', 'incentives', 'brutal', 'Hearst', 'board', 'Nor', 'easier', 'hysteria', '3.3', 'passing', 'Carnegie-Mellon', 'justice', 'backgrounds', 'struggling', 'executed', 'insert', '...', 'green', 'reducing', 'Taipei', '3\\\\/4', '99', 'N.J', 'stop', 'parent', 'Examiner', 'April', 'van', 'predicated', 'rights', '47', 'School', 'anticipated', 'reasonably', 'continuing', 'court', 'export', 'lawsuit', 'photocopying', 'been', 'capped', 'form', 'as', 'virtually', 'speculators', '100-share', 'alternatively', 'photographs', 'Egnuss', 'acquire', 'computer-assisted', 'marginally', '7.45', 'potentially', 'diethylstilbestrol', 'Fannie', 'ugly', 'near', 'tone', '2.42', 'Sprint', 'pushed', 'Bill', 'Their', 'fifth', 'Baum', 'electrical-safety', 'particularly', '106', 'Intermec', 'chips', 'mature', 'Besides', 'account', 'encouraging', 'Bridge', 'demand', 'requested', 'oriented', 'move', 'profited', 'countries', 'Hugo', 'Relations', 'co-owner', 'erodes', 'intentioned', 'conflict', 'Pencil', 'deficiencies', 'anecdotal', '3\\\\/8', 'moneymakers', 'Bowman', '5\\\\/8', 'SALT', 'Partners', 'Net', 'regulatory', 'headquarters', '18', 'Fewer', 'sought', 'research', 'Antonio', 'administration', 'bitter', 'duo', 'arrangements', 'generic', 'override', 'blender', 'Showa', 'Mary', 'living', 'may', 'devices', 'described', '28', 'say', 'sweeping', 'annual', 'Outside', 'superconductors', '778', 'line', 'transformed', 'engineers', '153.3', 'World', '29year', 'financing', 'boy', 'reinstatement', 'Elisa', 'experts', '1960s', 'Yorker', 'proponents', 'also', 'opportunities', 'assert', 'approach', 'profitability', 'sorts', 'existing', 'quotations', 'facilitate', 'degree', 'Olson', 'prerogative', 'type', 'Investments', 'certain', 'stored', 'Dingell', 'piece', 'cataract', '244,000', '250', 'threatened', 'select', 'proven', '13\\\\/16', 'did', 'larger', 'Think', 'sounds', 'production', 'teaches', 'some', 'Mo.-based', 'exorbitant', '9.82', 'seemed', 'veteran', 'swiftly', 'counts', 'take', 'agenda', 'reports', 'recent', 'Rep.', 'person', 'mill', 'require', 'waive', 'changed', '77', 'unsettling', 'attached', 'crippled', 'bloods', 'constitutional', 'Mercury', 'acquired', 'assuming', 'expressly', 'responsive', 'total', 'made', 'Champion', 'workers', 'working', 'pattern', 'survivor', 'higher', 'briefings', 'accompany', '63.79', 'panic', 'rumors', 'argument', 'advised', 'avenues', 'Among', 'office', 'Economic', 'Buckhead', 'FTC', '1.50', 'owed', 'borough', 'Generally', 'repaid', 'quarterly', 'Department', 'worst', 'Chivas', 'comments', 'participants', 'acknowledges', 'main', '18.3', '2.9', 'if', 'died', '1\\\\/2', 'stock-price', 'text', 'Italian', 'Safety', 'concession', 'disclosed', 'altered', 'merged', '47.125', 'Tokyu', 'N.C', 'swapping', '49', 'Corp.', 'arched', 'unfairly', 'printers', 'satisfactory', '666', '2691.19', 'Market', 'torn', 'instructed', 'dividend', 'indicators', '8.35', 'Jeffrey', 'Closes', 'reductions', 'getting', 'augment', 'proposal', 'filings', 'last', 'often', 'Bucking', 'stock-specialist', 'buy-outs', '170,000', 'obviously', 'audit', 'FT-SE', 'Florida', 'editing', 'rewards', 'Cruise', 'Knopf', 'structured', 'major', 'boosting', 'George', 'officials', 'elaborate', 'Sun', 'pitting', 'Wall', 'baseball', 'Campeau', 'caustic', 'reshaping', 'overnight', 'sentimental', 'Foreign', 'found', '7.8', 'sunlight', 'banning', '68', 'concerns', 'lenders', 'determine', 'fringe', 'Justice', 'correct', 'victims', 'Class', 'put', 'Barclays', 'after-tax', 'staunchly', 'question', 'Beginning', 'exports', 'computer-driven', 'proved', 'results', 'Association', 'stuff', 'anti-morning-sickness', 'created', 'American', 'impaired', 'Koizumi', 'nuclear', 'thought', 'firm', 'wonder', 'week', 'Phoenix', 'Information', 'reduction', 'consist', '16', 'antitrust', 'believes', 'appeal', 'junk-bond', 'deliver', 'construction', 'short-term', 'examine', 'disappointed', 'earnings', 'cutbacks', 'whose', '1787', 'Pat', 'Corporate', 'Mining', 'FT', 'City', 'fallen', 'lens', 'continue', 'essentially', '56', 'liability', 'automated', 'decade-long', 'subsidize', 'Wednesday', 'investment', '83', 'campaigns', 'match', 'concept', 'structures', 'Neither', 'Andrea', 'ceramic', 'transaction', '132', 'Buy', 'Oklahoma', 'subjecting', 'prompts', 'Calif.', '879', 'Blunt', 'Citibank', 'IOUs', 'list', 'standing', '722', 'copying', 'BANKERS', 'Nomura', 'Inns', 'deserving', 'justices', 'Holding', 'lightning-fast', 'New', 'reality', 'Senate', 'pressman', 'recovery', 'sort', 'hit', '177', 'approximately', 'crisis', 'Elsewhere', 'housewife', 'stellar', 'first', 'Oh', 'reorganization', 'widely', 'aggressive', 'Mahoney', 'prepared', 'recover', 'rocket', 'strongest', 'top', 'Britta', 'blindfold', 'variables', 'line-item', '3.375', 'fundamentalist', 'Office', 'failures', 'Prime', 'broker', 'arrangement', 'releases', 'final', '7.458', 'Borough', 'equal', 'profess', 'Ackerman', 'environmental', 'unenthusiastic', 'guarding', 'Schlemmer', 'your', 'represented', 'museum', 'attorney', 'Acceptance', 'tens', 'abortion', 'amount', 'Electronics', 'chance', 'stone', 'favorably', 'Finance', 'optimism', 'local', 'go', 'statutory', 'warrants', 'resort', 'reading', 'precedent', 'system', 'lynch-mob', 'Backseat', 'stages', 'options', 'letter-writing', 'fly', 'Crash', 'Only', 'prohibits', 'momentary', '1976', 'fan', '1st', 'superior', 'editorial', 'confirmed', 'Massachusetts', 'things', '20', 'belongs', 'encourage', 'restriction', '-RRB-', 'pressure', 'insist', 'locations', 'processes', 'bridges', 'Session', '2.3', 'razor-thin', 'turning', 'seconds', 'Drug', 'morning', 'Times', 'intrusions', 'conventional', 'long', 'conversion', 'Takes', 'Fahrenheit', 'place', 'rivals', 'friction', 'just', 'year-end', 'tend', 'Taurus', 'historic', 'Hammerschmidt', 'seeks', 'gains', 'yttrium-containing', 'tire-kickers', 'Gates-Warren', 'commitments', 'Financial', 'image', 'Joel', 'looking', 'initiatives', 'planners', 'metric', 'impede', 'Facilities', 'drop-in', '1990', 'ramparts', '500', 'developed', 'cost-benefit', 'U.S.', 'benchmark', 'nominee', 'coupon', 'L.', 'shops', 'Thunderbird', 'Patrick', 'deliberately', '1.65', 'machines', 'immune', 'subordinated', 'emasculate', 'violation', 'zero', 'mainly', 'ill', 'bargains', 'original', 'voted', 'investigation', 'priced', 'over', 'phasing', 'TWO', 'Fulton', 'Anti-Deficiency', 'learn', 'Lurie', 'executive', 'date', 'privately', 'bedding', '16\\\\/32', 'So', 'Enzor', 'brand', 'service', 'Nature', 'entered', 'Baltimore', 'slogan', 'regulations', 'disaster-assistance', '63', 'links', 'Division', 'Schmidt', 'sleep', 'ruled', 'flights', 'wooing', 'contractor', 'quote', 'execute', '1948', 'Moscow', 'concern', '18.6', 'calls', '103', 'mind', '8.60', 'rain', 'value', 'weak', 'Particularly', 'biscuit', 'chunk', 'offices', 'Peter', 'slipped', 'venerable', 'exception', 'sense', 'Commissions', 'powerful', 'Velcro', 'appear', 'Fidelity', 'sees', 'folks', 'Chemical', 'book', 'coupled', 'ambitious', 'pilots', 'trivial', 'Legg', 'managers', 'dinosaurs', '14.', 'suppliers', '58', 'placement', 'wanted', 'hearing', 'luxury', 'neither', 'extra', 'advocated', 'those', 'call', 'high-polluting', 'Berman', 'organized', 'Dutch', 'Brands', 'casino', 'pricing', 'Dolphins', 'category', 'fact', 'deaths', 'enjoy', 'trends', 'BALLOT', 'discontinued', 'Dai-Ichi', '24', 'declines', 'persuasive', 'Hours', 'predictably', 'thanks', 'consulting', 'familiar', 'makers', 'J.', 'asked', 'economy', 'motive', 'link', 'resumes', 'electronics', 'felt', 'Anthony', '30-share', 'MONEY', 'inventory', 'publishing', \"'ll\", 'small', 'reallocated', 'Giants', 'brilliantly', 'muzzling', 'US', 'thumbs', 'abandoned', 'Mercantile', 'journal', 'intimately', 'prevent', 'cleanup', '1,460', 'Treasury', 'hunker', 'consideration', 'Poor', 'Fire', 'Provided', 'short-wave', 'high-volume', 'Monday', 'remaining', 'special', 'eye', 'proving', 'consequences', 'recommending', '16.05', 'Miami', 'year', 'applied', 'wide', 'chose', 'anxieties', \"D'Amico\", 'having', 'occurred', 'served', 'stock-selection', 'Barney', 'amendment', 'convenient', 'minted', '6.20', 'look', 'triple-A', 'government', 'degrees', 'contributed', 'Order', 'Bernstein', 'Electric', 'January', 'November', 'dominated', 'Stoll', '110', 'African', 'Minnesota', 'resignation', 'Shokubai', 'appetite', 'Getting', 'factory', 'Hart-Scott-Rodino', 'fate', 'vortex', '1991-1999', 'trespass', 'creams', 'create', 'warming', 'American-made', 'lowering', 'homelessness', 'homes', 'favor', '175', 'powerhouse', 'IBM', 'documented', 'term', 'abuse', 'functioning', 'answers', 'yon', 'overproduction', 'estate', '1980', 'rival', 'stadium', 'sums', 'due', 'instances', 'adopted', 'buying', 'fired', 'Donald', 'union', 'yielding', '6.7', 'Takeover', 'Other', 'barred', '1738.1', 'Washington', 'world-wide', '190-point', 'uncertainty', 'eyes', 'Council', 'electronic', 'repeals', 'treat', 'greed', 'iota', 'regarded', 'Gross', 'viewership', 'constitute', 'press', 'enforcement', 'H.', 'sufficient', 'mergers', '1985', 'issued', 'northern', 'let', 'starting', 'fail', 'stations', 'decide', '149.9', 'devise', 'FUNDS', 'Madison', 'arbs', 'compensation', 'Garret', 'missed', 'One', 'preventing', 'federal', '672', 'summer', 'Brooks', 'wants', 'brokers', '1.7', 'striving', 'findings', '2000', \"''\", 'its', 'declined', 'open', 'hired', 'capability', 'materialized', 'choosing', 'wary', 'happen', 'disposed', 'contemporary', 'unneeded', '113.2', 'importance', 'abuzz', 'remove', 'noted', 'researchers', 'clannish', 'spending', 'already', 'Competes', 'Majority', 'start', 'brilliant', '28.25', 'Legislating', 'bulk', '16.5', 'expanding', 'Reed', 'drawing', 'Weil', 'Partnership', 'Population', 'incapable', 'Until', 'beg', '27.4', 'financial-services', 'together', 'documents', 'cater', 'allegations', 'executive-office', 'recouped', 'Choose', 'falling', 'explosion', 'Hallett', 'PRIME', 'GMAC', 'guilders', 'package', 'hopefully', 'overdone', 'rally', '128', 'Princeton', 'bar', 'pursue', 'Citadel', 'holdings', 'According', 'Health', 'clients', 'Dec.', 'ascendency', 'Nev.', 'News-American', 'empire', 'everything', 'turned', 'universally', 'improving', 'nominate', 'bolstered', 'British', 'property\\\\/casualty', 'modestly', '2160.1', 'conservative', 'who', 'Kendrick', 'below', 'secondary', 'earned', 'smothering', 'actual', 'adequate', 'meanwhile', 'Bush', 'away', 'Cerf', 'Systems', 'sexy', 'brings', 'came', 'penalty', 'choose', 'Francisco', 'request', 'program-trading', 'FEDERAL', 'magnetic', 'disseminating', 'spent', 'runs', 'visits', 'Similarly', 'economics', 'lying', 'drunk', 'gilt', 'Bon', 'boosters', 'offsetting', 'Telegraph', 'malnutrition', 'hang', 'officer', 'review', 'gross', 'nickel', 'Orange', 'End', '605', 'lowered', 'avoid', 'other', 'Publishing', 'efficiency', 'feline', 'Industrial', 'showed', 'addition', 'Still', 'Labor', 'failed', 'widgets', 'possess', 'perform', 'composed', '6.40', 'appropriated', 'credit-rating', 'prove', 'ending', 'storm', 'comes', 'evil', 'bigger', 'outstanding', 'causing', 'portray', 'million-a-year', 'file', '1989', '4.7', 'got', 'sold', 'illegality', '150,000', 'revised', 'tumbled', '27', 'promotions', 'today', 'interbank', 'stream', '7\\\\/16', 'replaced', 'Christopher', 'clean-up', 'Spirit', 'expects', 'ISSUES', 'Germany', 'manipulators', 'Ballantine\\\\/Del', '180', 'policy-making', 'affect', 'support', '8.70', 'substitute', 'unlikely', 'might', 'neutrons', 'Angeles', 'fears', 'deals', 'uncompensated', 'Murray', 'ownership', 'general', 'Charles', 'war', 'leery', 'Citizen', 'York', 'three-month', 'adjustable', 'surprise', 'according', 'labels', 'That', 'bold', 'reporting', 'deposits', 'circulated', 'Spanish', 'Probably', 'cited', 'ruling', 'money', 'bond', 'Also', 'pension', '179', 'volatile', 'sleeping', 'mayor', 'provide', 'faces', 'Burnham', 'illegal', 'routine', 'beautiful', 'never', 'Team', 'two-year', 'nations', 'justified', 'manufacturing', 'street', 'turn', 'first-rate', 'profitably', 'Pennsylvania', 'help', 'fiber-end', 'mutual', 'strengthened', 'Standard', 'here', 'Democracy', 'human', 'Maybe', '7.95', 'word', 'Stockholm', 'Brothers', 'suit', 'shaken', 'patterns', 'Primerica', 'MERRILL', 'realization', 'coordinator', 'ground', 'Source', 'forced', 'misdemeanor', 'censorship', 'afford', 'breed', 'agree', 'mistakenly', 'proposition', 'Stockbrokers', 'find', '2017', '85', 'alternative', 'shape', 'notified', 'environmentalists', 'what', 'estimates', 'lieu', 'restructured', 'chicago', 'raised', 'author', 'Designated', 'gave', 'draws', 'format', 'transfer', 'Toronto', '30.9', 'Fed', 'rebound', 'screens', 'ordered', 'Federal', '120.7', 'During', 'fear', 'Short', 'elevators', '20-stock', 'creditors', 'decisions', 'Clairton', 'Gerard', 'felonies', 'Inventor', '909', 'Convention', 'upstate', 'directors', 'marketed', 'Schwab', 'College', 'campaign', 'weather', 'US$', 'build', 'including', 'infectious', 'disposables', 'mostly', '4.1', 'skill', 'no', 'Stocks', 'various', 'inserted', 'high-risk', 'applicable', 'fourth-quarter', 'riskier', 'risk-free', 'trading', 'road', 'know', 'acts', 'establishment', 'wield', 'requires', 'Jerry', 'addiction', '2005', 'holders', 'Syndicate', 'eligible', 'linked', 'man', 'caller', 'requesting', 'basket', '35564.43', 'reforms', 'publicity', 'impatient', 'late', 'disclosure', 'labor', 'direction', 'favorable', 'Home', 'weekly', 'discussed', 'months', 'Indiana', 'statement', 'tires', 'Housing', 'house', 'ranked', '0.1', 'sluggish', 'Freddie', 'Sometimes', 'said', 'Second', 'gasoline', 'Soup', 'introduced', 'replacement', 'Yet', 'Buying', 'underlying', 'liners', 'Development', 'then-Speaker', 'seasoned', '7.3', 'law', 'notch', 'plunged', 'credit', 'facts', 'offer', 'protects', 'acid', 'friendly', 'Activity', '5.4', 'T.', 'makes', 'much', 'Frank', '51', 'realize', 'appearing', 'reader', 'combined', 'EXCHANGE', 'distribution', 'defendant', 'carrier', 'operates', 'centerpiece', '10', 'sign', 'surge', 'circumstances', 'month', 'instituted', 'write-downs', 'PhacoFlex', 'led', 'quantities', '1970', 'sigh', 'care', 'high-yield', '41', 'palace', 'Charlotte', '-RCB-', 'sweeten', 'course', 'window', '8.47', 'provision', 'old-style', 'minicrash', 'callers', '7.90', 'slippery', 'threatens', 'Louis', 'newspapers', 'unlabeled', 'sharply', 'basically', 'market-share', 'football', 'compliance', 'granting', 'sue', 'shareholder', 'cornerstones', 'Susan', 'between', 'debts', 'fast', 'specified', 'mention', 'Speculation', 'presidential', 'B.', 'evaluation', 'councils', 'like', 'land', 'These', 'crystal-lattice', 'will', 'whipping', 'creating', '7.40', 'acquirer', 'founded', 'news', 'cash', 'drafted', 'low', 'Appropriations', 'Ltd', 'initially', 'textile', 'James', 'Everyone', 'welfare', 'weaker', 'proposed', 'retractable', '8.45', 'IT', '50,000', 'characterized', 'tort', 'suspend', 'Pepperidge', 'or', 'announcement', 'acquires', 'differences', 'use', 'alternatives', 'diverse', 'Medicine', 'plaintiffs', 'imminent', 'Xerox', 'adding', 'scream', '150', 'substance', 'won', 'web', 'labor-backed', 'screened', 'limitation', 'propagandize', 'Report', 'slope', 'Unemployment', 'thinks', 'appointment', 'six', 'revolt', 'unwilling', 'Tokyo', 'TREASURY', 'representatives', 'quarter', 'recorder', 'violence', 'region', 'positioned', 'sells', 'murdered', '52', 'breaks', 'prospect', 'stand', 'Suisse', 'super-absorbent', 'mega-stadium', 'outside', 'reclaim', 'Mark', 'military', 'back', 'performers', 'Eggers', 'funded', 'Signore', 'received', 'Julia', 'subject', 'N.Y.', 'introduce', 'Calif', 'since', 'substance-abusing', 'Actually', 'percentage', 'Contel', '753', 'shaping', 'Springfield', 'producing', 'air', 'tool', 'Mitchell', 'regulators', '70', 'six-packs', 'approve', 'most-likely-successor', 'orders', 'expense', 'waived', 'Democrats', 'United', '8.06', 'petition', 'quite', 'light', 'capitalism', 'stated', 'withdrawn', 'skepticism', 'tours', 'Fracturing', 'fill', 'Even', 'into', 'infrequent', 'Excision', 'Homeless', '102', 'Italy', 'Shaw', 'applicability', 'proscribes', 'blue', 'texts', 'multitude', 'Zurich', 'forces', 'parking', 'delivery', 'maintenance', 'preference', 'designers', 'features', 'automatic', 'however', 'Mikhail', 'ago', 'Simeon', 'destroy', 'planner', 'predecessor', 'less', 'predicted', 'Odyssey', 'portfolios', 'council', 'bank-backed', 'effect', 'swap', 'foreign', 'newspaper', '33', 'applications', 'post', 'initiating', 'traded', 'absurdity', 'violate', 'scrambled', 'fuels', 'normal', 'requirements', 'monopoly', 'crop', 'interviewed', 'words', 'leading', 'evenly', 'district', 'works', 'stopped', 'stressed', 'capacity', 'railing', 'several', 'looked', 'Too', 'Constitutional', 'imposes', 'issues', 'entirely', 'faster', 'families', 'crash', 'end', 'downside', 'Ill', 'along', 'motion', 'Neuberger', 'Motor', 'Hanifen', 'districts', 'deprived', 'purchases', 'L.A.', 'visiting', 'INTERBANK', 'President', 'indeed', '1996', 'reopen', 'odd-year', 'evolve', 'Silverman', 'Vos', '94.2', 'unusual', '8.48', 'Pretax', '13.15', 'left', 'POTABLES', 'Northeast', 'Hammersmith', 'commercial', 'sponsor', 'Valley', 'Eurobonds', 'gored', 'this', 'known', 'deviation', 'troubled', 'opponents', 'initial', 'newest', 'fiscal', 'Boston', 'debentures', 'program', 'COMMERCIAL', 'Lehman', 'Advice', 'control', 'my', 'includes', 'while', '1971', 'Hymowitz', 'consumer', '23.4', 'stage', 'considerably', 'outdistanced', 'sugar', 'exceed', 'single-lot', 'variety', 'reject', 'Midland', 'disclose', 'Register', 'County', 'contradict', 'Corporations', 'All', 'market', 'crane-safety', 'break', 'longer', 'improvement', 'securities', 'related', 'Rumors', 'Constitution', 'Your', 'somebody', 'Like', 'questions', 'problem', 'strict', 'placed', 'handles', 'amounts', 'yourself', 'alcohol', 'walk', 'keeping', 'Kidder', 'underperforming', 'others', 'Droz', 'town', 'Loewi', 'stock-picking', 'Consequence', 'discussions', 'else', 'objective', 'positions', 'finding', 'individuals', 'Pa.', 'scholarly', 'cracks', 'Capital', 'either', 'exchanges', 'GM', 'liquidity', 'survey', 'cavernous', 'concrete', 'implemented', 'refunding', '306', 'Several', 'prevalance', 'Old', '59.9', 'resembles', 'medium-sized', 'make', '1991', '43', 'Photograph', 'payments', 'successfully', 'traditional', 'long-term', 'boost', 'mortgaged', 'nonprofit', 'asset', 'debenture', 'Consent', '13', 'boosted', 'News', 'First', '20,000', 'concede', 'chase', 'situation', 'inherent', 'twisting', 'lights', '2.46', 'vow', 'maintained', 'unheard', 'foul', 'amass', 'defensive', 'viewing', '95.09', 'for', 'shareholders', 'wages', 'economies', 'purchasing', 'previous', 'state-owned', 'recipient', 'cardiovascular', '145', 'spirits', '57', 'Prebon', 'creditworthiness', '17.4', 'Ltd.', 'incisions', 'Sidak', 'four', 'speech', 'employee', 'farm', 'promises', 'developing', 'Jones', 'attempted', 'lawmakers', 'disappear', 'competes', 'harder', 'vested', 'Follow-up', 'targets', 'volume', 'fewer', 'beverage', 'spurring', 'Supreme', 'fight', 'maximize', 'year-ago', 'merchandising', 'caught', 'To', 'usual', 'phrase', 'goblins', 'one-newspaper', 'viewed', 'READY', 'weeks', 'drives', 'Dan', 'perception', 'implied', 'apartment', 'unemployment', 'decries', 'dismissed', 'Paul', '1.61', '30,537', 'magnets', 'persuade', 'len', 'reeling', 'group', 'source', 'furor', '2.7', 'location', 'indexers', 'computers', 'one-year', 'delay', 'administer', 'household', 'Pa', 'Veraldi', 'Gottlieb', 'eliminating', 'loan', 'warranties', 'The', 'them', 'marketplace', 'Despite', 'interference', '30s', 'Metal', 'wrote', 'indication', 'implement', 'exhibits', 'slides', 'newsstand', 'Newspapers', 'concluded', 'Fourth', '352.9', 'Andrew', 'bombarding', '118', 'session', '114', 'workforce', 'men', 'EURODOLLARS', 'creator', 'Trust', 'dismal', 'yields', '0.05', 'Wis.', 'institutional', 'growers', 'assure', 'diminished', 'install', 'breaker', 'Equivalents', 'orchestrated', 'string', 'overcapacity', 'moderated', 'Ann', 'favored', 'civilization', 'deluge', 'Maryland', '152,000', 'Cullowhee', 'minus', 'saved', 'conceding', 'arbitrager', 'Walbrecher', 'requirement', 'portions', 'spectacular', 'squeeze', '57.7', 'signature', 'assistant', 'helping', '2029', 'cast-iron', 'claimed', 'shows', 'carry', 'Natural', 'ASSOCIATION', 'response', 'signs', 'indifference', 'sparkplugs', 'Price', 'West', 'proportion', 'Now', 'Little', 'sprightly', 'repeatedly', 'twist', 'nameplate', 'revived', 'former', 'entire', 'limit', 'time', 'recommendation', 'stemming', 'stadiums', 'prevailing', 'Ellis', 'metals', 'mental', 'candidates', 'Volume', 'years', 'Mrs.', 'winning', 'interest', 'practiced', 'Fund', 'Institute', 'crapshoot', 'justify', 'Recess', 'Alfred', 'ended', 'redeem', 'Visa', 'Milwaukee', 'promotion', 'turns', 'stayed', 'lot', 'car', '2,000', 'hither', 'that', 'disagreement', 'studiously', 'absolute', 'holding', 'staff', 'Foods', 'intrusion', 'contesting', 'William', 'Philadelphia', 'D.C.', 'city', 'pills', 'Oct.', 'Canada', 'Crown', 'Hopwood', 'hedging', 'egregious', 'Machines', 'rapport', 'System', 'clippings', '34', 'portion', 'opportunity', 'severable', 'Miller', 'robbed', 'Issues', 'in', 'Howard', 'Soviets', 'whether', 'interior', 'solved', 'Survey', 'floors', 'slowly', 'Lorenzo', 'around', 'occur', 'owned', 'BTR', 'overriding', 'conclude', 'dislike', 'unworkable', 'giving', 'editorially', 'cost', 'understood', 'terms', 'inappropriate', 'swings', 'Cleveland', 'TRANSPLANT', 'plays', 'study', 'tormentors', '1,880', 'sphere', 'overcome', 'Mortgage', 'international', 'damaging', 'preferred', 'We', 'handled', 'another', 'undesirable', 'applaud', 'field', 'Bricklayers', '5.7', 'produced', 'Arbitrage', 'bothered', 'very', 'was', 'spot', 'fend', 'brief', 'scheduled', '7.78', 'tabloid', 'respondents', 'E.', 'unsuccessfully', 'attract', 'again', '101', 'state', 'administrative', 'Hong', 'enjoyed', 'round-trip', 'ignoring', 'distributable', 'realized', 'outrageous', 'push', 'at', 'quashing', '28.5', 'apart', 'lookee-loos', 'how', 'prefer', 'emotional', 'lobbies', 'proviso', 'naming', 'critics', '8.04', 'coming', 'margins', 'Olympia', 'long-tenured', 'driving', 'Services', 'coke', 'convertible', 'scaring', 'material', 'appears', 'wedded', '450', 'Total', '6.1', 'M.D.', 'Fairless', 'labeled', 'practitioners', 'beneficial', 'cultivation', 'expectation', 'paperback', 'took', 'sewer', 'Medical', 'guarantees', 'movements', 'Proponents', '23,403', 'present', 'latest', 'Perhaps', '130', 'meant', 'Iran-Contra', 'films', 'delisted', 'bunches', 'sidewalk', 'scrutiny', 'destination', 'etc.', 'rose', 'Grain', 'ambassadors', '25,000', 'half-hour', 'Herald-American', 'airlines', 'Las', 'replace', 'launch', 'Columbia', 'Investment', '11\\\\/16', 'Payments', 'Turnaround', 'CALL', 'asserts', 'planned', 'letters', 'Securities', 'Ind.', 'risks', 'advancing', 'Thomas', 'conducted', 'tooth', 'nine', '--', 'considerable', '343', 'little', 'reclaimed', '225', 'rhythm', 'horoscopes', 'disconnect', 'promote', '17', 'lawyer', 'Ga.', 'protests', 'sophisticated', 'discretion', 'forward', '119', 'fiber-optic', 'commodity', 'mentioned', 'posting', 'closely', '7.74', 'poverty', 'opinion', 'functions', 'Magleby', '238,000-circulation', 'continuingly', 'future', 'Bridgestone\\\\/Firestone', 'decided', 'Transportation', 'day-to-day', 'possible', 'Prof.', 'equaling', 'seem', 'entrusted', 'Journal', 'impetus', 'Wick', 'lowest', '32', 'Dow', 'activities', 'equity-purchase', 'space', 'stacking', 'foldability', 'beaten', 'least', 'telling', 'error', 'Trans', 'box', 'barriers', 'executives', 'hard', 'actively', 'Key', 'case', 'rallying', 'taken', 'DEPOSIT', '14.5', 'Caldor', 'He', 'appoint', 'National', 'eased', 'wife', 'nickname', 'banned', 'Article', 'PORTING', 'divisions', 'Houston', 'Paris', 'ornamental', 'deny', 'peaks', 'sued', 'Perpetual', 'schemes', 'voices', 'scandal', 'resent', 'clause', 'responsible', 'Of', 'Mehta', 'comment', 'follow', 'copies', 'Yamamoto', 'Wright', 'claim', 'What', 'redistribute', 'N.V', 'context', 'additional', 'separation', 'down', 'gigantic', 'masters', 'exacerbated', 'cousins', 'portfolio', 'downgrade', 'keep', 'mobilizing', 'mix', '8.25', 'understands', 'Akio', 'himself', 'Founded', 'borrowings', 'climbed', 'moving', 'giant', 'you', 'publicized', 'Contracts', 'theme', 'Consumer', 'presentation', 'silicone', 'Federalist', '116.9', 'intend', 'Lord', 'sprawling', 'Serial', 'learned', 'eyeing', 'swaps', 'step', 'simultaneously', 'firms', 'exemption', 'to', 'levels', 'develop', 'Bellows', 'Currently', 'clock', 'looks', 'middle', 'fresh', 'travel-related', 'base', 'Mae', 'Growth', 'do', 'housing-assistance', '501', 'Anderson', 'Indeed', 'Heiwado', 'Telerate', 'unconstitutional', 'Hurricane', 'writing', 'harmful', 'cite', 'overall', 'kindness', 'States', 'tells', 'Seed', 'lobbyists', 'depressions', 'Drink', '116.3', 'Fundamentalists', 'Agriculture', 'fixed', 'reason', 'internal', 'Tiny', 'ensure', 'resolution', 'crystal', 'reflecting', 'fixed-income', 'analysts', '10,000', 'Kangyo', 'labeling', 'knew', 'doubted', 'get', 'spurned', 'spooked', 'paycheck', 'preset', 'Some', 'illness', 'save', 'given', 'Dean', 'stereo', 'Jaguar', 'slump', '7.2', 'credits', 'floral', 'ballots', 'stood', 'vote', 'saw', 'interesting', 'bygone', 'Forget', '750', 'creates', 'television', 'Says', 'deficit', 'joined', 'Steinberg', '1929', 'partner', 'M.', 'collective', 'software', 'Capitol', 'vaccines', 'formed', 'medicine', 'monthly', 'cards', 'Monopolies', 'profitable', 'funding', 'caused', 'underwriter', 'stretch', '15', '9.75', 'trays', 'accordance', 'stepped', 'problems', 'insider-trading', 'Evans', 'discuss', 'show', 'despised', 'guarantee', 'Just', 'waters', '3.8', 'compared', 'assets', '9.5', 'Riese', 'materials', '48', 'parents', 'prestigious', 'Mortgage-Backed', 'fast-food', 'Commission', 'population', 'scans', 'economic', 'battle', 'exchange', 'comfortably', 'begun', 'felony', 'futures', 'Singapore', 'rest', 'unfair', 'Fla.', 'backing', 'Orlando', 'stable', '2019', 'quoting', 'psychiatric', 'Leo', 'billion', 'Rogers', 'mechanism', 'AT&T', 'assembly-line', 'exercise', 'drew', '8.15', 'Estate', '1,570', '71,309', 'solutions', 'fat', 'breathtaking', 'do-it-yourself', 'daily', 'A.L.', 'committed', 'unitary', 'circuit-board', 'strong', 'franc', 'permission', 'downturn', 'closing', 'routes', 'top-selling', 'farms', 'departments', 'democracy', 'decay', 'castle', 'Dover', 'fall', 'cleaner', 'compensate', 'Hutchinson', 'so-called', 'Central', 'Charities', 'plea', 'seven', 'innovation', '274', 'July', 'any', 'over-the-counter', 'defying', 'investigating', '94.8', 'cue', 'consider', '7.15', 'day-care', 'though', 'restored', 'Air', 'coal-fired', 'Basin', 'takeover', 'Holdings', 'democratic', 'pharmaceutical', 'unanimous', 'Camilli', 'selected', 'Ms.', 'uptick', 'money-market', 'mixed', 'check', 'dispute', 'genie', 'alcoholics', 'institution', 'agencies', 'relatively', 'And', 'budget', 'Robbie', 'generated', 'bridge', 'free-enterprise', 'francs', 'decisive', '3.2', 'Randolph', 'Switzerland', 'Critics', 'enables', 'sports-oriented', 'May', 'large-scale', 'hearings', 'Moon', '25-year-old', 'stock', 'Mitsubishi', 'relocate', 'independent', 'France', 'Such', 'gambling', 'certin', 'Board', 'indexes', 'examination', 'filed', 'loss', 'duly', 'undercutting', '21.1', 'across', 'Card', '9\\\\/32', 'plunge', 'has', 'Milan', 'Service', 'Thus', 'stock-index', 'filing', 'and', 'currency', 'simply', 'prerogatives', 'numbers', 'daughters', 'beauty', 'intent', 'revenue', 'ought', 'somehow', 'shelter', 'Richmond', 'leveraging', 'Kill', 'manufacturer', 'chatter', 'sound', '22', 'paper', 'tight', 'NATIONAL', 'disorders', 'economists', 'director', '59-year-old', 'prevents', 'bicameral', 'Noble', 'pillow', '1920s', 'Volatility', 'Taylor', 'Reducing', 'BIRDS', 'Posted', 'statistics', 'forum', 'Iowa', '3,600', 'Middlesex', 'analyst', 'largest', 'relaunched', 'landfills', 'COMMUNICATIONS', 'nothing', 'still', 'UAL', 'Its', 'regarding', 'withstand', '3.42', 'financings', 'shall', 'beyond', 'Inouye', 'promise', 'arts', 'acceleration', 'efficient', 'struggle', 'charging', 'drop', 'Judge', 'central', 'new-car', 'weaken', 'patients', 'advantages', 'via', 'Manila', 'colored', 'real-estate', 'complains', 'supported', 'technology', 'accepted', 'Aktiebolaget', 'Yasuda', 'triggered', 'commissions', 'policy', 'provoked', 'bureaucracy', 'DeFazio', 'moments', 'absolutely', 'tremendous', 'please', 'jolts', 'compete', 'leveraged', 'drought', 'definitely', '24.95', '334.5', 'notable', 'follows', 'Rill', 'specialists', 'Sydney', 'Committee', 'Pittsburgh', 'candidate', '-LCB-', '5.3', 'layer', 'succeeded', '112.9', 'normally', 'disclosures', 'public', 'intraday', 'full', 'Brean', 'chain', 'behind', 'championing', 'broaden', 'game', 'import', 'accord', 'canine', 'Pamela', 'safety', '44', 'Insurance', 'meaning', 'insurance-company', 'ban', 'truck', 'propaganda', 'assertion', 'easily', 'Moines', 'Tribune', 'heading', 'Further', 'grapple', 'lure', 'Don', 'written', 'almost', 'commit', 'suggested', 'drove', 'sellers', 'purchased', 'planning', 'Egypt', 'BILLS', 'implies', 'exhaust', 'lead', 'headline', 'blue-collar', 'Commerce', 'vicissitudes', 'teachers', 'housing', 'Poland', 'resign', 'fighting', 'void', 'millions', 'corrected', 'it', 'Financially', 'sends', 'formally', 'desired', 'receive', 'Herald', 'cover', 'darned', 'guilty', 'Z.', 'significant', '14\\\\/32', 'protocols', 'leadership', 'seeking', 'temporarily', 'Conn.', 'recruited', '692', 'Mason', 'academics', '8.1', 'shortage', 'sterling', 'changes', 'throughout', 'remain', 'rated', 'considered', 'change', 'owning', 'Arighi', 'crystals', 'index', 'indicates', 'Midwesco', 'merge', 'standard', 'message', 'organizations', 'roughly', 'notes', 'information', 'advent', 'performance', 'Cluff', 'triple-A-rated', 'skin', 'shortages', 'fully', 'tentatively', 'common', 'there', 'Jenrette', '1.46', '17.3', 'print', 'margin', 'denounce', 'citing', 'plight', '7.79', 'try', 'Cartons', 'stature', 'missiles', 'Gray', 'predispose', 'prison', 'resources', 'rejected', 'litigation', 'Atlanta', 'rate', '1988', 'credentials', 'Tulane', 'accommodations', 'net', 'DyDee', 'exhibition', 'action', 'wish', 'eliminate', '1937-40', 'legal', 'appropriators', 'Roland', 'denouncing', 'pence', 'relief', 'scrambling', '1,000', 'Named', 'hook', 'Bund', 'during', 'Norwalk', 'block', 'creature', 'vice', 'meatpacking', 'Harper', 'insured', 'His', 'basis', 'allocated', 'sponsors', 'contribute', 'loans', 'organization', '1982', 'High-grade', 'originally', 'real', 'Advanced', 'tire', 'strategy', 'high-tech', 'reprint', 'USIA', 'premier', 'attempting', 'deducting', '4.10', 'Joni', 'Although', 'interpretation', 'expire', 'premium', 'devastating', '3.1', 'driver', 'Morrell', 'success', 'Lynch', 'Cougar', 'While', 'Researchers', 'yen', 'elementary', 'Courts', 'large', 'Truck', 'Minneapolis', 'item', 'Law', 'Shell', 'DIAPER', 'talk', 'identify', 'days', 'semiannual', 'mother', 'incomes', 'traders', 'wires', 'Goldman', 'fourth', 'absurd', 'finite', 'financier', 'betting', 'thunder', 'worried', 'sent', 'sometimes', 'cuts', 'article', 'Much', 'park', 'October', 'lacks', 'droughts', 'must', '8.30', 'joins', 'fierce', 'fasteners', 'broad', 'penchant', 'innovative', 'explain', 'fine', 'Matthews', 'departure', 'assist', 'bad', 'Sumitomo', 'relative', 'properly', '14', 'permanent', 'refusal', 'packages', 'disapproval', 'Many', 'reversal', 'jail', 'Not', 'basic', '415', 'sweatshirts', 'operations', 'sending', 'equally', 'Separately', 'Design', 'scholars', 'participated', 'tutorials', '15,000', 'joint', 'Citicorp', 'reallocate', 'could', 'joining', 'heated', \"n't\", '890', 'employs', 'When', 'provides', 'divergence', 'recently', 'Encouraging', 'politicians', 'intriguing', 'introduction', 'trailed', 'announced', 'unfocused', 'acquisitions', 'staid', 'Guarantee', 'notify', 'fund', 'markets', 'point', 'co-founded', 'volatility', 'trash', 'anti-drug', 'upon', 'valuable', 'actually', 'namely', '800', 'off-year', 'early', 'acceptance', 'single-A', 'band-wagon', 'involve', 'increased', 'responds', 'test', 'Marubeni', 'smoothly', 'soured', 'covering', 'conference', 'Morgan', 'forms', 'growth', 'Left', 'Chairman', 'relies', 'legislative', 'restore', 'hope', 'alone', 'great', 'reflect', 'studying', 'Few', 'Scripps', 'successor', 'quoted', 'logic', 'way', 'Saul', 'notched', \"'m\", 'refer', 'per', 'arbitragers', '6.70', '2141.7', 'Japanese', '1969', 'cautioned', 'members', 'straight', 'Determining', 'industries', 'chest', 'Herbert', 'Great', 'unable', 'project', 'were', 'represent', 'Spreads', 'Bradley', 'explains', 'six-inch', 'Salvador', 'hands', 'older', 'centimeter', 'passions', 'Lieberman', 'Series', 'trade', '35500.64', 'Johns', 'topped', 'romance', 'cooperating', 'corporate-wide', 'boogieman', '1987', 'Citing', 'referendum', 'directionless', 'visitors', 'residential', 'high', 'Schweiz', 'dropped', 'strictly', 'preapproved', 'Big', 'costly', 'Harris', 'pricings', 'halts', 'Stork', 'skyrocketed', 'upset', 'Glenn', 'mathematics', 'Ana', 'recall', 'cost-sharing', 'Manufacturers', 'folio', 'employees', 'Savings', 'toward', 'Associates', '1.5', 'TIRED', 'facing', 'AN', 'investing', 'evidence', '10-year', 'consumers', 'anything', 'face', 'ran', 'family', 'puzzled', 'both', 'lobbyist', 'active', 'designations', 'effects', 'holiday', 'allocation', 'fundamental', 'believe', 'Larry', 'bounce', 'If', 'multi-crystal', 'Peabody', 'managements', 'customer', 'Anne', 'puts', 'Catch-22', 'S.', 'far', 'Earnings', 'depository', 'cut', 'Phelan', 'public-relations', 'points', 'assumed', 'pursued', 'acid-rain', 'Could', 'reliance', 'contracts', 'Defending', '830,000', 'gauge', 'Noriega', 'Superconductors', 'framers', 'Hollis', 'headlined', 'Management', '23.25', 'Hawaii', \"'re\", '75', 'Hospital', 'agreed-upon', 'refuse', 'flirted', 'transfers', 'Scott', 'resist', 'sidelines', 'lotter', 'reaction', 'dollars', 'Los', 'insurer', 'Publications', 'tempted', 'work', 'melt-textured', 'Bennett', 'chassis', 'Policies', 'ways', 'member', 'Swiss', 'damage', 'give', 'Court', 'speculation', '1.64', 'market-oriented', 'nice', 'tolerate', 'closer', 'one-house', 'jockeys', 'whole', 'Cost-effective', 'obligated', 'Declining', 'repaired', 'unload', 'violated', 'demands', 'supposedly', 'Takashima', 'Any', 'reach', 'committee', 'Each', 'diaper', 'strategies', 'values', '372.9', 'cumbersome', 'vacations', 'spook', 'sufficiently', 'fleeting', 'primary', 'passage', 'engineering', 'discount', 'quantity', 'responded', '3648.82', 'industry-supported', 'cloth', 'him', '960', 'Chicago', 'heads', 'performing', 'McGuigan', 'Funded', 'bull', 'too', 'primarily', 'stock-market', 'adult', 'current-carrying', 'R.D.', 'marketing', 'really', 'calculated', 'Nebraska', 'manage', '1999', 'houses', 'record-keeping', 'Soviet', 'Scannell', 'multiples', 'Ford', 'publish', 'Brussels', 'referred', 'smoking', '5.435', 'assistance', 'combine', 'citizen', 'two-tiered', 'Riviera', 'nameless', 'SuperDot', 'samples', 'DES', 'Gorman', 'Diaper', '6,500', 'steel', 'EC', 'leader', 'Hutton', 'endorsed', 'sanctions', 'Wellcome', 'note', 'prospective', 'foods', 'approved', 'copy', 'Lonski', 'signing', '6.9', 'Man', 'appliances', 'questionable', 'Pepperdine', 'spokesman', 'fell', 'Times-Stock', 'ranging', 'listeners', 'YWCA', 'Lambert', 'Buick', '2.8', 'insisted', 'current', 'blood', 'pace', 'cleared', 'resolve', 'Plains', 'magnitude', 'discovered', 'manager', 'why', '271-147', 'deliberating', 'substantial', 'aspect', \"'30s\", 'believed', 'cites', '300,000', 'countless', 'transacting', 'hand', 'settlements', 'level', 'chemical', 'products', 'regulated', 'Commodity', 'fails', 'position', 'responsibility', 'themselves', 'maybe', 'Sangyo', 'earlier', 'afternoon', 'tomorrow', '12.5', 'Lawmakers', 'Used', 'all', 'analysis', '30.6', 'Robert', 'Mass', 'decorator', 'name', 'Defense', 'Earlham', 'later', 'national', '3,250,000', 'deck', 'attempts', 'reported', 'unraveling', '45,000', 'strike', 'waste', 'cargo', 'opposite', 'FAMILY', 'Jonas', 'hour', 'expectations', 'Furillo', 'Nearby', 'listed', 'contract', '12-year', 'lose', 'neat', 'our', 'Wood', 'Conference', 'Century', 'next', 'prints', 'estimated', 'flag', 'contacted', '3,500', 'everyone', 'jeopardy', '0.82', 'Money', 'Travelers', 'major-league', 'C.D.s', 'focused', 'People', 'dominant', 'advance', 'labor-management', 'notwithstanding', 'polled', 'highly', 'refrigerator', 'barely', 'Administration', 'couple', 'part', 'Johnson', 'hidden', 'fees', 'Inc.', '23', 'Trade', 'Redevelopment', 'spokeswoman', 'odds', 'Brooklyn', 'businessman', 'consent', 'endorse', 'pass', 'curbed', 'hitting', 'fatalities', 'using', 'FALL', '111', 'Mogavero', 'Telephone', 'broad-based', '45', 'fielded', 'usually', '1,400', 'cleaner-burning', 'Amsterdam', 'Mich.', 'broadcasts', 'blue-chip', 'speeches', 'moderately', 'unchanged', 'Again', 'referral', 'country', 'view', 'not', 'principal', 'It', 'stake', 'Nations', 'Fields', 'counteract', 'despite', 'invite', 'Mindy', 'shelf', 'N.Y', 'Photography', 'dirtiest', 'coverage', 'investments', 'unlike', 'stimulating', 'arguments', 'Chevrolet', 'answer', 'when', 'Topix', 'Reserves', '7.55', 'his', 'savings', 'mark', 'workplace', 'based', 'argue', 'Mattress', 'placing', 'cardboard', 'force', 'Stock', 'returns', 'refused', 'insurance', 'speculated', 'carriers', 'cups', 'extensive', 'Fulham', 'modest', 'House', 'competitive', 'Muzzling', 'advanced', 'Nov.', 'Security', 'played', 'Hammacher', 'McGovern', 'balkanized', 'Rick', 'passed', 'downward', 'operation', '149', 'dissemination', 'controlling', '116.4', 'structure', 'Ark', 'enforce', 'par', '6.84', 'energetic', 'chooses', 'out', 'sector', 'travel', 'numerous', 'Andy', 'Tokio', 'Chapter', 'authority', 'recess', 'livestock', 'appointments', 'spackle', 'rating', '1970s', 'be', 'books', 'each', 'supplies', 'welcome', 'highest', 'plans', 'Bolivia', 'CERTIFICATES', '300-113', 'trend', '8.07', 'Those', 'five-year', 'temperature', 'Dorrance', 'Fernando', 'LIBOR', 'units', 'guide', 'sneaked', 'lives', 'Renaissance-style', 'Rey\\\\/Fawcett', 'old-time', 'measures', 'distant', 'Foundation', 'Imhoff', 'publicly', 'card-member', 'marketer', 'South', 'Cup-Tote', 'women', 'aftereffects', 'Coniston', 'equity', 'factor', 'Joe', 'prolonged', 'evolved', 'alive', 'scenic', 'became', 'rates', 'Freud', 'market-based', 'situations', 'needed', 'electrical', 'tax', '5,000', 'smaller', 'Carrier', 'chairs', 'operating', 'mean', 'Gilts', 'square', 'talks', 'prizes', 'physics', 'payment', 'version', 'load', 'running', 'sell', 'goodwill', '8.65', 'Ames', 'cope', 'involvement', 'migrate', 'observers', 'repair', 'broadly', 'recovering', 'enhances', 'intimidate', 'witches', 'exercisable', 'Odd-year', 'Care', 'Cincinnati', 'media', 'architects', 'Options', 'serve', 'wheat', 'arm', 'complexes', 'instrumental', 'trades', 'earns', 'Dakota', 'hopes', 'games', 'moves', 'safeguarding', 'disaster', 'Panama', 'understand', '89.7', 'continually', 'merely', 'dealing', 'claims', 'argued', '1,200', 'denied', 'Stock-index', 'nullified', 'prices', 'even', 'Airlines', 'card', 'Government', 'disagrees', 'frequently', 'enacted', 'official', 'Labouisse', 'because', 'cleanliness', 'regime', 'Irvine', 'Carlton', 'die', 'continued', 'surrounding', 'vary', 'short', 'By', 'Index', 'Dodger', 'showing', 'transition', 'Whereas', 'erect', 'non-callable', 'raising', 'Mutchin', 'liquid-nitrogen', 'Union', 'celebrity', 'referenda', '2.50', 'Daiwa', 'impossible', '3.7', 'Farmers', '1986', 'losses', 'Leningrad', 'financed', 'respect', 'administrator', 'Thursday', 'Vegas', 'Citizens', 'exposures', 'Sterling', 'longer-term', 'phobias', 'U.S.A.', 'bellwether', 'Hanover', 'few', '220', 'Chamber', 'return', 'virtue', 'settled', 'spaces', 'million', '11.10', 'strings', 'serious', 'Gas', 'Jamaica', 'charges', '100,000', 'duck', 'arbitrage', 'Sotheby', 'picture', 'Merrill', 'habit', 'K.', 'None', 'helps', 'understanding', 'laboriously', 'delays', 'Assuming', 'expression', 'one-hour', 'nowhere', 'connected', 'closed', 'institutions', 'now', 'insanity', '2\\\\/32', 'overstated', 'disposal', 'Opinion', '9.3', 'players', 'From', 'investor', 'popularly', 'threats', '90', 'Co.', \"O'Brien\", 'relentlessly', 'sounded', 'Industries', 'extraordinary', 'Confederation', '877,663', 'single', 'pickers', 'launched', 'Glaxo', 'Michigan', 'interim', 'exact', 'disapproved', 'money-losing', 'then', 'YMCA', 'returned', 'akin', '-LRB-', '6.5', '59', 'contained', 'worthiness', 'wrath', 'HOME', 'excision', 'pins', 'ballpark', 'Californian', 'calculator', 'instruments', 'obtained', 'Mr.', 'Park', 'municipalities', 'costs', 'Perestroika', 'but', 'architect', 'Moody', 'handle', 'junk', 'application', 'gotten', 'direct', '200', 'recruiting', 'Exchange', 'ultimate', 'Underwood', 'videocassette', 'Lucille', 'once', 'language', '31-year-old', 'accountability', 'loops', 'history', 'index-arbitrage', 'S&P', '4.9', 'decision', 'illustrates', 'McCabe', 'Stung', 'Oil', 'win', 'barrier', 'agency', 'being', 'privacy', 'practice', 'reporter', 'intention', 'Stieglitz', '53-year-old', 'Scientists', 'Resources', 'utilities', 'settlement', 'succession', 'seat', 'Chatsworth', 'pointing', 'pointed', 'Lazzaroni', 'discrepancies', 'booming', 'International', 'uttering', 'Reagan', '1.1', 'zip', 'secured', 'Deere', 'wrecking', 'Smith', 'sparing', 'Gartner', '6.03', 'Act', 'demanding', 'demonstrates', 'owns', 'good', 'purpose', 'lottery', 'Dakotas', 'marks', 'Bond', 'Landrieu', 'expensive', 'seek', 'purposes', 'feared', 'agreed', 'oil', 'There', 'researcher', 'leave', 'one', 'emphasis', 'high-speed', 'disseminate', '20s', 'rigors', '7.50', 'ASSETS', 'involved', '1984', 'searched', '50', '12', 'becoming', 'confidence', 'Rockford', 'Catholic', 'tickets', 'shoulder', 'target', 'rise', 'Oshkosh', 'Most', 'accept', '4.3', 'within', 'riders', 'disaffiliation', 'defendants', 'they', 'Barth', 'offers', 'imbalances', 'warning', 'Charter', 'ties', 'polluters', '1980s', 'With', 'mailing', 'Agency', '26.5', 'data', 'Industry', 'surgery', 'pill', '107', 'best', 'Ohio', 'reflection', 'Columbus', 'agricultural', 'supplemental', 'practices', 'four-foot-high', 'initiate', 'Mac', 'bludgeon', 'midsized', 'parties', 'vacant', 'obligation', 'anyone', 'car-care', 'order', 'merchants', 'investment-grade', 'suffered', 'sad', 'elections', 'answered', 'fastest-growing', 'acquirers', 'Garanti', 'exerting', 'Del', 'Higher', 'always', 'surprisingly', 'takeover-stock', 'Nelson', 'explaining', 'Dolan', 'dividing', 'building', 'qualities', 'banker', 'division', 'paid', 'mimics', 'fines', 'USX', 'Hazell', 'cattle', 'cheaper', 'contingent', 'inform', 'against', 'becomes', 'add', '89', 'Marine', '130.6', 'stimulated', 'Edwin', 'shivers', 'machinists', 'Orleans', 'wings', 'fueled', 'record', 'cooled', 'nonetheless', 'accommodate', 'engaged', 'these', 'stability', 'power', 'Mitsui', '600', 'expect', 'engaging', 'feel', 'Journals', 'trust', 'outlay', 'predict', 'rebounding', 'Arraignments', 'loathsome', 'Bendectin', 'Propaganda', 'hold', 'Maxwell', 'children', 'kinds', 'U.K.', 'No', 'opposed', 'worsen', 'blocks', 'Power', 'drawn', 'Two', 'forecast', 'possibly', 'particular', 'occasionally', 'stocks', 'vast', 'wealth', 'day', 'sticking', 'easy', 'A-D', 'amazingly', 'quietly', 'pound', 'inhibit', 'exceeds', 'watchdogs', 'transportation', 'electric', 'ROGERS', 'department', 'cutting', 'promptly', 'On', 'began', 'majority', 'noticed', 'differently', 'stockbrokers', 'But', 'bottom-line', 'snapped', 'falls', '8.50', 'gets', 'drugs', 'buy-out', 'plan', 'Lovett', 'alleged', 'well', 'About', 'decade', 'Destinations', 'Americans', 'Philippines', 'nominated', 'chosen', 'vehicle', 'This', 'prisoners', 'sweepstakes', 'returning', 'associated', '9.32', 'added', 'underwent', '135', 'morass', '81.8', 'benefit', 'reporters', 'London', '472', 'fetching', '22\\\\/32', 'propagandizes', 'bringing', 'directed', 'professionals', 'voluntary', 'sink', 'owner', 'banks', '1940s', 'flagrant', 'efforts', 'advertise', 'range', 'semicircular', 'wild', 'interested', 'suffering', 'provisions', 'Lufkin', 'unveil', 'expected', 'LOAN', 'quota', 'merchant', 'opening', 'TRIMMING', 'handed', 'sources', 'Elco', 'homeless', 'cable', '21-month', 'report', 'fanciful', 'hundred', 'odd', 'polls', 'Cataracts', 'expanded', 'Zicklin', 'Risks', 'halt', 'Wolf', 'nearly', 'Beauty', 'executing', 'impact', 'Tuesday', 'gut', 'sure', 'facilities', 'Meanwhile', 'dismayed', 'seen', 'derivative', 'shortly', 'offering', 'brought', 'Republican', 'livelihood', 'city-owned', 'funds', 'devote', 'election', 'enormous', 'David', 'commission', 'omnipresent', 'BRIEFS', 'separately', 'Traditionally', 'tie-in', 'partisans', 'cushioned', 'Already', 'think', 'contingency-fee', 'third-quarter', 'Three', 'radio-station', 'close', 'Handelsbanken', 'gift', 'coliseum', 'inverse', 'home', 'except', 'Christie', 'partly', 'goal', 'Scypher', 'Santa', 'sports', 'objectives', 'Kane', 'overvalued', 'consisting', 'undergoing', 'means', 'nutrition', 'Bridges', 'old-fashioned', 'scarcely', 'classic', 'limits', 'machine', 'Duluth', 'unsecured', 'Reliance', 'signifying', '21', 'defends', 'sales', 'pressed', 'statute', 'electorate', 'Morrison', 'continues', 'S.A', 'more', 'compilation', 'direct-mail', 'anyway', 'determined', 'past', 'hormone', 'profits', 'verbatim', 'spilling', 'restructuring', 'Britain', 'one-time', 'respected', 'Superdome', 'Intecknings', 'veto', 'Dorothy', 'potential', 'Jenkins', 'Once', 'only', 'preventative', 'scholar', 'completing', 'want', 'year-earlier', 'noble', 'moreover', '26', 'seven-million-ton', '``', 'the', 'hugging', 'raises', 'full-time', 'series', 'Occidental', 'inherently', 'constantly', 'log', 'harm', 'users', '12\\\\/32', 'separate', 'expert', 'depression', 'flux', 'holder', 'age', 'TRUST', 'measured', 'decrease', 'hypothetical', 'Markey', 'Gary', 'fields', 'collateral', 'eliminated', '1992', 'me', 'FreudToy', 'buyers', 'appropriations', 'finance', 'mortgages', 'ability', 'result', 'Dallas', 'whichever', 'sacrifice', 'after', '3,040,000', 'Confidence', 'divided', 'consistently', 'allies', 'tote', 'come', 'hurt', 'Yamaichi', 'reserves', 'California', 'usurp', 'increasing', '13.50', 'readership', 'Webb', 'managed', 'wanting', 'participate', 'cycle', 'middle-ground', 'greedy', 'read', 'less-than-brilliant', 'negotiated', 'traditionalists', 'run', 'proposing', '35', 'itself', 'cases', 'tune', 'times', 'March', 'done', 'DSM', 'Junk', 'relevance', 'assumption', 'telecommunications', 'investors', 'acquisition', 'Concerned', 'perfectly', 'citations', 'price-support', 'highs', 'share', 'domestic', 'difficulty', 'lotions', 'appease', 'moved', 'Honolulu', 'lock', 'despise', 'open-top', 'named', 'recession', 'auto', 'broader', 'echoed', 'Jaffray', 'upscale', 'heavily', 'probably', 'activity', '8.5', 'protective', 'EVERYONE', 'Francisco-based', 'previously', 'valued'}\n",
      "len: 5864\n",
      "Out-of-vocabulary words in test set: {'Louis', 'newspapers', 'Lebanon', 'sharply', 'biggest', 'McAlpine', 'BMP-1', 'cents-a-unit', 'interests', 'compliance', 'provided', 'observance', '14.26', 'shareholder', 'Research', 'accepting', 'between', 'located', 'suggest', '79', 'ships', 'presidential', 'B.', 'like', 'How', 'These', 'will', 'Contras', 'fled', 'creating', 'advertising', 'news', 'cash', 'disappointment', 'House-Senate', 'elected', 'upbeat', 'low', 'Ltd', 'textile', 'cancer', 'Inland', 'skeptical', 'James', 'Bethlehem', 'although', 'oppose', 'weaker', 'receivers', 'proposed', 'avert', 'attributed', 'estimate', '1.6', 'or', 'announcement', 'DD', 'lines', 'use', 'alternatives', '41.60', 'morphogenetic', 'Xerox', 'projections', 'lease', 'ease', 'substance', 'Paramount', '29', 'purchase', 'won', 'disease', 'chip', '2.07', 'Asher', 'liquidated', 'sell-off', 'Delmont', 'information-services', 'appointment', 'clarify', 'income', 'six', 'Professional', 'operators', 'healing', 'quarter', 'tons', 'unit', 'sells', 'segment', 'third', 'engines', '52', '28.53', 'needs', 'considering', 'She', 'crops', 'high-flying', 'causes', 'helpful', 'Mark', 'turmoil', 'military', 'Coleco', 'back', 'chief', 'held', 'job', 'expressing', 'received', 'subject', 'As', 'offset', 'since', 'individual', 'charge', 'Ariz.', 'before', 'increases', 'producing', 'jobs', 'stores', 'cereal', '70', 'accrue', 'regulators', 'Israel', 'approve', '7.84', 'Ravenswood', 'orders', 'confined', 'Barron', 'gallon', 'allowed', 'Democrats', 'spurred', 'United', 'industry', 'gives', 'renewing', 'Marathon', 'constitutional-law', 'newspaper-printing', 'sticky', 'Heating', 'gas', 'up', 'gambler', 'services', 'light', 'voice', 'compressed', 'areas', 'brokering', '38', 'into', 'task', '12.68', 'profit-taking', 'depends', 'Ranieri', 'process', 'somewhat', 'cadmium', 'rather', 'assurance', 'blue', 'size', 'induce', 'leaving', 'forces', 'unresolved', 'Kennedy', 'until', 'delivery', 'preference', 'waiting', 'partially', 'Above', 'however', 'magazine', 'larger-than-normal', 'ago', 'Random', 'Moreover', 'Finnish', 'affairs', 'reluctant', 'rapid', 'establish', 'unwanted', 'less', 'predicted', 'season', 'Nissan', 'explained', 'swap', 'appeared', 'graphics', 'After', '33', '5.63', 'exploration', 'post', 'applications', 'traded', 'expand', 'deterioration', 'Bank', 'normal', 'many', 'requirements', 'crop', 'Junk-bond', 'leading', 'Ports', 'extension', 'GenCorp', '2645.90', 'begins', 'neighboring', 'management', 'experienced', 'exposure', 'Pan', 'influencing', 'Am', 'inception', 'several', 'professors', 'issues', 'end', 'by', 'reduce', 'Alzheimer', 'HUD', 'decline', 'Depending', 'along', 'motion', 'climb', 'Neuberger', 'fault', 'Motor', 'contrast', 'Missouri', 'purchases', 'River', 'Warren', 'south', 'client', 'right', 'above', 'President', 'Concurrent', 'curtail', 'produce', '45-a-share', 'Peters', 'unusual', '13.8', 'period', 'community', 'bust', 'profit', 'employment', 'till', 'TXO', 'off', 'jointly', 'automotive', '7.5', '43-year-old', 'commercial', 'redistributing', 'hauling', 'Valley', 'crossing', 'this', 'angle', 'troubled', 'opponents', 'initial', 'three', 'fiscal', 'duties', 'complicated', 'equities', 'stockholders', 'creditor', 'program', 'Lehman', 'anticipates', 'includes', 'my', 'control', 'discharge', '270', 'while', 'German', 'authorizes', 'Southeast', '3436.58', 'release', 'SEC', 'sugar', 'cost-control', 'business', 'exceed', 'widespread', '98', 'bought', 'better', 'industrials', 'Eveready', 'Savin', 'Va.', 'contradict', 'All', 'market', 'Judah', 'treating', 'atmosphere', 'break', 'music', 'improvement', 'nomination', 'water', '30', 'pipes', '0.95', 'Tribe', 'securities', 'need', 'related', 'am', 'met', 'Constitution', 'trim', 'U.N.-supervised', 'posts', 'questions', 'death', 'Edelman', 'placed', 'greater', 'Arthur', 'yourself', 'delivered', 'liberal', 'presented', 'enthusiasm', 'alcohol', 'walk', 'nature', 'oust', 'edged', 'ABA', '3.18', 'Ed', 'dashed', 'obligations', 'Computer', 'reasons', 'says', 'largely', 'capitalized', 'refinery', 'R.', 'shipments', 'color', 'Uncertainty', 'Christian', 'side', 'positions', '19-month-old', 'Shearson', 'Capital', 'either', 'Brazil', 'names', 'Van', 'survey', 'selling', 'In', 'helped', 'liquidation', 'Old', '59.9', '47.6', 'Ohio-based', 'make', '1991', 'peaked', 'logistical', 'payments', 'command', 'long-term', 'boost', 'Miami-based', 'covers', 'asset', 'debenture', 'Loan', 'recombinant', 'plummeted', 'set', '13', 'platforms', 'difference', '170,262', 'deal', 'affiliate', '12.09', 'toy', 'goes', 'boosted', 'First', 'copper-rich', 'bills', 'followed', 'situation', 'inherent', 'fingers', 'phase-out', 'galvanized', 'maintained', 'Everything', 'guerrillas', 'core', 'difficult', 'belong', 'willing', 'emigres', 'defensive', 'withhold', 'Last', 'compromise', '226,570,380', 'declaring', 'for', 'shareholders', 'scoop', 'resigning', 'steep', 'meet', 'previous', 'enough', 'earn', 'purchasing', 'blood-cell', 'corporation', 'speculating', 'recovered', '57', 'Georgia-Pacific', 'crookery', 'natural', 'ports', 'Ltd.', 'additions', 'yield', 'COPPER', 'bids', 'combination', '185.9', 'four', 'developing', 'employee', 'Jones', 'steelmaker', 'mid-afternoon', 'attempted', 'cash-flow', '2.375', 'upper', 'competes', 'volume', 'pet', 'centralized', 'pages', 'midrange', 'maximize', 'eight', '42', 'scammers', 'of', 'weeks', 'staying', 'achieve', 'mines', 'proceeds', 'Earlier', 'dismissed', 'significantly', 'amortization', 'contacts', '40', 'inoperative', 'Seymour', '3.625', 'Attorney', 'bushel', 'partial', 'group', 'Avon', '2.7', 'computers', 'location', 'one-year', 'meetings', 'delay', 'Martin', 'eliminating', 'railroad', 'loan', 'trafficking', 'Bears', 'The', 'them', 'partnership', 'marketplace', 'lent', 'interference', 'her', 'born', 'under', 'Kurland', 'free', 'Embassy', '225,000', 'indication', 'wrote', 'implement', 'from', 'proceedings', 'Colorliner', 'maintain', 'EEOC', 'European', 'prompted', 'You', 'panel', 'concluded', 'anemic', 'leather', 'pipeline', \"O'Neill\", 'Mexico', 'session', 'Sony', 'Lewis', 'corporate', 'Greenville', 'Section', 'Companies', 'split', '1.916', 'Sales', 'sharp', 'designed', 'tender', 'June', 'Aerojet', 'ORTEGA', '11-month-old', 'interview', 'Henry', 'breaker', 'insane', 'increase', '19', 'possibility', 'favored', 'Haden', '116.7', 'Silver', 'Domestic', 'Puccio', 'average', 'Patch', '257', 'sudden', 'saying', 'improved', '27-year', 'portions', 'Berlin', 'Absorbed', 'squeeze', 'Kobe', 'retain', 'live', 'assistant', 'shut', 'Dunton', 'claimed', 'carry', 'harvest', '2.87', 'nation', '26,956', 'Property\\\\/casualty', 'response', 'newly', 'lost', 'insiders', 'submit', 'secede', 'making', 'plaintive', '132.9', 'West', 'protein-1', 'half', 'pressures', 'Korea', 'fairly', 'write-off', 'ounces', '34.625', 'NCR', 'shareholder-rights', 'Campbell', 'Freeport-McMoRan', 'revived', 'former', 'should', 'controlled', '13.65', '1.637', 'limit', 'time', '220.45', 'markkaa', 'entire', 'Plans', '65', 'roll', 'Trace', 'candidates', 'bankruptcy-law', 'metals', 'PLC', 'Volume', 'alert', 'years', 'Fe', '1.18', 'interest', 'available', 'partners', 'licenses', 'bonds', 'Runkel', 'clothes', 'Institute', 'Mutual', 'G.m.b', 'II', 'elsewhere', 'ended', 'telephone', 'bonus', 'seize', 'promotion', 'us', 'car', 'lot', '45.2', \"Dunkin'\", 'Asia', 'that', 'balloting', 'disagreement', 'insider', 'issue', 'minority', 'composite', 'holding', 'staff', 'businesses', '16.68', 'William', 'D.C.', 'August', 'Louisiana-Pacific', 'Oct.', 'Canada', 'gripping', 'eventually', 'Des', 'System', '377.60', 'portion', 'restrictions', 'in', 'whether', 'Soviets', '1975', 'bid', '400', 'prior', '387.8', 'cost-cutting', 'realestate', 'decliners', 'crime', 'Reuters', 'owned', 'around', 'troops', '5.8', 'approval', 'vs.', 'conclude', 'become', 'examined', 'Sternberg', 'condition', 'story', 'tenure', 'cost', 'terms', 'Inc', 'Cleveland', 'Purchasing', 'Hills', 'specialist', 'lawmaking', 'amounted', 'HHS', 'agreements', 'integrated', '89.9', 'told', '240', 'remains', 'have', 'international', 'Guinea', 'preferred', 'Lee', 'Western', 'We', 'mount', 'Previously', 'Energy', 'another', 'hub', 'crook', 'founder', 'sweaty', 'flat', 'headcount-control', 'produced', 'representing', 'very', 'riding', 'Heritage', 'Media', 'was', 'spot', 'bloc', 'moratorium', 'scheduled', 'auction', 'tabloid', 'gold', 'undelivered', 'Frankfurt', 'E.', 'Ferdinand', 'feasible', 'Kong', 'Minera', 'magnified', 'Hasbrouk', 'restructures', 'benefited', 'Surrey', 'quickly', 'attract', '1,100', 'again', 'groups', 'mindful', 'assembly', 'Oxnard', 'state', 'administrative', 'crises', 'Hong', 'completed', '50.1', 'Street', 'ignoring', 'subsidiary', 'realized', 'Under', 'new', 'However', 'attend', 'El', 'terrorists', 'push', 'at', 'integrity', 'fared', 'famous', 'Texas', 'how', 'Philip', 'naming', 'reassuring', 'bankruptcy', 'coming', 'had', 'margins', 'fast-growing', 'Equity', 'included', 'McMillin', 'thwart', 'Pretoria', 'modernization', 'exclusive', 'battered', 'convertible', 'coffee', 'gunship', 'Feb.', 'exceeded', 'allow', 'appears', 'no-confidence', '450', '47.1', 'computer-services', 'spread', '142.84', 'tubular', 'Bradford', 'techniques', 'Puerto', 'remained', 'took', 'ENDED', 'preclinical', 'guarantees', 'mobile', 'producers', '19.50', 'private', 'supply', 'latest', 'drug', 'Communications', 'meant', 'unconsolidated', '130', 'Peoria', 'discrimination', 'zinc', 'blue-chips', 'slide', 'exist', 'specializes', 'synthetic', 'strength', 'airline', 'A.', 'clearance', 'rose', 'bakery', 'pleased', 'crude', 'awarded', 'Columbia', 'Investment', 'Hostess', 'Beverly', '169.9', 'used', 'courts', 'planned', 'Securities', 'inadequate', 'marching', 'pediatrician', 'commerce', 'Waterloo', 'Thomas', 'repay', 'nine', '--', 'little', 'revival', '87-store', 'defense', 'second-largest', 'creation', '1.19', 'moderate', 'Riyadh', 'begin', 'clean-air', 'Japan', '2.35', 'signed', 'financially', 'ITC', '17', 'responsibilities', 'muted', 'subdued', 'protection', 'protests', 'amicable', 'confirm', 'we', '154,240,000', 'membership', 'lower', 'Waertsilae', 'acceptances', 'able', '143.80', 'commodity', 'psychology', 'closely', '5.82', 'Nichol', 'turnaround', 'Bougainville', 'functions', 'river', 'jump', 'future', 'extend', 'Group', 'averted', 'Transportation', 'possible', 'Fair', 'adviser', 'Cooper', 'seem', 'Groups', '7.63', 'entrusted', 'Journal', 'extremely', 'strain', '51.6', 'Dow', '32', 'activities', 'space', 'specialty', 'discussion', 'anti-abortionists', 'companies', 'least', 'Drexel', 'further', 'sensational', 'East', 'executives', 'firmly', 'hard', 'case', 'Krenz', 'taken', 'impending', 'without', 'memory', 'Papua-New', 'Gillett', 'He', 'drastic', 'defines', 'circuit', 'Beall', 'Sanford', 'National', 'example', 'same', 'eased', 'Stores', 'procedure', 'Atsushi', 'Icahn', 'dry', 'surviving', '40-megabyte', 'drain', '16.2', 'Houston', 'Party', 'divisions', 'Meridian', '10.2', 'maker', 'Corps', 'big', 'involving', 'abroad', 'Clarence', 'generally', '11.72', 'reduced', '300-a-share', 'scandal', 'At', 'benefits', 'supports', 'Of', 'Democrat', 'comment', 'WayMar', 'follow', '310', 'Beijing', 'claim', '43.875', 'additional', 'separation', 'down', 'nonrecurring', 'popular', 'Congress', 'product', 'resumption', 'skilled', 'portfolio', 'keep', 'observed', 'killing', 'ongoing', 'thrift', 'connection', 'cell', 'DiLoreto', 'mix', '630.9', 'Nicaraguan', 'Average', 'For', 'identified', 'himself', 'climbed', 'Wertheim', 'jumped', 'Barrett', '60.36', '12.82', 'technical', 'renewed', 'promoting', 'you', '60', 'near-limit', 'changing', 'truce', 'produces', 'Helsinki', '811.9', 'Comprehensive', 'tendering', 'measure', '77.6', '1.125', 'firmed', 'designation', 'Saints', 'firms', 'to', 'levels', 'Gordon', 'budding', 'fresh', 'base', 'shipyard', 'offered', 'Mass.', 'effort', 'Biaggi', 'wait', 'do', 'minister', 'plastic', 'ethanol', 'diversified', 'likely', 'craze', 'Indeed', 'Hurricane', 'Telerate', 'writing', 'boilers', 'Kansas', 'resulting', 'tells', 'lobbyists', '228', 'Disputada', 'retaining', 'University', 'Agriculture', 'reason', 'chairman', 'acute', 'Taiwan', 'internal', 'ends', 'planting', 'reflecting', 'Operations', 'chemicals', '108', 'analysts', 'poison', 'yesterday', 'salable', 'doubted', 'get', 'such', 'drifted', '126.15', '500,000', 'comparison', 'persistent', 'Some', '6.6', 'slump', 'gained', 'stood', 'reached', 'vote', 'saw', 'interesting', 'Pacific', 'conditional', 'farmers', 'aboard', 'Ratner', 'television', 'retirement', 'Customers', 'Continental', 'Steinberg', 'partner', 'software', 'financial', 'agreement', 'formed', 'Du', 'Dell', 'world', '126.1', '434.4', 'Biedermann', 'imports', 'strains', 'profitable', 'funding', 'Jonathan', 'caused', 'preface', 'September', 'modern', '96.4', 'reserved', '15', 'D.', 'EST', 'problems', 'Holt', '734.9', 'show', 'bill', 'ventures', 'bottlenecks', 'Sen.', 'compared', '3.8', 'waters', 'directorship', 'Sept.', 'rumored', 'assets', 'does', 'Georgia', 'materials', 'respectable', '48', 'percent', 'slow', 'Commission', 'include', 'economic', 'exchange', 'silver', 'capture', '1.14', 'Davis', 'Mercedes', 'begun', 'peddling', 'Jihad', 'views', 'futures', 'Intelogic', 'plagued', 'damages', 'Moslem', 'shovels', 'stable', 'exercised', 'on', 'Jr.', '19.94', 'attempt', 'psychiatric', 'SCI', 'Civil', 'professor', 'hits', 'Ganes', 'War', 'billion', 'vans', 'feed', '2.30', 'fit', 'peace', 'advocating', 'exercise', 'lack', 'policies', 'perhaps', 'Prudential-Bache', 'C.', 'traveled', 'daily', 'than', 'venture', 'semiliterate', 'befell', 'committed', 'strong', 'area', 'downturn', 'Novell', 'Midwest', 'closing', 'capital', '9.8', 'emerged', 'senior', '16.09', '11', 'Food', 'paying', 'fall', 'Value', 'Beirut', '20.07', 'aid', 'people', 'imposed', 'Revenue', 'resigned', 'so-called', 'grain', 'Central', 'reflected', 'brushed', 'plants', 'seven', 'instead', 'gyrations', 'cruise', 'July', 'Trailer', 'true', 'price', 'any', 'over-the-counter', 'An', '350', 'cross-border', 'merit', 'remarkable', 'consider', 'W.', 'conducting', 'kept', 'though', 'earthquake', 'Air', 'serving', 'State', 'takeover', 'Holdings', 'democratic', 'company', 'pharmaceutical', 'AND', 'he', 'Sandinista', 'Light', 'severe', 'dispute', 'Ms.', 'mixed', 'legislation', 'Bar', 'PaineWebber', 'ingenuity', 'agencies', 'relatively', 'And', 'satisfactorily', 'eight-person', 'Drew', '100', 'sizable', 'Arabian', 'budget', '85.7', 'loading', 'maintaining', 'assassinated', 'shares', 'industrial', 'cars', '3.2', 'Randolph', 'fizzled', 'Allied', 'sweater', 'Trinity', 'plant', 'currently', 'beheading', 'backlog', 'May', 'finally', 'rechargeable', 'totaled', 'through', '71', 'hearings', 'Marcus', 'own', 'stock', '2.2', '1.35', 'where', '198', 'she', 'independent', 'corn', 'suffer', 'France', 'Board', 'swift', 'would', 'Younkers', 'especially', 'Lurgi', 'doubled', 'filed', 'loss', 'across', 'Nomenklatura', 'awaits', 'called', 'constraints', 'resulted', 'floated', 'Irving', 'has', 'ca', 'accident', 'deplorable', 'five', 'stock-index', 'SOYBEANS', 'and', 'richer', 'trimming', 'apparently', 'simply', 'They', 'NetWare', 'which', 'numbers', 'heating', 'yet', 'revenue', '618.1', 'operate', 'chunks', 'growing', 'intent', 'Saudi', '237-seat', '22', 'defects', 'tight', 'paper', 'debt', 'economists', 'disorders', 'with', 'systems', 'rhetoric', 'director', 'lifes', 'Co', 'Chinese', 'Radio', '0.50', 'Business', 'Instead', 'advantage', 'principle', 'Traders', 'covered', 'deadline', 'certainly', '15.5', 'Iowa', 'unveiled', 'progress', 'emissions', 'heard', 'Because', '300', 'analyst', 'largest', 'finalized', 'Mannix', 'apparent', 'models', 'unless', '53', 'nothing', 'still', 'walkout', 'Its', 'UAL', 'Kalamazoo', 'equipment', 'America', 'Starting', 'competitors', 'presidents', 'massive', 'Germans', 'independence', 'Millis', 'prime', 'beyond', 'Composite', 'shipping', 'bank', 'auspices', 'Markets', 'drop', 'factors', 'banking', 'central', '37', 'minimum', 'calculate', 'patients', '2-3', 'via', 'boots', '0.28', 'real-estate', 'supported', 'accepted', 'nor', 'technology', 'trillion', 'packaging', 'San', 'marrow', 'policy', 'tete-a-tete', 'ward', 'pipe', 'grower', 'Spiegel', 'focus', 'bureaucracy', 'pretax', '61', 'ample', 'Futures', 'rebel', 'shopped', 'aerospace', 'breezy', 'absolutely', 'territory', 'trains', 'tendered', 'leveraged', 'second', 'drought', '6.50', 'warned', 'considers', 'wrestling', 'went', '132,000', 'Equus', 'bushels', 'diseases', 'follows', 'blighted', 'Committee', 'specialized', 'port', '-LCB-', 'Mariotta', 'managing', 'Gorbachev', 'metal', 'worked', 'normally', '80', 'public', '1\\\\/8', 'cutthroat', '1.8500', 'full', 'chain', 'game', 'association', 'permits', 'import', 'accord', 'Otherwise', 'cents', 'predicting', 'safety', 'automobile', 'Insurance', 'meaning', 'armed', 'N.C.', 'ceiling', 'letter', 'ban', 'dividends', '125', 'Disputado', 'Moines', 'Brazilian', 'career', 'pockets', 'restraints', 'almost', 'suspended', 'radio', 'an', 'buy-back', 'Rockwell', 'Mississippi', 'planning', 'beginning', 'two', 'anytime', 'ever', '40.21', 'ship', '31', 'lead', 'irrelevant', 'Lines', 'Genetics', 'injuring', 'Delaware', 'Islamic', 'peripheral', 'Brisk', 'Commerce', 'microprocessor', 'editor', 'Poland', 'boom', '30-day', 'so', '4.55', 'blow', 'spectrum', 'millions', 'Kingsbridge', 'it', 'violations', '576', 'proposals', 'formally', 'completely', 'arrested', 'receive', 'fortunes', 'posted', 'matter', 'spark', 'cover', 'prospects', 'gain', 'Lama', 'sewing-machine', 'Texaco', 'slightly', 'Pont', 'seeking', 'temporarily', 'Conn.', '39', '8.2', 'figures', 'GROWTH', 'retired', '8.1', 'most', 'Attwood', 'condemned', 'Ill.', 'exodus', 'throughout', 'remain', 'rated', 'one-third', 'Finland', 'Society', 'wo', 'staff-reduction', 'change', 'flows', 'necessary', '14.53', 'index', 'indicates', 'utility', 'races', 'whenever', 'ones', 'buy', 'McDonald', 'Lentjes', '50-50', 'device', 'roughly', 'notes', 'prior-year', '1\\\\/4', 'Upjohn', 'Intel', 'steelmakers', 'information', 'ECONOMIC', '326', 'displays', 'political', 'fully', 'president', 'common', 'there', 'neoprene', 'red', 'Angola', 'pall', 'life', 'rushed', 'Factory', '458', 'citing', 'leases', 'number', 'servicing', 'goods', 'try', 'different', 'dollar', 'Stamford', 'Gray', 'implementation', 'rejected', 'going', 'litigation', 'net', '1988', 'rate', 'surely', '3.04', 'Europe', 'suspect', 'cake', 'action', 'wake', 'rebuilding', 'wish', 'Limited', '7\\\\/8', 'Allergan', 'steps', 'eliminate', 'legal', '6,799', 'Bonds', 'pence', 'old', 'bring', '92', 'see', 'during', 'Haven', 'block', 'Chapman', 'vice', 'vowed', 'regions', 'Petroleum', 'Nigel', 'seafood', 'implicitly', 'represents', 'His', '92.9', 'basis', 'White', 'cane', 'contribute', 'loans', 'Parliament', 'organization', 'real', 'Pauline', '300-day', 'reserve', 'strategy', 'can', 'Imports', '2.15', 'overseas', '25', 'attempting', 'expire', 'Although', 'bankers', 'extending', 'completion', 'amid', 'avenge', 'processors', 'among', 'England', 'status', '64', 'act', 'Lynch', 'sparked', 'lawyers', 'Both', 'While', 'bearing', 'assume', 'yen', 'large', 'acquisition-minded', 'Law', 'food', 'talk', 'days', 'above-market', 'Warner', 'Toledo', 'St.', 'congressional', 'slowing', 'traders', 'parts', 'fourth', 'sides', 'financier', 'reaching', 'enters', '1988-89', 'worried', 'their', 'Why', 'sale', 'Wedtech', 'cuts', 'article', 'October', 'Midwestern', 'lacks', 'droughts', 'must', 'Eakle', 'fine', 'necks', 'December', 'departure', 'firmness', 'programs', 'Northern', '292.32', 'bad', 'shipbuilding', 'Right', 'Reasons', 'verge', 'Dollar', '14', 'facility', 'path', 'party', 'Corn', 'important', 'clearly', 'subscribe', '500-Stock', '2.5', '107.9', 'confused', 'insurgents', 'Many', 'AMR', 'Metallgesellschaft', 'jail', 'Trump', '55', 'warehouses', 'processing', 'operations', 'Producers', 'Separately', 'platinum', 'reimbursed', 'John', 'forecasts', 'Honduras', 'stemmed', 'conglomerate', 'joint', 'rubber', 'brunt', 'cash-and-stock', 'cold', 'could', 'issuer', 'Laurence', 'rulings', \"n't\", 'Excluding', 'Del.', 'development', '4.2', 'When', 'provides', 'recently', 'complaints', 'is', 'introduction', 'one-month', 'announced', 'politicians', 'Lyle', '967,809', '2,050-passenger', 'worth', 'Fourteen', 'General', 'feet', 'Edward', '19.6', 'huge', 'markets', 'Cambridge', 'point', 'state-appointed', '170', 'Cos.', 'Interleukin-3', 'volatility', 'several-year', 'upon', 'head', 'actually', 'namely', 'collapsed', 'vacancy', 'about', 'indefinitely', '800', 'Nekoosa', 'early', 'York-based', 'networking', 'increased', 'test', 'signals', 'revolves', 'stay', 'computer', '18-a-share', 'Orleans-based', '46', 'buyer', 'slowed', 'address', 'qualify', 'are', 'Chairman', 'growth', 'jeweler', 'relies', 'finished', 'markdowns', 'hope', 'great', 'reflect', 'Few', 'gloss', 'successor', \"'s\", 'way', '3.6', 'Bhutto', 'Demand', '24,000', 'health', 'treatment', 'per', 'Sino-U.S.', 'rigid', 'plenty', 'section', 'forest-products', 'soliciting', 'unsuccessful', 'members', '6.44', 'conspicuous', 'personal', 'life-of-contract', 'sympathetic', 'Great', 'licensed', 'required', 'unable', 'Proceeds', 'effective', 'Terms', 'were', 'represent', 'microprocessors', 'Karns', 'receiving', 'OSHA', 'hands', 'older', 'cent', 'compares', 'weigh', 'generous', 'substantially', 'branches', 'monitor', 'Derchin', 'trade', 'patent', '430', 'Michael', 'pay', 'bombers', 'soon', 'Shepperd', 'built', '750,000', 'clear', 'rang', '1987', 'boosts', 'Equal', 'board', 'orange', 'easier', 'high', 'dropped', '2,099', 'Big', '3.28', 'struggling', 'halts', 'rules', 'upset', 'wage', 'Television', 'Professors', 'Personal', 'Baking', '3\\\\/4', 'parent', 'employees', 'April', 'votes', 'Savings', 'toward', 'Associates', 'barge', '1.5', 'rights', '47', 'facing', 'crackdown', 'provoke', 'weapons-modernization', 'anticipated', 'School', '5,699', 'continuing', 'court', 'export', 'evidence', 'anything', 'Hubbell', 'face', 'family', 'been', 'both', 'consumers', '210', 'form', 'as', 'NYSE', 'equivalent', 'believe', 'If', '913', 'negotiations', 'falsify', 'acquire', 'customer', 'Bronces', 'S.', 'leveling', 'far', 'Earnings', 'Phelan', 'cut', 'points', 'near', 'Acquisition', 'third-largest', 'master', 'pushed', 'contracts', 'noncompetitively', 'Bill', 'bankrupt', 'particularly', '1.25', 'chips', 'bag', 'mature', 'Besides', 'Management', 'Commodities', 'account', \"'re\", 'demand', 'move', 'oriented', '75', 'Hugo', 'formation', 'negotiate', 'trip', 'consultants', 'Hospital', 'harvested', 'Cray', 'DNA', 'Hackensack', 'APPEARS', 'longtime', 'deficiencies', '3\\\\/8', 'Scott', '5\\\\/8', 'rough', 'weighed', 'Partners', 'Arbitrage-related', 'Net', 'reaction', 'dollars', 'distinct', 'Los', 'headquarters', '70.2', '18', 'violating', 'sought', 'research', '1983-85', 'Antonio', 'administration', 'pledged', 'surprised', 'may', 'described', 'devices', 'Precious', '275', '28', 'competing', '1.64', 'speculation', 'say', 'industrywide', 'Jimmy', 'spun', '2.1', 'give', 'line', 'World', 'dolls', 'rolled', '341.20', 'obligated', 'questioned', 'financing', 'cartilage', 'Any', 'reach', 'committee', '6.4', 'dozen', 'scuttle', 'impeding', 'experts', 'also', '0.0085', 'preliminary', 'Gunmen', 'Conn.based', 'profitability', 'Lyn', 'engineering', 'quantity', 'energy', 'type', 'cataract', 'Dingell', 'certain', 'him', '250', 'two-thirds', 'Chicago', 'threatened', 'primarily', 'did', 'flow', 'really', 'advances', 'marketing', 'deter', 'production', 'mandates', 'Nebraska', 'Johnson-era', 'houses', 'Soviet', 'kilobytes', 'megabytes', 'some', '721', 'bidders', 'unusually', 'veteran', 'Cara', 'assistance', 'Feeding', 'Fairlawn', 'tidbits', 'BMP', 'take', 'reports', 'recent', 'bribery', 'expendable', 'Rep.', 'Weisfield', 'shedding', 'person', 'accused', 'trees', 'emergency', 'changed', 'steel', '2.62', 'McFarlan', 'Hutton', 'grains', 'leader', 'round', 'note', 'constitutional', 'AG', 'quarters', 'approved', 'acquired', 'nominees', '6.9', 'Carnival', 'assuming', 'Ralston', 'Gulf', 'plugged', 'per-share', 'bilateral', 'total', 'made', 'spokesman', 'Champion', 'qualified', 'Level', 'workers', 'working', 'one-fifth', 'fell', 'higher', 'Employment', 'depleted', 'Lambert', '73', '260', '2.8', 'slated', 'rumors', 'bone', 'current', 'blood', 'pace', '5.1', 'Among', 'office', 'Plains', 'deputy', 'manager', 'owed', 'discovered', 'why', 'substantial', 'Phillips', 'tough', 'believed', 'redeemed', 'Holland', 'mulling', 'quarterly', 'Department', 'hand', 'worst', 'attitude', 'participants', 'level', 'windfall', 'products', '2.9', 'regulated', 'if', 'GRAINS', 'died', '1\\\\/2', 'position', 'responsibility', 'Italian', 'Commodity', 'themselves', 'text', '405', 'disclosed', 'earlier', '47.125', 'tomorrow', '12.5', '49', 'all', 'Corp.', 'name', '313', 'Mass', '95', 'switch', 'Robert', 'unfairly', 'national', 'later', 'feeds', 'Marty', 'Market', 'Railroad', 'Day', 'dividend', 'reported', 'strike', '0.56', 'proposal', 'conferees', 'last', 'often', 'protesters', 'rolling', 'expectations', 'buy-outs', 'listed', 'contract', 'Frenzy', 'holds', 'miners', 'our', 'next', 'all-cash', 'estimated', 'jurisdiction', '608,413', 'methods', 'relieve', '62.1', 'Cruise', 'totaling', 'attack', 'studio', 'Intermediate', 'Graduate', 'heavy-truck', 'major', '3.16', '0.82', 'officials', 'Guber\\\\/Peters', 'Wall', 'Advancing', 'granted', 'People', 'Rusty', 'fire', 'labor-management', 'PRECIOUS', 'reshaping', 'Harrison', 'cushion', 'Wallach', 'copper', 'highly', 'studies', 'Administration', 'part', 'found', 'Elders', 'suitors', 'Inc.', '23', 'Trade', 'Sandoz', '422.5', 'spokeswoman', 'determine', 'derived', 'Justice', 'Irwin', 'carbon', 'put', 'Dunkin', 'after-tax', '8.9', '2.47', 'question', 'consent', '35.2', 'exports', 'results', 'Harry', 'customized', 'Ferro', 'Association', 'using', 'urged', 'binge', '129.91', 'American', 'Africa', 'readings', 'Engineers', 'firm', 'week', 'Andean', 'soared', '4.4', 'appliance', 'reduction', 'usually', '45', '16', 'landowners', 'antitrust', 'believes', 'offensive', '1965', 'Crum', 'junk-bond', 'deliver', 'Donuts', 'construction', 'short-term', 'reorganized', 'disappointed', 'N.J.', 'Simmons', 'earnings', 'cutbacks', 'unchanged', 'London-based', 'Ratners', 'country', 'Hadson', 'not', 'sweetened', 'whose', 'view', 'secretary', 'Died', 'corruption', 'It', 'stake', 'City', 'shipped', 'accessories', 'launch-vehicle', 'fallen', 'shaky', 'despite', 'developer', 'lens', 'continue', 'CSV', '2.19', 'rulers', 'essentially', 'Sept.30', 'Schroder', 'asset-valuation', '13.1', 'Seattle-based', 'proteins', 'disk', 'Programs', 'cluster', 'investments', 'broken', 'Wednesday', 'investment', 'container', 'Reuter', 'importer', 'stimulating', 'concept', 'when', 'Neither', 'his', 'severance', 'savings', 'based', 'transaction', 'Communist', 'Year', 'Oklahoma', '361.8', 'drops', 'force', 'demobilize', 'Calif.', 'Stock', 'Meese', 'insurance', 'barrel', 'Harold', '148', 'principals', 'Subcontractors', 'METALS', 'grew', '6.53', '372.14', 'items', 'House', 'competitive', 'advanced', 'Nov.', 'Holding', 'Auditors', 'New', 'Forster', 'reality', 'gyrate', 'Senate', 'unspecified', 'Mellon', 'Lobsenz', 'McGovern', 'passed', 'hit', 'operation', 'fair', 'bounced', '177', 'tailor-made', 'settle', 'NL', 'first', 'patents', 'reorganization', 'widely', 'ignored', 'aggressive', 'recover', 'prepared', '1.49', 'strongest', 'surged', 'line-item', '3.375', 'out', 'sector', '28.36', 'travel', 'planted', 'numerous', 'high-rolling', 'final', 'Barge', 'bribing', 'tows', 'equal', 'Chapter', 'rating', 'authority', 'climbing', 'lifted', 'be', 'influenced', 'Ackerman', 'more-advanced', 'environmental', \"'80s\", 'each', 'supplies', '0.54', 'plans', 'literature', 'supercomputer', 'trend', 'Bronx', 'amount', 'stem', 'Malta', 'bomb', 'chance', 'fracture', 'optimism', 'local', 'restructurings', 'easy-to-read', 'Dorrance', 'units', '11.95', '14.43', 'reading', 'warrants', 'Yoshihashi', 'Army', '11.57', 'system', 'measures', 'Foundation', 'options', '1206.26', '1976', 'unitholders', 'publicly', 'multinational', 'quality', 'confirmed', 'weakness', 'South', 'things', '20', 'Contra', 'women', 'receipt', 'diluted', 'Similar', 'equity', '-RRB-', 'reckless', 'pressure', 'Purina', 'factor', 'processes', 'Atlantic', '2.3', 'Feniger', 'stick', '70.7', 'laying', 'Nixon', 'Gelles', 'autumn', '5.70', 'yet-to-be-formed', 'cast', 'Southern', 'Drug', 'became', 'Ordnance', 'Leon', 'rates', 'carried', 'distributes', 'B-1B', 'Oy', 'tax', 'precious', 'in-store', 'glitches', 'shared', '1990-91', 'operating', 'bomber', '3.75', 'Heights', 'subcontractor', 'conversion', 'transplants', 'termed', 'place', 'just', 'trial', 'payment', 'talks', 'bribed', 'version', 'running', 'Harvard', 'sell', 'goodwill', 'gains', 'Norfolk', 'Richard', 'Stevenson', 'Ortega', 'publishes', 'commitments', 'Financial', 'Adam', 'sweaters', 'Jon', '1.20', 'initiatives', '83,206', 'stronger', 'metric', 'difficulties', 'Care', 'Cincinnati', '1990', 'serve', 'wheat', '500', 'buys', 'Judith', 'vital', 'politically', 'printing-press', 'moves', 'trades', 'overhead', 'hopes', 'minimum-wage', 'earns', 'fixed-price', 'judgment', 'anti-dumping', 'bread', '1.26', 'U.S.', 'mood', 'Woolworth', 'Texas-based', 'Congressman', 'merely', 'fashioned', '5.2180', 'inquiry', '88.32', 'claims', 'responding', 'kill', 'Theodore', 'Patrick', '1.65', '3.20', 'subordinated', 'violation', 'prices', 'even', 'Airlines', 'Unitholders', 'voted', 'investigation', 'Prices', '14.75', 'over', 'official', 'because', 'Irvine', 'early-retirement', 'executive', 'pains', 'thrifts', 'network', 'jet', 'apparel', 'influence', 'bread-and-butter', 'continued', 'So', 'service', 'Fred', 'Paso', 'short', 'investigate', 'By', 'Reupke', 'Baltimore', '38.5', 'Index', 'loaded', 'movement', 'Chandler', '55.1', 'showing', 'transition', 'flights', 'contractor', '7.4', 'Coast', 'Union', 'concern', 'Moscow', 'succeed', '2.50', 'rain', 'Farmers', 'value', 'losses', 'attacks', 'shipyards', 'respect', 'offices', 'Wilmington', 'Peter', 'slipped', 'railcar', 'rumor', 'hamstrung', 'bulldozers', 'sense', 'few', 'Unicorp', 'simulates', 'flies', 'mitigate', 'settled', 'sees', 'million', 'adjustments', 'book', 'serious', 'coupled', 'Gas', 'charges', 'managers', 'presence', '58', 'arbitrage', 'wanted', '5.5', 'precedes', 'succeeding', 'organized', 'those', 'freedoms', 'pricing', 'Merrill', 'Mich.-based', 'None', 'fact', 'passenger-car', 'indicated', 'delays', 'discontinued', 'cease-fire', '24', 'outlays', 'designer', 'Guber', 'subpoenaed', 'friend', 'declines', 'Austin', 'automobiles', 'leaders', 'connected', 'closed', 'familiar', 'makers', 'J.', '1.8', 'economy', 'now', 'disposal', 'electronics', 'Stern', 'felt', 'suspects', 'scandals', 'investor', '1983', 'exploded', 'slaying', 'Industries', 'Co.', 'exporter', 'fluctuation', 'publishing', 'style', 'Islamabad', 'describes', 'small', 'first-half', 'launched', 'Products', 'Michigan', 'interim', 'otherwise', 'singled', 'Mercantile', 'trimmed', 'complete', 'extended', 'then', '-LRB-', 'prevent', '6.5', '59', 'Exxon-owned', 'Nofzinger', 'ounce', 'UBS', 'Treasury', 'operator', 'Mr.', 'Poor', '319.75', 'costs', 'but', 'seven-yen', '14.00', 'junk', 'Monday', 'unanticipated', 'remaining', 'special', 'direct', 'proving', 'train', '200', '93.3', 'revelations', 'Exchange', 'ultimate', 'once', '1981', 'year', 'Spaghetti', 'Rico', 'having', 'backdrop', 'history', 'Carl', 'government-owned', 'blamed', 'scrounge', 'decision', 'government', 'Oil', 'contributed', 'Cabbage', 'China', 'Pakistan', 'Bernstein', '87.5', 'win', 'shipboard', 'being', 'intention', 'January', 'November', 'Komatsu', '1989-90', 'utilities', 'settlement', '36-store', 'African', 'reaping', 'resignation', 'reaffirmed', 'seat', 'Kent', 'Per-share', 'trucks', 'International', '644', 'Reagan', '1.1', 'secured', 'fate', '1.17', 'indicator', 'withdrew', 'soft', 'create', 'Guerrilla', 'agents', 'owns', 'protein', 'shuttle', 'thieves', 'good', '175', 'permissible', 'term', 'marks', 'abuse', 'Navy', 'faltered', 'POP', 'estate', 'sentence', 'expensive', 'scams', 'shift', 'seek', 'pro-democracy', 'due', 'adopted', 'agreed', 'oil', 'Pictures', 'buying', 'Donald', 'There', 'Takeover', 'Other', 'Profit', 'leave', 'Washington', 'one', 'RMS', 'world-wide', 'uncertainty', 'scheme', 'survival', 'electronic', 'treat', 'regarded', 'disasters', 'apiece', 'root', 'involved', 'press', 'convert', '50', '99.3', '12', 'H.', '1985', '1.24', 'issued', 'target', 'rise', 'Most', 'northern', 'write', 'within', 'stations', 'they', '19.95', '286', '11,390,000', 'warning', 'character', 'ties', '58.64', 'contributing', '1980s', 'Judiciary', 'With', 'data', 'One', 'federal', 'softening', 'sputtered', 'summer', 'dramatic', 'wants', '84.9', 'pill', 'bench', 'best', '1.4', 'ex-dividend', 'Ohio', \"''\", 'planes', 'its', 'declined', '492', 'open', 'agricultural', '37.5', 'Transamerica', 'choosing', '42-year', 'Equitable', 'vacant', 'renovation', 'researchers', 'noted', 'distributed', 'rigged', 'order', 'implements', '598', 'spending', 'Numerous', 'barges', 'continuous', 'already', 'bulk', 'elections', 'answered', 'Note', 'Yesterday', 'Higher', 'Reed', 'building', 'ingredients', 'banker', 'Partnership', 'winner', 'paid', 'division', 'Symbol', 'USX', 'unrealized', 'corrupt', 'alleviate', 'inventories', 'financial-services', 'Crude', 'against', 'becomes', 'add', 'falling', 'high-minded', 'Marine', 'Orleans', 'hire', '227', 'record', 'scared', '158,666', 'package', 'these', 'power', 'Merc', 'stability', '54', '600', 'rally', 'authors', '9.9', '3.5', 'locked', 'trust', 'Paper', 'pursue', 'holdings', '14.54', 'According', 'Health', 'Dec.', 'hold', 'turned', 'No', 'quotas', 'retailing', 'producer', 'improving', 'bolstered', 'drawn', 'modestly', 'Two', 'restructure', 'forecast', 'conservative', 'particular', 'Lakes', 'who', 'stocks', 'occasionally', 'below', 'wealth', 'native', 'muscling', 'Island', 'day', 'earned', 'actual', 'Salinas', 'opposition', 'easy', '50\\\\/50', '0.99', 'pound', 'Bush', 'collar', 'Urban', 'came', 'transportation', 'penalty', 'natural-gas', 'Francisco', 'Carter', 'p.m.', 'department', 'promptly', 'injecting', 'cutting', 'structural', 'spent', 'On', 'began', 'majority', '494.50', 'spinoff', 'offsetting', 'Telegraph', 'But', 'falls', 'officer', 'workable', 'plan', 'arrive', 'buy-out', 'nickel', 'well', 'About', 'decade', 'Soldado', 'Americans', 'chosen', '847', 'This', 'other', 'defeated', '21,000', 'full-fledged', 'characteristics', 'omitted', 'associated', 'Industrial', 'added', 'showed', '93.9', 'appreciation', 'addition', 'Still', 'failed', 'assess', 'five-cent', 'benefit', 'Chilean', 'London', 'reporters', 'Common', '120-a-share', 'perform', 'procedural', 'professionals', 'ending', 'prove', 'useful', 'comes', 'nationalist', 'evil', 'banks', 'trail', 'outstanding', 'efforts', 'causing', 'fifth-largest', 'interested', 'file', 'Overall', 'unveil', '1989', 'expected', '4.7', 'Nuys', 'targeted', 'sold', '5.6', 'merchant', 'gather', 'tumbled', '27', 'reservoirs', 'sources', 'ENERGY', 'today', '1.55', 'replaced', 'stockpiles', 'Czechoslovakia', 'expects', 'report', 'fleet', 'started', 'rebuild', 'Namibian', 'Continued', 'sabotage', '512', 'Germany', 'exporters', 'Allendale', '180', 'affirmative', 'support', 'F.', 'Gasoline', 'cancers', 'withdrawal', 'co-author', 'nearly', 'might', 'coated', 'depositary', 'periodontal', 'impact', 'Angeles', 'Tuesday', 'ownership', 'facilities', 'adjustment', 'general', 'Charles', 'pro-Iranian', 'Meanwhile', 'York', 'Opportunity', 'surprise', 'according', 'brought', 'That', 'Muramatsu', 'offering', 'movie', 'colder', 'ancestry', 'mine', 'compositions', '1.1650', 'David', 'cited', 'Warehouse', 'bidder', 'bond', 'money', 'Also', 'garden-variety', 'think', 'bombs', 'third-quarter', 'unexpected', 'close', 'balloon', 'expansion', 'provide', 'waivers', 'Tower', 'formerly', 'Burnham', 'beautiful', 'appeals', 'home', 'intelligent', 'two-year', 'partly', 'segments', 'outbid', 'damaged', 'nations', 'rebels', 'manufacturing', 'street', 'turn', 'Pennsylvania', 'Santa', 'help', 'fetal-tissue', 'Standard', 'specify', 'positive', 'here', 'human', 'Exxon', '386', 'cosmetic', 'means', 'Estimated', 'suit', 'sidestep', 'fuel', 'FBI', 'limits', 'C-130', '176.1', 'manmade-fiber', 'forced', 'unsecured', '21', 'front', 'sales', 'strongly', '62', 'continues', 'Scotland', 'corn-buying', 'more', 'find', '85', '188.84', '200,000', 'past', 'INTER-TEL', 'what', 'profits', 'estimates', 'restructured', 'restructuring', '1.56', 'Britain', 'one-time', 'raised', 'Possibly', 'author', 'gave', 'Gerald', 'Entertainment', 'sank', '42.1', '55-a-share', 'Toronto', 'failing', 'Fed', 'veto', 'Mead', '12.97', 'bases', 'potential', 'Federal', 'Once', 'only', 'During', 'regulating', 'Lindner', 'elevators', 'earning', 'want', 'year-earlier', 'creditors', 'decisions', 'More', 'MacLellan', 'U.S.-backed', 'CIA', 'directors', 'adopt', '``', 'the', 'raises', 'storage', 'doling', 'Mario', 'campaign', 'weather', 'US$', 'Steel', 'including', '23.5', '80.50', 'Jacobs', 'winding', 'bribe', 'mostly', 'separate', 'expert', 'explore', '0.84', 'no', 'various', 'Stocks', 'clues', '645,000', '0.60', 'fourth-quarter', 'trading', 'know', 'lower-priced', 'blackjack', 'establishment', 'latter', 'Jerry', 'holders', 'eligible', 'Datapoint', 'markdown', '100-megabyte', 'capitalize', 'Matthew', 'eliminated', 'Lorain', 'buyers', 'appropriations', 'finance', 'confidant', 'socialism', '14.28', 'outlook', 'full-year', 'result', 'narrowed', 'regardless', 'Dallas', 'Fantasy', 'late', '12.7', 'suspension', 'after', 'direction', 'labor', 'favorable', 'unaffiliated', 'divided', 'weekly', 'come', 'months', 'statement', 'hurt', 'discussed', 'Indiana', 'reserves', 'sagged', 'California', 'house', 'sluggish', 'entity', 'increasing', 'Sometimes', 'scrutinizing', 'adverse', 'minority-owned', 'said', 'sheet', 'gasoline', 'Soup', '38.875', 'Chile', 'introduced', 'Buying', 'managed', 'underlying', 'participate', '2.75', 'Development', 'hampered', '7.3', 'law', 'ton', 'nervous', 'plunged', 'run', 'credit', 'offer', 'fans', 'commitment', '35', 'acid', 'shrank', 'itself', 'March', 'makes', 'much', 'battery', 'tightening', '51', '263.07', 'telecommunications', 'investors', 'acquisition', 'belonging', 'reader', 'delayed', 'reflects', 'distribution', 'operates', 'share', 'highs', 'domestic', '131.01', '10', 'machinery', 'Tony', 'sign', 'month', 'Trading', '57.50', 'Life', 'Germany-based', 'Namibia', 'moved', 'led', '3.55', 'detailed', 'Andersson', 'Aerospace', 'Thousands', 'onto', '41', '566.54', 'named', 'complained', 'high-yield', 'recession', 'Ranger', '-RCB-', 'course', 'Third', 'heavily', 'provision', '12.52', 'probably', 'activity', '1.76', '8.5', 'projects', 'previously', 'Bribe', 'valued', 'Train'}\n",
      "len: 3602\n"
     ]
    }
   ],
   "source": [
    "# OOV words\n",
    "existing_vocab_words = set(word_vocab.get_itos())\n",
    "\n",
    "val_oov_words = set(df_val['text']) - existing_vocab_words  # OOV words in validation set\n",
    "test_oov_words = set(df_test['text']) - existing_vocab_words  # OOV words in test set\n",
    "\n",
    "print(\"Out-of-vocabulary words in validation set:\", val_oov_words)\n",
    "print('len:', len(val_oov_words))\n",
    "print(\"Out-of-vocabulary words in test set:\", test_oov_words)\n",
    "print('len:', len(test_oov_words))"
   ]
  },
  {
   "cell_type": "code",
   "execution_count": 720,
   "metadata": {
    "ExecuteTime": {
     "end_time": "2023-11-14T17:40:05.757217300Z",
     "start_time": "2023-11-14T17:40:05.713156Z"
    }
   },
   "outputs": [],
   "source": [
    "# Static embeddings\n",
    "static_embeddings_val = {}\n",
    "static_embeddings_test = {}\n",
    "\n",
    "# Assign static embeddings to OOV words in the validation set\n",
    "for word in val_oov_words:\n",
    "    if word in embedder.stoi:  #For each word assign a static embedding\n",
    "        static_embeddings_val[word] = embedder[word]\n",
    "\n",
    "# Assign static embeddings to OOV words in the test set\n",
    "for word in test_oov_words:\n",
    "    if word in embedder.stoi:\n",
    "        static_embeddings_test[word] = embedder[word]\n"
   ]
  },
  {
   "cell_type": "code",
   "execution_count": 721,
   "metadata": {
    "ExecuteTime": {
     "end_time": "2023-11-14T17:40:05.757217300Z",
     "start_time": "2023-11-14T17:40:05.741590600Z"
    }
   },
   "outputs": [
    {
     "name": "stdout",
     "output_type": "stream",
     "text": [
      "Static embeddings for OOV words in the validation set:\n",
      "Word: authorities, Embedding: tensor([ 0.8391, -0.9735,  0.0234, -0.1850,  0.0184, -0.5754, -0.4064,  0.8554,\n",
      "         0.1494, -0.5117,  0.6171, -0.4182,  0.1502, -0.2079,  0.6957,  0.0634,\n",
      "        -0.3153, -0.5238,  0.1286,  0.0235,  0.3934,  0.5191,  0.1238,  0.1504,\n",
      "        -0.4713, -2.5485,  0.2704, -0.1089, -0.1735, -0.2373,  2.9339, -0.1805,\n",
      "        -0.9292, -1.1758,  0.0700,  0.3043,  0.2473, -0.5854, -0.0745,  0.6907,\n",
      "        -0.4885,  0.5325,  1.1832, -0.0712,  0.4329, -0.7524, -1.0586,  0.8434,\n",
      "         0.6690, -1.1813])\n",
      "Word: vehicles, Embedding: tensor([ 0.7598, -0.7656,  2.0944, -0.3748, -0.3495,  0.1849, -1.1152, -1.0155,\n",
      "         0.2449, -0.7160,  0.6036, -1.0472, -0.2830, -0.3622,  0.2996,  0.0435,\n",
      "        -0.3185,  1.4753, -0.4976, -2.1802,  0.5287, -0.3492, -0.7874, -0.0588,\n",
      "        -0.1199, -0.5924, -0.1937,  0.4254,  1.2132,  0.1945,  2.6633,  0.3081,\n",
      "        -0.1981, -0.2880,  1.1756,  0.6820,  0.4655, -0.3504, -1.0034,  0.8303,\n",
      "        -0.2051, -0.2458,  1.1062, -0.8197,  0.2646, -0.7338, -0.5329,  0.0351,\n",
      "         0.2513, -0.6016])\n",
      "Word: advertised, Embedding: tensor([ 0.1372, -0.1468,  0.0170, -0.3981, -0.4801, -0.1199, -0.9504, -0.8085,\n",
      "         0.2537,  0.5002, -0.1097, -0.0088,  0.4144, -0.3694,  0.6568,  0.2393,\n",
      "        -0.7216,  0.4348,  0.0688, -0.5479,  0.7252, -0.4864,  0.2476,  0.7192,\n",
      "        -0.3465, -0.4619, -0.6809,  0.3717,  0.4191, -0.0474,  0.9444,  0.3082,\n",
      "         0.2772, -0.1016,  0.0879, -0.1565,  0.4234,  0.6252, -1.0171, -0.4980,\n",
      "         0.6968, -0.1875, -0.1953,  0.6734, -0.0593, -0.3553, -0.4401,  0.2243,\n",
      "         0.3228,  0.6360])\n"
     ]
    }
   ],
   "source": [
    "num_oov_words_to_display = 3\n",
    "\n",
    "# print to check the validation set oov embeddings\n",
    "print(f\"Static embeddings for OOV words in the validation set:\")\n",
    "for i, (word, embedding) in enumerate(static_embeddings_val.items()):\n",
    "    if i < num_oov_words_to_display:\n",
    "        print(f\"Word: {word}, Embedding: {embedding}\")\n",
    "    else:\n",
    "        break\n",
    "\n"
   ]
  },
  {
   "cell_type": "code",
   "execution_count": 722,
   "metadata": {
    "ExecuteTime": {
     "end_time": "2023-11-14T17:40:05.799295Z",
     "start_time": "2023-11-14T17:40:05.757217300Z"
    }
   },
   "outputs": [
    {
     "name": "stdout",
     "output_type": "stream",
     "text": [
      "Static embeddings for OOV words in the test set:\n",
      "Word: newspapers, Embedding: tensor([-0.5160,  0.1002,  0.3813,  0.0117, -0.4833, -0.6482, -1.5710, -0.4006,\n",
      "        -0.2882, -0.3237, -0.7641, -0.3429,  0.2339,  0.0084,  0.5827, -0.5355,\n",
      "        -1.0689, -0.3693,  0.2158,  0.0684,  1.1848,  0.5830,  0.8454,  0.8553,\n",
      "        -0.0994, -1.5168, -1.0059,  0.1249, -0.3572,  0.1986,  2.4222, -0.1785,\n",
      "         0.5885, -0.3776, -1.2228, -0.2266, -0.3435, -0.4328, -0.7428,  0.2716,\n",
      "         1.2048,  0.5102,  0.1840,  0.4308,  0.0978,  0.4768, -1.5664,  0.9066,\n",
      "         0.1876, -0.5749])\n",
      "Word: sharply, Embedding: tensor([-3.4411e-01, -1.1243e+00,  5.6112e-01, -8.5382e-01, -8.2236e-02,\n",
      "         2.3612e-01, -1.7791e-01, -8.0127e-01, -2.5020e-01,  8.3882e-02,\n",
      "        -6.4719e-02, -7.8313e-01, -3.1500e-01, -2.9628e-01, -5.8452e-02,\n",
      "         6.0357e-01, -1.0127e+00, -1.3719e+00, -8.4500e-04, -6.6783e-01,\n",
      "         7.6387e-01, -2.0251e-01,  3.5552e-01, -8.9121e-01,  6.7238e-02,\n",
      "        -1.3530e+00,  6.9116e-01,  9.6288e-01, -9.3883e-02,  9.8214e-01,\n",
      "         2.6712e+00,  6.3687e-02,  1.3989e+00, -1.2075e-01, -2.4984e-01,\n",
      "        -1.5568e+00, -8.1034e-01,  1.2335e-01, -8.4016e-01, -5.7078e-02,\n",
      "        -1.0626e+00,  4.6615e-01,  6.9907e-01, -3.1006e-01,  1.3845e-01,\n",
      "        -4.0397e-01,  1.6281e-01,  4.8622e-01,  6.3764e-02, -3.2835e-01])\n",
      "Word: biggest, Embedding: tensor([ 0.1759,  0.0815,  0.4849,  1.1503,  0.3579,  0.0807, -0.5617,  0.1777,\n",
      "         0.7575,  0.8836, -0.0442, -0.5580, -0.5788,  0.2120,  0.6934, -0.3016,\n",
      "         0.5649,  0.3787, -0.7060, -0.2557,  0.6556, -0.9554, -1.1230,  0.0208,\n",
      "        -0.6232, -1.7187, -1.0469, -0.2126,  0.0420,  0.5326,  3.1583,  0.7209,\n",
      "         0.8814,  0.7053, -0.4331, -0.3598, -0.7364, -0.1698,  0.2612, -0.7010,\n",
      "        -0.6544,  0.1294, -0.1795, -0.0894,  0.3096,  0.3758, -0.6992,  0.6648,\n",
      "         0.2908, -0.3393])\n"
     ]
    }
   ],
   "source": [
    "# print to check the test set oov embeddings\n",
    "print(f\"Static embeddings for OOV words in the test set:\")\n",
    "for i, (word, embedding) in enumerate(static_embeddings_test.items()):\n",
    "    if i < num_oov_words_to_display:\n",
    "        print(f\"Word: {word}, Embedding: {embedding}\")\n",
    "    else:\n",
    "        break"
   ]
  },
  {
   "cell_type": "markdown",
   "metadata": {},
   "source": [
    "## TASK 5: Training and Evaluation\n",
    "\n",
    "* Train **all** models on the train set.\n",
    "* Evaluate **all** models on the validation set.\n",
    "* Compute metrics on the validation set.\n",
    "* Pick **at least** three seeds for robust estimation.\n",
    "* Pick the **best** performing model according to the observed validation set performance."
   ]
  },
  {
   "cell_type": "markdown",
   "metadata": {},
   "source": [
    "## TASK 6: Error analysis\n",
    "\n",
    "* Compare the errors made on the validation and test sets.\n",
    "* Aggregate model errors into categories (if possible) \n",
    "* Comment about errors and propose possible solutions on how to address them."
   ]
  },
  {
   "cell_type": "markdown",
   "metadata": {},
   "source": [
    "# TODO: REPORT"
   ]
  },
  {
   "cell_type": "markdown",
   "metadata": {},
   "source": []
  }
 ],
 "metadata": {
  "kernelspec": {
   "display_name": "Python 3",
   "language": "python",
   "name": "python3"
  },
  "language_info": {
   "codemirror_mode": {
    "name": "ipython",
    "version": 3
   },
   "file_extension": ".py",
   "mimetype": "text/x-python",
   "name": "python",
   "nbconvert_exporter": "python",
   "pygments_lexer": "ipython3",
   "version": "3.11.0"
  }
 },
 "nbformat": 4,
 "nbformat_minor": 2
}
