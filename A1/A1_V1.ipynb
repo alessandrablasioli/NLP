{
 "cells": [
  {
   "cell_type": "markdown",
   "metadata": {},
   "source": [
    "# Assignment 1 - Part of Speech Tagging"
   ]
  },
  {
   "cell_type": "markdown",
   "metadata": {},
   "source": [
    "## Dependencies"
   ]
  },
  {
   "cell_type": "code",
   "execution_count": 134,
   "metadata": {
    "ExecuteTime": {
     "end_time": "2023-11-09T16:59:18.076094800Z",
     "start_time": "2023-11-09T16:59:17.947185400Z"
    }
   },
   "outputs": [],
   "source": [
    "# !pip install lightning\n",
    "# !pip install torchtext.data\n",
    "# !pip install torchtext\n",
    "# !pip install torch"
   ]
  },
  {
   "cell_type": "code",
   "execution_count": 135,
   "metadata": {
    "ExecuteTime": {
     "end_time": "2023-11-09T16:59:18.169028500Z",
     "start_time": "2023-11-09T16:59:17.965207700Z"
    }
   },
   "outputs": [],
   "source": [
    "# TODO: remove unused dependencies\n",
    "\n",
    "# file management\n",
    "import sys\n",
    "import shutil\n",
    "import urllib\n",
    "import tarfile\n",
    "from pathlib import Path\n",
    "import zipfile\n",
    "import os\n",
    "\n",
    "# DL framework\n",
    "from torchmetrics import Accuracy, F1Score\n",
    "from lightning.pytorch.loggers import TensorBoardLogger\n",
    "\n",
    "# dataframe management\n",
    "import pandas as pd\n",
    "\n",
    "# data manipulation\n",
    "import numpy as np\n",
    "\n",
    "# for readability\n",
    "from typing import Iterable\n",
    "from tqdm import tqdm"
   ]
  },
  {
   "cell_type": "markdown",
   "metadata": {},
   "source": [
    "#### Download the corpus"
   ]
  },
  {
   "cell_type": "code",
   "execution_count": 136,
   "metadata": {
    "ExecuteTime": {
     "end_time": "2023-11-09T16:59:18.195072700Z",
     "start_time": "2023-11-09T16:59:17.982153600Z"
    }
   },
   "outputs": [],
   "source": [
    "class DownloadProgressBar(tqdm):\n",
    "    def update_to(self, b=1, bsize=1, tsize=None):\n",
    "        if tsize is not None:\n",
    "            self.total = tsize\n",
    "        self.update(b * bsize - self.n)\n",
    "\n",
    "\n",
    "def download_url(download_path: Path, url: str):\n",
    "    with DownloadProgressBar(unit='B', unit_scale=True,\n",
    "                             miniters=1, desc=url.split('/')[-1]) as t:\n",
    "        urllib.request.urlretrieve(url, filename=download_path, reporthook=t.update_to)\n",
    "\n",
    "\n",
    "def download_dataset(download_path: Path, url: str):\n",
    "    print(\"Downloading dataset...\")\n",
    "    download_url(url=url, download_path=download_path)\n",
    "    print(\"Download complete!\")\n",
    "\n",
    "\n",
    "def extract_dataset(download_path: Path, extract_path: Path):\n",
    "    print(\"Extracting dataset... (it may take a while...)\")\n",
    "    with zipfile.ZipFile(download_path, 'r') as zip_file:\n",
    "        zip_file.extractall(extract_path)\n",
    "\n",
    "    print(\"Extraction completed!\")\n",
    "\n",
    "    Path.unlink(download_path)\n",
    "    print(\"Deleted .zip dataset file\")"
   ]
  },
  {
   "cell_type": "code",
   "execution_count": 137,
   "metadata": {
    "ExecuteTime": {
     "end_time": "2023-11-09T16:59:18.226137700Z",
     "start_time": "2023-11-09T16:59:17.995489700Z"
    }
   },
   "outputs": [
    {
     "name": "stdout",
     "output_type": "stream",
     "text": [
      "Current work directory: c:\\Users\\Acer\\Dropbox\\PC\\Desktop\\NLP_project\\A1\n"
     ]
    }
   ],
   "source": [
    "url = \"https://raw.githubusercontent.com/nltk/nltk_data/gh-pages/packages/corpora/dependency_treebank.zip\"\n",
    "dataset_name = \"dependency_treebank\"\n",
    "\n",
    "print(f\"Current work directory: {Path.cwd()}\")\n",
    "\n",
    "dataset_folder = Path.cwd().joinpath(\"Datasets\")\n",
    "\n",
    "if not dataset_folder.exists():\n",
    "    dataset_folder.mkdir(parents=True)\n",
    "\n",
    "dataset_zip_path = dataset_folder.joinpath(\"dependency_treebank.zip\")\n",
    "dataset_path = dataset_folder.joinpath(dataset_name)\n",
    "\n",
    "if not dataset_zip_path.exists():\n",
    "    download_dataset(dataset_zip_path, url)\n",
    "\n",
    "if not dataset_path.exists():\n",
    "    extract_dataset(dataset_zip_path, dataset_folder)\n"
   ]
  },
  {
   "cell_type": "markdown",
   "metadata": {},
   "source": [
    "#### Encode the corpus into a pandas.DataFrame object and split it into train, validation and test sets"
   ]
  },
  {
   "cell_type": "markdown",
   "metadata": {},
   "source": [
    "The corpus contains 200 documents.\n",
    "\n",
    "   * **Train**: Documents 1-100\n",
    "   * **Validation**: Documents 101-150\n",
    "   * **Test**: Documents 151-199"
   ]
  },
  {
   "cell_type": "code",
   "execution_count": 138,
   "metadata": {
    "ExecuteTime": {
     "end_time": "2023-11-09T16:59:18.286549900Z",
     "start_time": "2023-11-09T16:59:18.026011Z"
    }
   },
   "outputs": [],
   "source": [
    "dataframe_rows = []  # list for DataFrame rows\n",
    "id = 0\n",
    "\n",
    "for i, file_path in enumerate(sorted(dataset_path.iterdir())):\n",
    "    if file_path.is_file():  # split corpus documents in the tree categories: train, validation, tests\n",
    "        if 1 <= i + 1 <= 100:\n",
    "            split = 'train'\n",
    "        elif 101 <= i + 1 <= 150:\n",
    "            split = 'validation'\n",
    "        else:\n",
    "            split = 'test'\n",
    "\n",
    "        with file_path.open(mode='r', encoding='utf-8') as text_file:  # read corpus lines\n",
    "            lines = text_file.readlines()\n",
    "\n",
    "        for line in lines:\n",
    "            fields = line.strip().split('\\t')\n",
    "            if len(fields) == 1:\n",
    "                id = id + 1\n",
    "            if len(fields) >= 2:\n",
    "                text = fields[0]  # store the first field as 'text'\n",
    "                POS = fields[1]  # store the second field as 'POS'\n",
    "                dataframe_row = {  #build DataFrame rows\n",
    "                    \"text\": text,\n",
    "                    \"POS\": POS,\n",
    "                    \"split\": split,\n",
    "                    \"id\": id\n",
    "                }\n",
    "\n",
    "                dataframe_rows.append(dataframe_row)  #append rows\n",
    "# corpus DataFrame\n",
    "corpus_df = pd.DataFrame(dataframe_rows)"
   ]
  },
  {
   "cell_type": "markdown",
   "metadata": {
    "collapsed": false
   },
   "source": [
    "## TASK 1: Corpus\n",
    "\n",
    "* **Download** the corpus.\n",
    "* **Encode** the corpus into a pandas.DataFrame object.\n",
    "* **Split** it in training, validation, and test sets."
   ]
  },
  {
   "cell_type": "markdown",
   "metadata": {},
   "source": [
    "#### Data inspection"
   ]
  },
  {
   "cell_type": "code",
   "execution_count": 139,
   "metadata": {
    "ExecuteTime": {
     "end_time": "2023-11-09T16:59:18.324585Z",
     "start_time": "2023-11-09T16:59:18.186567400Z"
    }
   },
   "outputs": [
    {
     "data": {
      "text/html": [
       "<div>\n",
       "<style scoped>\n",
       "    .dataframe tbody tr th:only-of-type {\n",
       "        vertical-align: middle;\n",
       "    }\n",
       "\n",
       "    .dataframe tbody tr th {\n",
       "        vertical-align: top;\n",
       "    }\n",
       "\n",
       "    .dataframe thead th {\n",
       "        text-align: right;\n",
       "    }\n",
       "</style>\n",
       "<table border=\"1\" class=\"dataframe\">\n",
       "  <thead>\n",
       "    <tr style=\"text-align: right;\">\n",
       "      <th></th>\n",
       "      <th>text</th>\n",
       "      <th>POS</th>\n",
       "      <th>split</th>\n",
       "      <th>id</th>\n",
       "    </tr>\n",
       "  </thead>\n",
       "  <tbody>\n",
       "    <tr>\n",
       "      <th>0</th>\n",
       "      <td>Pierre</td>\n",
       "      <td>NNP</td>\n",
       "      <td>train</td>\n",
       "      <td>0</td>\n",
       "    </tr>\n",
       "    <tr>\n",
       "      <th>1</th>\n",
       "      <td>Vinken</td>\n",
       "      <td>NNP</td>\n",
       "      <td>train</td>\n",
       "      <td>0</td>\n",
       "    </tr>\n",
       "    <tr>\n",
       "      <th>2</th>\n",
       "      <td>,</td>\n",
       "      <td>,</td>\n",
       "      <td>train</td>\n",
       "      <td>0</td>\n",
       "    </tr>\n",
       "    <tr>\n",
       "      <th>3</th>\n",
       "      <td>61</td>\n",
       "      <td>CD</td>\n",
       "      <td>train</td>\n",
       "      <td>0</td>\n",
       "    </tr>\n",
       "    <tr>\n",
       "      <th>4</th>\n",
       "      <td>years</td>\n",
       "      <td>NNS</td>\n",
       "      <td>train</td>\n",
       "      <td>0</td>\n",
       "    </tr>\n",
       "    <tr>\n",
       "      <th>5</th>\n",
       "      <td>old</td>\n",
       "      <td>JJ</td>\n",
       "      <td>train</td>\n",
       "      <td>0</td>\n",
       "    </tr>\n",
       "    <tr>\n",
       "      <th>6</th>\n",
       "      <td>,</td>\n",
       "      <td>,</td>\n",
       "      <td>train</td>\n",
       "      <td>0</td>\n",
       "    </tr>\n",
       "    <tr>\n",
       "      <th>7</th>\n",
       "      <td>will</td>\n",
       "      <td>MD</td>\n",
       "      <td>train</td>\n",
       "      <td>0</td>\n",
       "    </tr>\n",
       "    <tr>\n",
       "      <th>8</th>\n",
       "      <td>join</td>\n",
       "      <td>VB</td>\n",
       "      <td>train</td>\n",
       "      <td>0</td>\n",
       "    </tr>\n",
       "    <tr>\n",
       "      <th>9</th>\n",
       "      <td>the</td>\n",
       "      <td>DT</td>\n",
       "      <td>train</td>\n",
       "      <td>0</td>\n",
       "    </tr>\n",
       "  </tbody>\n",
       "</table>\n",
       "</div>"
      ],
      "text/plain": [
       "     text  POS  split  id\n",
       "0  Pierre  NNP  train   0\n",
       "1  Vinken  NNP  train   0\n",
       "2       ,    ,  train   0\n",
       "3      61   CD  train   0\n",
       "4   years  NNS  train   0\n",
       "5     old   JJ  train   0\n",
       "6       ,    ,  train   0\n",
       "7    will   MD  train   0\n",
       "8    join   VB  train   0\n",
       "9     the   DT  train   0"
      ]
     },
     "execution_count": 139,
     "metadata": {},
     "output_type": "execute_result"
    }
   ],
   "source": [
    "corpus_df.head(10)"
   ]
  },
  {
   "cell_type": "code",
   "execution_count": 140,
   "metadata": {
    "ExecuteTime": {
     "end_time": "2023-11-09T16:59:18.325584700Z",
     "start_time": "2023-11-09T16:59:18.202073300Z"
    }
   },
   "outputs": [],
   "source": [
    "# Train, test, validation split\n",
    "df_train = corpus_df[corpus_df['split'] == 'train'].drop(columns=['split'])\n",
    "df_test = corpus_df[corpus_df['split'] == 'test'].drop(columns=['split'])\n",
    "df_val = corpus_df[corpus_df['split'] == 'validation'].drop(columns=['split'])"
   ]
  },
  {
   "cell_type": "code",
   "execution_count": 141,
   "metadata": {
    "ExecuteTime": {
     "end_time": "2023-11-09T16:59:18.325584700Z",
     "start_time": "2023-11-09T16:59:18.231137700Z"
    }
   },
   "outputs": [
    {
     "name": "stdout",
     "output_type": "stream",
     "text": [
      "Dataframe structure:\n",
      "          text  POS  split    id\n",
      "0       Pierre  NNP  train     0\n",
      "1       Vinken  NNP  train     0\n",
      "2            ,    ,  train     0\n",
      "3           61   CD  train     0\n",
      "4        years  NNS  train     0\n",
      "...        ...  ...    ...   ...\n",
      "94079  quarter   NN   test  3715\n",
      "94080       of   IN   test  3715\n",
      "94081     next   JJ   test  3715\n",
      "94082     year   NN   test  3715\n",
      "94083        .    .   test  3715\n",
      "\n",
      "[94084 rows x 4 columns]\n",
      "\n",
      "Total rows 94084\n",
      "\n"
     ]
    }
   ],
   "source": [
    "print(\"Dataframe structure:\")\n",
    "print(corpus_df)\n",
    "print()\n",
    "\n",
    "print(\"Total rows %d\" % (len(corpus_df)))\n",
    "print()"
   ]
  },
  {
   "cell_type": "markdown",
   "metadata": {},
   "source": [
    "## TASK 2: Text encoding\n",
    "\n",
    "* Embed words using **GloVe embeddings**.\n",
    "* TODO: see if we want to do it, otherwise remove it -> [Optional] You are free to experiment with text pre-processing: **make sure you do not delete any token!**"
   ]
  },
  {
   "cell_type": "markdown",
   "metadata": {},
   "source": [
    "### Embed words unsing GloVe embeddings"
   ]
  },
  {
   "cell_type": "code",
   "execution_count": 142,
   "metadata": {
    "ExecuteTime": {
     "end_time": "2023-11-09T16:59:18.325584700Z",
     "start_time": "2023-11-09T16:59:18.246498400Z"
    }
   },
   "outputs": [],
   "source": [
    "from torchtext.vocab import GloVe, build_vocab_from_iterator\n",
    "\n",
    "import torch\n",
    "from torch import nn\n",
    "from torch.utils.data import Dataset\n",
    "from torch.utils.data import DataLoader\n",
    "\n",
    "import pytorch_lightning as pl\n",
    "from lightning.pytorch import loggers as pl_logger"
   ]
  },
  {
   "cell_type": "code",
   "execution_count": 143,
   "metadata": {
    "ExecuteTime": {
     "end_time": "2023-11-09T16:59:18.343604800Z",
     "start_time": "2023-11-09T16:59:18.278033300Z"
    }
   },
   "outputs": [],
   "source": [
    "def load_embedding_model(embedding_dimension: int = 300):\n",
    "    emb_model = GloVe(name=\"6B\", dim=embedding_dimension)\n",
    "    return emb_model"
   ]
  },
  {
   "cell_type": "code",
   "execution_count": 144,
   "metadata": {
    "ExecuteTime": {
     "end_time": "2023-11-09T16:59:18.385646300Z",
     "start_time": "2023-11-09T16:59:18.295058600Z"
    }
   },
   "outputs": [],
   "source": [
    "iterator = ([text] for text in corpus_df[\"POS\"].unique())\n",
    "vocab = build_vocab_from_iterator(iterator)\n",
    "#print(len(vocab))\n",
    "\n",
    "class CorpusDataset(Dataset):\n",
    "    def __init__(self, dataframe: pd.DataFrame, embedder):\n",
    "        min_id = dataframe['id'].min()\n",
    "        dataframe['id'] = dataframe['id'] - min_id\n",
    "        self.dataframe = dataframe.groupby(\"id\")\n",
    "        self.embedder = embedder\n",
    "\n",
    "    def __len__(self):\n",
    "        return len(self.dataframe)\n",
    "\n",
    "    def __getitem__(self, idx):\n",
    "        sentence = self.dataframe.get_group(idx)\n",
    "        text = sentence['text'].to_list()\n",
    "        POS = sentence['POS'].to_list()\n",
    "\n",
    "        POS = torch.Tensor([vocab[token] for token in POS])\n",
    "\n",
    "        POS_one_hot = torch.nn.functional.one_hot(POS.to(torch.int64), num_classes=len(vocab))\n",
    "        # TODO: remove\n",
    "        embedded_text = self.embedder.get_vecs_by_tokens(text)\n",
    "\n",
    "        return embedded_text, POS_one_hot\n"
   ]
  },
  {
   "cell_type": "code",
   "execution_count": 145,
   "metadata": {},
   "outputs": [],
   "source": [
    "#vocab.get_itos()"
   ]
  },
  {
   "cell_type": "code",
   "execution_count": 146,
   "metadata": {
    "ExecuteTime": {
     "end_time": "2023-11-09T16:59:18.577858600Z",
     "start_time": "2023-11-09T16:59:18.342600400Z"
    }
   },
   "outputs": [],
   "source": [
    "# Definition of the dataset\n",
    "EMBEDDING_DIM = 50\n",
    "embedder = load_embedding_model(EMBEDDING_DIM)\n",
    "dataset_train = CorpusDataset(df_train, embedder)\n",
    "dataset_test = CorpusDataset(df_test, embedder)\n",
    "dataset_val = CorpusDataset(df_val, embedder)\n",
    "dataset_all = CorpusDataset(corpus_df, embedder)\n",
    "\n",
    "\n",
    "# TODO - test if it works in the LSTM training\n",
    "def my_collate(batch):\n",
    "    sequences, labels = zip(*batch)\n",
    "\n",
    "    # max_len = max([len(seq) for seq in sequences])\n",
    "    # sequences_padded = [seq + [\"<PAD>\"] * (max_len - len(seq)) for seq in sequences]\n",
    "\n",
    "    sequences_padded = torch.nn.utils.rnn.pad_sequence(sequences, batch_first=True, padding_value=0)\n",
    "    labels_padded = torch.nn.utils.rnn.pad_sequence(labels, batch_first=True, padding_value=0)\n",
    "    \n",
    "    sequences_padded = sequences_padded.type(torch.float)\n",
    "    labels_padded = labels_padded.type(torch.float)\n",
    "\n",
    "    return [sequences_padded, labels_padded]\n",
    "\n",
    "\n",
    "train_loader = DataLoader(dataset_train, batch_size=32, collate_fn=my_collate)\n",
    "val_loader = DataLoader(dataset_val, batch_size=32, collate_fn=my_collate)\n",
    "test_loader = DataLoader(dataset_test, batch_size=32, collate_fn=my_collate)"
   ]
  },
  {
   "cell_type": "markdown",
   "metadata": {},
   "source": []
  },
  {
   "cell_type": "markdown",
   "metadata": {},
   "source": [
    "## TASK 3: Model definition\n",
    "\n",
    "* **Baseline**: implement a Bidirectional LSTM with a Dense layer on top.\n",
    "\n",
    "* **Model 1**: add an additional LSTM layer to the Baseline model.\n",
    "* **Model 2**: add an additional Dense layer to the Baseline model."
   ]
  },
  {
   "cell_type": "markdown",
   "metadata": {},
   "source": [
    "### Baseline model: Bidirectional LSTM + Dense layer"
   ]
  },
  {
   "cell_type": "code",
   "execution_count": 147,
   "metadata": {
    "ExecuteTime": {
     "end_time": "2023-11-09T16:59:18.594562900Z",
     "start_time": "2023-11-09T16:59:18.578860600Z"
    },
    "collapsed": false
   },
   "outputs": [],
   "source": [
    "from torchmetrics import Metric\n",
    "from torchmetrics import ConfusionMatrix\n",
    "\n",
    "\n",
    "class F1ScoreCustom(Metric):\n",
    "    def __init__(self, num_classes: int):\n",
    "        super().__init__()\n",
    "\n",
    "        self.num_classes = num_classes\n",
    "        self.add_state(\"true_positive\", default=torch.zeros([num_classes]), dist_reduce_fx=\"sum\")\n",
    "        self.add_state(\"false_negative\", default=torch.zeros([num_classes]), dist_reduce_fx=\"sum\")\n",
    "        self.add_state(\"false_positive\", default=torch.zeros([num_classes]), dist_reduce_fx=\"sum\")\n",
    "    \n",
    "    def update(self, y_hat_class: torch.Tensor, y_class: torch.Tensor):\n",
    "        confusion_matrix_metric = ConfusionMatrix(num_classes=self.num_classes, task=\"multiclass\")\n",
    "        confusion_matrix = confusion_matrix_metric(y_hat_class, y_class)\n",
    "        \n",
    "        # # Confusion matrix, TP, FN and FP for class 0 \n",
    "        # #   TRUE LABEL\n",
    "        # #   0               TP     FN    FN     FN      FN        \n",
    "        # #   1               FP       \n",
    "        # #   2               FP               \n",
    "        # #   3               FP                       \n",
    "        # #   4               FP                                \n",
    "        # # PREDICTED LABEL   0       1      2       3       4\n",
    "        # \n",
    "\n",
    "        true_positive = torch.Tensor([confusion_matrix[i][i] for i in range(self.num_classes)])\n",
    "        false_negative = torch.Tensor([sum(confusion_matrix[i, :]) - true_positive[i] for i in range(self.num_classes)])\n",
    "        false_positive = torch.Tensor([sum(confusion_matrix[:, i]) - true_positive[i] for i in range(self.num_classes)])\n",
    "\n",
    "        self.true_positive += true_positive\n",
    "        self.false_negative += false_negative\n",
    "        self.false_positive += false_positive\n",
    "\n",
    "    def compute(self):\n",
    "        precision = self.true_positive / (self.true_positive + self.false_positive)\n",
    "        recall = self.true_positive / (self.true_positive + self.false_negative)\n",
    "\n",
    "        f1 = 2 * (precision * recall) / (precision + recall)\n",
    "\n",
    "        \n",
    "        \n",
    "        return f1\n",
    "\n"
   ]
  },
  {
   "cell_type": "code",
   "execution_count": 148,
   "metadata": {
    "ExecuteTime": {
     "end_time": "2023-11-09T16:59:18.614205400Z",
     "start_time": "2023-11-09T16:59:18.599567200Z"
    }
   },
   "outputs": [],
   "source": [
    "class BiLSTMModel(pl.LightningModule):\n",
    "    def __init__(self, input_dim, hidden_dim, output_dim):  #, embedder):\n",
    "        super(BiLSTMModel, self).__init__()\n",
    "        self.output_dim = output_dim\n",
    "\n",
    "        # self.embedder = embedder\n",
    "        # self.embedding_layer = nn.Embedding.from_pretrained(embedder.vectors)\n",
    "\n",
    "        self.lstm = nn.LSTM(input_size=input_dim,\n",
    "                            hidden_size=hidden_dim,\n",
    "                            batch_first=True,\n",
    "                            bidirectional=True)\n",
    "        self.fc = nn.Linear(hidden_dim * 2, output_dim)  # Multiplied by 2 due to the bidirectionality\n",
    "\n",
    "        self._f1_metric = F1ScoreCustom(num_classes=output_dim)\n",
    "        \n",
    "\n",
    "    def forward(self, x):\n",
    "        # embedding = self.embedding_layer(x)\n",
    "        lstm_out, _ = self.lstm(x)\n",
    "        # lstm_out (batch_size, seq_length, hidden_size * 2)\n",
    "        out = self.fc(lstm_out)\n",
    "        # out (batch_size, seq_length, output_dim)\n",
    "        return out\n",
    "\n",
    "    def training_step(self, batch, batch_idx):\n",
    "        x, y = batch\n",
    "        y_hat = self(x)\n",
    "\n",
    "        # Change shape from (batchsize, sequence_len, classes) to be (batchsize, classes, sequence_len) to compute loss function\n",
    "        # TODO: Edo: should we normalize the loss by sequence_len?? Otherwise longer phrases influence the loss more\n",
    "        y = torch.movedim(y, 1, 2)\n",
    "        y_hat = torch.movedim(y_hat, 1, 2)\n",
    "        loss = nn.functional.cross_entropy(y_hat, y)\n",
    "\n",
    "        # TODO - check if it is a legit way to compute F1\n",
    "        # Arg max over the second dimension (classes) to get the class        \n",
    "        y_class = torch.argmax(y, dim=1)\n",
    "        y_hat_class = torch.argmax(y_hat, dim=1)\n",
    "        f1 = F1Score(task=\"multiclass\", num_classes=self.output_dim, average='macro')\n",
    "        \n",
    "        f1_score = f1(y_hat_class, y_class)\n",
    "\n",
    "        self.log_dict({'train_f1': f1_score, 'step': self.current_epoch}, on_epoch=True, prog_bar=True, logger=True,\n",
    "                      on_step=False, reduce_fx=\"mean\")\n",
    "        self.log_dict({'train_loss': loss, 'step': self.current_epoch}, on_epoch=True, prog_bar=True, logger=True,\n",
    "                      on_step=False, reduce_fx=\"mean\")\n",
    "        return loss\n",
    "\n",
    "    def validation_step(self, batch, batch_idx):\n",
    "        x, y = batch\n",
    "        y_hat = self(x)\n",
    "        y = torch.movedim(y, 1, 2)\n",
    "        y_hat = torch.movedim(y_hat, 1, 2)\n",
    "        loss = nn.functional.cross_entropy(y_hat, y)\n",
    "        self.log_dict({'val_loss': loss, 'step': self.current_epoch}, on_epoch=True, prog_bar=True, logger=True,\n",
    "                      reduce_fx=\"mean\")\n",
    "\n",
    "        y_class = torch.argmax(y, dim=1)\n",
    "        y_hat_class = torch.argmax(y_hat, dim=1)\n",
    "\n",
    "        self._f1_metric.update(y_hat_class, y_class)\n",
    "\n",
    "        return loss\n",
    "\n",
    "    def test_step(self, batch, batch_idx):\n",
    "        x, y = batch\n",
    "        y_hat = self(x)\n",
    "        y = torch.movedim(y, 1, 2)\n",
    "        y_hat = torch.movedim(y_hat, 1, 2)\n",
    "        loss = nn.functional.cross_entropy(y_hat, y)\n",
    "\n",
    "        self.log_dict({'test_loss': loss, 'step': self.current_epoch}, on_epoch=True, prog_bar=True, logger=True,\n",
    "                      reduce_fx=\"mean\")\n",
    "        return loss\n",
    "\n",
    "    def configure_optimizers(self):\n",
    "        optimizer = torch.optim.Adam(self.parameters(), lr=1e-3)\n",
    "        return optimizer\n",
    "    \n",
    "    def on_validation_epoch_end(self) -> None:\n",
    "        mean_f1_score = self._f1_metric.compute()\n",
    "                # Create a mask that is False for NaNs\n",
    "        mask = torch.isnan(mean_f1_score)\n",
    "        \n",
    "        # Invert the mask: True for valid entries, False for NaNs\n",
    "        valid_data = mean_f1_score[~mask]\n",
    "        \n",
    "        # Compute the mean of the non-NaN values\n",
    "        mean_value = torch.mean(valid_data)\n",
    "        \n",
    "        self.log(\"val_f1\", mean_value, on_epoch=True, prog_bar=True, logger=True)\n",
    "        \n",
    "        self._f1_metric.reset()\n"
   ]
  },
  {
   "cell_type": "code",
   "execution_count": 149,
   "metadata": {
    "ExecuteTime": {
     "end_time": "2023-11-09T16:59:18.623279900Z",
     "start_time": "2023-11-09T16:59:18.606075900Z"
    }
   },
   "outputs": [],
   "source": [
    "baseline_version = 1"
   ]
  },
  {
   "cell_type": "code",
   "execution_count": 150,
   "metadata": {
    "ExecuteTime": {
     "end_time": "2023-11-09T17:04:31.312504200Z",
     "start_time": "2023-11-09T17:02:36.627264500Z"
    },
    "collapsed": false
   },
   "outputs": [
    {
     "name": "stderr",
     "output_type": "stream",
     "text": [
      "GPU available: False, used: False\n",
      "TPU available: False, using: 0 TPU cores\n",
      "IPU available: False, using: 0 IPUs\n",
      "HPU available: False, using: 0 HPUs\n",
      "c:\\Users\\Acer\\AppData\\Local\\Programs\\Python\\Python311\\Lib\\site-packages\\pytorch_lightning\\callbacks\\model_checkpoint.py:630: Checkpoint directory logs\\lightning_logs\\version_1\\checkpoints exists and is not empty.\n",
      "\n",
      "  | Name       | Type          | Params\n",
      "---------------------------------------------\n",
      "0 | lstm       | LSTM          | 17.9 K\n",
      "1 | fc         | Linear        | 2.6 K \n",
      "2 | _f1_metric | F1ScoreCustom | 0     \n",
      "---------------------------------------------\n",
      "20.5 K    Trainable params\n",
      "0         Non-trainable params\n",
      "20.5 K    Total params\n",
      "0.082     Total estimated model params size (MB)\n"
     ]
    },
    {
     "name": "stdout",
     "output_type": "stream",
     "text": [
      "                                                                           "
     ]
    },
    {
     "name": "stderr",
     "output_type": "stream",
     "text": [
      "c:\\Users\\Acer\\AppData\\Local\\Programs\\Python\\Python311\\Lib\\site-packages\\pytorch_lightning\\trainer\\connectors\\data_connector.py:441: The 'val_dataloader' does not have many workers which may be a bottleneck. Consider increasing the value of the `num_workers` argument` to `num_workers=15` in the `DataLoader` to improve performance.\n",
      "c:\\Users\\Acer\\AppData\\Local\\Programs\\Python\\Python311\\Lib\\site-packages\\pytorch_lightning\\trainer\\connectors\\data_connector.py:441: The 'train_dataloader' does not have many workers which may be a bottleneck. Consider increasing the value of the `num_workers` argument` to `num_workers=15` in the `DataLoader` to improve performance.\n"
     ]
    },
    {
     "name": "stdout",
     "output_type": "stream",
     "text": [
      "Epoch 0:   2%|▏         | 1/59 [00:00<00:02, 24.95it/s, v_num=1]"
     ]
    },
    {
     "name": "stdout",
     "output_type": "stream",
     "text": [
      "Epoch 39: 100%|██████████| 59/59 [00:02<00:00, 24.16it/s, v_num=1, val_loss=0.260, step=39.00, val_f1=0.755, train_f1=0.724, train_loss=0.204] "
     ]
    },
    {
     "name": "stderr",
     "output_type": "stream",
     "text": [
      "`Trainer.fit` stopped: `max_epochs=40` reached.\n"
     ]
    },
    {
     "name": "stdout",
     "output_type": "stream",
     "text": [
      "Epoch 39: 100%|██████████| 59/59 [00:02<00:00, 24.10it/s, v_num=1, val_loss=0.260, step=39.00, val_f1=0.755, train_f1=0.724, train_loss=0.204]\n"
     ]
    }
   ],
   "source": [
    "output_dim = len(df_train[\"POS\"].unique())\n",
    "input_dim = EMBEDDING_DIM\n",
    "hidden_dim = 28\n",
    "max_epochs = 40\n",
    "\n",
    "save_dir = \"logs\"\n",
    "load_model = False\n",
    "train_model = True\n",
    "model_ckpt = \"baseline.ckpt\"\n",
    "\n",
    "PATH = os.path.join(save_dir, \"lightning_logs\", \"version_\" + str(baseline_version), \"checkpoints\", model_ckpt)\n",
    "\n",
    "if load_model:\n",
    "    model = BiLSTMModel.load_from_checkpoint(PATH, input_dim=input_dim, hidden_dim=hidden_dim,\n",
    "                                             output_dim=output_dim)  #, embedder=embedder)\n",
    "else:\n",
    "    model = BiLSTMModel(input_dim=input_dim, hidden_dim=hidden_dim, output_dim=output_dim)  #, embedder=embedder)\n",
    "\n",
    "if train_model:\n",
    "    tb_logger = TensorBoardLogger(version=baseline_version, save_dir='logs')\n",
    "    trainer = pl.Trainer(max_epochs=max_epochs, logger=tb_logger, default_root_dir='./', log_every_n_steps=1)\n",
    "    trainer.fit(model, train_loader, val_loader)\n",
    "    trainer.save_checkpoint(PATH)\n",
    "    baseline_version += 1\n"
   ]
  },
  {
   "cell_type": "code",
   "execution_count": 151,
   "metadata": {
    "ExecuteTime": {
     "end_time": "2023-11-09T16:59:47.637961Z",
     "start_time": "2023-11-09T16:59:47.232551200Z"
    }
   },
   "outputs": [
    {
     "name": "stderr",
     "output_type": "stream",
     "text": [
      "c:\\Users\\Acer\\AppData\\Local\\Programs\\Python\\Python311\\Lib\\site-packages\\pytorch_lightning\\trainer\\connectors\\data_connector.py:441: The 'test_dataloader' does not have many workers which may be a bottleneck. Consider increasing the value of the `num_workers` argument` to `num_workers=15` in the `DataLoader` to improve performance.\n"
     ]
    },
    {
     "name": "stdout",
     "output_type": "stream",
     "text": [
      "Testing DataLoader 0: 100%|██████████| 19/19 [00:00<00:00, 80.19it/s]\n",
      "────────────────────────────────────────────────────────────────────────────────────────────────────────────────────────\n",
      "       Test metric             DataLoader 0\n",
      "────────────────────────────────────────────────────────────────────────────────────────────────────────────────────────\n",
      "          step                     40.0\n",
      "        test_loss           0.22528697550296783\n",
      "────────────────────────────────────────────────────────────────────────────────────────────────────────────────────────\n"
     ]
    },
    {
     "data": {
      "text/plain": [
       "[{'test_loss': 0.22528697550296783, 'step': 40.0}]"
      ]
     },
     "execution_count": 151,
     "metadata": {},
     "output_type": "execute_result"
    }
   ],
   "source": [
    "# test the model\n",
    "trainer.test(model, dataloaders=test_loader)"
   ]
  },
  {
   "cell_type": "code",
   "execution_count": 152,
   "metadata": {
    "ExecuteTime": {
     "end_time": "2023-11-09T16:59:47.684077600Z",
     "start_time": "2023-11-09T16:59:47.638958300Z"
    },
    "collapsed": false
   },
   "outputs": [
    {
     "data": {
      "text/plain": [
       "Reusing TensorBoard on port 6006 (pid 12716), started 1 day, 0:41:45 ago. (Use '!kill 12716' to kill it.)"
      ]
     },
     "metadata": {},
     "output_type": "display_data"
    },
    {
     "data": {
      "text/html": [
       "\n",
       "      <iframe id=\"tensorboard-frame-b52155080052ad1d\" width=\"100%\" height=\"800\" frameborder=\"0\">\n",
       "      </iframe>\n",
       "      <script>\n",
       "        (function() {\n",
       "          const frame = document.getElementById(\"tensorboard-frame-b52155080052ad1d\");\n",
       "          const url = new URL(\"http://localhost\");\n",
       "          const port = 6006;\n",
       "          if (port) {\n",
       "            url.port = port;\n",
       "          }\n",
       "          frame.src = url;\n",
       "        })();\n",
       "      </script>\n",
       "    "
      ],
      "text/plain": [
       "<IPython.core.display.HTML object>"
      ]
     },
     "metadata": {},
     "output_type": "display_data"
    }
   ],
   "source": [
    "%tensorboard --logdir logs"
   ]
  },
  {
   "cell_type": "markdown",
   "metadata": {},
   "source": [
    "### Model 1: Bidirectional 2-layers LSTM + Dense layer"
   ]
  },
  {
   "cell_type": "code",
   "execution_count": 153,
   "metadata": {
    "ExecuteTime": {
     "start_time": "2023-11-09T16:59:58.907965200Z"
    }
   },
   "outputs": [],
   "source": [
    "class Model1(pl.LightningModule):\n",
    "    def __init__(self, input_dim, hidden_dim, output_dim):\n",
    "        super(Model1, self).__init__()\n",
    "        self.output_dim = output_dim\n",
    "        self.lstm = nn.LSTM(input_size=input_dim,\n",
    "                            hidden_size=hidden_dim,\n",
    "                            num_layers=2,\n",
    "                            batch_first=True,\n",
    "                            bidirectional=True)\n",
    "\n",
    "        self.fc = nn.Linear(hidden_dim * 2, output_dim)  # Multiplied by 2 due to bidirectionality\n",
    "\n",
    "    def forward(self, x):\n",
    "        lstm_out, _ = self.lstm(x)\n",
    "        # lstm_out (batch_size, seq_length, hidden_size * 2)\n",
    "        out = self.fc(lstm_out)\n",
    "        # out (batch_size, seq_length, output_dim)\n",
    "        return out\n",
    "\n",
    "    def training_step(self, batch, batch_idx):\n",
    "        x, y = batch\n",
    "        y_hat = self(x)\n",
    "\n",
    "        # Change shape to be (batchsize, classes, sequence_len) to compute loss function\n",
    "        # TODO: Edo: should we normalize the loss by sequence_len?? Otherwise longer phrases influence the loss more\n",
    "        y = torch.movedim(y, 1, 2)\n",
    "        y_hat = torch.movedim(y_hat, 1, 2)\n",
    "        loss = nn.functional.cross_entropy(y_hat, y)\n",
    "\n",
    "        # TODO - check if it is a legit way to compute F1\n",
    "        # Arg max over the second dimension (classes) to get the class        \n",
    "        y_class = torch.argmax(y, dim=1)\n",
    "        y_hat_class = torch.argmax(y_hat, dim=1)\n",
    "        f1 = F1Score(task=\"multiclass\", num_classes=self.output_dim)\n",
    "        f1_score = f1(y_hat_class, y_class)\n",
    "\n",
    "        self.log_dict({'train_f1': f1_score, 'step': self.current_epoch}, on_epoch=True, prog_bar=True, logger=True,\n",
    "                      on_step=False)\n",
    "        self.log_dict({'train_loss': loss, 'step': self.current_epoch}, on_epoch=True, prog_bar=True, logger=True,\n",
    "                      on_step=False)\n",
    "        return loss\n",
    "\n",
    "    def validation_step(self, batch, batch_idx):\n",
    "        x, y = batch\n",
    "        y_hat = self(x)\n",
    "        y = torch.movedim(y, 1, 2)\n",
    "        y_hat = torch.movedim(y_hat, 1, 2)\n",
    "        loss = nn.functional.cross_entropy(y_hat, y)\n",
    "        self.log_dict({'val_loss': loss, 'step': self.current_epoch}, on_epoch=True, prog_bar=True, logger=True)\n",
    "        return loss\n",
    "\n",
    "    def test_step(self, batch, batch_idx):\n",
    "        x, y = batch\n",
    "        y_hat = self(x)\n",
    "        y = torch.movedim(y, 1, 2)\n",
    "        y_hat = torch.movedim(y_hat, 1, 2)\n",
    "        loss = nn.functional.cross_entropy(y_hat, y)\n",
    "\n",
    "        self.log_dict({'test_loss': loss, 'step': self.current_epoch}, on_epoch=True, prog_bar=True, logger=True)\n",
    "        return loss\n",
    "\n",
    "    def configure_optimizers(self):\n",
    "        optimizer = torch.optim.Adam(self.parameters(), lr=1e-3)\n",
    "        return optimizer"
   ]
  },
  {
   "cell_type": "code",
   "execution_count": 154,
   "metadata": {
    "ExecuteTime": {
     "start_time": "2023-11-09T16:59:58.912483100Z"
    }
   },
   "outputs": [],
   "source": [
    "model1_version = 1"
   ]
  },
  {
   "cell_type": "code",
   "execution_count": 155,
   "metadata": {
    "ExecuteTime": {
     "start_time": "2023-11-09T16:59:58.913490300Z"
    },
    "collapsed": false
   },
   "outputs": [
    {
     "name": "stderr",
     "output_type": "stream",
     "text": [
      "GPU available: False, used: False\n",
      "TPU available: False, using: 0 TPU cores\n",
      "IPU available: False, using: 0 IPUs\n",
      "HPU available: False, using: 0 HPUs\n",
      "c:\\Users\\Acer\\AppData\\Local\\Programs\\Python\\Python311\\Lib\\site-packages\\pytorch_lightning\\callbacks\\model_checkpoint.py:630: Checkpoint directory logs\\lightning_logs\\version_1\\checkpoints exists and is not empty.\n",
      "\n",
      "  | Name | Type   | Params\n",
      "--------------------------------\n",
      "0 | lstm | LSTM   | 37.2 K\n",
      "1 | fc   | Linear | 2.6 K \n",
      "--------------------------------\n",
      "39.7 K    Trainable params\n",
      "0         Non-trainable params\n",
      "39.7 K    Total params\n",
      "0.159     Total estimated model params size (MB)\n"
     ]
    },
    {
     "name": "stdout",
     "output_type": "stream",
     "text": [
      "                                                                            "
     ]
    },
    {
     "name": "stderr",
     "output_type": "stream",
     "text": [
      "c:\\Users\\Acer\\AppData\\Local\\Programs\\Python\\Python311\\Lib\\site-packages\\pytorch_lightning\\trainer\\connectors\\data_connector.py:441: The 'val_dataloader' does not have many workers which may be a bottleneck. Consider increasing the value of the `num_workers` argument` to `num_workers=15` in the `DataLoader` to improve performance.\n",
      "c:\\Users\\Acer\\AppData\\Local\\Programs\\Python\\Python311\\Lib\\site-packages\\pytorch_lightning\\trainer\\connectors\\data_connector.py:441: The 'train_dataloader' does not have many workers which may be a bottleneck. Consider increasing the value of the `num_workers` argument` to `num_workers=15` in the `DataLoader` to improve performance.\n"
     ]
    },
    {
     "name": "stdout",
     "output_type": "stream",
     "text": [
      "Epoch 0:   0%|          | 0/59 [00:00<?, ?it/s] "
     ]
    },
    {
     "name": "stdout",
     "output_type": "stream",
     "text": [
      "Epoch 9: 100%|██████████| 59/59 [00:01<00:00, 31.92it/s, v_num=1, val_loss=0.453, step=9.000, train_f1=0.334, train_loss=0.440] "
     ]
    },
    {
     "name": "stderr",
     "output_type": "stream",
     "text": [
      "`Trainer.fit` stopped: `max_epochs=10` reached.\n"
     ]
    },
    {
     "name": "stdout",
     "output_type": "stream",
     "text": [
      "Epoch 9: 100%|██████████| 59/59 [00:01<00:00, 31.82it/s, v_num=1, val_loss=0.453, step=9.000, train_f1=0.334, train_loss=0.440]\n"
     ]
    }
   ],
   "source": [
    "output_dim = len(df_train[\"POS\"].unique())\n",
    "input_dim = EMBEDDING_DIM\n",
    "hidden_dim = 28\n",
    "max_epochs = 10\n",
    "\n",
    "save_dir = \"logs\"\n",
    "load_model = False\n",
    "train_model = True\n",
    "model_ckpt = \"model1.ckpt\"\n",
    "\n",
    "PATH = os.path.join(save_dir, \"lightning_logs\", \"version_\" + str(model1_version), \"checkpoints\", model_ckpt)\n",
    "\n",
    "if load_model:\n",
    "    model_1 = Model1.load_from_checkpoint(PATH, input_dim=input_dim, hidden_dim=hidden_dim, output_dim=output_dim)\n",
    "else:\n",
    "    model_1 = Model1(input_dim=input_dim, hidden_dim=hidden_dim, output_dim=output_dim)\n",
    "\n",
    "if train_model:\n",
    "    tb_logger = TensorBoardLogger(version=model1_version, save_dir='logs')\n",
    "    trainer = pl.Trainer(max_epochs=max_epochs, logger=tb_logger, default_root_dir='./', log_every_n_steps=1)\n",
    "    trainer.fit(model_1, train_loader, val_loader)\n",
    "    trainer.save_checkpoint(PATH)\n",
    "    model1_version += 1\n"
   ]
  },
  {
   "cell_type": "code",
   "execution_count": 156,
   "metadata": {
    "ExecuteTime": {
     "start_time": "2023-11-09T16:59:58.915527Z"
    },
    "collapsed": false
   },
   "outputs": [
    {
     "name": "stderr",
     "output_type": "stream",
     "text": [
      "c:\\Users\\Acer\\AppData\\Local\\Programs\\Python\\Python311\\Lib\\site-packages\\pytorch_lightning\\trainer\\connectors\\data_connector.py:441: The 'test_dataloader' does not have many workers which may be a bottleneck. Consider increasing the value of the `num_workers` argument` to `num_workers=15` in the `DataLoader` to improve performance.\n"
     ]
    },
    {
     "name": "stdout",
     "output_type": "stream",
     "text": [
      "Testing DataLoader 0: 100%|██████████| 19/19 [00:00<00:00, 74.78it/s]\n",
      "────────────────────────────────────────────────────────────────────────────────────────────────────────────────────────\n",
      "       Test metric             DataLoader 0\n",
      "────────────────────────────────────────────────────────────────────────────────────────────────────────────────────────\n",
      "          step                     10.0\n",
      "        test_loss           0.4093477725982666\n",
      "────────────────────────────────────────────────────────────────────────────────────────────────────────────────────────\n"
     ]
    },
    {
     "data": {
      "text/plain": [
       "[{'test_loss': 0.4093477725982666, 'step': 10.0}]"
      ]
     },
     "execution_count": 156,
     "metadata": {},
     "output_type": "execute_result"
    }
   ],
   "source": [
    "trainer.test(model_1, dataloaders=test_loader)"
   ]
  },
  {
   "cell_type": "markdown",
   "metadata": {},
   "source": [
    "### Model 2: Bidirectional LSTM + 2 Dense layers"
   ]
  },
  {
   "cell_type": "code",
   "execution_count": 157,
   "metadata": {
    "ExecuteTime": {
     "start_time": "2023-11-09T16:59:58.918041600Z"
    },
    "collapsed": false
   },
   "outputs": [],
   "source": [
    "class Model2(pl.LightningModule):\n",
    "    def __init__(self, input_dim, hidden_dim, output_dim, fc_size):\n",
    "        super(Model2, self).__init__()\n",
    "        self.output_dim = output_dim\n",
    "        self.lstm = nn.LSTM(input_size=input_dim,\n",
    "                            hidden_size=hidden_dim,\n",
    "                            batch_first=True,\n",
    "                            bidirectional=True)\n",
    "\n",
    "        self.fc_1 = nn.Linear(hidden_dim * 2, fc_size)  # Multiplied by 2 due to bidirectionality\n",
    "        self.fc_2 = nn.Linear(fc_size, output_dim)\n",
    "\n",
    "    def forward(self, x):\n",
    "        lstm_out, _ = self.lstm(x)\n",
    "        # lstm_out (batch_size, seq_length, hidden_size * 2)\n",
    "\n",
    "        out_1 = self.fc_1(lstm_out)  # (batch_size, seq_length, fc_size)\n",
    "        out = self.fc_2(out_1)  # (batch_size, seq_length, output_dim)\n",
    "        return out\n",
    "\n",
    "    def training_step(self, batch, batch_idx):\n",
    "        x, y = batch\n",
    "        y_hat = self(x)\n",
    "\n",
    "        # Change shape to be (batchsize, classes, sequence_len) to compute loss function\n",
    "        # TODO: Edo: should we normalize the loss by sequence_len?? Otherwise longer phrases influence the loss more\n",
    "        y = torch.movedim(y, 1, 2)\n",
    "        y_hat = torch.movedim(y_hat, 1, 2)\n",
    "        loss = nn.functional.cross_entropy(y_hat, y)\n",
    "\n",
    "        # TODO - check if it is a legit way to compute F1\n",
    "        # Arg max over the second dimension (classes) to get the class        \n",
    "        y_class = torch.argmax(y, dim=1)\n",
    "        y_hat_class = torch.argmax(y_hat, dim=1)\n",
    "        f1 = F1Score(task=\"multiclass\", num_classes=self.output_dim)\n",
    "        f1_score = f1(y_hat_class, y_class)\n",
    "\n",
    "        self.log_dict({'train_f1': f1_score, 'step': self.current_epoch}, on_epoch=True, prog_bar=True, logger=True,\n",
    "                      on_step=False)\n",
    "        self.log_dict({'train_loss': loss, 'step': self.current_epoch}, on_epoch=True, prog_bar=True, logger=True,\n",
    "                      on_step=False)\n",
    "        return loss\n",
    "\n",
    "    def validation_step(self, batch, batch_idx):\n",
    "        x, y = batch\n",
    "        y_hat = self(x)\n",
    "        y = torch.movedim(y, 1, 2)\n",
    "        y_hat = torch.movedim(y_hat, 1, 2)\n",
    "        loss = nn.functional.cross_entropy(y_hat, y)\n",
    "        self.log_dict({'val_loss': loss, 'step': self.current_epoch}, on_epoch=True, prog_bar=True, logger=True)\n",
    "        return loss\n",
    "\n",
    "    def test_step(self, batch, batch_idx):\n",
    "        x, y = batch\n",
    "        y_hat = self(x)\n",
    "        y = torch.movedim(y, 1, 2)\n",
    "        y_hat = torch.movedim(y_hat, 1, 2)\n",
    "        loss = nn.functional.cross_entropy(y_hat, y)\n",
    "\n",
    "        self.log_dict({'test_loss': loss, 'step': self.current_epoch}, on_epoch=True, prog_bar=True, logger=True)\n",
    "        return loss\n",
    "\n",
    "    def configure_optimizers(self):\n",
    "        optimizer = torch.optim.Adam(self.parameters(), lr=1e-3)\n",
    "        return optimizer"
   ]
  },
  {
   "cell_type": "code",
   "execution_count": 158,
   "metadata": {
    "ExecuteTime": {
     "start_time": "2023-11-09T16:59:58.920043300Z"
    }
   },
   "outputs": [],
   "source": [
    "model2_version = 1"
   ]
  },
  {
   "cell_type": "code",
   "execution_count": 159,
   "metadata": {
    "ExecuteTime": {
     "start_time": "2023-11-09T16:59:58.921042100Z"
    },
    "collapsed": false
   },
   "outputs": [
    {
     "name": "stderr",
     "output_type": "stream",
     "text": [
      "GPU available: False, used: False\n",
      "TPU available: False, using: 0 TPU cores\n",
      "IPU available: False, using: 0 IPUs\n",
      "HPU available: False, using: 0 HPUs\n",
      "\n",
      "  | Name | Type   | Params\n",
      "--------------------------------\n",
      "0 | lstm | LSTM   | 17.9 K\n",
      "1 | fc_1 | Linear | 5.7 K \n",
      "2 | fc_2 | Linear | 4.5 K \n",
      "--------------------------------\n",
      "28.2 K    Trainable params\n",
      "0         Non-trainable params\n",
      "28.2 K    Total params\n",
      "0.113     Total estimated model params size (MB)\n"
     ]
    },
    {
     "name": "stdout",
     "output_type": "stream",
     "text": [
      "Epoch 0:   0%|          | 0/59 [00:00<?, ?it/s]                             "
     ]
    },
    {
     "name": "stdout",
     "output_type": "stream",
     "text": [
      "Epoch 9: 100%|██████████| 59/59 [00:01<00:00, 35.55it/s, v_num=1, val_loss=0.332, step=9.000, train_f1=0.362, train_loss=0.304] "
     ]
    },
    {
     "name": "stderr",
     "output_type": "stream",
     "text": [
      "`Trainer.fit` stopped: `max_epochs=10` reached.\n"
     ]
    },
    {
     "name": "stdout",
     "output_type": "stream",
     "text": [
      "Epoch 9: 100%|██████████| 59/59 [00:01<00:00, 35.40it/s, v_num=1, val_loss=0.332, step=9.000, train_f1=0.362, train_loss=0.304]\n"
     ]
    }
   ],
   "source": [
    "output_dim = len(df_train[\"POS\"].unique())\n",
    "input_dim = EMBEDDING_DIM\n",
    "hidden_dim = 28\n",
    "fc_size = 100\n",
    "\n",
    "max_epochs = 10\n",
    "\n",
    "save_dir = \"logs\"\n",
    "load_model = False\n",
    "train_model = True\n",
    "model_ckpt = \"model2.ckpt\"\n",
    "\n",
    "PATH = os.path.join(save_dir, \"lightning_logs\", \"version_\" + str(model2_version), \"checkpoints\", model_ckpt)\n",
    "\n",
    "if load_model:\n",
    "    model_2 = Model2.load_from_checkpoint(PATH, input_dim=input_dim, hidden_dim=hidden_dim, output_dim=output_dim,\n",
    "                                          fc_size=fc_size)\n",
    "else:\n",
    "    model_2 = Model2(input_dim=input_dim, hidden_dim=hidden_dim, output_dim=output_dim, fc_size=fc_size)\n",
    "\n",
    "if train_model:\n",
    "    tb_logger = TensorBoardLogger(version=model2_version, save_dir='logs')\n",
    "    trainer = pl.Trainer(max_epochs=max_epochs, logger=tb_logger, default_root_dir='./', log_every_n_steps=1)\n",
    "    trainer.fit(model_2, train_loader, val_loader)\n",
    "    trainer.save_checkpoint(PATH)\n",
    "    model2_version += 1"
   ]
  },
  {
   "cell_type": "code",
   "execution_count": 160,
   "metadata": {
    "ExecuteTime": {
     "start_time": "2023-11-09T16:59:58.923542400Z"
    },
    "collapsed": false
   },
   "outputs": [
    {
     "name": "stdout",
     "output_type": "stream",
     "text": [
      "Testing DataLoader 0: 100%|██████████| 19/19 [00:00<00:00, 85.15it/s]\n",
      "────────────────────────────────────────────────────────────────────────────────────────────────────────────────────────\n",
      "       Test metric             DataLoader 0\n",
      "────────────────────────────────────────────────────────────────────────────────────────────────────────────────────────\n",
      "          step                     10.0\n",
      "        test_loss           0.2933151423931122\n",
      "────────────────────────────────────────────────────────────────────────────────────────────────────────────────────────\n"
     ]
    },
    {
     "data": {
      "text/plain": [
       "[{'test_loss': 0.2933151423931122, 'step': 10.0}]"
      ]
     },
     "execution_count": 160,
     "metadata": {},
     "output_type": "execute_result"
    }
   ],
   "source": [
    "trainer.test(model_2, dataloaders=test_loader)"
   ]
  },
  {
   "cell_type": "code",
   "execution_count": 161,
   "metadata": {
    "ExecuteTime": {
     "start_time": "2023-11-09T16:59:58.926519700Z"
    },
    "collapsed": false
   },
   "outputs": [
    {
     "data": {
      "text/plain": [
       "Reusing TensorBoard on port 6006 (pid 12716), started 1 day, 0:42:21 ago. (Use '!kill 12716' to kill it.)"
      ]
     },
     "metadata": {},
     "output_type": "display_data"
    },
    {
     "data": {
      "text/html": [
       "\n",
       "      <iframe id=\"tensorboard-frame-457975377357b524\" width=\"100%\" height=\"800\" frameborder=\"0\">\n",
       "      </iframe>\n",
       "      <script>\n",
       "        (function() {\n",
       "          const frame = document.getElementById(\"tensorboard-frame-457975377357b524\");\n",
       "          const url = new URL(\"http://localhost\");\n",
       "          const port = 6006;\n",
       "          if (port) {\n",
       "            url.port = port;\n",
       "          }\n",
       "          frame.src = url;\n",
       "        })();\n",
       "      </script>\n",
       "    "
      ],
      "text/plain": [
       "<IPython.core.display.HTML object>"
      ]
     },
     "metadata": {},
     "output_type": "display_data"
    }
   ],
   "source": [
    "%reload_ext tensorboard\n",
    "%tensorboard --logdir logs"
   ]
  },
  {
   "cell_type": "code",
   "execution_count": null,
   "metadata": {
    "ExecuteTime": {
     "start_time": "2023-11-09T16:59:58.927519Z"
    }
   },
   "outputs": [],
   "source": []
  },
  {
   "cell_type": "markdown",
   "metadata": {},
   "source": [
    "## TASK 4: Metrics\n",
    "\n",
    "* Assign static embedding to validation and test set OOV words (Edo: see unk_init param at [docs](https://torchtext.readthedocs.io/en/latest/vocab.html))\n",
    "* **Concatenate** all tokens in a data split -> (**Hint**: accumulate FP, TP, FN, TN iteratively) TODO: rewrite \n",
    "* Evaluate models using macro F1-score, computed over **all** tokens.\n",
    "* TODO: remove -> **Do not consider punctuation and symbol classes** $\\rightarrow$ [What is punctuation?](https://en.wikipedia.org/wiki/English_punctuation)"
   ]
  },
  {
   "cell_type": "markdown",
   "metadata": {},
   "source": []
  },
  {
   "cell_type": "code",
   "execution_count": 162,
   "metadata": {},
   "outputs": [],
   "source": [
    "word_iterator = (word for word in corpus_df['text'].unique())\n",
    "word_vocab = build_vocab_from_iterator(word_iterator)"
   ]
  },
  {
   "cell_type": "code",
   "execution_count": 174,
   "metadata": {},
   "outputs": [
    {
     "name": "stdout",
     "output_type": "stream",
     "text": [
      "Out-of-vocabulary words in validation set: {'degrees', 'Filter', 'looks', 'your', 'Poland', 'foods', 'art', 'single-lot', '6\\\\/2', 'stored', 'integrated', 'What', 'Capital', 'Source', 'University', 'principle', 'lose', 'infectious', 'barometer', 'directionless', 'Duke', 'cut', 'values', 'handle', 'deny', '1,460', '23.4', 'right', 'multiplying', 'third', 'defendants', 'Sangyo', 'merchant', 'climbed', 'capital', 'Whether', 'baseball', 'open', 'rejected', 'He', '1.64', '4.875', 'criticism', 'Fund', 'eyeing', 'implies', 'rival', 'LATE', 'Among', 'disposed', 'Baim', 'food', 'attractions', 'in', 'principal', 'initial', 'initially', 'mortgaged', 'slightly', 'Abrupt', 'allocated', 'cooperating', 'said', 'backing', 'soybeans', 'Garanti', \"'s\", 'presidency', '132', 'expectation', 'cope', 'letter-writing', 'practices', 'Dolan', 'ruling', 'FAMILY', 'announcement', 'affecting', 'Due', 'our', 'becomes', 'unemployment', 'fighting', 'Reserve', 'lawsuit', 'growers', 'blue-chip', 'hormone', 'tax', 'passions', 'Survey', 'crystals', 'characterized', 'amazingly', 'Cluff', 'Used', 'inherently', 'land', 'favors', 'failed', 'world', 'stone', 'States', 'PETS', 'wages', 'McCormick', 'Noble', 'trades', 'Western', 'Underwood', 'juggle', 'reformers', 'take', 'homelessness', '30-year', 'wound', 'Article', 'shudders', 'only', 'accountability', 'fixed-rate', 'compensation', 'surprisingly', 'INS', 'nickel', 'pointed', 'Until', 'eventually', 'attract', '56', 'Sales', 'Charles', 'Frankfurt', 'generalizations', 'D.C.', 'Big', 'orders', 'maximize', 'discharge', 'sigh', 'decisions', 'recyclable', 'languages', 'power', '60', 'Baum', 'reorganization', 'logic', 'outside', 'courts', 'Camilli', 'central', 'Publishing', 'patients', 'future', 'abortion', 'proved', 'divisions', 'co-founded', 'indexers', 'participant', 'Solution', 'Two', 'margins', 'Not', 'Eastern', 'yttrium-containing', 'GM', '7.95', '7.40', 'preventing', 'softer', 'Pepperidge', 'FALL', 'apply', 'applications', 'better', 'employee', 'bigger', 'coupon', 'About', 'studiously', 'yourself', 'correct', '1\\\\/2', 'searching', 'Wohlstetter', 'now', 'reprint', 'Team', 'Instead', 'giants', 'shelf', 'question', 'chemicals', 'Webb', 'sometimes', 'succession', 'former', 'disarray', 'Rey\\\\/Fawcett', 'Schlemmer', 'valuable', 'paper', 'stage', 'square', 'sued', 'resolve', 'did', 'rest', 'television', 'backed', 'powerful', 'unworkable', 'Weil', 'investing', 'inhibit', 'structured', 'circumstances', 'cell', 'Indexing', '1970', 'panic', 'worst', 'lawyers', 'thus', 'bold', \"'S\", 'appoint', 'burn', 'storm', 'headed', 'aftereffects', 'plastic', 'rating', 'dealers', 'bar', 'limiting', 'so-called', 'review', 'significantly', 'resembles', 'paint', 'grapple', 'goodwill', 'earthquake', 'waiver', 'taking', 'unsettling', 'hotel', 'separate', 'propose', 'December', 'green', 'revived', 'compliance', 'Japan', 'handles', 'execution', '210,000', 'prove', 'hearings', 'electronic', 'debate', 'blind', 'primary', 'This', 'reporting', 'Amsterdam', 'voices', 'persuasive', 'Iowa', 'Texas', 'instruments', 'hope', 'enforce', 'changed', 'greatly', 'yesterday', 'erect', 'Sonny', '18', 'fiscal', 'cells', 'ceiling', 'Stock', '1991', 'boosted', 'Backseat', 'disagreed', 'warrant', 'reasoning', 'security', 'Sen.', 'write-downs', 'NATIONAL', 'web', 'more', 'sweeten', 'sources', 'strong', 'Prebon', 'whichever', 'treat', 'N.V', 'stands', '14.13', 'because', 'gained', 'faith', 'prospective', 'wasted', 'any', 'Ginnie', 'operating', 'clouding', 'obligation', 'invariably', '0.25', 'Standard', 'stock-index', 'uncertainties', 'allegations', 'drink', 'creditors', 'late', 'combined', 'Union', 'conduct', 'residential', 'scarcely', 'explained', 'America', 'convince', 'referral', '1,400', 'transcribe', 'rate', 'tote', 'mirror', 'meanwhile', 'related', 'led', 'variables', 'incomes', 'bunches', 'highway', 'sports-oriented', 'heebie-jeebies', 'homes', 'Indiana', 'national', 'partly', 'breed', 'cases', 'not', 'cups', '1984', 'forward', 'Outside', 'Dorothy', 'reporters', 'thinking', 'promises', 'reduce', 'language', 'stark', 'do-it-yourself', 'advancing', 'Honolulu', 'market-based', 'drought', 'loss', 'adopted', 'Possible', 'outrageous', 'attempting', 'higher', 'having', 'There', 'Private', 'Cincinnati', 'briefings', '1995', 'equity-purchase', 'fielded', 'day-care', 'France', 'applied', 'biggest', 'dollars', 'groups', 'Amendment', '5.92', 'Corp', 'Each', '1999', 'lead', 'Monopolies', 'century', 'Turnaround', 'record', 'eliminate', 'sickness', 'majority', 'granting', '1988', 'cousins', 'loudest', 'almost', 'slides', 'tender', 'guide', 'election', 'increase', 'disagrees', 'perfectly', 'indexes', 'least', 'varied', '221.4', 'from', 'Key', 'adds', 'tie-in', 'interested', 'performing', 'direct-mail', 'Tuesday', '13', 'waited', 'blender', 'halt', 'keeping', 'accompany', 'fanciful', 'Majority', 'responds', 'Hurricane', 'consequences', 'arguments', 'doctrine', 'longer-term', 'relative', '7.55', 'conclude', 'inherent', 'scream', 'appeal', 'happen', 'throws', 'US$', 'customers', 'cleaner', 'though', 'Machines', '6.70', 'new-car', 'appropriations', 'supporters', 'undergoing', 'undesirable', 'points', 'purse', '120', 'begun', 'Polish', 'including', 'positioned', 'Tom', 'rewrite', '2019', 'FT', '4.6', 'Research', 'finding', 'absorbed', 'Schmidt', 'Industrial', 'words', 'no', 'kicked', 'Express-Buick', 'Jihad', 'interviewed', 'nail', 'Relations', 'spot', 'decrease', 'comparable', 'Pa.', 'championing', 'Typical', 'subject', 'promotion', 'seek', 'local', 'roughly', 'Harper', 'bicameral', 'chase', 'Buckhead', 'Park', 'Craftsmen', 'Business', 'Propaganda', 'Si', 'council', 'manufactured', 'complex', 'banning', 'altered', 'beautiful', 'Home', 'advised', '3.2', '600,000', 'accomplishments', 'into', 'thread', 'polluters', 'created', 'mention', 'sharply', 'lynch-mob', 'Soviet', 'luxury', 'Columbus', 'well-known', 'ratified', 'Fulton', 'newsroom', 'signs', 'Short', 'may', 'analysts', 'stretch', 'past', 'tormentors', 'scoffs', 'Brothers', 'imposes', 'disposal', 'Hot', 'Reducing', 'slowly', 'dislike', 'Criminal', '144', 'warning', 'cities', '68', 'May', 'congressional', 'newest', 'article', 'great', 'technology', 'smothering', 'ownership', 'holdings', 'Andrea', 'Lufkin', 'access', 'developing', 'estimated', '8.06', 'pain', 'continues', 'void', '118', 'Ltd.', 'two', 'refused', 'accommodate', 'shivers', 'think', 'MEDICINE', '-RRB-', 'Merchant', 'Compromises', 'Register', 'facilitate', 'Perhaps', 'connection', 'railing', 'stereo', 'Californian', 'ample', 'commodity', 'result', 'intraocular', 'recovered', 'judges', 'organizations', 'Friedrichs', 'disappointment', 'retain', 'Baltimore', 'COMMERCIAL', 'insured', 'hysteria', 'plight', 'contribute', 'list', 'index-fund', 'state-owned', 'interior', 'Uptick', '16.9', 'low', 'Hawaii', 'acquirer', 'determined', 'bargains', 'margin', 'Recess', 'struggling', 'utilities', 'departures', 'organization', 'reason', 'select', '102', 'Traficant', 'change', '1985', 'units', '1\\\\/8', 'becoming', 'If', 'expression', 'conflicts', 'penalty', 'Goldman', 'coverage', 'sticking', '3.7', 'Reagan-Bush', 'house', '240-page', 'crippled', 'spilling', 'conservative', 'Mining', 'launched', 'Taipei', 'poor', 'domestically', 'charges', 'struggle', 'suddenly', 'consumer', 'duly', '5,000', 'searched', 'Raymond', 'inverse', 'Borough', 'clothing', 'divergence', '128', 'American', 'sounds', '1994', 'Michael', 'species', 'rocket', 'Robbie', 'venerable', 'cost-benefit', 'maybe', 'noting', '29year', 'FEDERAL', 'indicating', 'wealth', 'outnumbered', 'separation', 'wholesaler', 'notch', '5\\\\/8', 'widgets', 'Holding', 'completing', 'N.Y', 'Cambridge', 'plea', 'buy-out', 'Articles', 'medical', 'benefited', 'Williams', 'loans', '5.435', 'devices', 'California', '300', 'alleged', 'reaction', 'Jamaica', 'videocassette', 'six-month', 'benchmarks', 'owns', 'Alstyne', 'market-makers', 'same', 'carries', 'Take', 'fly', 'quantitive', 'Exchange', 'Republican', 'convertible', 'feasible', 'predispose', 'current-carrying', '1970s', 'Anku', 'dominated', 'Ann', 'suffered', 'responded', 'Like', 'sitting', 'desire', '3.43', 'favorably', 'formally', 'ways', 'surrounding', 'mimics', 'moved', 'image', 'caution', 'We', 'job', '1,000', 'sector', 'suspect', 'High-grade', 'Mac', 'overnight', 'MORTGAGE', 'Perestroika', 'arranged', 'easy', 'learned', 'general', 'alleging', 'Energy', 'flat', 'medallions', 'samples', 'priced', 'profited', 'auction', 'Manufacturers', 'hurting', 'choosing', 'gets', 'overcome', 'funny', 'Hutton', 'someone', 'HOME', 'employs', 'Dole', 'unload', 'reporter', 'surprising', 'CS', 'municipalities', 'demise', 'me', 'dumped', 'successor', 'scrambling', 'bolstered', 'MONEY', 'councils', 'time', 'stresses', 'mutual-fund', 'pence', 'amendments', 'Eggers', 'administer', 'None', '40', 'four', 'machine', 'payment', 'piece', 'Rep.', 'facts', 'releases', 'Takes', '1928-33', 'signed', 'ballot', 'severe', 'mammoth', 'employer', 'benefit', 'belongs', 'Consent', 'livelihood', 'creator', 'agriculture', 'Communications', 'indication', '879', 'contingent', 'Democracy', 'entrenched', 'duties', 'reflection', '274', '388', 'Arbitraging', 'Chivas', 'citizen-sparked', 'sunlight', 'Marvin', 'droughts', 'Probably', 'Traders', 'High', 'thin', 'scientists', 'inserted', 'noble', 'design', '605', '47.125', 'delay', 'else', 'doubted', 'bounce', 'visitors', 'long-tenured', 'Louis', 'Fees', 'added', 'TRUST', 'Equivalents', 'hopes', 'Lehman', 'Orlando', 'qualities', 'their', 'sprightly', 'guarantees', 'slab', 'Soviets', 'they', 'indeed', '4.2', 'decisive', 'Salomon', 'Times-Stock', 'price', 'Grain', 'competition', 'country', 'fields', 'Philippines', 'team', 'creams', 'are', 'performed', '8.07', 'bad', 'Three', 'Aktiebolaget', 'Champion', 'Association', 'recruiting', 'squeeze', 'drafted', 'prefer', 'Pasadena', 'parts', 'Housing', 'Builders', 'repaid', 'funded', 'union', 'convenient', 'over-the-counter', 'incurred', 'send', 'signing', 'waste', 'furor', 'defense', 'Service', 'drove', 'lightning-fast', 'torn', 'Edwards', 'purchases', 'seem', 'charge', 'wary', 'metals', 'beg', 'BALLOT', 'minimum', '1920s', 'sexy', 'Quant', 'phasing', 'arched', 'save', 'Democrat', 'applicable', '352.9', 'wizards', '1787', 'interference', 'Coniston', 'case', 'cutbacks', 'measure', 'common', 'compilation', 'semicircular', 'liquidity', 'middle', 'Thunderbird', '149.9', 'brilliantly', 'occurred', 'Piscataway', 'genie', 'restrictions', 'containing', 'vicissitudes', 'razor-thin', 'ramparts', 'appointments', 'June', 'broker', 'regarding', '110', 'coke', 'sulfur-dioxide', 'support', 'warrants', 'extent', 'tight', 'prevailing', 'inform', 'newspapers', 'Carlton', 'Takeover', 'debentures', 'clearer', 'important', 'livestock', 'weaker', 'trouble', 'nine-month', 'Stoll', '29', '6.79', 'Analysts', 'material', 'benefits', 'shall', 'diaper', 'bludgeon', 'predecessor', 'inappropriate', 'Bolivia', 'falls', 'speeches', 'delivery', 'Contel', 'put', 'brokerage', 'properly', 'derisively', '9\\\\/32', 'greedy', 'everyone', 'board', 'decorator', 'concern', 'gamut', 'Neither', 'contesting', 'IOUs', 'technical', 'tire-kickers', 'controlled', 'Chadha', 'Olympia', 'open-top', 'handled', '454', 'interests', 'scaring', 'yet', '22', 'private', 'rebounding', 'Hammersmith', 'concrete', 'senses', 'commission', 'floors', 'intense', 'showed', 'sweeping', 'It', 'subsidize', 'talks', 'hardest-hit', 'instrument', 'McCabe', 'Oh', 'sue', '7.62', \"'re\", 'permission', 'goods', 'safeguarding', 'Irvine', 'add', '55', 'Mary', 'Schweiz', 'dozens', 'Financing', 'Tyre', 'designers', 'reshaping', 'living', 'prescribe', 'one-third', '30s', 'opportunity', 'political', 'drew', 'labeled', 'outlay', 'denounce', 'approved', 'returning', 'go', 'Concerned', '2,410', 'parched', 'expressly', 'influential', 'gotten', 'flagrant', 'addition', 'boogieman', 'Stores', 'steel', 'Seed', 'agenda', 'dirtiest', 'Sprint', 'meet', 'Citicorp', '1\\\\/4', 'situations', 'software', '101', 'expects', 'request', 'empowers', 'believe', 'test', 'bringing', 'To', '9.32', 'opportunities', 'ballpark', 'Mr.', 'sports', 'pace', 'YMCA', 'lucrative', 'commitments', 'named', 'My', 'puzzled', 'strategy', 'pockets', 'cue', 'especially', 'chief', 'crisis', 'situation', '28', 'iota', 'competitive', 'disappointed', '20', '1989', 'exerting', 'other', 'leader', 'Allergan', 'researchers', 'largely', 'Brean', 'confirms', 'adult', 'Charlotte', 'Report', 'presumes', 'leveraging', 'perceived', 'maintain', 'possible', 'worried', '11', 'buying', 'promise', 'broader', 'accommodations', 'McGuigan', 'sky', 'aimed', 'Switzerland', 'perform', 'Magleby', '343', 'trespass', 'Andrew', 'capability', 'pursue', 'strictly', 'top-selling', 'unheard', 'K.', 'hypothetical', 'acid', 'subsidiaries', 'decision', 'Oak', \"'ll\", 'pay', 'ending', 'discussed', 'managers', 'prospect', 'equity', '200', 'Long', 'history', 'quick', 'Walker', 'risks', 'disposables', 'exercise', 'stock', 'number', 'Mason', 'heavily', 'halts', 'kindness', 'threatens', 'Middlesex', 'Stephen', 'exchanges', 'section', '6.7', 'Ore.', 'inviting', 'moneymakers', 'sure', 'weaken', 'car', 'Inventor', 'Tray', 'syndicate', 'creates', 'certin', 'say', 'Barbados', 'impaired', 'suspend', 'Mo.-based', 'device', 'afford', 'Great', '240', 'odd', 'spurned', 'Anne', 'human', 'flim-flammery', 'overcapacity', 'deals', 'junk', 'Hazell', 'acquire', 'farm', 'civil', 'Population', '1991-1999', 'Singapore', 'due', 'candidate', 'combination', '16\\\\/32', 'penalties', 'Fails', 'Government', 'responsibility', 'realize', 'hitting', 'amass', '1976', 'overstated', 'railings', 'accounted', 'replaced', 'client', 'unconstitutional', 'Loewi', 'McGovern', 'city-owned', 'investments', 'vortex', 'start', 'mean', 'Mogavero', 'parts-engineering', 'Dutch', 'notes', 'sparkplugs', 'the', 'resources', 'downside', 'watchers', 'Dallas', 'staunchly', 'baskets', 'Century', 'branch', 'sending', 'manufacturing', 'prevent', 'afternoon', \"'30s\", 'Agriculture', 'Hammerschmidt', 'old', 'sort', 'along', 'staff', 'truth-in-lending', 'screens', 'Program', 'Ballantine\\\\/Del', '7.80', 'N.Y.', 'protocols', 'excise', 'chosen', 'Already', '7.45', 'pins', '85', 'Health', 'remaining', 'estate', 'preserving', 'devouring', 'measures', 'financier', 'members', '7.8', 'initiate', 'underperforming', 'Yet', 'sell', 'prerogatives', 'fueled', 'consumers', 'Foster', 'Kangyo', 'Pacific', 'disclosure', 'Advanced', '4.3', 'DISCOUNT', 'deficit', 'if', 'sounded', 'objectives', 'fringe', 'South', 'cloth', 'documents', 'interactions', 'Truck', 'housing-assistance', 'ambitious', 'prolonged', 'nuclear', 'shelter', 'Commissions', 'clannish', 'seller', 'golden', 'lobbyists', 'crops', 'widget', '300,000', 'Labouisse', 'nine-year', 'considerably', '52', '195', 'vehicles', 'resulted', 'consider', 'telling', 'Citizens', 'COMMUNICATIONS', '62%-owned', 'publicly', 'broaden', 'For', 'Morgan', 'subtraction', 'Scott', 'diverse', 'Takashima', 'designations', 'event', 'office', 'tend', 'surpluses', 'nations', 'cites', 'appear', 'printers', 'mainly', '100-share', '23,403', 'responsive', 'C.', 'seven-million-ton', 'Calif.', '112.9', 'again', 'let', 'truck', 'notched', 'years', 'money-losing', 'Issues', 'remains', 'blood', 'raising', 'School', '890', 'universally', 'borrowing', 'developed', 'cause', 'petition', 'Sydney', 'nickname', 'override', '45.75', '84-year-old', 'contends', 'Periods', 'troubles', 'broadly', '7.20', 'applaud', 'Garrison', 'seemed', 'emphasis', 'holiday', 'sprawling', 'technically', 'refusal', 'labor', 'persons', 'swaps', 'hired', 'began', 'Industry', 'financing', '2160.1', 'looming', 'Farm', 'her', '1.61', 'eight', 'nature', 'U.S.', 'Arnold', 'Bell', 'absurdity', '3,250,000', 'proposed', 'plays', 'center', 'computer-driven', 'Jim', 'Psychiatry', 'Mindy', '800', 'intended', 'whipping', 'bonds', 'dollar', \"'ve\", 'factoring', 'anything', 'Highway', 'through', 'used', 'old-style', 'contacted', 'Mahoney', 'Bill', 'day-to-day', 'record-keeping', 'opening', 'businessman', 'direct', 'avenues', 'computer-assisted', 'fine', 'PaineWebber', 'concluded', 'reflect', '11\\\\/16', 'applicability', 'Ellis', 'see', 'usually', 'person', 'disapproved', 'became', 'statistics', 'Fourth', '0.82', 'defensive', 'SuperDot', 'facing', 'contracts', 'respondents', 'POTABLES', '415', 'demand', 'occasionally', 'pill', 'creating', 'outdistanced', 'positions', 'strict', 'sorts', '135', 'Rick', 'offers', 'sends', 'session', 'relies', 'chose', 'FOREIGN', '7.2', 'oriented', 'mental', 'democratic', 'CEOs', 'keep', 'ultimate', 'Columbia', 'nutrition', 'stake', 'machinists', 'changing', 'implied', 'One', 'dividing', 'talk', 'apart', 'concept', 'Again', 'aspect', 'highest', 'index-arbitrage', 'shoulder', 'Traditional', 'high-yield', 'textile', 'pennies', 'prisoners', 'raised', 'that', 'House', 'speed', 'transferring', 'Furillo', 'won', 'James', 'Hearst', 'enable', 'initiating', \"O'Loughlin\", '909', 'identical', 'Center', 'uptick', 'work', 'indications', 'wo', 'cost', 'difficult', 'says', 'retirement', 'Velcro', 'over', '71,309', 'magnetic', 'Peabody', '24.95', 'facility', 'neat', 'versus', 'his', 'manipulators', 'knew', 'issue', 'Jerry', 'overvalued', 'broadcasts', 'Hold', 'investor', 'disaster-assistance', 'institution', 'consent', 'brightened', 'necessarily', 'Johnson', 'build', 'evidence', 'media', 'seeks', 'asserts', '6.5', 'Handelsbanken', 'sells', 'familiar', 'based', 'M.', 'Funding', 'caused', 'poorly', 'fate', 'behind', 'lowest', 'balkanized', 'million-a-year', 'Simeon', 'waters', '6.25', 'default', 'emotional', 'Water', 'free-enterprise', 'Hills', 'Lucille', 'face', 'London', 'Lurie', 'Financial', 'sanctions', 'stressed', 'theory', '2029', 'news', 'Photography', 'October', 'Ruth', 'offerings', 'Gerard', 'Jeffrey', 'conditions', 'concede', '150', 'reeling', 'enhances', 'bedding', 'amendment', 'designed', '179', 'population', 'jumped', 'predicts', 'Dodger', 'Catch-22', 'Economic', 'taxation', 'Cost-effective', 'decade', 'everywhere', 'premier', 'Random', 'food-industry', 'materials', 'sleeping', 'Still', 'following', 'Board', 'what', 'credits', 'watch', 'Bridge', 'want', 'substitute', 'ended', 'skepticism', 'funds', 'occur', 'tall', 'Mortgage-Backed', 'supported', 'sneaked', 'spirits', 'Candlestick', 'chaos', 'earned', 'high-tech', 'why', 'Julia', 'BILLS', 'pricings', 'labels', 'ahead', 'reclaimed', 'civics', 'seize', 'partisans', 'confidence', 'L.A.', 'peaks', 'You', 'Vacancies', 'capitalism', 'makers', 'Anti-Deficiency', 'sufficient', 'Ackerman', 'economy', 'government', 'ACCEPTANCES', 'era', 'collateral', 'notified', 'alcoholism', 'hopefully', 'habit', 'lawsuits', 'risk-free', 'hundred', 'assistant', 'Donald', 'founded', 'Knopf', 'believes', 'reductions', 'himself', 'polls', 'violence', 'banks', 'implement', 'Beginning', '45', 'views', 'inmates', 'fend', 'regulation', 'owning', 'unchanged', 'reforms', 'Holdings', 'quashing', 'short-term', 'federal', 'moves', 'interest-rate', '--', 'implications', 'Hopkins', 'lieu', 'larger-than-normal', 'bank', 'Murray', '7.272', 'Petersburg', 'plans', 'Chamber', 'Stieglitz', 'new', 'Montgomery', 'likely', 'contract', 'Caldor', 'securities', 'Guaranteed', 'managed', 'popularly', 'scholars', '111', '1.5', 'Arighi', 'during', '145', 'circuit', 'of', '1987', '1993', 'largest', 'minted', 'unlabeled', 'centers', 'acquirers', 'community', 'profitable', 'somehow', 'expressed', 'Heiwado', 'firm', 'loser', 'officers', 'Russell', 'blocks', 'Savings', 'Leningrad', 'effort', 'net', 'hand', 'Charter', 'Moscow', 'Herald', 'restructuring', 'upscale', 'radioactivity', 'comment', 'Cartons', 'compensate', 'lipsticks', 'frequently', 'resort', 'editor', '8.64', 'superconductors', 'format', 'Brooks', 'voted', 'mathematics', 'fleeting', 'clippings', 'initiative', 'deprivation', 'executes', 'Partners', 'breaker', 'upset', 'independence', 'motor-home', 'Prime', 'stemming', 'relevance', 'second-largest', 'industry', 'associated', 'introducing', 'mostly', 'boy', 'considerable', 'discussions', 'warming', 'Indeed', 'conflict', 'Higher', 'intrusion', 'traveling', 'DOT', '148.9', 'pension', 'company', 'United', 'author', 'brakes', 'broadcasting', 'Hammacher', 'contingency-fee', 'posted', 'against', 'barely', 'midsized', 'indifference', 'Nor', 'Nov.', 'defends', 'links', 'Don', 'Taccetta', 'rights', 'lowered', 'nice', 'fluctuations', 'arms', 'TWO', 'Oklahoma', 'Donaldson', 'deviant', 'needs', 'Senate', 'And', 'Z.', 'then-Speaker', 'knell', 'Ames', 'disseminate', 'understood', 'jumps', 'hearing', 'closer', 'democracy', 'expensive', 'registration', 'statement', 'Freud', 'trash', 'assets', 'worries', 'Reserves', 'seeking', '750', 'Lorenzo', 'wings', 'That', '238,000-circulation', 'prospects', '372.9', 'refrigerator', 'volume', 'A-D', 'extending', 'expected', 'resignation', 'extensive', 'expand', 'Corporations', 'money-market', 'labor-management', '451', 'monopoly', 'acts', 'specified', 'liners', 'soured', 'USA', 'special', 'Tots', 'arbitrager', 'had', 'Dorrance', 'hard', 'biscuit', 'sent', 'alone', 'muster', 'institutional', 'shares', 'Sotheby', 'planners', 'directly', '1st', 'Wall', 'curses', 'polled', 'represented', 'billing', 'success', 'Mattress', 'Several', '300-113', '8.60', 'pose', 'heads', 'felt', 'destroy', 'Suisse', 'editing', 'appliances', 'fourth-quarter', 'Yamamoto', '57', 'sweepstakes', 'beat', 'Moon', 'H.', 'Burnham', '133', 'users', 'puts', 'avid', 'preclude', 'Law', 'marginally', 'under', '1.46', 'wooing', 'arm', 'commissions', 'Phoenix', '1998', 'unneeded', 'proven', '3.18', 'mark', '3648.82', 'Series', 'Minneapolis', 'appeared', 'II', 'recently', 'second', 'satisfactory', '1990s', 'powerhouse', 'stock-selection', 'assist', 'contrasts', 'films', 'loops', 'Neuberger', 'picks', 'Freddie', 'nominated', 'Investment', 'visits', 'tool', 'New', 'covering', 'continuing', 'stiff', 'CEO', 'cautious', 'appease', 'strings', 'threats', 'drop', 'noticed', '282', 'colored', 'subordinated', 'prohibits', 'Nebraska', '21-month', '45,000', 'financings', 'encourage', 'advance', 'Giants', 'assure', 'rumored', 'recover', 'selected', 'exhaust', 'PORTING', 'Italy', '22\\\\/32', '1738.1', 'standing', 'Leo', 'could', 'African', 'abridging', 'Jenrette', 'closely', 'workforce', 'FTC', 'large', 'headlined', 'agencies', 'volatile', 'chemical', 'current', 'travel-related', 'Closes', 'out', 'pass', 'ago', 'Trans', 'profitably', 'understanding', 'reap', 'crusade', 'Pennsylvania', 'Power', 'unraveling', 'for', 'passage', 'exception', 'Central', 'Earlier', 'pressures', 'resist', 'floor', 'swallow', '81.8', 'provided', 'radio-station', 'anti-programmers', 'cuts', 'crapshoot', 'alcoholics', '59', 'military', 'decay', 'lens', 'takeover-stock', 'peripheral', 'SALT', 'committee', 'scrambled', 'Council', 'attributed', 'recruited', 'With', 'fully', 'merged', 'operation', 'vacation', 'hedging', 'too', 'basically', '20s', 'copying', '13.625', 'Airways', 'Joel', 'post', 'fat', 'quarter', 'vetoes', 'pressed', 'worthiness', 'organized', 'scant', 'intimately', 'enormous', 'instructed', 'overcrowding', 'stuff', 'phobias', 'Small', 'colleagues', 'tells', 'IT', 'actively', 'St.', 'makes', 'Michigan', 'good-faith', 'bill', 'spokesman', '13.8', 'transacting', 'Associates', '32', '26.5', 'Act', 'DEPOSIT', '23', 'akin', 'evolved', 'two-time-losers', 'substantial', 'Little', '7.50', 'personal', 'favored', 'Alfred', 'next', 'panel', 'results', 'tone', 'Public', 'streets', 'dominates', 'stacking', 'with', '65', 'press', 'smaller', 'leadership', 'lacks', 'strategies', 'difficulty', 'Too', 'smoothly', 'Separately', 'inquiring', 'apartment', 'Court', 'sides', 'amounted', 'Enzor', 'assault', 'loan', 'mutual', 'quite', 'rated', 'protective', 'Bricklayers', 'discuss', 'downward', 'overall', 'repeals', 'ordered', 'written', 'Everyone', 'Hugo', 'ROGERS', 'internal', 'restricting', 'relatively', 'Egypt', 'Their', 'is', '44', 'differences', 'involving', 'Underwoods', 'win', 'shaping', 'motors', 'sufficiently', 'Shaw', '16.05', 'fixed-income', 'citation', '1,570', 'dinosaurs', 'Destinations', 'zip', 'plaintiffs', 'credentials', 'distant', 'Silverman', 'realization', 'standard', 'multiples', 'airline-related', 'property\\\\/casualty', 'Fire', 'nor', 'architects', 'Legg', 'spending', 'buy-outs', '89.7', '5.3', '7.15', 'debenture', 'single-handed', 'Arraignments', 'Cup-Tote', 'Whereas', 'stated', 'given', 'answers', 'barrier', 'provoked', 'Gorman', 'refuse', '20-stock', 'migrate', 'denouncing', 'Maxwell', 'street', 'trays', 'tutorials', 'back', 'whether', 'Ill.', 'debt', 'leash', 'funding', 'airline', 'Electric', '14.', 'betting', 'latest', 'apple', 'County', 'details', 'load', 'Minnesota', 'Dakotas', '...', '8.467', 'Eliminate', 'photocopying', 'synthetic', 'suppliers', 'Fla.', 'limits', '2163.2', 'spite', 'believed', 'force', 'men', 'Odd-year', 'draws', '1,050,000', 'Advice', 'scrutiny', 'halted', 'Some', 'jail', 'Fahrenheit', 'pointing', 'ordinary', 'two-year', 'Under', 'already', 'OFFERED', 'damages', 'January', 'semiannual', 'Agency', 'wedded', 'sad', 'yielding', 'import', 'naming', 'warned', 'beers', '666', 'realized', 'eyes', 'such', 'Marubeni', 'northern', 'Ga.', 'box', 'parties', 'band-wagon', 'Fernando', 'damage', 'Lewis', 'none', 'clean-up', 'reopen', 'administrative', 'reached', '2017', 'spread', 'skyrocketed', 'even', 'Vegas', 'documented', 'represent', 'line', 'Farmers', 'predict', 'system', 'about', 'Paris', 'Zurich', 'franc', 'conducted', 'dissemination', 'Monday', 'electric', 'popular', 'anticipated', '1940s', 'winners', 'Basin', 'served', 'Davis', 'tapping', 'Total', 'Taylor', 'breathtaking', 'healthy', 'riskier', 'materialized', 'slipped', '28.5', 'curb', 'objectionable', 'Facilities', 'expire', 'stopped', 'Corporate', 'mailing', 'circuit-board', 'head', 'devote', 'district', '2.8', 'routes', 'critics', 'auto', 'virtually', 'originally', 'Topix', 'Francisco-based', 'deprived', 'us', 'automated', 'shrinks', 'father', 'impetus', 'FUNDS', 'mortgages', 'hailing', 'chassis', 'Herbert', 'unsuccessfully', 'moderately', 'But', 'ticket', 'both', 'First', 'VOA', 'mayor', 'three-year', 'payrolls', \"''\", '2.3', 'White', 'instituted', 'door', 'presentation', 'which', 'fatalities', 'Hutchinson', 'sophisticated', 'USIA', 'superconductor', 'issues', 'young', 'pretext', 'recall', 'Hours', 'fast-food', 'Antitrust', 'major-league', 'Britain', '3.42', 'skill', 'perception', '2.9', 'intentioned', 'Barth', 'operations', 'primarily', 'road', 'shareholders', 'placed', 'counts', 'motive', 'argue', 'Bridges', 'hardly', 'desires', 'pickers', 'last', 'dubbed', 'Perspective', 'levels', 'Kingdom', 'charging', '2691.19', 'deliberating', 'vast', 'price-support', 'voters', 'provision', 'Left', 'moving', 'repriced', 'determine', 'topics', 'Conference', 'forces', 'spokeswoman', '2.50', 'application', 'manager', 'His', 'feared', 'gigantic', 'conversations', 'requesting', '8.04', 'nullified', 'parking', 'were', 'worse', 'dropped', 'billion-dollar', 'Dolphins', 'cars', 'normal', 'Steinberg', 'issuers', 'surge', 'skeptical', 'tune', 'Department', 'confined', 'housing', 'guilders', 'expectations', 'rose', 'liable', 'Many', '7.74', 'increases', '27', 'questions', 'ca', 'subjecting', 'establish', 'shaken', 'unhappy', 'DyDee', 'policy-making', 'everything', 'stadium', 'understands', 'interest', 'castle', 'ensure', 'line-item', 'retractable', 'Buy', 'opposed', 'arbs', 'memo', 'Options', 'its', 'takings', 'Rogers', 'reallocate', 'Capitol', 'confirmed', 'honor', 'data', 'Marine', 'absolutely', 'quoting', 'walk', 'In', 'contradict', '155', 'reliance', 'included', 'Keith', 'concession', 'House-Senate', 'Office', 'way', 'serious', 'floral', 'anticipation', 'described', 'Critics', 'perhaps', 'offsetting', 'reported', 'uncompensated', 'disagreement', 'justified', 'clause', 'Jaffray', 'teams', 'deliver', 'found', 'aggressive', 'portion', 'Negotiable', 'hidden', 'violations', 'immense', 'clearance', 'conceding', 'Authority', '1.50', 'estimate', '1.2', 'futures', 'records', 'than', 'comfortably', '0.05', '94.8', 'intrusions', '50,000', 'will', 'definitely', 'deserving', 'Bucking', 'van', 'affect', 'here', 'sales', 'mill', 'flights', 'par', 'ranging', 'widely', 'Only', 'unanimous', 'scans', 'hunted', 'Bank', 'pursued', 'suggest', 'engaging', 'tire', 'investment', 'opened', 'constitute', 'Riviera', 'complains', '30,537', 'accept', 'EVERYONE', 'part', 'chips', 'reading', 'relegated', 'declared', '8.25', 'U.S.A', 'passed', 'officer', 'analysis', 'little', 'fourth', 'techniques', 'importance', '877,663', 'outlawing', 'takeover', 'Pamela', 'individual', 'reluctance', 'Currently', 'performers', '184', 'Midwesco', '0.1', 'Mortgage', 'international', 'high-polluting', 'farmers', 'sparked', 'Nikkei', 'Spreads', 'When', 'Tulane', 'Toronto', 'came', 'includes', 'grandfather', 'Mich.', 'pretty', 'giving', 'Whip', 'indicators', 'managements', 'discussing', '2000', 'account', 'quantity', 'Putty', 'economist', 'uncertainty', 'presidential', '59-year-old', 'become', '10', 'exercisable', 'Sachs', 'Net', 'Stadium', 'Secretary', 'dismal', 'flag', 'public-relations', 'degree', 'Buying', 'Any', 'kind', 'withhold', 'meaning', 'seasoned', 'demanding', '2,000', 'murdered', 'medicine', 'wide', 'dramatically', 'housewife', 'Neal', 'usurp', 'Houston', 'except', 'seconds', 'Chemical', 'stripped', 'trivial', 'Motor', 'tires', 'Edwin', 'view', 'Supreme', 'Lieberman', 'involve', 'Co', 'shareholder', 'September', 'average', 'deviation', 'aid', 'walls', 'market', 'landfills', 'cleaner-burning', '12', '17.5', 'significant', 'Determining', 'Administration', 'president', 'Cerf', 'card-member', 'Peter', 'headline', 'block', 'overriding', 'similar', '7.79', 'crane-safety', 'department', 'Van', 'pretax', 'laws', 'Christopher', 'clear', 'involvement', '35', 'well', 'acquisition', 'enforcement', 'millions', 'reallocated', 'Ednie', 'establishment', 'know', 'stepped', '17.3', 'Stadiums', 'string', 'August', '34', 'experience', 'authorities', 'cardboard', 'gored', 'Hill', 'Nations', 'As', 'earlier', 'appointment', 'stifle', 'whole', 'one-newspaper', 'Institutions', 'constantly', 'statutory', '1.125', 'die', 'anyone', 'three', 'consist', 'commodities', 'Airlines', 'Hong', 'NRDC', 'consisting', 'coal-fired', '900', 'whom', 'acquisitions', 'Express', 'succeeded', 'sustained', 'serve', 'trends', 'parent', 'Clairton', 'overdone', 'rise', 'eliminates', 'Unable', 'restored', 'bridges', 'rule', 'marketed', 'savings', 'technologies', 'Washington', '1,500', 'countless', 'hang', 'sidelines', 'redeem', 'requirements', '152,000', 'Beth', 'Bonds', 'Serial', 'Rated', 'all', 'signal', 'After', 'point', 'Impact', 'official', 'hands', 'remained', 'US', 'sleep', 'check', 'disadvantage', 'San', 'process', 'Canadian', 'stayed', 'interpretation', 'DeFazio', 'instances', 'multitude', 'lookee-loos', 'consequence', 'banking', 'compete', 'Gilts', 'despised', '16.5', 'grown', 'bills', 'treatment', 'tinker', 'Scypher', 'arise', 'Journals', 'sharp', 'propaganda', 'comeback', 'lotions', 'fund', 'context', 'Deere', 'adding', 'approximately', 'jolts', 'Scripps', 'assaults', 'Seoul', 'vindication', 'acquired', 'financial', 'plunged', 'remain', 'preventative', 'cast-iron', 'Iran-Contra', 'marketer', '3.375', 'fee', 'Gates-Warren', 'Food', 'subscribe', '130', 'Landrieu', 'readership', 'Those', 'acceleration', 'involved', 'seems', 'continue', 'participants', 'creditworthiness', 'Citizen', 'one-year', 'claims', 'advantages', 'substance', 'planner', 'findings', 'capacity', 'frozen', 'differently', 'trailed', 'M.D.', 'harmed', 'LOAN', 'suggests', 'toward', 'purchased', 'coordinate', 'Forget', 'vacations', 'mind', '19.6', '4.7', 'announced', 'twist', 'chatter', 'guarding', 'snapped', 'breathed', 'Madison', 'dailies', '1979', 'fees', 'merchandising', 'allies', 'Imhoff', 'palace', 'Money', 'Wood', 'consistently', 'riders', 'idea', 'starting', 'effect', 'letters', 'routine', 'contractor', 'stand', 'weeks', 'Betting', 'terminated', 'greater', 'asked', 'Bridgestone\\\\/Firestone', 'creature', 'junk-bond', 'Inc.', 'E.', 'endorsed', 'duty', 'practice', 'Christmas', 'possess', 'final', 'decries', 'purchasing', 'felonies', '23.25', 'Taking', 'non-farm', 'market-share', 'problem', 'dealings', 'retail', 'Institute', 'investment-grade', 'ascendency', 'array', 'joining', 'studying', '3.3', 'taxpayers', 'directed', '8.35', 'strike', 'first', 'lack', 'together', 'v.', 'Joe', 'recovery', 'dispute', 'friendly', '17', 'entirely', 'spent', 'Allen', 'bothered', 'ran', 'incentive-backed', 'wrote', 'etc.', 'mature', 'reducing', 'evolve', 'Wick', 'withstand', 'prices', '6.03', 'intimidate', '16', 'speculative', 'generation', 'stadiums', 'U.S.A.', 'interbank', 'saved', 'contributed', 'Shell', 'illegally', 'amounts', '220', 'completed', 'obtained', 'Linden', 'Inc', 'insurer', '63', 'coal', 'environmentalists', 'leading', 'this', 'Europe', 'him', '43', 'four-day', 'usual', 'disconnect', 'try', 'window', 'Particularly', 'beverage', 'Campeau', 'easily', 'doing', 'Atlanta', 'division', 'placing', 'double-A', 'Sun', 'hazardous', 'Metal', 'anti-morning-sickness', 'backgrounds', 'collapse', 'cleanliness', 'attempt', 'survey', '1.6', 'feel', 'efforts', '190-point', 'six-inch', 'appears', 'outstanding', 'downgrade', 'Systems', 'connected', 'step', 'Bon', 'effects', 'bring', 'slope', '15', 'disclosures', 'four-foot-high', 'George', 'three-month', 'stock-market', 'Corp.', 'publicized', 'General', 'YWCA', 'corporation', '13\\\\/16', 'prompts', 'pending', 'variety', 'Telegraph', 'rigors', 'filing', 'J.', 'picture', 'heart', 'Works', 'programmer', 'game', '10-year', 'publications', 'Recently', 'then', 'solid', 'scholarly', 'implemented', 'competes', 'Pretax', 'banned', 'infrequent', 'morass', 'sentimental', 'Bankers', 'protects', 'meeting', 'DSM', 'centerpiece', 'soon', 'Committee', 'proportion', 'cash', 'wanted', 'land-idling', 'Pat', 'settlement', 'upstate', 'underwent', 'nonetheless', 'temperature', 'inefficiencies', 'impede', 'court', 'lines', 'waive', 'mechanism', 'justify', 'stores', 'Santa', 'AGREES', 'Italian', 'investigation', 'cargo', 'supply', 'dismayed', 'GMAC', 'suffering', 'carrier', 'notable', 'conglomerate', 'Smith', 'previous', 'abolishing', '1980', 'existing', 'signals', 'swings', 'pattern', 'BANKERS', 'first-rate', 'Payments', 'Claire', 'collected', 'referendum', 'illegality', 'terms', 'Angeles', 'abounding', 'labeling', 'departure', 'relocate', 'wheat', 'apparently', 'fear', 'real', 'generated', 'likeness', 'currency', 'AT&T', 'clean-air', 'boosting', 'yen', 'complicated', 'promptly', 'premium', 'calculator', 'intraday', 'pounds', 'recommendation', 'another', '100', 'Dakota', 'stations', 'Frederick', 'anecdotal', 'spring', 'profit', 'studied', 'obviously', '119', 'Daily', 'Natural', 'indicates', '25,000', 'imminent', 'airlines', 'heading', 'staffs', 'monthly', 'version', '396,000', '130.6', 'address', 'losing', '235', 'Since', 'valued', 'eliminating', 'name', 'slow', 'crystal-lattice', 'reasonably', 'flirted', 'Goldsmith', 'rumors', 'secured', 'Del', 'booming', '12\\\\/32', 'despite', 'raises', 'Anderson', 'develop', 'friction', 'Akio', 'caller', 'contain', 'floating-rate', 'composed', 'hours', 'further', 'products', 'vote', 'medium-sized', 'BTR', 'doctor', '9.3', 'initiatives', 'annualized', 'moreover', 'Egyptian', 'shows', 'chance', 'Des', '33', 'fast-growing', 'cornerstones', 'appropriated', 'Crown', 'lot', 'since', 'Zicklin', 'criteria', 'yields', 'Earnings', '12-year', 'shoring', '51', 'advantage', 'Campbell', 'Stocks', 'environment', 'Saul', 'increasing', 'lying', 'ground', 'recent', 'elementary', 'Similarly', 'anti-miscarriage', 'destination', 'viewing', 'constitutional', 'Funded', 'demands', 'exceeding', 'Pharaoh', 'family', 'people', 'Sigler', 'start-up', 'acknowledges', 'Chairman', '1980s', 'index', 'electorate', 'Conn.', 'Excision', 'McMillin', 'pools', 'spooked', 'chilled', 'Sumitomo', 'series', 'ill', \"O'Brien\", 'sluggish', 'depository', 'retraced', 'OSHA', 'Carrier', 'labor-backed', 'Reliance', 'museums', 'product', 'Nomura', 'Mehta', 'cleanup', 'permit', 'Meanwhile', 'brought', 'instead', 'bottom', 'Patrick', 'centimeter', 'COLLECTING', 'paid', 'fails', 'export', 'Follow-up', 'either', 'officials', 'welfare', 'NBC', 'DIALING', '49.9', 'agreement', 'prevents', '25', 'extra', 'nameless', '94.2', 'one-hour', 'Such', 'Germany', 'solved', 'sees', 'own', 'Illinois', 'magnitude', '7.52', 'surely', 'physical', 'teachers', 'broad-based', 'borrowings', 'Pentagon', 'son', 'Chapter', 'lost', 'Fidelity', 'actual', 'Hallett', 'Randolph', 'William', 'Fewer', 'stiffer', 'Garret', 'ever', '114', 'effectively', 'persuade', 'shut', 'looked', 'digs', 'best', 'Consequence', 'old-time', '2009', 'EURODOLLARS', 'insinuating', 'saying', 'represents', 'require', 'continuingly', 'advanced', 'cards', 'S.A', 'credit', '59.9', 'Security', 'Stung', 'easier', 'portfolios', 'cable', 'quarterly', 'when', '3.1', 'issued', 'fresh', 'censorship', 'underlying', 'please', 'carry', 'example', 'Springfield', 'Wis.', '10.19', 'item', 'hazards', 'so', 'controversial', 'at', 'cheapest', 'privately', 'predicted', 'Cougar', '71', 'stages', 'abandon', 'Tiger', 'read', 'disappointing', 'and', 'Policies', 'problems', 'workplace', 'leery', 'acceptance', 'marketplace', 'writing', 'Breakey', 'attempted', 'interview', 'reputation', 'justices', 'live', 'Index', 'responsible', 'coming', 'increased', 'avoiding', 'notwithstanding', 'Merrill', 'lock', 'advent', 'accord', 'regulatory', 'cracks', 'D.', 'End', 'senior', 'high', 'lenders', 'motor', 'simply', 'Constitutional', 'category', 'heightened', 'location', '6.1', 'sought', 'each', 'expect', 'program-trading', 'downturn', 'zero', 'bellwether', 'telephone', 'intend', 'depression', 'itself', 'alcohol', 'text', 'revenue', 'expense', 'daily', 'impact', '30', 'noted', 'compassion', 'heirs', 'North', 'imbalances', 'Teikoku', 'felony', 'surgery', 'overproduction', 'psychiatric', 'entrusted', 'incentives', 'forced', 'transaction', 'above', 'electricity', 'Yamaichi', 'Both', 'deducting', 'Nationwide', 'day', 'Los', '177', 'Limited', 'minute', 'entire', 'who', 'impatient', 'tens', 'focus', 'witches', 'pressman', 'exhibits', 'purchase', 'functions', 'minicrash', 'devise', 'planning', 'improved', 'deliberately', 'Foods', 'Investments', 'citizen', 'Price', 'tablets', 'nine', 'Division', 'transportation', 'learn', 'arbitrage', 'English-speaking', 'plus', 'workers', 'insider-trading', 'Regal', 'direction', 'British', 'introduces', '672', '2\\\\/32', 'Put', 'mistakenly', 'stature', 'third-quarter', 'amount', 'discount', 'quote', 'PhacoFlex', 'cumbersome', '13.90', '99', 'Tribune', 'custom', 'area', 'campaigns', '180', 'B.', '31-year-old', 'metric', 'offered', 'assertion', 'Mitsui', 'advertisers', 'RATES', 'emissions', '149', '244,000', 'Chevrolet', 'A.L.', 'unfocused', 'blue', 'sound', 'throughout', 'careful', 'create', 'covers', 'minus', 'Toledo', 'handed', 'crying', 'blindfold', 'Think', 'Ford', 'ISSUES', 'produce', 'Salvador', 'foul', 'telecommunications', 'target', 'revive', 'agreed', 'psychology', 'culprit', 'man', 'invite', '1929', 'reasons', 'criminal', 'type', 'long', 'plunging', 'defendant', 'Community', 'insisted', 'good', 'Actually', 'folio', 'Brigham', 'counteract', 'calculated', 'Telephone', 'certainly', 'supplemental', 'Reed', '7.3', 'Jail', 'reject', 'chunk', 'bank-backed', 'budget', 'Co.', 'precisely', 'absurd', 'improve', 'locations', 'lottery', '6,500', 'base', '14.5', 'corrected', 'Trust', 'advertise', 'combine', 'allocation', 'barred', 'seen', '150,000', 'diminished', 'desirable', '7.422', 'hither', 'sign', 'perpetual', '1948', 'diethylstilbestrol', 'April', 'Your', 'tempted', 'addiction', 'insurance', '7.65', 'Kane', 'Guarantee', 'holders', 'avoid', 'RATE', 'compelling', 'People', 'Tokio', 'Even', 'stock-price', 'but', 'lawmakers', 'civilization', 'note', 'yon', 'also', 'Section', 'practiced', 'Ballot', 'Also', 'wines', 'Sable', 'Foreign', 'Overseas', 'viewed', 'Colleges', 'Trade', 'inevitable', 'orchestrated', 'questionable', 'openings', 'most-likely-successor', '1992', 'sense', 'slogan', 'march', 'wonder', 'commit', 'insurance-company', 'particular', 'speculated', 'attempts', 'unit', 'vow', 'magnets', 'Belt', 'chairman', 'modest', 'bilingual', 'Richmond', 'Publications', 'remainder', '98', 'have', 'chooses', 'lowering', 'Miles', 'engineers', 'instrumental', 'setback', 'present', 'tied', 'mobilizing', 'classic', 'Brooklyn', 'injuries', 'construction', 'College', 'anytime', 'diseases', 'call', 'resentment', 'liabilities', 'certain', 'S.', 'attached', 'erroneous', 'Last', 'removing', 'deposits', 'mentally', 'INTERBANK', 'stockbrokers', 'often', 'employees', 'Thursday', 'News', 'equipment', 'approval', 'curbing', 'Other', '113.2', 'every', '3,500', 'fewer', 'Japanese', 'normally', 'propagandize', 'fight', 'decided', 'bid', 'annual', 'Barclays', 'worth', 'privacy', 'vacant', 'moments', 'selling', '6.84', 'stimulating', 'was', '1903', 'Diaper', 'professionals', 'romance', 'relentlessly', '6.40', 'encouraging', 'alternative', 'Frank', 'Lawless', 'Besides', 'error', 'roadblock', 'much', 'SERVICES', 'Mitchell', 'administrator', 'assert', 'guilty', 'Of', 'deck', 'dismiss', 'Harris', 'crop', 'subsidiary', 'action', 'restriction', 'patterns', 'remove', 'round-trip', 'Gas', 'Lawmakers', 'wrath', 'while', '53-year-old', 'somebody', '31', 'been', 'declined', 'travel', '1,200', 'producing', '28.25', 'vested', 'MERRILL', 'TREASURY', 'ability', '1.65', 'means', 'execute', 'Citibank', 'programming', 'muzzling', 'severable', 'propagandizes', 'months', 'bitter', 'Electronics', 'upheld', 'per', 'bureaucracy', 'neutrons', 'November', 'Terms', 'Bendectin', 'Newhouse', 'rare', 'fold', 'allow', 'temptation', 'negotiable', 'exceeds', 'erodes', 'morning', 'LIBOR', 'deaths', 'Journal', 'deficiencies', 'arrangement', 'fetching', 'Loan', 'greed', 'unfairly', 'estimates', 'agricultural', 'composite', '722', 'misdemeanor', 'hailed', 'Competes', 'grain', 'holding', 'beleaguered', 'Bond', 'Officials', 'attention', 'sellers', 'liquid-nitrogen', 'cents', 'silicone', 'trader', '306', 'authorizing', 'An', 'must', 'West', 'considers', 'come', 'countries', 'project', 'opinion', 'hit', 'TRANSPLANT', 'Massachusetts', 'justice', 'System', 'examination', 'ignoring', 'thanks', 'arbitragers', 'stream', 'quiet', '3.4', 'optimism', 'works', 'executing', 'arguing', 'violate', 'retired', 'settled', 'York', 'thing', 'limited', '1.1', 'Drexel', 'brief', 'scheduled', 'place', 'non-callable', 'Insurance', 'Hartford', 'arrangements', 'Pa', 'Inouye', '7.458', 'edition', 'FreudToy', 'spaces', '12.5', 'ornamental', 'shambles', 'exacerbated', 'Howard', 'winning', 'word', 'shortages', 'examined', 'Stanley', 'unenthusiastic', 'consideration', 'Americans', 'Mergers', 'Nev.', 'Mayor', 'corporations', 'Mark', 'spurring', '203', 'eclipse', 'helpful', 'working', 'turning', 'break', 'elephant', 'to', 'Gross', 'scripts', 'Visa', 'limbo', 'disapproval', 'giant', 'date', 'investigating', 'offering', 'Despite', 'anyway', 'although', '1925', 'accepted', 'gross', 'receptive', 'amps', 'companies', 'Citadel', 'available', 'paperback', 'putting', 'mega-stadium', 'LYNCH', 'These', 'Signore', 'reversal', 'nominee', 'willing', 'beauty', 'many', 'proposing', 'finance', 'tort', 'seven', 'it', 'Orleans', '8.48', 'continued', 'real-estate', '420', 'payments', 'Purchasing', 'weak', 'worked', 'intention', 'Laboratories', 'Ind.', 'Freshbake', 'El', 'cheaper', 'T.', '8.45', 'revolt', 'performance', 'brand', 'evil', 'thousands', 'on', 'tours', 'reinstatement', 'done', 'corporate-wide', '13.50', '8.50', 'heavy', 'known', 'meals', 'preference', 'pinning', \"D'Amico\", 'Kidder', 'being', 'disseminating', '21.1', 'shed', 'common-law', 'potentially', 'victims', '1,880', 'position', 'scandal', 'undo', 'rather', 'buyer', 'move', '2003\\\\/2007', 'topped', 'Shokubai', 'International', 'Annualized', 'odd-year', 'provides', 'reacted', 'Hospital', 'Riese', 'Taurus', 'requested', 'non-U.S.', 'Crash', 'supplies', 'able', 'building', 'folks', '``', 'rallying', 'clients', 'commercial', '700,000', 'supposedly', 'surrendered', 'Travelers', 'show', 'install', 'has', 'multi-crystal', 'Hollis', 'compiled', 'exorbitant', 'be', 'off-year', 'Kathleen', 'range', 'card', 'trade', '3\\\\/8', 'experts', 'cutting', 'explosion', 'Fundamentalists', 'unsecured', 'Prudential-Bache', 'Designated', '83', 'stock-specialist', 'kinds', 'listeners', 'Roland', 'proposition', 'renew', 'marks', 'den', 'craze', 'Shearson', 'drastically', 'plan', 'evoking', 'rewards', 'fifth', 'larger', 'Glaxo', 'exports', 'portions', 'impetuous', 'top', 'Dow', 'precedent', 'Services', 'appetite', 'American-made', 'Design', 'UAL', 'solicitor', 'Miller', 'packaging', 'saw', 'took', 'considered', 'deal', 'caustic', 'Lazzaroni', 'Dan', 'innovative', 'caught', 'Street', 'costs', 'Redevelopment', 'Federalist', '6.9', 'unfunded', '16.7', 'prescription', '41', 'examinations', 'assessed', 'Stockbrokers', '57.7', 'augment', 'framers', 'additional', 'lesson', 'limping', 'Gordon', 'sacrifice', 'percentage', 'turn', 'follow', 'triggered', 'notify', 'portfolio', 'home', 'Eurobonds', 'Jenkins', 'faster', 'pitting', 'built', 'advertised', 'filings', 'continuously', 'Philadelphia', 'movements', 'household', 're-election', 'major', 'recovering', 'Fairless', 'recommendations', '90', 'transition', 'looking', 'Orange', 'Choose', 'survivor', 'Danzig', 'bombarding', 'unusual', '3,600', 'year', 'litigation', 'speculator', 'electrical', 'consulting', 'structures', 'clipped', 'left', 'academics', 'upon', '4.9', 'Rill', 'conference', 'Collector', 'high-risk', 'responsibilities', 'overleveraged', 'risk', 'opposite', 'promised', 'Bernstein', 'Bowl', 'favorable', 'expenses', 'argued', 'Foundation', 'abroad', 'waived', 'cavernous', 'Or', 'shortly', 'Cullowhee', 'Assuming', 'toll', 'law', 'insert', 'heated', 'moderated', 'malnutrition', '8.15', 'unknown', 'single-family', 'portray', 'Neanderthals', 'Petroleum', 'families', 'side', 'Dealers', 'secondary', 'whose', 'airplane', '6.20', 'electrical-safety', 'protests', 'copy', 'They', 'guarantee', 'salary', 'processes', 'traditional', '830,000', 'publish', 'thinks', 'elevators', 'Financially', 'beer', 'inflation', 'accounts', 'R.D.', 'Mitsubishi', 'negative', 'Commission', 'cardiovascular', 'nameplate', 'All', 'sizable', 'awareness', 'practitioners', 'Newspapers', 'goblins', 'Carnegie-Mellon', 'off', 'darned', 'controlling', 'car-development', 'business', 'physics', 'divided', 'probably', 'Chicago', 'match', '1973-75', 'Collins', 'tentatively', 'Vos', 'homeless', '80', 'settlements', 'approach', 'eased', 'Though', 'Most', 'intriguing', 'typically', 'declaring', 'drugs', 'mentioned', 'fiber-optic', 'member', 'Activity', 'Touches', 'Before', 'cancellation', 'masters', 'different', 'experiencing', 'chairs', 'Florida', 'illegal', 'amid', '397', 'lotter', 'make', 'early', 'aesthetic', 'raise', 'Broadcasting', 'echoed', 'Swiss', 'Barney', 'Resources', 'Christie', 'respond', 'stable', 'namely', 'attorney', 'activities', 'necessary', 'Perpetual', 'provide', 'Much', 'running', '334.5', 'Market', 'Fischer', '450', 'do', 'Proponents', 'horoscopes', 'Fields', 'Medicine', 'loathsome', 'simultaneously', 'CALL', 'Care', 'close', 'lower', 'mergers', 'growing', 'lawyer', 'downgrading', 'electronics', 'adequate', 'difference', 'assumption', '50', 'Bellows', 'fixes', 'Jones', 'source', 'Markey', 'high-volume', 'solutions', 'efficiency', 'Jack', 'assuming', 'Sterling', 'battle', 'basket', 'Gartner', 'gauge', 'purposes', '8.70', 'illustrates', 'Futures', 'examine', '7.88', '1967', 'elaborate', 'among', 'earnings', 'referred', 'letter', 'speculation', 'Princeton', 'single-A', 'Legislating', 'excess', 'slippery', 'maintenance', 'swap', '9.5', 'provisions', 'bought', 'Blunt', 'Named', 'Spanish', 'profits', 'dynamics', 'fill', 'newspaper', 'Oil', 'swiftly', 'reader', 'Noriega', 'carriers', 'repair', 'nonprofit', 'Elisa', 'legislative', 'Northeast', 'powers', 'hold', '9.82', 'guy', 'coliseum', 'challenge', '9.75', 'upsetting', 'option', 'areas', 'campaign', 'still', 'holder', 'appropriation', 'proving', 'expanded', 'ease', 'returns', 'highs', 'Voice', 'meatpacking', 'schemes', '120.7', 'them', 'speculators', '15,000', 'director', 'Droz', 'Credit', 'receive', 'free', 'Bob', 'entertainment', 'denied', 'less', 'Egnuss', '730', 'far', 'stretched', 'Almost', 'rapidly', 'confident', 'enough', 'rain', 'despise', 'pricing', 'billion', 'owned', '1996', 'gut', 'one', 'thumbs', 'insanity', 'followed', 'excision', 'miscarriages', 'fundamentalist', 'exposures', 'Johns', 'surreptitiously', 'tumbled', 'Provided', 'Banks', 'drug', 'Volatility', 'cultivation', 'regarded', 'mothers', 'Norwalk', 'Lovett', 'disappear', 'Obligations', 'proscribes', 'log', 'placement', 'aftermath', 'Commodity', 'pre-existing', 'Off-Track', 'managing', 'No', 'disclosed', 'cataract', 'demonstrates', 'Inns', 'David', 'chest', 'fastest-growing', 'redistribute', 'C.D.s', 'requires', 'March', '20,000', 'wants', '5.4', 'executive', 'filed', 'Transportation', 'profitability', 'six-packs', 'Stock-index', 'discovered', 'boost', 'Man', '600', 'Francisco', 'News-American', 'affairs', 'farms', '30.9', 'money', 'quickly', '7\\\\/16', 'millionaires', 'research', 'comes', 'Evans', 'stay', 'S.I.', 'after', 'candidates', '49', 'ties', 'underwriter', 'BRIEFS', 'several', 'advocated', 'stellar', 'numbers', '0.16', 'L.', 'up', 'plant', 'recommending', 'broad', 'closing', 'institutions', 'prohibiting', 'forum', 'Leighton', 'include', 'stock-picking', 'A.', 'today', 'fall', '7.90', 'switched', 'Telerate', '960', 'devastating', '-LCB-', 'financed', 'appropriators', 'like', 'changes', 'violated', '48', 'Traditionally', 'trend', 'participated', 'utility', 'weather', 'Glenn', 'Detroit', 'Boone', 'favor', 'analyst', 'Few', 'substance-abusing', 'On', 'Ohio', 'empire', 'called', '500-stock', 'Joni', 'mother', 'volatility', 'alive', 'PAPER', 'fasteners', 'unitary', '321', 'emphasized', 'OF', 'weekly', 'derivative', 'Kendrick', 'viewpoint', 'jeopardy', 'collective', 'CORP', 'played', 'fundamental', 'recession', 'answered', 'times', 'administration', 'where', 'dismissed', 'explains', 'space', 'cost-sharing', 'customer', 'Homeless', 'driving', 'fragile', 'cater', 'within', 'tenure', 'therapy', 'representing', 'Municipal', 'violation', 'dividend', '1990', 'accordance', 'manually', '21', 'cap', 'owner', 'investors', 'abandoned', '271-147', 'buyers', 'quoted', '141.9', 'photocopy', 'blue-collar', 'historic', 'ranged', 'an', 'motion', 'escape', 'veteran', 'by', 'The', 'Medical', 'term', 'sidewalk', 'researcher', 'days', '8.55', 'bundles', 'Primerica', 'crash', 'Jaguar', 'death', 'look', 'listed', 'rates', 'foldability', 'economic', 'moment', 'Treasury', 'finished', 'highly', 'merchandise', 'Edward', 'citing', 'auctions', 'Today', 'unveil', 'Typically', 'Wellington', 'wife', 'AN', 'How', 'transfers', 'striving', 'light', 'Michelin', 'independent', 'play', 'taken', 'marketers', '-RCB-', 'profess', 'skin', 'pursuant', 'rally', 'exhibition', 'unlikely', 'pyramids', 'pre-tax', 'age', 'bulk', 'economists', 'Fannie', 'jockeys', 'trying', 'mediocre', 'broadened', 'double-C', '270', 'advise', 'agreed-upon', 'games', 'offset', 'engaged', 'clearly', 'sale', 'Pepperdine', 'argument', 'reduced', 'information', 'tickets', 'Gorbachev', 'Educational', 'Wednesday', 'callers', 'resistance', 'forms', 'allowed', 'ranked', 'Miami', 'traded', 'year-end', 'Advance', 'conversion', 'industrial', 'Phillip', 'automatic', 'Justice', 'merely', 'program', 'Tokyu', 'gold', 'Drug', 'At', 'reports', 'Hopwood', 'Cheetham', '8.30', 'smoking', 'repeatedly', 'Spirit', 'Although', 'delisted', 'after-tax', '18.6', 'Further', 'print', 'compromise', 'Milan', 'crystal', 'wanting', 'regional', 'helped', 'showing', 'editorially', 'strongest', 'tabloid', 'Gottlieb', '1960s', 'Nippon', 'Bradley', 'matter', 'answer', 'Muzzling', 'triple-C', 'Industries', 'rhythm', 'simultaneous', 'cushioned', 'conceivable', 'gaining', 'losses', 'Stork', '35500.64', 'Review', 'recouped', 'alternatively', 'held', '26.8', 'DES', 'clashed', 'audit', 'regulators', 'went', 'champions', 'Thus', 'approve', 'focused', 'basis', 'Times', 'drawn', 'occurs', '8.47', 'disaster', 'construed', 'exceed', 'self-serving', 'much-larger', 'employment', 'soaring', 'short', 'numerous', 'traditionalists', 'Mass.', 'incapable', 'Ark', 'promotions', 'Daiwa', '8.5', 'Examiner', 'ballots', 'cow', \"'d\", 'profit-taking', 'phrase', 'Class', 'distributable', 'just', 'Democrats', 'Lilly', 'relief', 'you', 'Nylev', '778', 'President', 'Charities', 'economies', 'professor', 'steady', 'famed', 'financially', 'introduction', 'gave', 'museum', 'deeds', 'helps', 'tomorrow', 'Poor', 'Bush', 'LONDON', 'fail', 'thought', 'vaccines', 'bottom-line', 'enjoy', 'bond', 'Phelan', 'factors', 'Kill', 'playing', 'stood', 'hugging', 'innovation', 'reach', 'limit', 'Pittsburgh', 'enabling', 'referenda', 'improving', 'suffer', '472', 'coordinator', 'Intecknings', 'social', 'advertisements', 'offices', 'fuels', 'model', 'reality', 'Jonas', 'Beach', 'he', 'merchants', '1971', 'regime', 'distribution', 'rising', 'inventory', 'introduced', 'immune', 'oil', 'liability', 'Now', '27.1', 'practical', 'credit-rating', 'troubled', 'virtue', 'Calif', 'understand', 'tackle', 'protecting', 'conventional', 'sewer', 'restructured', 'City', 'Speculation', 'story', 'Voters', 'course', 'equally', 'tremendous', 'Nelson', 'prison', '11.10', 'nation', 'paycheck', 'forecast', 'book', 'deluge', 'get', 'corkscrews', 'unable', 'factor', 'Order', 'Development', 'photographs', 'one-house', 'Midland', 'mortgage', 'efficient', 'Beauty', 'adapting', '501', 'bidding', 'Sweden', 'Showa', 'signature', 'Yorkers', 'policy', 'these', 'teaches', 'interesting', 'asking', 'fixed', 'finally', 'offer', 'quota', 'grim', '753', 'Management', 'watchdogs', 'involves', 'objective', 'engineering', 'Oct.', 'actually', 'Something', 'architecture', 'earns', 'returned', 'rebound', 'Commerce', 'drop-in', 'momentary', '1.7', '107.03', 'curbed', 'containers', '14\\\\/32', 'publicity', 'Appropriations', 'away', 'factory', 'driver', 'Founded', 'Veraldi', '3,040,000', 'shopping', '58', 'Cruise', 'copies', 'Reagan', 'always', 'ratings', 'give', 'lending', 'quantities', 'houses', 'Daniel', 'full-time', 'accountant', 'melt-textured', 'casino', 'Wamre', 'predicated', 'presidents', 'filling', 'individuals', 'sink', 'traders', 'discontinued', 'ASSOCIATION', 'By', '1937-40', 'Geneva', 'prints', 'order', 'until', 'Antonio', 'Photograph', 'daughters', 'wires', 'Mercantile', 'separately', 'mix', 'screened', 'Another', '26', 'Superconductors', 'manpower', 'full', 'Occupational', 'duck', 'layer', 'canine', 'period', '107', 'PLC', 'fast', 'sponsors', 'foreign', 'Nature', 'agree', 'comments', 'link', 'find', 'my', 'cleared', '2005', 'prevalance', 'easing', 'market-oriented', 'deterioration', 'cooled', '153.3', 'public', 'Morrison', 'Rumors', 'drives', 'Courts', 'Panama', 'uses', 'shortage', 'Getting', 'active', 'five-year', 'contest', 'jobs', 'sums', 'asset', 'lobbyist', '24', 'runs', 'However', 'fired', 'faces', '10,000', 'missed', 'energetic', 'worsen', 'enacted', 'Walbrecher', 'year-ago', 'Here', 'resolution', 'tooth', 'Hanifen', 'something', 'pills', 'fiber-end', 'defying', 'requirement', 'benchmark', 'harmful', 'successfully', 'thousand', 'study', 'two-tiered', 'lure', 'equaling', 'prizes', 'Its', 'Investors', 'package', 'Odyssey', 'straight', '3.8', '95.09', 'John', 'exposure', 'predictably', '175', 'Volume', 'contrary', 'Vanderbilt', 'partner', 'pension-fund', 'financial-services', 'Group', '116.9', 'Koizumi', 'Bankruptcy', 'Root', 'depressions', 'launch', 'clock', 'Ray', 'short-wave', 'meant', 'nowhere', 'or', 'below', 'six', 'Code', 'R.', 'francs', 'can', 'generally', 'cautioned', 'breaks', 'month', 'older', 'income', 'undercutting', 'backers', 'Partnership', 'mining', 'shops', 'potential', 'appearing', 'letting', 'need', 'programs', 'players', 'joined', 'Scannell', 'production', 'exchange', 'form', 'Opinion', 'concentrate', 'week', 'companion', 'Labor', 'maker', '47', 'stability', 'domestic', 'texts', 'might', 'corn', 'modern', 'temporary', 'decade-long', 'debts', 'posting', 'middle-ground', 'resumes', 'claimed', 'opponents', 'Kong', '300-a-share', '250', 'Wright', 'Renaissance-style', 'capital-markets', 'Dai-Ichi', '1986', 'Family', 'specialists', 'Prof.', 'wish', 'purpose', 'Nearby', 'demographic', 'resign', 'war', 'Convention', 'functioning', 'World', 'congressmen', 'resent', 'response', 'Svenska', '2141.7', 'wrecking', 'Linda', 'spreads', 'mixed', 'Mikhail', 'run', 'shrinking', 'old-fashioned', 'manage', 'lousy', 'cancer', 'politicians', 'required', 'extraordinary', 'leveraged', 'Chatsworth', 'worker', 'capture', 'currently', 'Just', 'key', 'Motors', 'park', 'region', 'abuzz', 'sterling', 'transformed', 'relaunched', 'Jr.', 'doubts', 'introduce', 'stocks', 'strip', 'Bowman', 'slump', 'strengthened', 'antitrust', 'unlike', 'anxieties', 'circulation', 'assembly-line', 'Plains', 'leaky', 'ugly', 'abuse', 'celebrity', 'around', 'Herald-American', 'rapport', 'explain', 'Maine', 'gasoline', 'year-earlier', 'nearly', 'gyrations', 'half-hour', 'providing', 'Card', 'processing', 'outlets', 'obligated', 'arts', 'scenic', 'Elsewhere', 'Confidence', 'Maryland', 'fears', 'Huber', 'boosters', 'shape', '692', 'Valley', \"n't\", 'exemption', 'disaffiliation', 'prestigious', 'utterly', 'spackle', 'unless', 'inquiries', 'disclose', 'dominant', 'anti-program', 'follows', 'Israel', 'Bennett', 'Sir', 'leave', 'Defense', 'fan', 'small', 'compared', 'laboriously', 'getting', 'Budget', 'Hanover', 'unfair', '13.15', 'Moreover', 'No.', '7\\\\/8', 'Caribbean', '30.6', 'pillow', 'foldable', 'Congress', 'suggested', 'edged', 'nominate', 'authority', 'participate', 'attractive', 'night', 'large-scale', 'interim', 'controls', 'help', 'Wellcome', '30-share', 'reflecting', 'Lord', 'Kansas', 'negotiated', 'Acceptance', 'rivals', 'care', 'some', 'thunder', 'DIAPER', 'According', 'corporate', 'cite', 'incisions', 'options', 'spook', 'near', 'figure', 'identify', 'use', 'repaired', 'however', 'overseas', 'concerns', 'condition', 'crashing', 'Earlham', 'Solomonic', 'size', 'control', 'loses', 'hour', 'visiting', 'very', 'BIRDS', 'particularly', 'hook', 'price-depressing', 'basic', 'message', 'prior', 'features', 'discretion', 'evenly', 'generators', 'officially', 'cycle', 'consistent', 'radio', 'computer', 'failures', 'drunk', 'superior', 'Major', 'theme', 'legal', 'Lambert', 'omnipresent', 'curtailed', 'odds', 'exact', 'enables', 'alike', 'Rockford', 'plunge', 'books', 'Oshkosh', 'pharmaceutical', 'Tiny', 'hear', 'ban', 'generic', 'doubt', 'Finance', 'making', 'harder', '1.92', 'growth', 'revised', 'most', 'effective', 'households', 'Elizabeth', '35564.43', 'neither', 'voluntary', 'would', 'publishing', 'representatives', 'citations', 'publisher', 'eye', 'intent', 'rape', 'recipient', 'fact', 'Mass', 'Diceon', 'formed', 'EC', 'Buick', '103', 'structure', 'lights', 'fierce', 'set', 'sugar', 'desired', 'services', 'world-wide', 'Soup', 'withdrawn', 'turned', 'couple', 'Second', 'Upham', 'branches', 'industries', 'few', '106', 'Gary', 'according', 'should', 'goal', 'prepared', 'measured', 'gambling', 'hunker', 'slowing', 'robbed', 'substantially', 'sparing', 'Information', 'specialist', 'assume', 'reserves', 'obtain', '225', 'threatened', 'Fulham', 'cited', '1982', 'Brands', 'stacked', 'Duluth', 'adjustable', 'chain', 'Elco', 'sponsor', 'prerogative', 'Lonski', 'Mae', 'Markets', 'passing', 'triple-A-rated', 'surprise', 'fundamentally', 'bottle', 'died', 'gain', 'cattle', 'vehicle', 'life', 'succeeds', 'pharaohs', 'gut-wrenching', 'Contracts', 'operates', 'Consumer', 'town', 'Canada', '27.4', 'total', 'takes', 'joint', 'pushed', 'Session', 'goes', 'paying', 'co-owner', '14.99', 'marketing', 'share', 'Declining', 'PHOTOGRAPH', 'themselves', 'beaten', 'Larry', 'districts', 'tolerate', 'Fracturing', 'suit', 'once', 'down', 'Growth', 'she', 'proposal', 'beyond', '7.60', 'finite', 'contradictions', 'delays', 'machines', 'Maybe', 'proviso', 'Moody', 'feline', 'Researchers', 'buy', 'management', 'eligible', 'eliminated', 'Las', 'tubular', 'stop', 'swapping', '3\\\\/4', '8.65', 'pressure', 'Robert', 'flux', '116.3', 'Fabian', 'huge', 'Ms.', 'triple-A', 'Hoylake', 'yield', 'National', 'later', '8.1', 'pound', 'bygone', 'newsstand', 'German', 'compare', 'explaining', 'turns', 'city', 'Says', 'Mutchin', 'lobbies', '18.3', 'expert', 'successful', 'Sigmund', '57.6', 'air', 'replace', 'stupid', 'enjoyed', 'Encouraging', 'preapproved', 'columns', '4.10', 'natural', 'So', 'others', 'PRIME', 'len', 'Anthony', 'fines', 'verbatim', 'single', 'development', 'She', 'banker', 'Unemployment', 'restore', 'various', 'veto', 'protection', 'stimulated', 'modestly', 'falling', 'reduction', 'super-absorbent', 'Air', 'damaging', 'complexes', 'Safety', 'untrue', 'gift', 'missiles', 'acquires', '25-year-old', 'transfer', 'Buyers', 'we', 'reclaim', 'viewership', 'tons', 'Cataracts', 'recess', 'Risks', 'causing', 'manufacturer', 'five', 'linked', 'Paul', 'Fed', 'assistance', 'group', 'really', 'safety', 'Pretty', 'field', 'Hymowitz', '116.4', 'circulated', 'bridge', 'Corn', 'executives', 'S&P', 'July', 'Superdome', 'Drink', 'regulated', 'got', 'level', 'brings', 'industry-supported', 'report', '4.5', 'statute', 'respect', 'ambassadors', 'quietly', '8.575', 'serial', 'journal', 'architect', 'scholar', '500', 'folded', 'borough', 'capped', 'Citing', 'matched', 'helping', '3.9', 'headquarters', 'Sit', '-LRB-', 'brutal', 'Ill', 'Boston', '7.78', 'Ana', 'economics', 'Guard', 'vice', 'does', 'Petersen', 'temporarily', 'Wolf', 'ruled', 'test-drive', 'businesses', 'N.C', 'beneficial', 'reform', 'acid-rain', 'Lids', 'expanding', 'Tokyo', 'executive-office', 'computers', 'Sept.', '2.7', 'Generally', 'joins', 'Morrell', 'plants', 'preset', 'discrepancies', 'legislature', '80.8', 'less-than-brilliant', 'permanent', 'hurt', 'sold', 'never', 'Dr.', 'wild', 'those', 'state', 'Mrs.', 'Yorker', 'Intermec', 'ceramic', 'targets', 'While', 'Hart-Scott-Rodino', 'resulting', 'trust', 'end', 'summer', 'observers', 'declines', 'replacement', 'big', 'million', 'Could', '5.7', 'entered', 'push', '89', 'kept', 'FT-SE', 'children', '2.42', 'legislation', 'operate', 'global', 'role', 'Syracuse', 'car-care', 'impossible', 'editorial', 'value', 'main', 'choose', 'inspection', 'merger', 'Schwab', 'Catholic', 'nomination', 'half', 'twisting', 'refer', 'alternatives', 'facilities', 'chicago', 'using', 'essentially', 'disorders', 'lives', 'Mercury', 'transactions', 'signifying', 'recorder', 'Lynch', 'necessities', 'leaving', 'auditor', 'racket', 'Stockholm', 'respected', 'Sometimes', 'markets', 'dealing', 'Dec.', 'Dingell', 'seat', 'costly', 'Old', 'absolute', 'maintained', 'Calif.-based', 'Sidak', 'parents', 'Bund', 'gains', 'Persky', 'preferred', 'contained', 'Manila', 'Average', 'Britta', 'duo', 'Constitution', 'received', 'Arbitrage', 'ought', 'proponents', 'fallen', 'endorse', 'promote', 'approached', '1969', 'original', 'Cleveland', 'owed', 'penchant', 'Do', '609', 'illness', 'harm', 'long-term', 'evaluation', 'touch', '70', 'brokers', 'Ltd', '4.1', 'high-speed', 'emasculate', 'Scientists', 'gives', 'planned', 'committed', 'limitation', 'calls', 'exuded', 'downgraded', 'health', 'coupled', 'merits', 'Gray', '14', 'Matthews', 'Peninsula', 'Brussels', 'elections', 'happened', 'assumed', 'Why', 'Securities', 'made', 'longer', 'quotations', 'B.A.T', 'Open', 'cover', 'Milwaukee', 'staid', 'sweatshirts', 'packages', 'warranties', '1972', 'Piper', 'TRIMMING', 'welcome', 'gilt', 'Banking', 'vary', 'drawing', 'firms', 'ASSETS', 'Olson', 'blurred', 'causes', 'Estate', 'Allied', \"'m\", 'U.K.', 'invested', 'things', 'CERTIFICATES', 'executed', 'decide', 'Judge', 'blames', 'as', 'merge', 'Confederation', 'reversed', 'USX', 'From', 'Defending', 'needed', 'identified', 'Federal', 'Susan', 'tree', 'Young', 'Dean', 'Dover', 'departments', 'Posted', 'continually', 'During', 'spectacular', 'decline', '170,000', 'across', '1992-1999', 'going', 'states', 'EXCHANGE', 'Junk', 'apples', 'return', 'bull', 'closed', 'Occidental', 'regulations', 'between', 'claim', 'underwriters', 'wield', 'anti-drug', 'agency', 'engage', '75', 'Berman', 'nothing', 'previously', 'E.W.', 'places', 'egregious', 'playgrounds', 'insist', 'one-time', 'Results', 'file', 'speech', 'TIRED', '100,000', 'Midwestern', 'Hans', 'unwilling', 'how', 'State', '77', 'uttering', 'N.J', 'READY', 'brilliant', 'produced', 'Yasuda', 'unsuccessful', 'frightened', 'Syndicate', 'fell', 'Xerox', 'ratcheting', '2.46', 'Patients', 'rider', 'equal', 'freeway', 'women', 'there', 'Moines', 'contemporary', 'pilots', 'poverty', 'ones', 'without', 'Andy', '1991-2000', 'Once', 'bearing', 'immediately', 'minutes', 'directors', 'improvement', 'football', 'refunding', 'IBM', 'Thomas', 'trading', '63.79', 'activity', 'barriers', 'possibly', 'environmental', 'via', 'service', 'sphere', 'before', '140', '17.4', 'Pencil', 'bloods'}\n",
      "len: 5864\n",
      "Out-of-vocabulary words in test set: {'outstanding', 'unanticipated', 'affiliate', 'Reuter', 'sentence', 'Ratner', 'bring', 'connected', '15', 'Czechoslovakia', 'thrift', 'Poland', 'traveled', 'Corp.', 'General', 'creditor', 'corporation', 'binge', 'cutthroat', 'integrated', 'mood', 'balloon', 'Capital', '23.5', 'averted', 'liquidated', 'Telegraph', 'nervous', \"'80s\", 'principle', 'influence', 'University', 'J.', 'cut', 'assess', 'Donuts', 'Crude', 'right', 'River', 'game', '492', 'third', 'trafficking', 'then', 'capital', 'climbed', '12.82', 'merchant', 'Steel', 'Numerous', 'names', 'open', 'rejected', 'He', 'competes', '1.14', 'near-limit', '64', 'Common', 'Puerto', 'platinum', '1.64', 'told', 'Bronces', 'Among', 'fetal-tissue', 'soon', 'Committee', 'food', 'cash', 'Disputada', 'in', 'wanted', 'initial', 'settlement', 'Silver', 'slightly', '9.9', 'court', 'Guerrilla', 'said', 'lines', 'stores', \"'s\", 'Santa', 'Italian', 'investigation', 'supply', '7.5', 'conglomerate', 'announcement', 'previous', 'severance', 'Arbitrage-related', 'government-owned', 'our', 'becomes', 'party', 'signals', 'Marty', 'Beall', 'cluster', 'tax', 'Trading', 'terms', 'Angeles', 'departure', 'McAlpine', 'wheat', 'apparently', 'real', 'Mich.-based', 'observance', 'spark', 'failed', 'designer', 'deter', 'drops', 'clean-air', 'Thousands', 'world', 'no-confidence', 'yen', 'complicated', 'Bribe', 'promptly', 'trades', 'rechargeable', 'Western', 'unrealized', 'take', 'Interleukin-3', 'redeemed', 'Fe', 'Customers', 'another', '100', 'Absorbed', 'only', 'stations', 'Avon', 'profit', 'magazine', 'bench', 'structural', 'regardless', 'politically', 'nickel', 'eventually', 'attract', 'Kent', 'Sales', 'Charles', 'generous', 'restructure', 'indicates', 'Frankfurt', 'periodontal', 'orders', 'Big', 'D.C.', 'maximize', 'version', 'indicated', 'address', 'decisions', 'discharge', 'valued', 'eliminating', 'name', 'power', 'slow', 'ENDED', '60', 'Atlantic', 'reorganization', 'rumors', 'courts', 'secured', 'central', 'elected', 'despite', 'raises', 'patients', 'future', 'divisions', 'drastic', '387.8', 'Army', 'Two', 'further', 'Personal', 'products', 'margins', 'vote', 'thieves', 'initiatives', 'Nigel', \"Dunkin'\", 'Arthur', 'stronger', 'coated', 'applications', 'Des', 'chance', 'better', 'employee', 'fans', '33', 'fast-growing', 'About', 'yourself', 'lot', '47.1', 'since', '1\\\\/2', 'Earnings', 'now', 'Instead', '51', 'Mariotta', 'Campbell', 'advantage', 'question', 'chemicals', 'Stocks', 'former', 'Runkel', 'increasing', 'EEOC', 'recent', 'anemic', 'crook', 'paper', 'cancers', 'SOYBEANS', 'constitutional', 'did', 'shovels', 'firmly', 'television', 'family', '227', 'gloss', 'people', 'flows', 'Cray', 'Uncertainty', 'Computer', '1989-90', 'computer-services', 'cell', 'retaining', 'Waterloo', '0.54', 'worst', 'lawyers', 'Gulf', 'Minera', 'Chairman', '1980s', 'index', '1.56', 'alert', 'promoting', 'Conn.', 'autumn', '45.2', 'McMillin', 'high-flying', 'plastic', 'rating', 'so-called', 'command', 'sluggish', 'bomber', 'significantly', 'Finland', 'OSHA', 'goodwill', 'earthquake', 'pet', 'product', 'slide', 'Engineers', 'apparel', 'feed', 'brought', 'Meanwhile', 'instead', 'separate', 'December', 'Patrick', 'gripping', 'paid', 'export', 'sensational', 'revived', 'either', 'influenced', 'officials', 'compliance', 'Japan', 'prove', 'agreement', 'Komatsu', 'recombinant', 'hearings', '25', 'electronic', '60.36', 'Mercedes', 'This', 'natural-gas', 'Germany', 'inquiry', 'Estimated', '1.76', 'sees', 'own', 'Iowa', 'Texas', 'hope', 'surely', '46', 'changed', 'yesterday', 'shipboard', 'lost', 'Chapter', '18', 'fiscal', 'Beirut', 'ceiling', 'Stock', 'surviving', 'actual', 'Randolph', '1991', 'boosted', 'William', 'Moslem', 'ever', 'Sen.', '62', 'expendable', 'shut', 'best', 'more', 'outlook', 'strong', 'started', '38', 'sources', 'elsewhere', 'saying', '1.35', 'treat', 'bribe', 'represents', 'Transamerica', 'outlays', 'advanced', '2.30', 'because', 'credit', 'easier', '59.9', 'gained', 'quarterly', 'any', 'when', 'operating', 'boots', 'Standard', 'issued', 'fresh', 'stock-index', 'underlying', 'Kennedy', 'Pan', 'carry', 'example', '2.2', 'late', 'Union', 'creditors', 'explained', 'America', 'so', 'at', 'contacts', 'GRAINS', 'predicted', 'rate', 'bribery', '71', 'Mannix', 'related', 'led', 'bushel', 'territory', 'rough', 'AMR', 'and', 'problems', 'Beverly', 'Ports', 'marketplace', 'Ohio-based', 'national', 'partly', '93.3', 'writing', 'scheme', 'cake', 'attempted', 'Indiana', 'not', 'shareholder-rights', 'feet', 'Ed', 'Pauline', 'interview', 'reporters', 'live', 'reduce', 'apiece', 'Index', 'coming', 'stockholders', 'drought', 'increased', 'loss', 'adopted', 'Navy', 'bidder', 'attempting', 'proceeds', 'Merrill', 'higher', 'avert', 'accord', 'There', 'policies', 'having', 'Cincinnati', 'France', 'D.', 'sidestep', 'Pictures', 'biggest', 'senior', 'dollars', 'high', 'groups', 'simply', 'projects', 'shipbuilding', 'till', 'revival', '225,000', 'lead', 'York-based', 'location', '3436.58', 'boost', 'sought', 'whenever', 'each', 'record', 'eliminate', 'falsify', 'majority', 'ounces', 'downturn', '1988', 'indicator', 'almost', 'dividends', 'customized', 'telephone', 'itself', 'preface', 'alcohol', 'impending', '210', 'tender', 'revenue', 'patent', 'text', 'daily', '30', 'impact', 'noted', 'winner', 'increase', 'maintaining', 'SEC', 'gallon', 'turmoil', 'rules', '9.8', 'psychiatric', 'least', 'withdrew', 'transaction', 'entrusted', 'forced', 'Both', 'inoperative', 'above', 'energy', '2.75', 'from', 'interested', 'day', 'strain', 'Los', '177', 'Tuesday', '13', 'Limited', 'split', 'Carter', 'scrounge', 'entire', 'who', 'Hurricane', 'N.J.', 'garden-variety', '198', 'bids', 'pall', 'focus', 'attend', 'functions', 'purchase', 'ounce', 'figures', 'bomb', 'lawmaking', 'planning', 'improved', 'conclude', 'minimum-wage', 'inherent', 'appreciation', 'pediatrician', '200,000', 'inadequate', 'nine', '120-a-share', 'transportation', 'US$', 'networking', 'steelmakers', 'though', 'sweetened', 'Graduate', 'appropriations', 'arbitrage', 'London-based', '2.15', 'points', 'Datapoint', 'workers', 'regions', '5.1', 'bushels', 'begun', 'Miami-based', 'Rockwell', 'including', 'direction', '158,666', 'Norfolk', 'unveiled', '11-month-old', 'Research', 'expansion', 'developer', 'Industrial', 'no', 'satisfactorily', 'third-quarter', 'amount', 'mines', 'Saints', 'Jihad', 'soared', 'depends', 'aerospace', 'Kingsbridge', 'spot', 'tidbits', 'sweater', 'auspices', 'area', 'B.', '180', 'early-retirement', 'metric', 'subject', 'promotion', 'seek', 'local', 'offered', 'roughly', 'NL', 'deplorable', 'emissions', 'Junk-bond', 'Business', '37', 'Richard', 'merit', 'midrange', 'blue', 'throughout', 'beautiful', '3.2', 'create', 'covers', 'Germany-based', 'into', 'Toledo', 'Meese', 'shrank', 'Party', 'Equus', 'produce', 'sharply', 'Day', 'SCI', 'Soviet', 'target', 'delivered', 'telecommunications', 'agreed', 'psychology', 'submit', '58.64', 'walkout', '7.63', 'reasons', 'may', 'type', 'Note', 'analysts', 'good', 'Intel', 'Unitholders', 'past', 'MacLellan', 'suspects', '42', 'disposal', 'irrelevant', 'certainly', '16.09', 'warning', 'Reed', 'Andean', '7.3', 'steps', 'May', 'Kurland', 'congressional', 'article', 'great', 'technology', 'budget', '257', 'ownership', 'holdings', 'Co.', 'agreements', 'possibility', 'opposition', 'Georgia-Pacific', '92.9', 'detailed', 'Biedermann', 'developing', 'base', 'estimated', 'continues', 'subdued', 'bounced', 'Ltd.', 'two', 'AG', 'think', 'Genetics', 'Trinity', 'induce', '-RRB-', 'BMP', '50-50', 'sign', 'connection', 'necks', 'Waertsilae', 'barge', 'Brisk', 'commodity', 'ample', 'April', 'result', 'recovered', '14.54', 'Urban', 'Austin', 'insurance', 'disappointment', 'retain', 'rushed', 'unwanted', 'corrupt', 'authors', 'Heating', 'Baltimore', 'holders', 'round', '3.55', 'People', 'port', 'contribute', 'Radio', 'Wertheim', 'indefinitely', 'but', 'low', 'Died', 'note', 'amicable', 'Nicaraguan', 'Section', 'also', 'scammers', 'Seymour', 'Also', 'struggling', 'utilities', 'begins', 'organization', 'reason', 'experienced', 'lease', '1.8500', 'prior-year', 'change', '1985', 'units', 'Trade', '1\\\\/8', 'memory', 'sense', '7.84', 'WayMar', 'Paper', 'If', 'dashed', 'colder', 'penalty', 'quotas', 'sputtered', '12.68', 'particular', 'Sandoz', 'unit', 'Aerojet', 'chairman', 'house', '98', 'have', '176.1', 'Mead', 'launched', 'conservative', 'charges', 'logistical', 'construction', 'muscling', 'rang', 'anytime', 'diseases', 'distinct', 'American', 'Millis', 'belong', 'S.', 'certain', 'Michael', '26,956', 'integrity', 'Last', 'withdrawal', 'gambler', 'wealth', 'gyrate', 'Professional', 'separation', 'Holding', '5\\\\/8', 'Bronx', 'Companies', '434.4', 'Cambridge', 'Texaco', 'buy-out', 'often', 'cent', 'shipped', 'benefited', 'employees', 'network', 'loans', 'equipment', 'Other', 'approval', 'devices', 'California', '300', 'reaction', '598', 'slaying', 'failing', 'owns', 'normally', 'same', 'bid', 'Kobe', 'secretary', 'Exchange', 'worth', 'rebuild', 'Hasbrouk', 'convertible', 'feasible', 'vacant', 'per-share', 'selling', 'stimulating', 'was', 'professionals', 'swift', 'formally', 'Coleco', 'targeted', 'Besides', 'NYSE', 'moved', 'information-services', '2.62', 'transplants', 'Haden', 'much', 'proceedings', 'We', 'job', '1.18', 'Southeast', 'vans', 'Of', 'sector', 'suspect', 'cane', 'Chandler', 'crop', 'otherwise', 'subsidiary', 'action', 'Gas', 'crime', 'easy', 'while', 'alleviate', 'general', 'deadline', 'been', 'declined', '31', 'flat', 'Energy', 'producing', 'travel', '0.50', 'act', 'tightening', 'posts', 'auction', '1.65', 'means', 'choosing', 'jurisdiction', 'rigged', 'Hutton', 'one-fifth', 'switch', 'shipyards', 'months', 'per', 'bureaucracy', 'procedure', 'launch-vehicle', 'lifted', 'November', 'Atsushi', 'liberal', 'Terms', 'DiLoreto', 'Light', 'allow', 'bombers', 'cold', 'bolstered', 'successor', '386', 'Because', 'extension', 'Fairlawn', 'time', 'upbeat', 'Exxon', 'pence', '40', 'Journal', 'offensive', 'None', 'enthusiasm', 'distributes', 'four', 'Surrey', 'deficiencies', '237-seat', 'Loan', '5.2180', '34.625', 'ship', 'payment', 'Yesterday', 'Rep.', 'unfairly', 'estimates', 'leather', 'agricultural', 'composite', 'subcontractor', 'trucks', 'grain', 'signed', 'severe', 'sudden', 'holding', '400', 'nationalist', 'benefit', 'rebels', 'judgment', 'Beijing', 'Communications', 'indication', 'Merc', 'cents', 'duties', 'rumor', 'An', 'must', 'West', 'considers', 'come', 'hit', 'soft', '132.9', 'competing', 'System', 'cease-fire', 'ignoring', 'depleted', 'Traders', 'droughts', 'Contras', 'terrorists', 'European', 'ports', 'style', 'optimism', 'Frenzy', 'thwart', '129.91', 'above-market', '47.125', 'delay', 'retired', 'backlog', 'succeed', 'settled', 'doubted', 'York', 'precious', 'refinery', 'Drexel', '1.1', 'scheduled', 'place', 'Coast', '14.75', 'Insurance', 'Louis', 'Chilean', 'added', 'Lehman', 'observed', 'hopes', '12.5', 'trail', 'their', 'dry', 'Soviets', 'guarantees', 'Professors', '566.54', 'impeding', 'they', 'advances', '4.2', 'Americans', 'Metallgesellschaft', 'examined', 'marrow', 'price', 'Mark', 'helpful', 'state-appointed', 'country', 'shared', 'Prices', 'Trump', '1990-91', 'working', 'exporter', 'Warner', '2.375', 'Bethlehem', 'break', '50\\\\/50', 'jointly', 'to', 'questioned', 'DD', 'Dell', 'are', 'bad', 'Champion', 'Association', 'Paso', 'jeweler', 'Heritage', 'offering', 'squeeze', 'accepted', 'although', '5,699', '430', 'companies', 'Demand', 'parts', 'TXO', 'available', 'Angola', 'defeated', 'several-year', 'over-the-counter', '16.2', 'These', 'outbid', 'demobilize', 'willing', 'many', 'finance', '84.9', 'seven', 'defense', 'it', 'suspended', 'surged', 'purchases', 'seem', 'charge', 'metals', 'Orleans', 'continued', 'real-estate', '967,809', 'Everything', '39', 'manmade-fiber', 'Intermediate', 'payments', 'minimum', 'injuring', 'worked', 'Hostess', 'Symbol', 'Purchasing', 'intention', '143.80', 'scared', 'Depending', 'vowed', 'Democrat', 'El', '53', '77.6', 'Wedtech', 'interference', 'evil', 'cutbacks', 'measure', 'common', '185.9', 'case', 'exporters', 'U.S.-backed', 'true', 'on', 'achieve', 'Possibly', 'restrictions', 'Gillett', 'bread-and-butter', '83,206', 'preference', 'workable', 'June', 'being', 'adviser', 'trees', 'Biaggi', 'cost-cutting', 'landowners', 'position', 'CIA', 'scandal', 'buyer', 'support', 'rather', 'warrants', 'liquidation', 'move', 'protesters', 'tight', 'newspapers', 'Takeover', 'methods', 'International', 'noncompetitively', 'important', 'provides', 'weaker', 'consultants', 'considering', '29', '292.32', 'Hospital', 'Warehouse', '6.4', 'benefits', '1.637', 'Midwest', 'supplies', 'falls', 'delivery', 'able', 'building', 'put', 'Opportunity', '``', 'board', 'concern', 'commercial', '14.26', 'loading', 'Neither', 'technical', 'qualified', 'controlled', 'Lee', 'show', '1.8', 'reflected', 'windfall', 'more-advanced', 'interests', 'river', 'has', 'yet', '22', 'private', 'Property\\\\/casualty', 'Jonathan', 'be', '913', 'showed', 'assurance', 'It', 'Commodities', 'competitors', 'talks', 'killing', 'patents', \"'re\", 'trade', '3\\\\/8', 'pages', 'goods', 'experts', 'War', 'Irvine', 'add', 'cutting', '55', 'shipments', 'engines', 'Prudential-Bache', 'unsecured', 'Level', 'reshaping', 'Groups', '126.1', 'magnified', 'marks', 'Shearson', 'craze', '500,000', 'one-third', '93.9', 'ABA', 'political', 'accrue', 'publishes', 'plan', 'sweaty', 'approved', 'permits', 'confirm', '11,390,000', 'supercomputer', 'emergency', 'addition', 'responding', 'Stores', 'Tribe', 'steel', 'exports', 'meet', 'unaffiliated', '1\\\\/4', 'principals', 'portions', 'software', 'Dow', 'expects', 'believe', 'spun', 'test', 'acquisition-minded', 'firmness', 'tendered', 'UAL', 'Imports', 'influencing', 'am', 'Mr.', 'Delmont', 'N.C.', 'pace', 'saw', 'packaging', 'took', 'deal', 'partially', 'persistent', 'commitments', 'named', 'Malta', 'strategy', 'Street', '87.5', 'costs', 'Rico', 'scams', 'pockets', '6.9', 'especially', 'designation', 'chief', 'situation', 'Revenue', '41', 'rolled', '28', 'remarkable', 'W.', 'competitive', 'disappointed', '20', '1989', 'crises', 'additional', 'produces', 'other', 'Gordon', 'turn', 'begin', 'railcar', 'leader', 'largely', 'Allergan', 'follow', 'researchers', 'home', 'portfolio', 'Lurgi', 'unconsolidated', 'describes', 'maintain', 'possible', '11', 'worried', 'buying', 'obligations', 'built', 'delayed', 'major', 'transition', 'perform', 'career', 'pursue', 'unusual', 'litigation', 'year', 'acid', 'decision', 'co-author', 'Baking', 'pay', '319.75', 'upon', 'Aerospace', 'ending', 'arrested', 'discussed', 'receipt', 'managers', 'equity', 'responsibilities', '200', 'history', 'fingers', 'Bernstein', 'favorable', 'abroad', 'stock', 'number', 'halts', 'heavily', 'Foundation', 'exercise', 'mine', 'richer', '80.50', '2.87', 'law', 'section', 'Hadson', 'venture', 'Leon', 'equities', '5.82', 'Petroleum', 'car', 'side', 'weakness', 'reorganized', 'whose', '87-store', 'say', 'plagued', 'serving', 'Adam', 'markdowns', 'Cara', 'Saudi', 'device', 'diluted', 'advocating', 'Great', 'protests', 'red', '240', 'specializes', 'They', 'crossing', 'urged', 'processes', '70.2', 'human', 'Ferro', 'elevators', 'junk', 'pipes', 'acquire', 'wage', '13.1', 'due', 'commitment', 'combination', 'awaits', 'Commission', 'regulating', 'All', 'sizable', 'two-thirds', '16.68', 'responsibility', 'angle', 'mount', 'off', '1976', 'client', 'replaced', 'business', 'divided', 'probably', 'Trace', 'McGovern', 'Chicago', '263.07', '2.5', 'investments', 'formation', 'salable', 'renovation', 'notes', 'Andersson', 'the', '80', 'eased', 'high-rolling', 'Most', 'Dallas', 'sell-off', 'declaring', 'zinc', 'flies', 'models', 'manufacturing', 'revelations', 'prevent', 'different', 'sweaters', '1.55', '21,000', 'forecasts', 'relieve', '142.84', 'old', '2645.90', 'trillion', '3.5', 'amid', 'Agriculture', 'staff', 'along', 'make', 'procedural', 'ORTEGA', 'rulings', 'early', 'sheet', 'rulers', 'bankruptcy', 'budding', 'bankrupt', 'collapsed', 'stable', 'namely', 'chosen', '85', 'protein', 'reaching', 'Health', 'activities', 'roll', 'estate', 'necessary', 'financier', 'remaining', 'measures', 'running', 'provide', 'Market', 'Civil', '450', 'members', 'do', '8.9', 'sell', '1.49', '5.70', 'consumers', 'proposals', 'Care', 'close', 'lower', 'coffee', '2.47', 'growing', 'Pacific', '310', 'electronics', 'difference', 'East', 'if', '50', 'corn-buying', 'Jones', 'assuming', 'South', 'Equal', 'Futures', 'Marathon', '50.1', '3.04', 'among', 'earnings', 'lobbyists', 'strongly', '19', 'races', 'letter', 'faltered', 'crops', 'speculation', 'partners', 'Eveready', 'shaky', 'Value', '313', '52', 'resulted', 'operator', 'consider', 'swap', 'publicly', 'Marcus', 'bought', 'For', 'accident', '1.25', 'Scott', '630.9', 'profits', 'office', 'galvanized', 'ex-dividend', 'nations', 'Oil', 'dolls', 'reader', 'Holt', 'Calif.', 'buys', 'C.', 'Train', 'scoop', 'again', 'capitalize', 'Continental', 'years', 'insiders', 'cash-flow', 'heavy-truck', 'remains', 'hold', 'pro-democracy', 'blood', 'ingredients', 'Karns', 'School', 'Dollar', 'receiving', 'areas', 'Lakes', 'hits', 'campaign', 'decliners', 'still', 'Namibian', '0.60', 'proving', 'Feniger', 'ease', 'minority', '13.65', 'Matthew', 'unspecified', 'highs', 'Northern', 'movement', 'leaders', 'them', 'arrive', 'massive', 'redistributing', 'director', 'labor', 'monitor', 'began', 'financing', 'condemned', 'befell', 'EST', 'free', 'receive', 'Year', 'less', 'spurred', 'color', 'her', 'shift', 'eight', 'rhetoric', 'Concurrent', '14.00', 'U.S.', 'nature', 'far', 'railroad', 'Chile', 'proposed', 'enough', 'rain', 'pricing', '800', 'billion', 'owned', 'exercised', 'one', 'dollar', 'bonds', 'Attorney', 'anything', 'used', 'through', 'followed', 'Communist', 'Bill', 'Novell', 'Profit', 'derived', 'Helsinki', 'direct', 'tumbled', '38.5', 'drug', 'fine', 'PaineWebber', 'insane', 'concluded', 'reflect', 'barrel', 'Intelogic', 'regarded', 'usually', 'person', 'see', 'F.', 'became', '0.82', 'importer', 'harvest', '8.2', 'emerged', 'defensive', 'implicitly', 'facing', 'contracts', 'spinoff', 'studies', 'Commodity', 'demand', 'managing', 'No', 'disclosed', 'cataract', 'occasionally', 'tough', 'narrowed', 'crackdown', 'pill', 'positions', 'creating', '1,100', 'hub', 'status', 'David', 'meetings', 'ton', 'March', 'wants', 'amortization', 'session', 'relies', 'industrials', 'oriented', 'movie', 'executive', 'peace', 'filed', 'Shepperd', 'profitability', 'Transportation', 'studio', 'democratic', 'vs.', 'discovered', 'Bradford', 'keep', 'freedoms', 'ultimate', 'Columbia', '28.53', 'stake', 'shuttle', '11.72', 'thrifts', 'boilers', 'ingenuity', '600', 'changing', 'Francisco', 'pro-Iranian', '4.4', 'One', 'attitude', 'talk', 'G.m.b', 'concept', 'core', 'creation', 'affairs', 'write', '500-Stock', 'money', '3.16', 'high-yield', 'textile', 'quickly', 'research', 'comes', 'Spiegel', 'raised', 'that', 'Sony', 'stay', 'cartilage', 'after', 'hampered', 'candidates', 'House', 'won', '49', 'ties', 'James', '126.15', 'rigid', 'morphogenetic', 'several', 'insurgents', 'graphics', 'rebel', 'numbers', 'up', 'plant', 'carried', 'wo', 'oust', 'cost', 'waivers', 'closing', 'ECONOMIC', 'rebuilding', 'doling', 'says', 'difficult', 'retirement', 'over', 'covered', '14.53', '0.0085', 'include', 'today', 'A.', 'fall', 'wrestling', 'Bougainville', '92', 'facility', 'shipyard', 'his', 'Telerate', 'minister', 'POP', 'tailor-made', 'discrimination', '12.09', 'dramatic', 'issue', '1.20', 'Jerry', '-LCB-', 'like', 'trend', '48', 'investor', 'utility', 'hauling', 'sagged', 'weather', 'healing', 'gas', 'third-largest', 'consent', 'Pretoria', 'Wilmington', 'analyst', 'Missouri', 'evidence', 'Few', 'On', 'disease', '28.36', 'Ohio', 'skilled', 'Philip', 'riding', 'called', '6.5', 'familiar', 'sells', 'based', 'Peoria', 'volatility', 'conspicuous', '512', 'Brazilian', 'compressed', '38.875', 'bribing', 'caused', 'sabotage', 'fate', 'kilobytes', 'termed', 'weekly', 'Mellon', 'Allendale', 'rolling', 'professors', 'England', 'waters', 'conditional', 'Schroder', 'Programs', 'Orleans-based', 'Holland', 'founder', 'recession', 'Hills', 'face', 'London', 'Acquisition', 'Financial', 'answered', 'administration', 'confused', 'mid-afternoon', 'where', '125', 'news', 'dismissed', 'space', 'October', 'holds', 'customer', 'season', '132,000', '45-a-share', 'Excluding', 'Railroad', 'within', 'tenure', '2,050-passenger', 'totaled', 'Patch', '6,799', 'passenger-car', 'designed', 'representing', '42-year', 'dividend', 'violation', '1990', 'ancestry', 'jumped', '21', 'Salinas', 'trip', '1206.26', '0.99', 'decade', 'investors', 'buyers', 'ignored', 'literature', 'Random', 'Martin', 'subpoenaed', 'Plans', 'materials', '19.94', 'Still', 'what', 'Board', 'Ralston', 'want', 'ended', 'totaling', '5.6', 'contrast', 'an', 'realestate', 'percent', 'settle', 'motion', 'veteran', 'supported', 'negotiate', 'by', '107.9', 'earned', 'why', 'The', 'Otherwise', 'term', 'Nuys', 'muted', 'seize', 'days', \"O'Neill\", 'Nomenklatura', 'Continued', '170,262', 'constitutional-law', 'You', 'cross-border', '70.7', 'death', 'listed', 'Sandinista', 'rates', 'bread', 'Meridian', 'economic', 'Judah', 'makers', 'Treasury', 'waiting', 'Ackerman', 'finished', 'economy', 'government', 'highly', '43.875', 'bombs', 'partnership', 'citing', 'Edward', 'Ariz.', 'unveil', 'assistant', 'Crum', 'Donald', 'chunks', 'barges', 'CSV', 'unexpected', 'comparison', '3.20', 'How', 'reassuring', 'resumption', 'believes', 'himself', 'Conn.based', 'PRECIOUS', 'light', 'implement', 'independent', 'banks', 'displays', 'Ravenswood', '45', 'views', 'taken', 'unchanged', '-RCB-', 'warehouses', 'cereal', 'Holdings', 'staying', 'suspension', 'rally', 'short-term', 'negotiations', 'adverse', 'Parliament', 'federal', '6.50', 'slated', 'moves', 'toy', 'bulk', 'economists', 'unusually', 'qualify', '--', 'glitches', 'born', 'bank', 'larger-than-normal', 'plaintive', '270', 'plans', 'new', 'contract', 'likely', 'Derchin', '24,000', 'buy-back', 'offset', 'securities', '116.7', 'sale', 'clearly', 'managed', 'imports', 'troops', 'Jon', 'phase-out', 'reduced', '1.5', 'information', 'Gorbachev', 'Wednesday', 'headcount-control', 'grew', 'AND', 'container', 'sank', 'during', 'allowed', 'circuit', 'traded', 'of', '1987', 'conversion', 'largest', 'fixed-price', 'tendering', 'Soldado', 'industrial', 'Subcontractors', 'reflects', '131.01', 'Comprehensive', '721', 'Justice', 'merely', 'program', '36-store', 'hamstrung', 'community', 'profitable', 'gold', 'Drug', 'Henry', 'At', 'reports', 'enters', 'Harold', 'battery', 'wake', 'firm', 'Savings', 'effort', 'net', 'hand', 'Although', 'full-year', 'Moscow', 'restructuring', 'armed', 'comment', 'after-tax', '20.07', 'Judith', 'curtail', 'Lindner', 'affirmative', 'neighboring', 'compromise', 'Asher', '12.52', 'editor', 'helped', 'showing', 'voted', 'strongest', 'tabloid', 'Korea', 'trial', 'matter', 'Industries', 'Partners', 'restructurings', 'processors', 'losses', 'independence', 'breaker', 'upset', 'directorship', 'bonus', '2.07', 'bust', '644', 'second-largest', 'held', 'industry', 'associated', 'proteins', 'mostly', 'regulators', 'went', 'climbing', 'Indeed', 'approve', '1983-85', 'Higher', 'basis', 'company', 'drawn', 'United', 'author', 'exceed', 'Scotland', 'employment', 'completion', 'Mutual', 'posted', 'against', 'Fair', 'short', 'numerous', 'reserved', 'Mass.', 'COPPER', 'Exxon-owned', '8.5', 'accessories', 'profit-taking', 'Nov.', 'just', 'Employment', 'Brazil', 'Democrats', 'heard', 'rights', 'Elders', 'Per-share', 'you', 'adjustment', 'doubled', 'President', '361.8', 'Oklahoma', 'professor', 'Carl', 'stick', 'financially', 'introduction', 'reservoirs', 'gave', 'Johnson-era', 'completely', 'needs', 'Senate', 'Third', 'tomorrow', 'Poor', 'McFarlan', 'Bush', 'Krenz', 'And', 'simulates', '1.916', 'mandates', 'conferees', 'newspaper-printing', 'association', 'native', 'cruise', 'bond', 'Phelan', 'factors', '188.84', 'stood', 'automobile', 'reach', 'limit', 'expensive', 'cents-a-unit', 'statement', 'assets', 'improving', 'apparent', '12.7', 'suffer', 'Cos.', 'seeking', 'socialism', 'That', '5.5', 'assembly', 'defines', 'offices', 'prospects', 'Weisfield', 'reality', 'volume', 'extending', '108', 'expected', 'resignation', 'root', 'expand', 'he', 'latter', 'protein-1', 'operators', 'labor-management', 'Sino-U.S.', 'distribution', '27-year', 'special', 'Bhutto', 'Fourteen', 'had', 'storage', 'introduced', 'oil', 'kill', 'hard', 'McDonald', 'Dorrance', 'agents', 'Papua-New', 'atmosphere', 'troubled', 'shares', 'inception', 'Mississippi', 'guerrillas', 'Guinea', 'Finnish', 'producer', 'Wall', '54', 'Younkers', 'machinery', '226,570,380', 'mobile', 'restructured', 'City', 'finalized', 'story', 'reaffirmed', 'course', '1965', '79', 'additions', 'Cabbage', 'inventories', 'nation', 'felt', '0.95', 'convert', 'Precious', 'forecast', 'book', 'get', 'unable', 'factor', 'Development', 'fourth-quarter', '57', 'suitors', 'H.', 'Burnham', 'policy', 'these', 'interesting', 'life-of-contract', 'Ranger', 'seven-yen', 'finally', 'offer', 'Law', 'under', 'Management', 'Laurence', 'assassinated', 'engineering', '3.18', 'Oct.', 'actually', 'earns', 'specify', 'Commerce', 'II', 'Arabian', 'second', 'planted', 'recently', 'appeared', 'Stern', 'blue-chips', '19-month-old', 'Spaghetti', 'bribed', 'chip', '61', 'restructures', 'Neuberger', 'confidant', 'acute', 'Proceeds', 'Hubbell', 'Investment', '458', 'New', 'continuing', 'cast', 'Hackensack', 'drop', '58', 'Cruise', 'yet-to-be-formed', 'Fantasy', 'subordinated', 'Oxnard', 'Reagan', 'give', 'reaping', 'houses', 'Nebraska', 'U.N.-supervised', '341.20', 'crude', '19.50', 'fleet', 'rumored', 'investigate', 'recover', 'feeds', 'Chinese', 'fled', 'specialized', 'anti-abortionists', 'ventures', 'presidents', 'could', 'traders', 'discontinued', 'water', 'African', 'wait', 'heating', 'depositary', 'By', 'closely', 'large', 'ENERGY', 'respectable', 'Savin', 'order', 'agencies', '148', 'until', 'Antonio', 'HHS', 'current', 'Mercantile', 'Mario', 'out', 'mix', 'fortunes', 'blackjack', 'ago', 'full', 'markdown', 'trimmed', 'period', 'voice', 'flow', 'Pennsylvania', '1.17', 'PLC', 'for', 'write-off', 'eight-person', '47.6', 'tete-a-tete', 'Dunkin', 'Central', 'Earlier', '6.44', 'find', 'pressures', 'my', 'bloc', 'unresolved', 'south', 'scuttle', 'Mexico', 'metal', 'deterioration', 'Germans', 'attack', 'provided', 'public', 'cuts', '220.45', 'jobs', 'military', '59', '1.4', 'Paramount', 'lens', 'asset', 'locked', 'peripheral', 'ITC', '24', 'committee', 'Clarence', 'However', 'attributed', 'fully', 'With', 'explore', 'music', 'operation', 'Sanford', 'useful', 'constraints', 'difficulties', 'Nissan', 'Asia', 'ends', 'minority-owned', 'Nixon', 'trimming', '377.60', 'clarify', 'post', 'receivers', 'seafood', 'quarter', 'Stamford', 'Peters', 'release', 'Harry', '350', 'Haven', 'organized', 'beginning', 'Its', 'task', 'package', '3.8', 'boosts', 'renewing', 'John', '0.28', 'Volume', 'exposure', '405', '175', 'breezy', 'partner', 'tells', 'financial-services', 'Domestic', 'Group', 'mitigate', 'St.', 'makes', 'Michigan', 'spokesman', 'meant', 'bill', '13.8', 'or', 'below', 'Associates', 'six', 'exploration', 'R.', '32', '23', '3.75', 'can', 'generally', 'substantial', 'income', 'personal', 'favored', 'Partnership', 'month', 'older', 'next', 'potential', 'ward', '19.95', 'panel', 'fair', 'results', 'need', 'programs', 'with', '65', 'diversified', 'press', 'scrutinizing', '7.4', 'production', 'exchange', 'Gelles', 'form', 'bankruptcy-law', 'jet', 'beheading', 'Auditors', 'lacks', 'Colorliner', 'Lines', 'week', 'Judiciary', 'maker', 'Nekoosa', '47', '57.50', 'Separately', 'Media', 'Du', 'Wallach', 'stability', 'Nichol', 'domestic', 'Barrett', 'Texas-based', 'might', 'Ranieri', 'corn', 'Stevenson', 'amounted', 'Ordnance', 'sides', '645,000', 'modern', 'Islamabad', 'loan', 'UBS', '2.35', 'Bears', 'Bar', 'claimed', 'rated', 'Purina', 'soliciting', 'opponents', '300-a-share', 'Kong', '250', 'Guber', 'Chapman', 'Hugo', 'Upjohn', 'internal', 'relatively', 'high-minded', 'wish', 'widespread', 'Southern', 'is', 'involving', 'markkaa', 'win', '1.19', 'METALS', 'World', 'response', 'Cooper', 'producers', 'mixed', 'marching', 'automobiles', 'Lama', 'run', 'verge', 'cancer', 'politicians', 'required', 'nor', 'buy-outs', 'conducting', 'Lyn', 'leveraged', 'spending', 'presented', '811.9', 'capture', 'currently', 'debenture', '5.8', 'Irwin', 'overhead', 'Jr.', 'bankers', 'emigres', 'drifted', 'Barge', 'revolves', 'stocks', 'fracture', 'street', 'slump', 'met', 'antitrust', 'steelmaker', 'reserve', 'back', '2.1', 'whether', 'Ill.', 'debt', 'funding', 'cost-control', 'harvested', 'Plains', 'airline', 'anti-dumping', '30-day', '169.9', 'Irving', 'latest', 'servicing', 'miners', 'extended', '37.5', 'staff-reduction', 'abuse', 'pains', 'sympathetic', 'industrywide', 'around', 'complete', 'injecting', 'bakery', 'gasoline', 'fluctuation', 'Africa', 'year-earlier', 'synthetic', 'limits', 'Sternberg', 'nearly', 'believed', 'force', 'gyrations', 'newly', 'compositions', 'processing', 'Products', 'Oy', 'obligated', 'authorizes', 'Some', 'jail', 'tows', 'Reupke', 'two-year', 'Under', '618.1', 'already', 'damages', 'winding', 'January', 'Operations', 'Attwood', 'nominees', 'Valley', 'APPEARS', \"n't\", 'entity', 'megabytes', 'import', 'p.m.', 'crookery', 'Tony', 'unless', 'naming', 'Contra', 'upper', 'follows', 'warned', 'Israel', 'stockpiles', 'earn', 'realized', 'blood-cell', 'leave', 'first-half', 'such', 'small', 'compared', 'northern', 'weapons-modernization', 'Moreover', '4.55', '7\\\\/8', 'quarters', 'asset-valuation', 'undelivered', 'Lewis', 'acceptances', '1981', 'administrative', 'reached', 'spread', 'segments', 'Congress', 'even', 'edged', 'contributing', 'authority', 'participate', 'centralized', 'represent', 'easy-to-read', 'line', 'discussion', 'Farmers', 'interim', 'help', 'fizzled', 'spectrum', 'reflecting', 'Overall', 'Kansas', 'system', 'about', 'Television', 'Riyadh', '14.28', 'Monday', 'some', 'According', 'corporate', '3.6', 'anticipated', 'Ortega', 'popular', 'options', 'Davis', 'commerce', 'near', 'five-cent', 'reckless', 'use', 'Jacobs', 'however', 'overseas', 'slipped', 'condition', 'readings', 'expire', 'surprised', '88.32', 'size', 'control', '11.95', 'head', 'fared', 'very', 'particularly', 'climb', 'microprocessors', 'partial', '422.5', '2.8', 'Harrison', '494.50', 'prior', 'Georgia', 'fuel', '96.4', 'radio', 'computer', 'Rusty', 'us', 'legal', 'Lambert', 'Taiwan', 'aboard', 'restraints', 'Tower', 'intelligent', 'loaded', 'stem', 'Equity', 'But', 'both', 'First', 'bone', 'character', 'pharmaceutical', 'ban', 'expressing', \"''\", '2.3', 'making', 'White', 'systems', 'which', 'Reuters', 'Sept.30', 'growth', 'most', 'effective', 'Gunmen', 'issues', 'moderate', 'would', 'items', '10.2', 'Britain', 'publishing', '2.9', 'slowed', 'primarily', 'operations', 'treating', 'intent', 'Trailer', 'shareholders', 'placed', '275', 'fact', 'Mass', 'RMS', 'membership', 'formed', 'Am', '0.84', 'fifth-largest', 'set', 'last', 'sugar', 'levels', 'services', 'one-month', '5.63', 'world-wide', 'C-130', 'Soup', 'turned', 'provision', 'determine', 'peaked', 'branches', 'Carnival', 'few', 'DNA', 'forces', 'spokeswoman', '2.50', 'according', 'manager', 'His', '3.625', 'should', 'unitholders', 'shedding', 'train', 'succeeding', 'prepared', 'slowing', 'strength', 'in-store', 'accepting', 'substantially', 'vital', 'were', 'specialist', 'dropped', 'Life', 'assume', 'reserves', '12.97', 'truce', 'microprocessor', 'Seattle-based', 'cars', 'Alzheimer', 'prime', 'threatened', 'cited', 'Steinberg', 'normal', 'lent', 'skeptical', 'chain', 'Department', 'confined', 'weigh', 'Phillips', 'expectations', 'rose', 'Markets', 'trains', '35.2', 'Many', 'granted', 'increases', 'surprise', '27', 'clothes', 'ca', 'questions', 'establish', 'died', 'gain', '40-megabyte', 'life', 'drain', 'bases', 'formerly', 'interest', 'Theodore', 'line-item', 'operates', 'rubber', 'deputy', 'Canada', 'Pont', 'total', 'its', 'joint', 'pushed', 'data', 'confirmed', 'goes', 'Marine', 'paying', 'absolutely', 'walk', 'In', 'Islamic', 'contradict', 'marketing', 'share', 'pipe', 'gunship', 'included', 'themselves', 'House-Senate', 'suit', 'once', 'down', 'she', 'way', 'secede', 'Pakistan', 'described', 'perhaps', 'B-1B', 'offsetting', 'reported', 'serious', 'proposal', 'disagreement', 'beyond', 'specialty', 'deliver', 'moratorium', 'found', 'delays', 'copper', 'Del.', 'aggressive', 'portion', 'Feb.', 'violations', 'clearance', '0.56', 'estimate', 'buy', 'jump', 'resigned', 'management', 'futures', 'avenge', 'than', 'eligible', 'eliminated', 'Producers', 'tubular', 'Ferdinand', '3\\\\/4', 'disasters', 'Guber\\\\/Peters', 'pressure', 'will', '260', 'Robert', 'appliance', 'singled', 'here', 'sales', 'huge', '2,099', 'Ms.', 'automotive', 'flights', '847', 'pledged', 'yield', 'widely', 'National', '8.1', 'later', 'Bank', 'pound', 'suggest', 'China', 'investment', 'distributed', 'German', 'balloting', 'somewhat', 'part', 'reading', 'chips', 'officer', 'collar', 'passed', 'fourth', 'little', 'techniques', 'master', 'reluctant', 'takeover', '326', 'individual', 'exceeded', 'Lorain', 'expert', '18-a-share', 'onto', 'international', 'Muramatsu', 'strains', 'hire', 'farmers', 'sparked', 'When', 'fault', 'natural', 'complaints', 'So', 'Toronto', 'came', 'includes', 'progress', 'development', 'platforms', 'She', 'banker', 'HUD', 'Honduras', 'various', 'extremely', '372.14', 'veto', 'protection', 'account', 'quantity', 'modestly', 'gather', 'uncertainty', 'falling', 'presidential', 'reduction', 'become', 'licenses', '10', 'Air', '89.9', '154,240,000', 'Net', 'corruption', 'permissible', '170', '55.1', 'Dunton', 'Buying', 'shopped', 'Any', 'friend', 'withhold', 'fairly', 'meaning', 'planting', 'Inland', 'planes', 'we', 'resigning', 'Equitable', 'tons', 'Namibia', 'More', 'turnaround', '286', 'Houston', '2-3', 'causing', 'Lebanon', 'exodus', 'five', 'Motor', 'renewed', 'Fed', '85.7', 'Forster', 'assistance', 'Simmons', 'cushion', 'view', 'group', 'really', 'shareholder', 'safety', 'average', 'GenCorp', 'quality', 'September', 'aid', 'market', '11.57', 'Co', 'damaged', 'plenty', '12', 'rapid', 'speculating', 'earning', 'Corn', 'provoke', 'executives', 'Administration', 'July', 'lifes', 'pipeline', 'regulated', 'president', 'level', 'Peter', 'report', 'exist', 'block', 'forest-products', 'respect', 'broken', 'clues', 'department', '500', 'Van', 'pretax', 'clear', '35', 'longtime', 'headquarters', '14.43', '-LRB-', 'well', 'imposed', 'acquisition', 'accused', 'Gasoline', 'violating', 'millions', 'Lentjes', '51.6', 'establishment', 'steep', 'know', 'NetWare', 'presence', 'retailing', 'August', 'vice', 'does', 'Louisiana-Pacific', 'attacks', 'Edelman', 'temporarily', '2.19', 'Eakle', 'As', 'earlier', 'appointment', 'businesses', 'lower-priced', 'Corps', 'mulling', 'predicting', 'preclinical', 'computers', '2.7', 'Sept.', '1.125', 'scandals', 'Warren', 'three', 'Airlines', 'plants', 'Hong', 'NCR', 'supports', 'Ratners', 'trim', 'cadmium', '734.9', 'orange', 'Heights', 'Freeport-McMoRan', 'hurt', '1975', 'sold', '99.3', 'serve', 'cosmetic', 'parent', '576', 'brushed', 'those', 'licensed', 'defects', 'silver', 'blighted', 'state', 'rise', 'While', 'adjustments', 'trust', 'resulting', 'Nofzinger', 'summer', 'end', 'segment', 'savings', 'declines', 'repay', 'full-fledged', 'big', 'Washington', 'million', 'nonrecurring', 'printing-press', '55-a-share', 'push', 'Fred', 'requirements', 'plummeted', '1.24', 'kept', 'Bonds', 'Society', 'Jimmy', 'operate', 'legislation', 'all', 'shipping', 'After', 'INTER-TEL', 'precedes', 'point', 'official', '300-day', 'prompted', 'hands', 'value', '43-year-old', 'mindful', 'calculate', 'remained', 'weighed', 'San', 'process', 'laying', 'nomination', 'half', 'fit', 'alternatives', 'facilities', 'using', '41.60', 'complained', 'bulldozers', 'carbon', 'essentially', '62.1', 'FBI', 'disorders', 'GROWTH', 'grains', 'banking', 'Ganes', 'Kalamazoo', 'front', 'all-cash', 'anticipates', 'Lynch', 'oppose', 'leaving', 'treatment', 'bills', 'sharp', 'reimbursed', 'markets', 'Sometimes', 'belonging', 'implementation', 'ongoing', 'semiliterate', 'Congressman', 'insider', 'Dec.', 'Dingell', 'seat', 'Old', 'located', 'maintained', 'dozen', 'poison', 'multinational', 'gains', 'preferred', 'Entertainment', 'acquired', 'financial', 'Average', 'plunged', 'bilateral', 'remain', 'received', 'Constitution', '3.375', 'fallen', '6.6', 'appeals', 'Food', 'subscribe', '130', 'Previously', '100-megabyte', 'Cleveland', 'involved', 'awarded', 'continuous', 'continue', 'owed', 'participants', 'blamed', 'claims', 'one-year', 'long-term', '1983', '70', 'ships', 'Above', 'substance', 'sticky', 'neoprene', 'Ltd', 'bag', 'toward', 'ethanol', 'gives', 'votes', 'planned', '73', '19.6', '4.7', 'committed', 'announced', 'advertising', '1.26', 'health', 'coupled', 'Gerald', 'leveling', 'disk', 'Woolworth', 'Gray', '14', 'Factory', 'omitted', 'elections', 'Similar', 'Why', 'Securities', 'made', 'Unicorp', 'Embassy', 'sewing-machine', 'famous', 'cover', 'Disputado', 'contractor', 'weeks', 'modernization', 'greater', 'Icahn', 'junk-bond', 'Feeding', 'Lobsenz', 'Inc.', 'compares', 'E.', 'peddling', 'Drew', 'firms', 'Lyle', 'stemmed', 'final', 'Allied', 'causes', 'purchasing', 'issuer', 'things', 'as', 'pleased', 'Institute', 'USX', 'identified', 'Federal', '15.5', '1.1650', 'Starting', 'positive', 'During', 'strike', 'decline', 'first', 'lack', 'projections', 'across', 'Island', 'leases', 'firmed', 'cash-and-stock', 'going', 'Reasons', 'dispute', 'Composite', '17', '1988-89', 'spent', 'Harvard', 'closed', 'fashioned', 'between', 'claim', 'battered', 'softening', 'wrote', 'preliminary', 'mature', 'bidders', 'Delaware', '750,000', '75', 'path', 'Christian', 'fire', 'vacancy', 'BMP-1', 'prices', 'exclusive', 'nothing', '40.21', '16', 'previously', 'Greenville', 'file', 'one-time', 'contributed', 'floated', '6.53', 'Midwestern', 'how', 'State', '42.1', 'completed', 'brokering', 'Inc', 'Yoshihashi', 'characteristics', 'produced', 'unsuccessful', 'fell', 'backdrop', 'Xerox', 'leading', '95', 'this', 'equal', 'Europe', 'exploded', 'him', '3.28', 'women', 'try', 'there', 'Moines', 'capitalized', 'Advancing', '228', 'grower', 'without', 'copper-rich', 'ones', 'Once', 'division', 'boom', 'Puccio', 'bearing', 'extend', 'blow', '608,413', 'directors', 'improvement', 'attempt', 'Thomas', 'trading', 'brunt', 'Berlin', 'activity', 'Barron', 'survival', 'survey', 'bottlenecks', '1.6', 'environmental', 'via', 'implements', 'Right', 'service', 'before', 'Va.', 'efforts', 'equivalent', 'plugged', 'adopt', 'appears'}\n",
      "len: 3602\n"
     ]
    }
   ],
   "source": [
    "# OOV words\n",
    "existing_vocab_words = set(word_vocab.get_itos()) \n",
    "\n",
    "val_oov_words = set(df_val['text']) - existing_vocab_words  # OOV words in validation set\n",
    "test_oov_words = set(df_test['text']) - existing_vocab_words  # OOV words in test set\n",
    "\n",
    "print(\"Out-of-vocabulary words in validation set:\", val_oov_words)\n",
    "print( 'len:', len(val_oov_words))\n",
    "print(\"Out-of-vocabulary words in test set:\", test_oov_words)\n",
    "print('len:', len(test_oov_words))"
   ]
  },
  {
   "cell_type": "code",
   "execution_count": 175,
   "metadata": {},
   "outputs": [],
   "source": [
    "# Static embeddings\n",
    "static_embeddings_val = {}\n",
    "static_embeddings_test = {}\n",
    "\n",
    "\n",
    "# Assign static embeddings to OOV words in the validation set\n",
    "for word in val_oov_words:\n",
    "    if word in embedder.stoi: #For each word assign a static embedding\n",
    "        static_embeddings_val[word] = embedder[word]\n",
    "\n",
    "\n",
    "\n",
    "# Assign static embeddings to OOV words in the test set\n",
    "for word in test_oov_words:\n",
    "    if word in embedder.stoi:\n",
    "        static_embeddings_test[word] = embedder[word]\n"
   ]
  },
  {
   "cell_type": "code",
   "execution_count": 171,
   "metadata": {},
   "outputs": [
    {
     "name": "stdout",
     "output_type": "stream",
     "text": [
      "Static embeddings for OOV words in the validation set:\n",
      "Word: degrees, Embedding: tensor([-1.1782,  1.6342,  0.4845, -1.5398, -0.0666, -0.0209,  0.8669, -0.4518,\n",
      "        -0.0530,  0.1091,  0.1415, -0.7631,  1.4697,  0.3521, -0.7029,  0.2201,\n",
      "        -0.5399,  0.4216, -1.3998, -0.1202,  0.5789,  0.9980,  2.0056, -0.5502,\n",
      "         0.0086, -0.4002,  0.0922, -0.0138, -0.1701,  0.2068,  2.9562,  0.7100,\n",
      "        -0.2588, -0.3080,  0.6138, -0.3987, -0.1791,  0.9692,  1.6872,  0.2491,\n",
      "        -0.0274,  0.3352,  0.9951,  0.7850, -1.7225,  0.4270,  1.3533,  0.3814,\n",
      "        -0.8780, -0.1528])\n",
      "Word: looks, Embedding: tensor([ 0.0952,  0.3265, -0.1919, -0.1010,  1.1568, -0.1931, -0.4079, -0.4858,\n",
      "        -0.2368,  0.2473, -0.3028, -0.0364, -0.4722,  0.5787,  0.5061,  0.5950,\n",
      "         0.3141,  0.2432, -0.0416, -0.7074, -0.8712,  0.6118, -0.4322,  0.1300,\n",
      "         0.4752, -1.4560, -0.8693,  1.4552,  0.6988, -0.1480,  2.2945,  0.1475,\n",
      "         0.2203, -0.1000,  0.0690,  0.0156, -0.3550,  0.7897, -0.2629, -1.6114,\n",
      "        -0.1367,  0.3192,  0.0669, -0.1870,  0.2415,  0.2361,  0.4349, -0.3570,\n",
      "         0.4018,  0.5763])\n",
      "Word: your, Embedding: tensor([-0.0292,  0.8177,  0.3847, -0.7786,  1.1049, -0.1365, -0.0247, -0.0511,\n",
      "         0.7795,  0.0514, -0.3575,  1.1748, -0.0982,  0.3311,  0.4043,  0.5868,\n",
      "        -0.6254,  0.0948,  0.9702, -1.1437,  0.1383,  0.2814,  0.4669,  0.3523,\n",
      "         0.6892, -1.9819, -1.4000,  0.1700,  1.5929, -1.0086,  3.6499,  1.3949,\n",
      "        -0.7882,  0.4040, -0.3692,  0.7308,  0.0275, -0.1199,  0.7372, -1.0365,\n",
      "         0.6866, -0.3029, -0.5518,  0.9647,  0.0531, -0.0848,  0.8512, -0.5419,\n",
      "         0.3245,  0.5842])\n"
     ]
    }
   ],
   "source": [
    "num_oov_words_to_display = 3\n",
    "\n",
    "\n",
    "# print to check the validation set oov embeddings\n",
    "print(f\"Static embeddings for OOV words in the validation set:\")\n",
    "for i, (word, embedding) in enumerate(static_embeddings_val.items()):\n",
    "    if i < num_oov_words_to_display:\n",
    "        print(f\"Word: {word}, Embedding: {embedding}\")\n",
    "    else:\n",
    "        break\n",
    "\n"
   ]
  },
  {
   "cell_type": "code",
   "execution_count": 172,
   "metadata": {},
   "outputs": [
    {
     "name": "stdout",
     "output_type": "stream",
     "text": [
      "Static embeddings for OOV words in the test set:\n",
      "Word: outstanding, Embedding: tensor([-0.9802,  1.0182, -0.4417,  0.1121,  0.8643,  0.2996, -0.1543, -0.1001,\n",
      "         0.1855,  0.4745,  0.0660,  0.5788,  0.0477,  0.1246,  0.4371, -1.0153,\n",
      "         0.5460,  0.3906, -0.1871, -0.3568,  0.4528,  0.3691, -0.3733, -0.7793,\n",
      "        -0.0220, -0.5815, -0.4266, -0.9787, -0.8583, -0.0395,  2.5476,  0.4734,\n",
      "         0.5664, -0.5188,  0.8474,  0.5648, -0.1077,  0.3050, -0.4998, -0.9240,\n",
      "        -0.2824, -0.0566,  0.2420, -0.1400, -1.2648, -0.4765, -0.0826,  1.2503,\n",
      "        -0.4138,  0.2539])\n",
      "Word: unanticipated, Embedding: tensor([ 1.2239, -0.4971, -0.2215,  0.1008, -0.6482,  0.6919,  1.1295,  0.4433,\n",
      "         0.2546,  0.4170, -0.8016,  0.0758,  0.2284, -0.5451,  0.7252, -0.0093,\n",
      "         0.1301, -0.2189,  0.1662, -0.7068,  0.6600, -0.6219, -0.4416, -0.7271,\n",
      "         0.5753,  0.6262, -0.4585,  0.1191,  1.0397,  1.0328,  0.0735,  0.8533,\n",
      "         0.7363, -0.4594, -0.1840,  0.5783, -0.1684,  0.1441, -0.1030, -0.2445,\n",
      "        -0.6142,  0.1303, -0.0790,  0.5572, -0.4579, -0.1519,  0.2252,  1.1236,\n",
      "         0.5682,  0.4985])\n",
      "Word: affiliate, Embedding: tensor([-0.0517,  0.5777,  0.4358,  1.0557, -0.4449,  0.1213, -1.7598,  0.1143,\n",
      "        -0.1003, -0.0244,  1.0579,  0.4909,  0.0499,  1.1899, -1.1377,  0.0655,\n",
      "        -1.1501,  1.2783, -0.6043,  1.2542,  0.3149, -0.3004,  0.6208,  1.0072,\n",
      "        -1.9381, -0.8125,  0.0697, -0.1024, -0.2343, -0.5664,  1.4254,  0.9980,\n",
      "         0.5296, -0.4271,  0.0639, -0.6947, -0.5941, -1.0296,  0.2475, -0.2876,\n",
      "        -0.1047, -0.9482, -0.6475,  0.1564, -0.7276, -0.0935, -0.9344,  0.8117,\n",
      "        -0.2282,  0.8994])\n"
     ]
    }
   ],
   "source": [
    "# print to check the test set oov embeddings\n",
    "print(f\"Static embeddings for OOV words in the test set:\")\n",
    "for i, (word, embedding) in enumerate(static_embeddings_test.items()):\n",
    "    if i < num_oov_words_to_display:\n",
    "        print(f\"Word: {word}, Embedding: {embedding}\")\n",
    "    else:\n",
    "        break"
   ]
  },
  {
   "cell_type": "markdown",
   "metadata": {},
   "source": [
    "## TASK 5: Training and Evaluation\n",
    "\n",
    "* Train **all** models on the train set.\n",
    "* Evaluate **all** models on the validation set.\n",
    "* Compute metrics on the validation set.\n",
    "* Pick **at least** three seeds for robust estimation.\n",
    "* Pick the **best** performing model according to the observed validation set performance."
   ]
  },
  {
   "cell_type": "markdown",
   "metadata": {},
   "source": [
    "## TASK 6: Error analysis\n",
    "\n",
    "* Compare the errors made on the validation and test sets.\n",
    "* Aggregate model errors into categories (if possible) \n",
    "* Comment about errors and propose possible solutions on how to address them."
   ]
  },
  {
   "cell_type": "markdown",
   "metadata": {},
   "source": [
    "# TODO: REPORT"
   ]
  },
  {
   "cell_type": "markdown",
   "metadata": {},
   "source": []
  }
 ],
 "metadata": {
  "kernelspec": {
   "display_name": "Python 3",
   "language": "python",
   "name": "python3"
  },
  "language_info": {
   "codemirror_mode": {
    "name": "ipython",
    "version": 3
   },
   "file_extension": ".py",
   "mimetype": "text/x-python",
   "name": "python",
   "nbconvert_exporter": "python",
   "pygments_lexer": "ipython3",
   "version": "3.11.0"
  }
 },
 "nbformat": 4,
 "nbformat_minor": 2
}
